{
 "cells": [
  {
   "cell_type": "code",
   "execution_count": 1,
   "id": "35d00e46-e839-445b-9c3f-56b5411010d0",
   "metadata": {},
   "outputs": [
    {
     "data": {
      "text/plain": [
       "[1, 3, 5, 7, 9, 11, 13, 15, 17, 19, 21, 23]"
      ]
     },
     "execution_count": 1,
     "metadata": {},
     "output_type": "execute_result"
    }
   ],
   "source": [
    "#1 which keywoed is used to create a function? create a function to return a list of odd numbers in the range of 1 to 25 .\n",
    "# def is used to create a function .\n",
    "def oddno():\n",
    "    n = []\n",
    "    for i in range(1,25):\n",
    "        if i % 2 != 0 :\n",
    "            n.append(i)\n",
    "    return n \n",
    "oddno()"
   ]
  },
  {
   "cell_type": "code",
   "execution_count": 3,
   "id": "43212b04-8817-4471-a2d2-fbab03213099",
   "metadata": {},
   "outputs": [
    {
     "data": {
      "text/plain": [
       "(2, 4, 5, 6)"
      ]
     },
     "execution_count": 3,
     "metadata": {},
     "output_type": "execute_result"
    }
   ],
   "source": [
    "#2 why *args and **kwargs is used in some functions? create a function each for *args and **kwargs to demonstrate their use.\n",
    "# *args is used for taking n no of non keyword arguments or n no of parameters in a function and **kwargs is used for taking n of keyword argument in a function with key value pair as a dictionary object\n",
    "def k1(*args):\n",
    "    return args\n",
    "k1(2,4,5,6)\n"
   ]
  },
  {
   "cell_type": "code",
   "execution_count": 4,
   "id": "1cd7e8b8-e99a-4374-b685-f10dd56c837a",
   "metadata": {},
   "outputs": [
    {
     "data": {
      "text/plain": [
       "{'a': 3, 'b': 9, 'c': 'hello'}"
      ]
     },
     "execution_count": 4,
     "metadata": {},
     "output_type": "execute_result"
    }
   ],
   "source": [
    "def k2(**kwargs):\n",
    "    return kwargs\n",
    "k2(a = 3,b = 9,c=\"hello\")"
   ]
  },
  {
   "cell_type": "code",
   "execution_count": 8,
   "id": "a8cde856-8b73-4f3c-ab6b-a4b7480adcc6",
   "metadata": {},
   "outputs": [
    {
     "name": "stdout",
     "output_type": "stream",
     "text": [
      "2\n",
      "4\n",
      "6\n",
      "8\n",
      "10\n"
     ]
    }
   ],
   "source": [
    "#3 what is an iteratoe in python ? name the method used to initialise the iteratoe object and the method used for iteration. use these methods \n",
    "#to print the first five element of the given list [2,4,6,8,10,12,14,16,18,20].\n",
    "#An iterator is an object that contains a countable number of values. An iterator is an object that can be iterated upon, meaning that you can traverse through all the values\n",
    "list1 = [2,4,6,8,10,12,14,16,18,20]\n",
    "n = iter(list1)\n",
    "for i in range(5):\n",
    "    print (next(n))"
   ]
  },
  {
   "cell_type": "code",
   "execution_count": 12,
   "id": "3b23dc45-637a-47ff-9259-23dbb0214a5d",
   "metadata": {},
   "outputs": [
    {
     "name": "stdout",
     "output_type": "stream",
     "text": [
      "2\n",
      "4\n",
      "6\n",
      "8\n",
      "10\n"
     ]
    }
   ],
   "source": [
    "#what is a genrator function in python ? why yield keyword is used ? give an example of a genrator function\n",
    "# Python Generator functions allow you to declare a function that behaves likes an iterator, allowing programmers to make an iterator in a fast, easy, and clean way \n",
    "# The yield keyword in Python controls the flow of a generator function. This is similar to a return statement used for returning values in Python\n",
    "def gen1(a):\n",
    "    for i in a:\n",
    "        yield(i)\n",
    "list1 = [2,4,6,8,10,12,14,16,18,20]\n",
    "k = 0\n",
    "for i in gen1(list1):\n",
    "    k += 1\n",
    "    print(i)\n",
    "    if k == 5:\n",
    "        break\n",
    "    "
   ]
  },
  {
   "cell_type": "code",
   "execution_count": 23,
   "id": "7a0b9f2d-79d0-4db8-834d-1f3e1faafd41",
   "metadata": {},
   "outputs": [],
   "source": [
    "#5 create a genrator function for prime number less than 1000.use the next() method to print the first 20 prime numbers \n",
    "def gen2():\n",
    "    for i in range(1000):\n",
    "        k = 0\n",
    "        if i == 2:\n",
    "            yield i \n",
    "        elif i >2 :\n",
    "            for j in range(2,i):\n",
    "                k = k +1\n",
    "                if i % j == 0:\n",
    "                    break\n",
    "                elif k == (i-2):\n",
    "                    yield i"
   ]
  },
  {
   "cell_type": "code",
   "execution_count": 24,
   "id": "e4c27ea2-d90c-4168-8f40-907d59c7502c",
   "metadata": {},
   "outputs": [
    {
     "name": "stdout",
     "output_type": "stream",
     "text": [
      "2\n",
      "3\n",
      "5\n",
      "7\n",
      "11\n",
      "13\n",
      "17\n",
      "19\n",
      "23\n",
      "29\n",
      "31\n",
      "37\n",
      "41\n",
      "43\n",
      "47\n",
      "53\n",
      "59\n",
      "61\n",
      "67\n",
      "71\n"
     ]
    }
   ],
   "source": [
    "k = 0\n",
    "b = []\n",
    "for i in gen2():\n",
    "    k = k + 1\n",
    "    b.append(i)\n",
    "    if k == 20 :\n",
    "        break\n",
    "c = iter(b)\n",
    "for i in range(20):\n",
    "    print(next(c))"
   ]
  },
  {
   "cell_type": "code",
   "execution_count": null,
   "id": "d2da0b85-985a-4b78-8baf-1fe7f071c064",
   "metadata": {},
   "outputs": [],
   "source": []
  }
 ],
 "metadata": {
  "kernelspec": {
   "display_name": "Python 3 (ipykernel)",
   "language": "python",
   "name": "python3"
  },
  "language_info": {
   "codemirror_mode": {
    "name": "ipython",
    "version": 3
   },
   "file_extension": ".py",
   "mimetype": "text/x-python",
   "name": "python",
   "nbconvert_exporter": "python",
   "pygments_lexer": "ipython3",
   "version": "3.10.8"
  }
 },
 "nbformat": 4,
 "nbformat_minor": 5
}

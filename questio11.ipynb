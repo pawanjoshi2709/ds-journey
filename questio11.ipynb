{
 "cells": [
  {
   "cell_type": "code",
   "execution_count": 1,
   "id": "81fdfdfe-86a8-438d-93fd-364d094f7818",
   "metadata": {},
   "outputs": [],
   "source": [
    "#1 what is the exception in python? write the difference between exception and syntax errors.\n",
    "#An exception is an event, which occurs during the execution of a program that disrupts the normal flow of the program's instructions.\n",
    "# The Python SyntaxError occurs when the interpreter encounters invalid syntax in code\n",
    "# On the other hand, the exceptions occur during runtime and compile time."
   ]
  },
  {
   "cell_type": "code",
   "execution_count": 2,
   "id": "85900d4e-233c-4e02-a45d-a16f2e60aeda",
   "metadata": {},
   "outputs": [
    {
     "ename": "ZeroDivisionError",
     "evalue": "division by zero",
     "output_type": "error",
     "traceback": [
      "\u001b[0;31m---------------------------------------------------------------------------\u001b[0m",
      "\u001b[0;31mZeroDivisionError\u001b[0m                         Traceback (most recent call last)",
      "Cell \u001b[0;32mIn[2], line 3\u001b[0m\n\u001b[1;32m      1\u001b[0m \u001b[38;5;66;03m#2 what happen when a exception is not handled ? explain withe the help of example.\u001b[39;00m\n\u001b[1;32m      2\u001b[0m \u001b[38;5;66;03m# exception is not handled by this  an error occur and rest of the code is not working.\u001b[39;00m\n\u001b[0;32m----> 3\u001b[0m a \u001b[38;5;241m=\u001b[39m \u001b[38;5;241;43m5\u001b[39;49m\u001b[38;5;241;43m/\u001b[39;49m\u001b[38;5;241;43m0\u001b[39;49m \n\u001b[1;32m      4\u001b[0m \u001b[38;5;28mprint\u001b[39m(\u001b[38;5;124m\"\u001b[39m\u001b[38;5;124mmy name is pawan\u001b[39m\u001b[38;5;124m\"\u001b[39m)\n",
      "\u001b[0;31mZeroDivisionError\u001b[0m: division by zero"
     ]
    }
   ],
   "source": [
    "#2 what happen when a exception is not handled ? explain withe the help of example.\n",
    "# exception is not handled by this  an error occur and rest of the code is not working.\n",
    "a = 5/0 \n",
    "print(\"my name is pawan\")"
   ]
  },
  {
   "cell_type": "code",
   "execution_count": 8,
   "id": "829a6338-1bb7-4a83-8412-7b1d79445f7a",
   "metadata": {},
   "outputs": [
    {
     "name": "stdout",
     "output_type": "stream",
     "text": [
      "the try block has no error  2.5\n"
     ]
    }
   ],
   "source": [
    "\n",
    "#4 explain with an example a. try and else b.finally c.raise \n",
    "try :\n",
    "    a = 5/2\n",
    "except Exception as e :\n",
    "    print(\"the error in try block \",e)\n",
    "else: \n",
    "    print(\"the try block has no error \", a)\n",
    "# in try and else try satement has no error so else block run otherwise the exception block run  "
   ]
  },
  {
   "cell_type": "code",
   "execution_count": 7,
   "id": "60487ae0-8880-4299-9011-960c5670cb70",
   "metadata": {},
   "outputs": [
    {
     "name": "stdout",
     "output_type": "stream",
     "text": [
      "this block always run\n"
     ]
    },
    {
     "ename": "ZeroDivisionError",
     "evalue": "division by zero",
     "output_type": "error",
     "traceback": [
      "\u001b[0;31m---------------------------------------------------------------------------\u001b[0m",
      "\u001b[0;31mZeroDivisionError\u001b[0m                         Traceback (most recent call last)",
      "Cell \u001b[0;32mIn[7], line 2\u001b[0m\n\u001b[1;32m      1\u001b[0m \u001b[38;5;28;01mtry\u001b[39;00m :\n\u001b[0;32m----> 2\u001b[0m     a \u001b[38;5;241m=\u001b[39m \u001b[38;5;241;43m5\u001b[39;49m\u001b[38;5;241;43m/\u001b[39;49m\u001b[38;5;241;43m0\u001b[39;49m\n\u001b[1;32m      3\u001b[0m \u001b[38;5;28;01mfinally\u001b[39;00m :\n\u001b[1;32m      4\u001b[0m     \u001b[38;5;28mprint\u001b[39m(\u001b[38;5;124m\"\u001b[39m\u001b[38;5;124mthis block always run\u001b[39m\u001b[38;5;124m\"\u001b[39m)\n",
      "\u001b[0;31mZeroDivisionError\u001b[0m: division by zero"
     ]
    }
   ],
   "source": [
    "try :\n",
    "    a = 5/0\n",
    "finally :\n",
    "    print(\"this block always run\")\n",
    "# in finally statement run always if error is occur or not due to exception"
   ]
  },
  {
   "cell_type": "code",
   "execution_count": 4,
   "id": "1ef06771-9d9c-4b27-9069-7db45879e7a7",
   "metadata": {},
   "outputs": [
    {
     "ename": "ValueError",
     "evalue": "String can't be changed into integer",
     "output_type": "error",
     "traceback": [
      "\u001b[0;31m---------------------------------------------------------------------------\u001b[0m",
      "\u001b[0;31mValueError\u001b[0m                                Traceback (most recent call last)",
      "Cell \u001b[0;32mIn[4], line 5\u001b[0m\n\u001b[1;32m      4\u001b[0m \u001b[38;5;28;01mtry\u001b[39;00m:\n\u001b[0;32m----> 5\u001b[0m     num \u001b[38;5;241m=\u001b[39m \u001b[38;5;28;43mint\u001b[39;49m\u001b[43m(\u001b[49m\u001b[43ms\u001b[49m\u001b[43m)\u001b[49m\n\u001b[1;32m      6\u001b[0m \u001b[38;5;28;01mexcept\u001b[39;00m \u001b[38;5;167;01mValueError\u001b[39;00m:\n",
      "\u001b[0;31mValueError\u001b[0m: invalid literal for int() with base 10: 'apple'",
      "\nDuring handling of the above exception, another exception occurred:\n",
      "\u001b[0;31mValueError\u001b[0m                                Traceback (most recent call last)",
      "Cell \u001b[0;32mIn[4], line 7\u001b[0m\n\u001b[1;32m      5\u001b[0m     num \u001b[38;5;241m=\u001b[39m \u001b[38;5;28mint\u001b[39m(s)\n\u001b[1;32m      6\u001b[0m \u001b[38;5;28;01mexcept\u001b[39;00m \u001b[38;5;167;01mValueError\u001b[39;00m:\n\u001b[0;32m----> 7\u001b[0m     \u001b[38;5;28;01mraise\u001b[39;00m \u001b[38;5;167;01mValueError\u001b[39;00m(\u001b[38;5;124m\"\u001b[39m\u001b[38;5;124mString can\u001b[39m\u001b[38;5;124m'\u001b[39m\u001b[38;5;124mt be changed into integer\u001b[39m\u001b[38;5;124m\"\u001b[39m)\n",
      "\u001b[0;31mValueError\u001b[0m: String can't be changed into integer"
     ]
    }
   ],
   "source": [
    "#Python raise Keyword is used to raise exceptions or errors. The raise keyword raises an error and stops the control flow of the program.\n",
    "s = 'apple'\n",
    "  \n",
    "try:\n",
    "    num = int(s)\n",
    "except ValueError:\n",
    "    raise ValueError(\"String can't be changed into integer\")"
   ]
  },
  {
   "cell_type": "code",
   "execution_count": 8,
   "id": "eae47667-32f8-4c29-80eb-f866a471c8b9",
   "metadata": {},
   "outputs": [
    {
     "name": "stdout",
     "output_type": "stream",
     "text": [
      "the error in try block : division by zero\n"
     ]
    }
   ],
   "source": [
    "#3 which python statement are used to catch and handle exception ? explain with an example .\n",
    "# try and except block is used to catch and hanndle the exception \n",
    "try :\n",
    "    a = 5/0\n",
    "except Exception as e :\n",
    "    print(\"the error in try block :\",e)"
   ]
  },
  {
   "cell_type": "code",
   "execution_count": 11,
   "id": "1a8e04fe-66f1-4ef5-af9e-e2d7c8dc2069",
   "metadata": {},
   "outputs": [
    {
     "name": "stdin",
     "output_type": "stream",
     "text": [
      "Enter a number:  1\n"
     ]
    },
    {
     "name": "stdout",
     "output_type": "stream",
     "text": [
      "Exception occurred: Invalid Age\n"
     ]
    }
   ],
   "source": [
    "#5 what are custom Exception in python? why do we need custom exception ? explain witha an example.\n",
    "#Custom exceptions provide you the flexibility to add attributes and methods that are not part of a python inbuilt exception\n",
    "#sometimes we may need to create our own custom exceptions that serve our purpose.\n",
    "class InvalidAgeException(Exception):\n",
    "    \"Raised when the input value is less than 18\"\n",
    "    pass\n",
    "number = 18\n",
    "\n",
    "try:\n",
    "    input_num = int(input(\"Enter a number: \"))\n",
    "    if input_num < number:\n",
    "        raise InvalidAgeException\n",
    "    else:\n",
    "        print(\"Eligible to Vote\")\n",
    "        \n",
    "except InvalidAgeException:\n",
    "    print(\"Exception occurred: Invalid Age\")"
   ]
  },
  {
   "cell_type": "code",
   "execution_count": 15,
   "id": "7b264d03-16d2-440a-a718-b3ed89a055f3",
   "metadata": {},
   "outputs": [
    {
     "name": "stdin",
     "output_type": "stream",
     "text": [
      "enter the seating capacity of  bike 2\n"
     ]
    },
    {
     "name": "stdout",
     "output_type": "stream",
     "text": [
      "bike capacity is according to Indian goverment norms \n"
     ]
    }
   ],
   "source": [
    "#6 create a custom exception class. use this class to handle an exception.\n",
    "class chetana(Exception):\n",
    "    def __init__(self,error):\n",
    "        self.errror = error \n",
    "def bike_capacity(capacity):\n",
    "    if capacity < 1:\n",
    "        raise chetana(\"bike capacity should not be lesser than one\")\n",
    "    elif capacity >2:\n",
    "        raise chetana(\"bike capacity  is to high\")\n",
    "    else:\n",
    "        print(\"bike capacity is according to Indian goverment norms \")\n",
    "capacity = int(input(\"enter the seating capacity of  bike\"))\n",
    "try:\n",
    "    bike_capacity(capacity) \n",
    "except Exception as e:\n",
    "    print(e)"
   ]
  },
  {
   "cell_type": "code",
   "execution_count": null,
   "id": "fb204b91-c4fc-4c5c-a385-63cff28a3f73",
   "metadata": {},
   "outputs": [],
   "source": []
  },
  {
   "cell_type": "code",
   "execution_count": null,
   "id": "fdbd7893-b555-4d54-87b2-5ecdee8bf3e2",
   "metadata": {},
   "outputs": [],
   "source": []
  }
 ],
 "metadata": {
  "kernelspec": {
   "display_name": "Python 3 (ipykernel)",
   "language": "python",
   "name": "python3"
  },
  "language_info": {
   "codemirror_mode": {
    "name": "ipython",
    "version": 3
   },
   "file_extension": ".py",
   "mimetype": "text/x-python",
   "name": "python",
   "nbconvert_exporter": "python",
   "pygments_lexer": "ipython3",
   "version": "3.10.8"
  }
 },
 "nbformat": 4,
 "nbformat_minor": 5
}

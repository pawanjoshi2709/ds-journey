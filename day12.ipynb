{
 "cells": [
  {
   "cell_type": "code",
   "execution_count": 1,
   "id": "85b7370b-0506-48e1-acb7-50c929a2ba26",
   "metadata": {},
   "outputs": [
    {
     "ename": "ModuleNotFoundError",
     "evalue": "No module named 'pymongo'",
     "output_type": "error",
     "traceback": [
      "\u001b[0;31m---------------------------------------------------------------------------\u001b[0m",
      "\u001b[0;31mModuleNotFoundError\u001b[0m                       Traceback (most recent call last)",
      "Cell \u001b[0;32mIn[1], line 1\u001b[0m\n\u001b[0;32m----> 1\u001b[0m \u001b[38;5;28;01mimport\u001b[39;00m \u001b[38;5;21;01mpymongo\u001b[39;00m\n\u001b[1;32m      2\u001b[0m client \u001b[38;5;241m=\u001b[39m pymongo\u001b[38;5;241m.\u001b[39mMongoClient(\u001b[38;5;124m\"\u001b[39m\u001b[38;5;124mmongodb+srv://pawanjoshi2709:<password>@cluster0.dqfbtoh.mongodb.net/?retryWrites=true&w=majority\u001b[39m\u001b[38;5;124m\"\u001b[39m)\n\u001b[1;32m      3\u001b[0m db \u001b[38;5;241m=\u001b[39m client\u001b[38;5;241m.\u001b[39mtest\n",
      "\u001b[0;31mModuleNotFoundError\u001b[0m: No module named 'pymongo'"
     ]
    }
   ],
   "source": [
    "import pymongo\n",
    "client = pymongo.MongoClient(\"mongodb+srv://pawanjoshi2709:<password>@cluster0.dqfbtoh.mongodb.net/?retryWrites=true&w=majority\")\n",
    "db = client.test"
   ]
  },
  {
   "cell_type": "code",
   "execution_count": 2,
   "id": "36efb04c-2d27-456f-9bc4-8477d77b91e1",
   "metadata": {},
   "outputs": [
    {
     "name": "stdout",
     "output_type": "stream",
     "text": [
      "Collecting pymongo\n",
      "  Downloading pymongo-4.3.3-cp310-cp310-manylinux_2_17_x86_64.manylinux2014_x86_64.whl (492 kB)\n",
      "\u001b[2K     \u001b[90m━━━━━━━━━━━━━━━━━━━━━━━━━━━━━━━━━━━━━━━\u001b[0m \u001b[32m492.9/492.9 kB\u001b[0m \u001b[31m6.2 MB/s\u001b[0m eta \u001b[36m0:00:00\u001b[0ma \u001b[36m0:00:01\u001b[0m\n",
      "\u001b[?25hCollecting dnspython<3.0.0,>=1.16.0\n",
      "  Downloading dnspython-2.3.0-py3-none-any.whl (283 kB)\n",
      "\u001b[2K     \u001b[90m━━━━━━━━━━━━━━━━━━━━━━━━━━━━━━━━━━━━━━\u001b[0m \u001b[32m283.7/283.7 kB\u001b[0m \u001b[31m36.7 MB/s\u001b[0m eta \u001b[36m0:00:00\u001b[0m\n",
      "\u001b[?25hInstalling collected packages: dnspython, pymongo\n",
      "Successfully installed dnspython-2.3.0 pymongo-4.3.3\n",
      "Note: you may need to restart the kernel to use updated packages.\n"
     ]
    }
   ],
   "source": [
    "pip install pymongo\n"
   ]
  },
  {
   "cell_type": "code",
   "execution_count": 19,
   "id": "339d597b-be02-4b40-9294-9b8f3b09c6a5",
   "metadata": {},
   "outputs": [],
   "source": [
    "import pymongo\n",
    "client = pymongo.MongoClient(\"mongodb+srv://pawanjoshi2709:pa@cluster0.dqfbtoh.mongodb.net/?retryWrites=true&w=majority\")\n",
    "db = client.test"
   ]
  },
  {
   "cell_type": "code",
   "execution_count": 20,
   "id": "6012b2a0-622e-49c3-beb0-add02b47c826",
   "metadata": {},
   "outputs": [
    {
     "data": {
      "text/plain": [
       "MongoClient(host=['ac-dtmpkju-shard-00-02.dqfbtoh.mongodb.net:27017', 'ac-dtmpkju-shard-00-00.dqfbtoh.mongodb.net:27017', 'ac-dtmpkju-shard-00-01.dqfbtoh.mongodb.net:27017'], document_class=dict, tz_aware=False, connect=True, retrywrites=True, w='majority', authsource='admin', replicaset='atlas-wz15ny-shard-0', tls=True)"
      ]
     },
     "execution_count": 20,
     "metadata": {},
     "output_type": "execute_result"
    }
   ],
   "source": [
    "client"
   ]
  },
  {
   "cell_type": "code",
   "execution_count": 21,
   "id": "3b7469be-ed26-4286-9246-bc9669ab9009",
   "metadata": {},
   "outputs": [],
   "source": [
    "client = pymongo.MongoClient(\"mongodb+srv://pawanjoshi2709:pa@cluster0.dqfbtoh.mongodb.net/?retryWrites=true&w=majority\")"
   ]
  },
  {
   "cell_type": "code",
   "execution_count": 22,
   "id": "a7e13cd2-62bf-4b9c-8b20-fd2766a668be",
   "metadata": {},
   "outputs": [],
   "source": [
    "db = client['pawanjoshi2709']"
   ]
  },
  {
   "cell_type": "code",
   "execution_count": 23,
   "id": "b99fd4c3-e552-4897-b9b6-0fefdd0a3312",
   "metadata": {},
   "outputs": [],
   "source": [
    "coll_create= db['my_records']"
   ]
  },
  {
   "cell_type": "code",
   "execution_count": 24,
   "id": "3ad30141-eccd-41e8-b37c-573c8fdba34d",
   "metadata": {},
   "outputs": [],
   "source": [
    "data = { \"name\":\"pawan\",\n",
    "        \"class\":\"data science\",\n",
    "        \"timing\": \"flexible\"\n",
    "}"
   ]
  },
  {
   "cell_type": "code",
   "execution_count": 25,
   "id": "e418b72f-4a11-463b-81c8-81a70c490c7a",
   "metadata": {},
   "outputs": [
    {
     "data": {
      "text/plain": [
       "<pymongo.results.InsertOneResult at 0x7fb2844590f0>"
      ]
     },
     "execution_count": 25,
     "metadata": {},
     "output_type": "execute_result"
    }
   ],
   "source": [
    "coll_create.insert_one(data)"
   ]
  },
  {
   "cell_type": "code",
   "execution_count": 26,
   "id": "bd469df0-9869-4a25-a7b4-79c5a3ae48b3",
   "metadata": {},
   "outputs": [],
   "source": [
    "data1 = {\n",
    "    'email_id':'pawan12@gmail.com',\n",
    "    'mobile_number':923499291\n",
    "}"
   ]
  },
  {
   "cell_type": "code",
   "execution_count": 27,
   "id": "84546b98-ee48-4240-b62c-37a6cc329bfd",
   "metadata": {},
   "outputs": [
    {
     "data": {
      "text/plain": [
       "<pymongo.results.InsertOneResult at 0x7fb28453bf10>"
      ]
     },
     "execution_count": 27,
     "metadata": {},
     "output_type": "execute_result"
    }
   ],
   "source": [
    "coll_create.insert_one(data1)"
   ]
  },
  {
   "cell_type": "code",
   "execution_count": 28,
   "id": "8e73649b-7aeb-4cc5-8fd3-1de2b8064778",
   "metadata": {},
   "outputs": [],
   "source": [
    "data2 = { 'courses':['data science','web dev','java dev'],\n",
    "         'mentor':['shudhanshu','hyder','hemda']}"
   ]
  },
  {
   "cell_type": "code",
   "execution_count": 29,
   "id": "cee0cfeb-75ae-4aad-a563-064339dd34a5",
   "metadata": {},
   "outputs": [
    {
     "data": {
      "text/plain": [
       "<pymongo.results.InsertOneResult at 0x7fb2c0648940>"
      ]
     },
     "execution_count": 29,
     "metadata": {},
     "output_type": "execute_result"
    }
   ],
   "source": [
    "coll_create.insert_one(data2)"
   ]
  },
  {
   "cell_type": "code",
   "execution_count": 30,
   "id": "c714824d-bee5-4736-8700-aac3605cbc5c",
   "metadata": {},
   "outputs": [],
   "source": [
    " data3 = [\n",
    "  { \"name\": \"Amy\", \"address\": \"Apple st 652\" },\n",
    "  { \"name\": \"Hannah\", \"address\": \"Mountain 21\" },\n",
    "  { \"name\": \"Michael\", \"address\": \"Valley 345\" },\n",
    "  { \"name\": \"Sandy\", \"address\": \"Ocean blvd 2\" },\n",
    "  { \"name\": \"Betty\", \"address\": \"Green Grass 1\" },\n",
    "  { \"name\": \"Richard\", \"address\": \"Sky st 331\" },\n",
    "  { \"name\": \"Susan\", \"address\": \"One way 98\" },\n",
    "  { \"name\": \"Vicky\", \"address\": \"Yellow Garden 2\" },\n",
    "  { \"name\": \"Ben\", \"address\": \"Park Lane 38\" },\n",
    "  { \"name\": \"William\", \"address\": \"Central st 954\" },\n",
    "  { \"name\": \"Chuck\", \"address\": \"Main Road 989\" },\n",
    "  { \"name\": \"Viola\", \"address\": \"Sideway 1633\" }\n",
    "]"
   ]
  },
  {
   "cell_type": "code",
   "execution_count": 32,
   "id": "a7e21d76-f85c-4ba8-be66-e97ad2e0e98e",
   "metadata": {},
   "outputs": [
    {
     "data": {
      "text/plain": [
       "<pymongo.results.InsertManyResult at 0x7fb264333e80>"
      ]
     },
     "execution_count": 32,
     "metadata": {},
     "output_type": "execute_result"
    }
   ],
   "source": [
    "coll_create.insert_many(data3)"
   ]
  },
  {
   "cell_type": "code",
   "execution_count": 33,
   "id": "055daf50-998b-455b-a28c-e696d2f6322f",
   "metadata": {},
   "outputs": [],
   "source": [
    "data4 = {\n",
    " \"name\": \"notebook\",\n",
    " \"qty\": 50,\n",
    " \"rating\": [ { \"score\": 8 }, { \"score\": 9 } ],\n",
    " \"size\": { \"height\": 11, \"width\": 8.5, \"unit\": \"in\" },\n",
    " \"status\": \"A\",\n",
    " \"tags\": [ \"college-ruled\", \"perforated\"]\n",
    "}"
   ]
  },
  {
   "cell_type": "code",
   "execution_count": 34,
   "id": "d9f5b3ae-2092-419d-baf0-1999e4c0a8b3",
   "metadata": {},
   "outputs": [
    {
     "data": {
      "text/plain": [
       "<pymongo.results.InsertOneResult at 0x7fb2841dacb0>"
      ]
     },
     "execution_count": 34,
     "metadata": {},
     "output_type": "execute_result"
    }
   ],
   "source": [
    "coll_create.insert_one(data4)"
   ]
  },
  {
   "cell_type": "code",
   "execution_count": 35,
   "id": "77692b42-7392-45e9-bbc0-fc0a9e519a71",
   "metadata": {},
   "outputs": [],
   "source": [
    "list_of_records = [\n",
    "    {'companyName': 'iNeuron',\n",
    "     'product': 'Affordable AI',\n",
    "     'courseOffered': 'Machine Learning with Deployment'},\n",
    "    \n",
    "    {'companyName': 'iNeuron',\n",
    "     'product': 'Affordable AI',\n",
    "     'courseOffered': 'Deep Learning for NLP and Computer vision'},\n",
    "    \n",
    "    {'companyName': 'iNeuron',\n",
    "     'product': 'Master Program',\n",
    "     'courseOffered': 'Data Science Masters Program'}\n",
    "]"
   ]
  },
  {
   "cell_type": "code",
   "execution_count": 36,
   "id": "558e7fdb-6298-4198-9aee-b0ffd5739caf",
   "metadata": {},
   "outputs": [
    {
     "data": {
      "text/plain": [
       "<pymongo.results.InsertManyResult at 0x7fb2c0525c30>"
      ]
     },
     "execution_count": 36,
     "metadata": {},
     "output_type": "execute_result"
    }
   ],
   "source": [
    "coll_create.insert_many(list_of_records)"
   ]
  },
  {
   "cell_type": "code",
   "execution_count": 37,
   "id": "8c5af654-fdfd-4f6b-a06f-75e3be2f28e4",
   "metadata": {},
   "outputs": [
    {
     "name": "stdout",
     "output_type": "stream",
     "text": [
      "{'_id': ObjectId('63f8e3884a288deba77f5703'), 'name': 'pawan', 'class': 'data science', 'timing': 'flexible'}\n",
      "{'_id': ObjectId('63f8e4c54a288deba77f5704'), 'email_id': 'pawan12@gmail.com', 'mobile_number': 923499291}\n",
      "{'_id': ObjectId('63f8e5a44a288deba77f5705'), 'courses': ['data science', 'web dev', 'java dev'], 'mentor': ['shudhanshu', 'hyder', 'hemda']}\n",
      "{'_id': ObjectId('63f8e64c4a288deba77f5706'), 'name': 'Amy', 'address': 'Apple st 652'}\n",
      "{'_id': ObjectId('63f8e64c4a288deba77f5707'), 'name': 'Hannah', 'address': 'Mountain 21'}\n",
      "{'_id': ObjectId('63f8e64c4a288deba77f5708'), 'name': 'Michael', 'address': 'Valley 345'}\n",
      "{'_id': ObjectId('63f8e64c4a288deba77f5709'), 'name': 'Sandy', 'address': 'Ocean blvd 2'}\n",
      "{'_id': ObjectId('63f8e64c4a288deba77f570a'), 'name': 'Betty', 'address': 'Green Grass 1'}\n",
      "{'_id': ObjectId('63f8e64c4a288deba77f570b'), 'name': 'Richard', 'address': 'Sky st 331'}\n",
      "{'_id': ObjectId('63f8e64c4a288deba77f570c'), 'name': 'Susan', 'address': 'One way 98'}\n",
      "{'_id': ObjectId('63f8e64c4a288deba77f570d'), 'name': 'Vicky', 'address': 'Yellow Garden 2'}\n",
      "{'_id': ObjectId('63f8e64c4a288deba77f570e'), 'name': 'Ben', 'address': 'Park Lane 38'}\n",
      "{'_id': ObjectId('63f8e64c4a288deba77f570f'), 'name': 'William', 'address': 'Central st 954'}\n",
      "{'_id': ObjectId('63f8e64c4a288deba77f5710'), 'name': 'Chuck', 'address': 'Main Road 989'}\n",
      "{'_id': ObjectId('63f8e64c4a288deba77f5711'), 'name': 'Viola', 'address': 'Sideway 1633'}\n",
      "{'_id': ObjectId('63f8e6d54a288deba77f5712'), 'name': 'notebook', 'qty': 50, 'rating': [{'score': 8}, {'score': 9}], 'size': {'height': 11, 'width': 8.5, 'unit': 'in'}, 'status': 'A', 'tags': ['college-ruled', 'perforated']}\n",
      "{'_id': ObjectId('63f8e78a4a288deba77f5713'), 'companyName': 'iNeuron', 'product': 'Affordable AI', 'courseOffered': 'Machine Learning with Deployment'}\n",
      "{'_id': ObjectId('63f8e78a4a288deba77f5714'), 'companyName': 'iNeuron', 'product': 'Affordable AI', 'courseOffered': 'Deep Learning for NLP and Computer vision'}\n",
      "{'_id': ObjectId('63f8e78a4a288deba77f5715'), 'companyName': 'iNeuron', 'product': 'Master Program', 'courseOffered': 'Data Science Masters Program'}\n"
     ]
    }
   ],
   "source": [
    "for i in coll_create.find():\n",
    "    print(i)"
   ]
  },
  {
   "cell_type": "code",
   "execution_count": 38,
   "id": "e018d06a-b049-457c-a619-2b2b19931720",
   "metadata": {},
   "outputs": [],
   "source": [
    "random_data = [\n",
    "    {'_id': '3', 'companyName': 'iNeuron', 'Faculty': 'XYZ'},\n",
    "    {'_id': '4', 'companyName': 'iNeuron', 'Faculty': 'ABC'},\n",
    "    {'_id': '5', 'companyName': 'iNeuron', 'Faculty': 'PQR'},\n",
    "]"
   ]
  },
  {
   "cell_type": "code",
   "execution_count": 39,
   "id": "7ebf211e-cc90-4f21-b471-4926c07b2205",
   "metadata": {},
   "outputs": [
    {
     "data": {
      "text/plain": [
       "<pymongo.results.InsertManyResult at 0x7fb2845ddd50>"
      ]
     },
     "execution_count": 39,
     "metadata": {},
     "output_type": "execute_result"
    }
   ],
   "source": [
    "coll_create.insert_many(random_data)"
   ]
  },
  {
   "cell_type": "code",
   "execution_count": 40,
   "id": "2ebab063-4499-4122-a214-08c4a8c644c6",
   "metadata": {},
   "outputs": [
    {
     "name": "stdout",
     "output_type": "stream",
     "text": [
      "{'_id': ObjectId('63f8e3884a288deba77f5703'), 'name': 'pawan', 'class': 'data science', 'timing': 'flexible'}\n",
      "{'_id': ObjectId('63f8e4c54a288deba77f5704'), 'email_id': 'pawan12@gmail.com', 'mobile_number': 923499291}\n",
      "{'_id': ObjectId('63f8e5a44a288deba77f5705'), 'courses': ['data science', 'web dev', 'java dev'], 'mentor': ['shudhanshu', 'hyder', 'hemda']}\n",
      "{'_id': ObjectId('63f8e64c4a288deba77f5706'), 'name': 'Amy', 'address': 'Apple st 652'}\n",
      "{'_id': ObjectId('63f8e64c4a288deba77f5707'), 'name': 'Hannah', 'address': 'Mountain 21'}\n",
      "{'_id': ObjectId('63f8e64c4a288deba77f5708'), 'name': 'Michael', 'address': 'Valley 345'}\n",
      "{'_id': ObjectId('63f8e64c4a288deba77f5709'), 'name': 'Sandy', 'address': 'Ocean blvd 2'}\n",
      "{'_id': ObjectId('63f8e64c4a288deba77f570a'), 'name': 'Betty', 'address': 'Green Grass 1'}\n",
      "{'_id': ObjectId('63f8e64c4a288deba77f570b'), 'name': 'Richard', 'address': 'Sky st 331'}\n",
      "{'_id': ObjectId('63f8e64c4a288deba77f570c'), 'name': 'Susan', 'address': 'One way 98'}\n",
      "{'_id': ObjectId('63f8e64c4a288deba77f570d'), 'name': 'Vicky', 'address': 'Yellow Garden 2'}\n",
      "{'_id': ObjectId('63f8e64c4a288deba77f570e'), 'name': 'Ben', 'address': 'Park Lane 38'}\n",
      "{'_id': ObjectId('63f8e64c4a288deba77f570f'), 'name': 'William', 'address': 'Central st 954'}\n",
      "{'_id': ObjectId('63f8e64c4a288deba77f5710'), 'name': 'Chuck', 'address': 'Main Road 989'}\n",
      "{'_id': ObjectId('63f8e64c4a288deba77f5711'), 'name': 'Viola', 'address': 'Sideway 1633'}\n",
      "{'_id': ObjectId('63f8e6d54a288deba77f5712'), 'name': 'notebook', 'qty': 50, 'rating': [{'score': 8}, {'score': 9}], 'size': {'height': 11, 'width': 8.5, 'unit': 'in'}, 'status': 'A', 'tags': ['college-ruled', 'perforated']}\n",
      "{'_id': ObjectId('63f8e78a4a288deba77f5713'), 'companyName': 'iNeuron', 'product': 'Affordable AI', 'courseOffered': 'Machine Learning with Deployment'}\n",
      "{'_id': ObjectId('63f8e78a4a288deba77f5714'), 'companyName': 'iNeuron', 'product': 'Affordable AI', 'courseOffered': 'Deep Learning for NLP and Computer vision'}\n",
      "{'_id': ObjectId('63f8e78a4a288deba77f5715'), 'companyName': 'iNeuron', 'product': 'Master Program', 'courseOffered': 'Data Science Masters Program'}\n",
      "{'_id': '3', 'companyName': 'iNeuron', 'Faculty': 'XYZ'}\n",
      "{'_id': '4', 'companyName': 'iNeuron', 'Faculty': 'ABC'}\n",
      "{'_id': '5', 'companyName': 'iNeuron', 'Faculty': 'PQR'}\n"
     ]
    }
   ],
   "source": [
    "for i in coll_create.find():\n",
    "    print(i)"
   ]
  },
  {
   "cell_type": "code",
   "execution_count": 44,
   "id": "9e09f871-5625-485c-8f21-9f3206cbca0e",
   "metadata": {},
   "outputs": [
    {
     "data": {
      "text/plain": [
       "{'_id': ObjectId('63f8e3884a288deba77f5703'),\n",
       " 'name': 'pawan',\n",
       " 'class': 'data science',\n",
       " 'timing': 'flexible'}"
      ]
     },
     "execution_count": 44,
     "metadata": {},
     "output_type": "execute_result"
    }
   ],
   "source": [
    "coll_create.find_one()"
   ]
  },
  {
   "cell_type": "code",
   "execution_count": 46,
   "id": "d3aa3d48-abcf-42cc-a83c-774b8f9dd182",
   "metadata": {},
   "outputs": [
    {
     "name": "stdout",
     "output_type": "stream",
     "text": [
      "{'_id': ObjectId('63f8e78a4a288deba77f5713'), 'companyName': 'iNeuron', 'product': 'Affordable AI', 'courseOffered': 'Machine Learning with Deployment'}\n",
      "{'_id': ObjectId('63f8e78a4a288deba77f5714'), 'companyName': 'iNeuron', 'product': 'Affordable AI', 'courseOffered': 'Deep Learning for NLP and Computer vision'}\n",
      "{'_id': ObjectId('63f8e78a4a288deba77f5715'), 'companyName': 'iNeuron', 'product': 'Master Program', 'courseOffered': 'Data Science Masters Program'}\n",
      "{'_id': '3', 'companyName': 'iNeuron', 'Faculty': 'XYZ'}\n",
      "{'_id': '4', 'companyName': 'iNeuron', 'Faculty': 'ABC'}\n",
      "{'_id': '5', 'companyName': 'iNeuron', 'Faculty': 'PQR'}\n"
     ]
    }
   ],
   "source": [
    "for i in coll_create.find({'companyName':'iNeuron'}):\n",
    "    print(i)"
   ]
  },
  {
   "cell_type": "code",
   "execution_count": 49,
   "id": "3f15a396-2c22-4630-ab27-ad445db60b5b",
   "metadata": {},
   "outputs": [
    {
     "name": "stdout",
     "output_type": "stream",
     "text": [
      "{'_id': '4', 'companyName': 'iNeuron', 'Faculty': 'ABC'}\n",
      "{'_id': '5', 'companyName': 'iNeuron', 'Faculty': 'PQR'}\n"
     ]
    }
   ],
   "source": [
    "for i in coll_create.find({'_id':{'$gte':'4'}}):\n",
    "    print(i)"
   ]
  },
  {
   "cell_type": "code",
   "execution_count": 53,
   "id": "f3b7c624-4d21-4ff0-b7af-f7e8b239d5b8",
   "metadata": {},
   "outputs": [
    {
     "data": {
      "text/plain": [
       "<pymongo.results.UpdateResult at 0x7fb2874540d0>"
      ]
     },
     "execution_count": 53,
     "metadata": {},
     "output_type": "execute_result"
    }
   ],
   "source": [
    "coll_create.update_many({'companyName':'iNeuron'},{'$set':{'companyName':'pwskill'}})"
   ]
  },
  {
   "cell_type": "code",
   "execution_count": 55,
   "id": "fe18591e-720f-4642-8e13-fe74594a8d25",
   "metadata": {},
   "outputs": [
    {
     "name": "stdout",
     "output_type": "stream",
     "text": [
      "{'_id': ObjectId('63f8e78a4a288deba77f5713'), 'companyName': 'pwskill', 'product': 'Affordable AI', 'courseOffered': 'Machine Learning with Deployment'}\n",
      "{'_id': ObjectId('63f8e78a4a288deba77f5714'), 'companyName': 'pwskill', 'product': 'Affordable AI', 'courseOffered': 'Deep Learning for NLP and Computer vision'}\n",
      "{'_id': ObjectId('63f8e78a4a288deba77f5715'), 'companyName': 'pwskill', 'product': 'Master Program', 'courseOffered': 'Data Science Masters Program'}\n",
      "{'_id': '3', 'companyName': 'pwskill', 'Faculty': 'XYZ'}\n",
      "{'_id': '4', 'companyName': 'pwskill', 'Faculty': 'ABC'}\n",
      "{'_id': '5', 'companyName': 'pwskill', 'Faculty': 'PQR'}\n"
     ]
    }
   ],
   "source": [
    "for i in coll_create.find({'companyName':'pwskill'}):\n",
    "    print(i)"
   ]
  },
  {
   "cell_type": "code",
   "execution_count": 56,
   "id": "821912fb-5768-46c4-b13d-94546be70a1a",
   "metadata": {},
   "outputs": [],
   "source": [
    "coll_create.drop()"
   ]
  },
  {
   "cell_type": "code",
   "execution_count": 57,
   "id": "0920abc1-3a3b-416e-9b37-17888a785cae",
   "metadata": {},
   "outputs": [],
   "source": [
    "for i in coll_create.find():\n",
    "    print(i)"
   ]
  },
  {
   "cell_type": "code",
   "execution_count": null,
   "id": "660c47d6-9530-45b2-b63b-42535ca4926f",
   "metadata": {},
   "outputs": [],
   "source": []
  }
 ],
 "metadata": {
  "kernelspec": {
   "display_name": "Python 3 (ipykernel)",
   "language": "python",
   "name": "python3"
  },
  "language_info": {
   "codemirror_mode": {
    "name": "ipython",
    "version": 3
   },
   "file_extension": ".py",
   "mimetype": "text/x-python",
   "name": "python",
   "nbconvert_exporter": "python",
   "pygments_lexer": "ipython3",
   "version": "3.10.8"
  }
 },
 "nbformat": 4,
 "nbformat_minor": 5
}

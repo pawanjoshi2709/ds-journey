{
 "cells": [
  {
   "cell_type": "markdown",
   "id": "fa47d79c-0dd6-46a7-812d-3361b6c79068",
   "metadata": {},
   "source": [
    "day 2 start just enjoy \n"
   ]
  },
  {
   "cell_type": "code",
   "execution_count": 1,
   "id": "00baf920-45cb-4845-a13a-2df833d45162",
   "metadata": {},
   "outputs": [],
   "source": [
    "a = 10"
   ]
  },
  {
   "cell_type": "code",
   "execution_count": 2,
   "id": "5e8d36e5-16cb-4995-acef-2705a3f0ed93",
   "metadata": {},
   "outputs": [
    {
     "data": {
      "text/plain": [
       "str"
      ]
     },
     "execution_count": 2,
     "metadata": {},
     "output_type": "execute_result"
    }
   ],
   "source": [
    "a = 'c'\n",
    "type(a)"
   ]
  },
  {
   "cell_type": "code",
   "execution_count": 3,
   "id": "c2e1e24f-bad5-4de5-a1f8-26abe0d4ed5e",
   "metadata": {},
   "outputs": [
    {
     "data": {
      "text/plain": [
       "0"
      ]
     },
     "execution_count": 3,
     "metadata": {},
     "output_type": "execute_result"
    }
   ],
   "source": [
    "int()"
   ]
  },
  {
   "cell_type": "markdown",
   "id": "6527e511-a49c-41d8-a1b9-67cdcc362282",
   "metadata": {},
   "source": [
    "how to show output using print() function"
   ]
  },
  {
   "cell_type": "code",
   "execution_count": 4,
   "id": "429ecccb-984c-40c2-bf79-7314443d0de9",
   "metadata": {},
   "outputs": [
    {
     "name": "stdout",
     "output_type": "stream",
     "text": [
      "hello world\n"
     ]
    }
   ],
   "source": [
    "print(\"hello world\")"
   ]
  },
  {
   "cell_type": "code",
   "execution_count": 5,
   "id": "04bde99d-d029-4b4b-bb37-58b44cdb4ead",
   "metadata": {},
   "outputs": [
    {
     "name": "stdout",
     "output_type": "stream",
     "text": [
      "123\n"
     ]
    }
   ],
   "source": [
    "print(123)\n"
   ]
  },
  {
   "cell_type": "code",
   "execution_count": 6,
   "id": "336ea0b0-0639-4af6-a32f-26e77de0e7a4",
   "metadata": {},
   "outputs": [
    {
     "name": "stdout",
     "output_type": "stream",
     "text": [
      "my age is : 32\n"
     ]
    }
   ],
   "source": [
    "age  = 32 \n",
    "print (\"my age is :\",age)"
   ]
  },
  {
   "cell_type": "code",
   "execution_count": 7,
   "id": "03f99b2a-9e48-4630-8a3e-0c4dfc65d8d5",
   "metadata": {},
   "outputs": [
    {
     "name": "stdout",
     "output_type": "stream",
     "text": [
      "my age is :{age}\n"
     ]
    }
   ],
   "source": [
    "print (\"my age is :{age}\")"
   ]
  },
  {
   "cell_type": "code",
   "execution_count": 8,
   "id": "ad313c6d-8c92-4e28-a948-ee6e8c4fedc6",
   "metadata": {},
   "outputs": [
    {
     "name": "stdout",
     "output_type": "stream",
     "text": [
      "my age is :32\n"
     ]
    }
   ],
   "source": [
    "#f string \n",
    "print (f\"my age is :{age}\")"
   ]
  },
  {
   "cell_type": "code",
   "execution_count": 9,
   "id": "55a0c1bc-ccb2-4d3f-9040-838091446845",
   "metadata": {},
   "outputs": [
    {
     "name": "stdout",
     "output_type": "stream",
     "text": [
      " my name is pawan and age is 20\n"
     ]
    }
   ],
   "source": [
    "## format()\n",
    "name = \"pawan\"\n",
    "age = 20\n",
    "print (\" my name is {} and age is {}\".format(name ,age))"
   ]
  },
  {
   "cell_type": "code",
   "execution_count": 10,
   "id": "8f66fef5-2f1f-4d6f-a954-4ff16d5d991d",
   "metadata": {},
   "outputs": [
    {
     "name": "stdout",
     "output_type": "stream",
     "text": [
      " my name is pawan and age is 20\n"
     ]
    }
   ],
   "source": [
    "print (\" my name is {firstname} and age is {firstage}\".format(firstage =age,firstname= name))"
   ]
  },
  {
   "cell_type": "code",
   "execution_count": 14,
   "id": "6a9c959e-dc49-4695-ba8b-3c6aa7ec1d9b",
   "metadata": {},
   "outputs": [
    {
     "name": "stdout",
     "output_type": "stream",
     "text": [
      "my age is 20 and i have completed: my degree of BE with the name of  Pawan joshi\n"
     ]
    }
   ],
   "source": [
    "name = \" Pawan joshi\"\n",
    "age = 20 \n",
    "degree = \"BE\"\n",
    "print(\"my age is {firstage} and i have completed: my degree of {firstdegree} with the name of {firstname}\".format(firstname=name,firstage=age,firstdegree=degree))"
   ]
  },
  {
   "cell_type": "code",
   "execution_count": 15,
   "id": "63c86570-894a-43cd-b23f-12bee88e10fd",
   "metadata": {},
   "outputs": [
    {
     "data": {
      "text/plain": [
       "'if\\nif else\\nif elif else\\nnested if\\nsingle statement suites'"
      ]
     },
     "execution_count": 15,
     "metadata": {},
     "output_type": "execute_result"
    }
   ],
   "source": [
    "#control flow\n",
    "##decision making statement\n",
    "\"\"\"if\n",
    "if else\n",
    "if elif else\n",
    "nested if\n",
    "single statement suites\"\"\"\n"
   ]
  },
  {
   "cell_type": "code",
   "execution_count": 17,
   "id": "257dcec4-34df-4d60-8de6-04afcc326a86",
   "metadata": {},
   "outputs": [
    {
     "name": "stdout",
     "output_type": "stream",
     "text": [
      "you are eligible to vote \n"
     ]
    }
   ],
   "source": [
    "# if statement \n",
    "age = 18 \n",
    "if age >= 18:\n",
    "    print(\"you are eligible to vote \")\n",
    "    "
   ]
  },
  {
   "cell_type": "code",
   "execution_count": null,
   "id": "c48fdc51-0d07-4500-996e-67e648384ab5",
   "metadata": {},
   "outputs": [],
   "source": [
    "age = 18 \n",
    "if age < 18:\n",
    "    print(\"you are not eligible to vote \")"
   ]
  },
  {
   "cell_type": "code",
   "execution_count": 18,
   "id": "d50f8bed-dabc-4ff1-b5b6-4d9e20e48484",
   "metadata": {},
   "outputs": [
    {
     "name": "stdin",
     "output_type": "stream",
     "text": [
      " pawan joshi \n"
     ]
    },
    {
     "data": {
      "text/plain": [
       "'pawan joshi '"
      ]
     },
     "execution_count": 18,
     "metadata": {},
     "output_type": "execute_result"
    }
   ],
   "source": [
    "input()"
   ]
  },
  {
   "cell_type": "code",
   "execution_count": 19,
   "id": "a4105c38-74f9-448d-9c8b-99380df1a2ed",
   "metadata": {},
   "outputs": [
    {
     "name": "stdin",
     "output_type": "stream",
     "text": [
      "enter the name pawan joshi\n"
     ]
    }
   ],
   "source": [
    "#input from user\n",
    "name =input(\"enter the name\")"
   ]
  },
  {
   "cell_type": "code",
   "execution_count": 20,
   "id": "562c4925-aecb-4226-8e6c-563520561277",
   "metadata": {},
   "outputs": [
    {
     "name": "stdin",
     "output_type": "stream",
     "text": [
      "enter the age  32\n"
     ]
    }
   ],
   "source": [
    "age = input(\"enter the age \")\n"
   ]
  },
  {
   "cell_type": "code",
   "execution_count": 21,
   "id": "1c83236a-534b-49d1-a491-8a0a19cec2a4",
   "metadata": {},
   "outputs": [
    {
     "data": {
      "text/plain": [
       "str"
      ]
     },
     "execution_count": 21,
     "metadata": {},
     "output_type": "execute_result"
    }
   ],
   "source": [
    "type(age)\n"
   ]
  },
  {
   "cell_type": "code",
   "execution_count": 22,
   "id": "5f596b7b-8aba-417e-9518-69940e7567a2",
   "metadata": {},
   "outputs": [
    {
     "name": "stdin",
     "output_type": "stream",
     "text": [
      "enter the age  32\n"
     ]
    }
   ],
   "source": [
    "age = int(input(\"enter the age \"))\n"
   ]
  },
  {
   "cell_type": "code",
   "execution_count": 23,
   "id": "ab08b636-30a3-4b57-bf67-f9bdd6277dfc",
   "metadata": {},
   "outputs": [
    {
     "data": {
      "text/plain": [
       "int"
      ]
     },
     "execution_count": 23,
     "metadata": {},
     "output_type": "execute_result"
    }
   ],
   "source": [
    "type(age)"
   ]
  },
  {
   "cell_type": "markdown",
   "id": "14e8c867-af82-4a1f-9d61-4f8842b2ea4d",
   "metadata": {},
   "source": [
    "#job given only  to young blood age less than 45 and greater than 45"
   ]
  },
  {
   "cell_type": "code",
   "execution_count": 26,
   "id": "8d4839d2-032d-46dd-b165-32ed678aa622",
   "metadata": {},
   "outputs": [
    {
     "name": "stdin",
     "output_type": "stream",
     "text": [
      "enter the age  46\n"
     ]
    }
   ],
   "source": [
    "age = int (input(\"enter the age \"))\n",
    "if age >=18 and age <=45:\n",
    "    print(\"you are the young blood\")\n",
    "    \n"
   ]
  },
  {
   "cell_type": "code",
   "execution_count": 28,
   "id": "01382c9d-992f-4f7c-9a6b-24ff8d2fa507",
   "metadata": {},
   "outputs": [
    {
     "name": "stdin",
     "output_type": "stream",
     "text": [
      "enter the age  456\n"
     ]
    },
    {
     "name": "stdout",
     "output_type": "stream",
     "text": [
      "thanks you your we will lwt you know\n"
     ]
    }
   ],
   "source": [
    "age = int (input(\"enter the age \"))\n",
    "if age >=18 and age <=45:\n",
    "    print(\"you are the young blood\")\n",
    "else :\n",
    "    print(\"thanks you your we will let you know\")\n"
   ]
  },
  {
   "cell_type": "markdown",
   "id": "aaf8eb2d-d287-4e48-bebf-3c2107073fd7",
   "metadata": {},
   "source": [
    "# discount on product using if , else ,elif and nested loop"
   ]
  },
  {
   "cell_type": "code",
   "execution_count": 31,
   "id": "0f06f3c2-cb00-4254-af81-fd4844985895",
   "metadata": {},
   "outputs": [
    {
     "name": "stdin",
     "output_type": "stream",
     "text": [
      "enter the product price 3000\n"
     ]
    },
    {
     "name": "stdout",
     "output_type": "stream",
     "text": [
      "the price of thr product is 2400\n"
     ]
    }
   ],
   "source": [
    "productprice=int(input(\"enter the product price\"))\n",
    "if productprice>1000:\n",
    "    print(\"the price of thr product is {}\".format(int(productprice*0.80)))\n",
    "else:\n",
    "    print(\"The price of the product is {}\".format(int(productprice*0.70)))"
   ]
  },
  {
   "cell_type": "code",
   "execution_count": 36,
   "id": "9ee9a70a-090e-43e5-bdf0-56b6715b7100",
   "metadata": {},
   "outputs": [
    {
     "name": "stdin",
     "output_type": "stream",
     "text": [
      "enter the product price 4000\n"
     ]
    },
    {
     "name": "stdout",
     "output_type": "stream",
     "text": [
      "congratulation you get a goa trip\n",
      "the price of thr product is 3200\n"
     ]
    }
   ],
   "source": [
    "productprice=int(input(\"enter the product price\"))\n",
    "if productprice >3000:\n",
    "    if productprice == 4000:\n",
    "        print(\"congratulation you get a goa trip\")\n",
    "    print(\"the price of thr product is {}\".format(int(productprice*0.80)))\n",
    "elif productprice >=2000 and productprice <=3000:\n",
    "    print(\"the price of thr product is {}\".format(int(productprice*0.70)))\n",
    "elif productprice >=100 and productprice<2000:\n",
    "    print(\"The price of the product is {}\".format(int(productprice*0.60)))\n",
    "else:\n",
    "    print(\"drink tea\")"
   ]
  },
  {
   "cell_type": "code",
   "execution_count": 37,
   "id": "b3b77f10-95a9-462d-be6f-983ddd4d7067",
   "metadata": {},
   "outputs": [
    {
     "data": {
      "text/plain": [
       "True"
      ]
     },
     "execution_count": 37,
     "metadata": {},
     "output_type": "execute_result"
    }
   ],
   "source": [
    "#comparision operator\n",
    "False == False"
   ]
  },
  {
   "cell_type": "code",
   "execution_count": 39,
   "id": "b0a28847-a01d-4bae-aa6e-7b8a0e944765",
   "metadata": {},
   "outputs": [
    {
     "name": "stdin",
     "output_type": "stream",
     "text": [
      "enter the number 1234\n"
     ]
    },
    {
     "name": "stdout",
     "output_type": "stream",
     "text": [
      "value is greater than 999\n"
     ]
    }
   ],
   "source": [
    "# single statement suites\n",
    "val = int(input(\"enter the number\"))\n",
    "if (val <=999):print(\"value is less than 1000\")\n",
    "else :print(\"value is greater than 999\") \n"
   ]
  },
  {
   "cell_type": "markdown",
   "id": "c9ec8506-d278-403a-aabf-bc164a7eb5ef",
   "metadata": {},
   "source": [
    "## loops statement\n",
    "WHILE,\n",
    "FOR ,\n",
    "NESTED,\n",
    "LOOP CONTROL(BREAK,CONTINUE,PASS)"
   ]
  },
  {
   "cell_type": "code",
   "execution_count": 3,
   "id": "c43fc5c1-0174-4736-907f-21b32baf604e",
   "metadata": {},
   "outputs": [
    {
     "name": "stdout",
     "output_type": "stream",
     "text": [
      "its time for retirement\n"
     ]
    }
   ],
   "source": [
    "#WHILE LOOP\n",
    "## while else use when while condition is not true .\n",
    "joining_age=29\n",
    "while(joining_age<=60):\n",
    "    joining_age = joining_age + 1\n",
    "    print(joining_age)\n",
    "else:\n",
    "    print(\"its time for retirement\")"
   ]
  },
  {
   "cell_type": "code",
   "execution_count": 20,
   "id": "e3e2e694-7c33-42be-8a16-a39d37b9b827",
   "metadata": {},
   "outputs": [
    {
     "name": "stdout",
     "output_type": "stream",
     "text": [
      "total amount 1000\n"
     ]
    },
    {
     "name": "stdin",
     "output_type": "stream",
     "text": [
      "enter the withdrawal amount 0\n"
     ]
    },
    {
     "name": "stdout",
     "output_type": "stream",
     "text": [
      "thank you  for using  atm\n"
     ]
    }
   ],
   "source": [
    "#atm  machine totql amount 1000 example\n",
    "amount = 1000\n",
    "print (\"total amount\",amount)\n",
    "while amount != 0:  \n",
    "    withdrawal_amount = int(input(\"enter the withdrawal amount\"))                        \n",
    "    amount = amount - withdrawal_amount\n",
    "    if withdrawal_amount == 0:\n",
    "        break\n",
    "    if amount < 0 :\n",
    "        print (\"add money in the atm\")\n",
    "        break\n",
    "    print (\"total amount\",amount)\n",
    "print (\"thank you  for using  atm\")"
   ]
  },
  {
   "cell_type": "code",
   "execution_count": 10,
   "id": "dc5e9805-777e-4dcf-8ca6-ccfca3185af8",
   "metadata": {},
   "outputs": [
    {
     "data": {
      "text/plain": [
       "list"
      ]
     },
     "execution_count": 10,
     "metadata": {},
     "output_type": "execute_result"
    }
   ],
   "source": [
    "# for loop \n",
    "lst = [ \"krish\",1,2,3,4,\"apple\",\"banana\"]\n",
    "type(lst)"
   ]
  },
  {
   "cell_type": "code",
   "execution_count": 11,
   "id": "f74f09d0-a037-466b-b875-2b14b284a3c1",
   "metadata": {},
   "outputs": [
    {
     "name": "stdout",
     "output_type": "stream",
     "text": [
      "krish\n",
      "1\n",
      "2\n",
      "3\n",
      "4\n",
      "apple\n",
      "banana\n"
     ]
    }
   ],
   "source": [
    "for x in lst:\n",
    "    print(x)"
   ]
  },
  {
   "cell_type": "code",
   "execution_count": 21,
   "id": "cc2e34ba-b044-454f-a99f-9beb5ecb719a",
   "metadata": {},
   "outputs": [],
   "source": [
    "fruits_lists = [\"Mango\", \"Cherry\", \"Apple\", \"Papaya\", \"Banana\"]"
   ]
  },
  {
   "cell_type": "code",
   "execution_count": 27,
   "id": "7b1a2732-3f2b-419a-9d13-3bcf5836266f",
   "metadata": {},
   "outputs": [
    {
     "name": "stdout",
     "output_type": "stream",
     "text": [
      "Mango\n",
      "Cherry\n",
      "found Cherry in fruits_list lenght is : 6\n",
      "Apple\n",
      "Papaya\n",
      "Banana\n"
     ]
    }
   ],
   "source": [
    "for a in fruits_lists:\n",
    "    print(a)\n",
    "    if a == \"Cherry\":\n",
    "        print (f\"found {a} in fruits_list lenght is :\",len(a))"
   ]
  },
  {
   "cell_type": "code",
   "execution_count": 29,
   "id": "c314ebfe-e205-4d5d-8bd2-536f4c27516a",
   "metadata": {},
   "outputs": [
    {
     "name": "stdout",
     "output_type": "stream",
     "text": [
      "m\n",
      "a\n",
      "n\n",
      "g\n",
      "o\n",
      "n\n"
     ]
    }
   ],
   "source": [
    "#for in a string \n",
    "fruit = 'mango'\n",
    "for x in fruit:\n",
    "    print (x);\n",
    "print(fruit [2])"
   ]
  },
  {
   "cell_type": "code",
   "execution_count": 31,
   "id": "a9a11291-910f-4657-89a4-9844ba2d108b",
   "metadata": {},
   "outputs": [
    {
     "name": "stdout",
     "output_type": "stream",
     "text": [
      "1\n",
      "3\n",
      "5\n",
      "7\n",
      "9\n",
      "11\n",
      "13\n",
      "15\n"
     ]
    }
   ],
   "source": [
    "##nested loop \n",
    "for i in range(1,16,2):\n",
    "    print(i)"
   ]
  },
  {
   "cell_type": "code",
   "execution_count": 70,
   "id": "1c1fc42a-3124-47d2-a4d1-2b46cc2d4541",
   "metadata": {},
   "outputs": [
    {
     "name": "stdout",
     "output_type": "stream",
     "text": [
      "*\n",
      "**\n",
      "***\n",
      "****\n",
      "*****\n",
      "******\n",
      "*******\n"
     ]
    }
   ],
   "source": [
    "#PATTERN1\n",
    "n = 7 \n",
    "for i in range (0,n):\n",
    "    for j in range (0,i +1):\n",
    "        print(\"*\",end = \"\")\n",
    "    print(\"\\r\")"
   ]
  },
  {
   "cell_type": "code",
   "execution_count": 55,
   "id": "86ac66cf-e5b8-4f62-bd56-b8c695a98cdc",
   "metadata": {},
   "outputs": [
    {
     "name": "stdout",
     "output_type": "stream",
     "text": [
      "   *\n",
      "  ***\n",
      " *****\n",
      "*******\n"
     ]
    }
   ],
   "source": [
    "#PATTERN2 \n",
    "n = 4\n",
    "for i in range (1,n+1):\n",
    "    for j in range (n-i):\n",
    "        print (\" \",end= \"\")\n",
    "    print(\"*\"*((2*i)-1))"
   ]
  },
  {
   "cell_type": "code",
   "execution_count": 72,
   "id": "42df41e7-19b0-49ce-8dc6-77c983586573",
   "metadata": {},
   "outputs": [
    {
     "name": "stdout",
     "output_type": "stream",
     "text": [
      "Mango\n",
      "found Cherry in fruits_list lenght is : 6\n"
     ]
    }
   ],
   "source": [
    "#loop control\n",
    "#break\n",
    "for a in fruits_lists:\n",
    "    if a == \"Cherry\":\n",
    "        print (f\"found {a} in fruits_list lenght is :\",len(a))\n",
    "        break\n",
    "    print(a)"
   ]
  },
  {
   "cell_type": "code",
   "execution_count": 74,
   "id": "64f1a54c-a7f4-4e95-bc98-e4ec18437ca1",
   "metadata": {},
   "outputs": [
    {
     "name": "stdout",
     "output_type": "stream",
     "text": [
      "Mango\n",
      "found Cherry in fruits_list lenght is : 6\n",
      "Cherry\n",
      "Cherry\n",
      "Apple\n",
      "Papaya\n",
      "Banana\n"
     ]
    }
   ],
   "source": [
    "#pass\n",
    "for a in fruits_lists:\n",
    "    if a == \"Cherry\":\n",
    "        print (f\"found {a} in fruits_list lenght is :\",len(a))\n",
    "        pass\n",
    "        print(a)\n",
    "    print(a)"
   ]
  },
  {
   "cell_type": "code",
   "execution_count": 75,
   "id": "f1255132-e986-47c8-be5c-bbff5b580433",
   "metadata": {},
   "outputs": [],
   "source": [
    "b  = 8\n",
    "if b < 9 :\n",
    "    pass\n"
   ]
  },
  {
   "cell_type": "code",
   "execution_count": 76,
   "id": "8712cd0f-7248-4335-8b96-30042b57e4ad",
   "metadata": {},
   "outputs": [
    {
     "name": "stdout",
     "output_type": "stream",
     "text": [
      "Mango\n",
      "found Cherry in fruits_list lenght is : 6\n",
      "Apple\n",
      "Papaya\n",
      "Banana\n"
     ]
    }
   ],
   "source": [
    "#continue\n",
    "for a in fruits_lists:\n",
    "    if a == \"Cherry\":\n",
    "        print (f\"found {a} in fruits_list lenght is :\",len(a))\n",
    "        continue\n",
    "        print(a)\n",
    "    print(a)"
   ]
  },
  {
   "cell_type": "code",
   "execution_count": null,
   "id": "8516b7d4-34df-4e96-bcab-ccc5a01bda20",
   "metadata": {},
   "outputs": [],
   "source": []
  }
 ],
 "metadata": {
  "kernelspec": {
   "display_name": "Python 3 (ipykernel)",
   "language": "python",
   "name": "python3"
  },
  "language_info": {
   "codemirror_mode": {
    "name": "ipython",
    "version": 3
   },
   "file_extension": ".py",
   "mimetype": "text/x-python",
   "name": "python",
   "nbconvert_exporter": "python",
   "pygments_lexer": "ipython3",
   "version": "3.10.8"
  }
 },
 "nbformat": 4,
 "nbformat_minor": 5
}

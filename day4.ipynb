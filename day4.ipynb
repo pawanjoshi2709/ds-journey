{
 "cells": [
  {
   "cell_type": "code",
   "execution_count": 4,
   "id": "8730a7e5-9b85-4283-82e5-fb2ba6f43d29",
   "metadata": {},
   "outputs": [],
   "source": [
    "name = \"data science Master\"\n"
   ]
  },
  {
   "cell_type": "code",
   "execution_count": 5,
   "id": "d5d0ec35-399c-4fe9-9a30-e0b7c32882ec",
   "metadata": {},
   "outputs": [
    {
     "data": {
      "text/plain": [
       "'Data science master'"
      ]
     },
     "execution_count": 5,
     "metadata": {},
     "output_type": "execute_result"
    }
   ],
   "source": [
    "name.capitalize()"
   ]
  },
  {
   "cell_type": "code",
   "execution_count": 7,
   "id": "9f4d6d84-93d1-419d-ad7a-ba2ceed4346d",
   "metadata": {},
   "outputs": [
    {
     "data": {
      "text/plain": [
       "<reversed at 0x7f6014eedea0>"
      ]
     },
     "execution_count": 7,
     "metadata": {},
     "output_type": "execute_result"
    }
   ],
   "source": [
    "reversed(name)"
   ]
  },
  {
   "cell_type": "code",
   "execution_count": 8,
   "id": "6fc1bfc8-5163-4295-bb31-3939d1f372e2",
   "metadata": {},
   "outputs": [
    {
     "data": {
      "text/plain": [
       "'retsaM ecneics atad'"
      ]
     },
     "execution_count": 8,
     "metadata": {},
     "output_type": "execute_result"
    }
   ],
   "source": [
    "''.join(reversed(name))"
   ]
  },
  {
   "cell_type": "code",
   "execution_count": 9,
   "id": "b846de3f-c4d8-4266-98c4-cb2c59154f23",
   "metadata": {},
   "outputs": [
    {
     "data": {
      "text/plain": [
       "'h y y'"
      ]
     },
     "execution_count": 9,
     "metadata": {},
     "output_type": "execute_result"
    }
   ],
   "source": [
    "\" \".join(\"hyy\")"
   ]
  },
  {
   "cell_type": "code",
   "execution_count": 12,
   "id": "88340068-c5d9-4ba3-a376-641a6fecad59",
   "metadata": {},
   "outputs": [
    {
     "data": {
      "text/plain": [
       "'y hlo sir  y hlo sir  h'"
      ]
     },
     "execution_count": 12,
     "metadata": {},
     "output_type": "execute_result"
    }
   ],
   "source": [
    "\" hlo sir  \".join(reversed(\"hyy\"))"
   ]
  },
  {
   "cell_type": "code",
   "execution_count": 13,
   "id": "3aeebf04-06ed-44c4-b841-0950e5bc0c66",
   "metadata": {},
   "outputs": [
    {
     "data": {
      "text/plain": [
       "['o', 'l', 'h']"
      ]
     },
     "execution_count": 13,
     "metadata": {},
     "output_type": "execute_result"
    }
   ],
   "source": [
    "list(reversed(\"hlo\"))"
   ]
  },
  {
   "cell_type": "code",
   "execution_count": 14,
   "id": "ca6c7c93-1ad8-4f86-a1ef-9b0728ccc69f",
   "metadata": {},
   "outputs": [
    {
     "data": {
      "text/plain": [
       "<reversed at 0x7f6014eedbd0>"
      ]
     },
     "execution_count": 14,
     "metadata": {},
     "output_type": "execute_result"
    }
   ],
   "source": [
    "reversed(\"hlo\")"
   ]
  },
  {
   "cell_type": "code",
   "execution_count": 21,
   "id": "32d841b5-9d0a-40c0-9741-892bc34a1469",
   "metadata": {},
   "outputs": [
    {
     "data": {
      "text/plain": [
       "reversed"
      ]
     },
     "execution_count": 21,
     "metadata": {},
     "output_type": "execute_result"
    }
   ],
   "source": [
    "type(reversed(name))"
   ]
  },
  {
   "cell_type": "code",
   "execution_count": 23,
   "id": "4f271730-1548-47dc-8082-ff9a47943718",
   "metadata": {},
   "outputs": [
    {
     "name": "stdout",
     "output_type": "stream",
     "text": [
      "retsaM ecneics atad"
     ]
    }
   ],
   "source": [
    "for i in list(reversed(name)):\n",
    "    print(i,end='')"
   ]
  },
  {
   "cell_type": "code",
   "execution_count": 28,
   "id": "d6378004-36ca-4445-8d41-dabb5ef2433b",
   "metadata": {},
   "outputs": [],
   "source": [
    "str1 = \"  pw skills  \"\n"
   ]
  },
  {
   "cell_type": "code",
   "execution_count": 29,
   "id": "fca88174-afc2-45fd-a745-da1a20af53db",
   "metadata": {},
   "outputs": [
    {
     "data": {
      "text/plain": [
       "'pw skills'"
      ]
     },
     "execution_count": 29,
     "metadata": {},
     "output_type": "execute_result"
    }
   ],
   "source": [
    "str1.strip(\" \")"
   ]
  },
  {
   "cell_type": "code",
   "execution_count": 30,
   "id": "5ca18ffb-6f28-4109-8c11-316995273dfb",
   "metadata": {},
   "outputs": [
    {
     "data": {
      "text/plain": [
       "'pw skills  '"
      ]
     },
     "execution_count": 30,
     "metadata": {},
     "output_type": "execute_result"
    }
   ],
   "source": [
    "str1.lstrip(\" \")"
   ]
  },
  {
   "cell_type": "code",
   "execution_count": 32,
   "id": "df586876-1925-4070-be5a-37134bb597e9",
   "metadata": {},
   "outputs": [
    {
     "data": {
      "text/plain": [
       "'  pw skills'"
      ]
     },
     "execution_count": 32,
     "metadata": {},
     "output_type": "execute_result"
    }
   ],
   "source": [
    "str1.rstrip(\" \")"
   ]
  },
  {
   "cell_type": "code",
   "execution_count": 33,
   "id": "5e99f30b-7aa8-4975-b8ef-aeeee5727c82",
   "metadata": {},
   "outputs": [
    {
     "data": {
      "text/plain": [
       "'  pw skills  '"
      ]
     },
     "execution_count": 33,
     "metadata": {},
     "output_type": "execute_result"
    }
   ],
   "source": [
    "str1.strip(\"l\")"
   ]
  },
  {
   "cell_type": "code",
   "execution_count": 35,
   "id": "35fde3ca-f1e7-4af8-a5b2-74f58a64ba71",
   "metadata": {},
   "outputs": [],
   "source": [
    "str2 = \"pw skillll\""
   ]
  },
  {
   "cell_type": "code",
   "execution_count": 36,
   "id": "6c0d768a-aa0f-469e-9df8-f9a0ce63a8e9",
   "metadata": {},
   "outputs": [
    {
     "data": {
      "text/plain": [
       "'pw ski'"
      ]
     },
     "execution_count": 36,
     "metadata": {},
     "output_type": "execute_result"
    }
   ],
   "source": [
    "str2.strip(\"l\")"
   ]
  },
  {
   "cell_type": "code",
   "execution_count": 37,
   "id": "0de3c8e0-346a-477e-95eb-8b248f46d4c5",
   "metadata": {},
   "outputs": [],
   "source": [
    "str3 = \" greeting to pwskills\""
   ]
  },
  {
   "cell_type": "code",
   "execution_count": 40,
   "id": "78f880ca-c744-4421-8881-6cb05f5a500f",
   "metadata": {},
   "outputs": [
    {
     "data": {
      "text/plain": [
       "' grffting to pwskills'"
      ]
     },
     "execution_count": 40,
     "metadata": {},
     "output_type": "execute_result"
    }
   ],
   "source": [
    "str3.replace(\"e\",\"f\")"
   ]
  },
  {
   "cell_type": "code",
   "execution_count": 39,
   "id": "5c62181e-9f69-4923-a3de-ec586444f718",
   "metadata": {},
   "outputs": [
    {
     "data": {
      "text/plain": [
       "' greeting to pwskills'"
      ]
     },
     "execution_count": 39,
     "metadata": {},
     "output_type": "execute_result"
    }
   ],
   "source": [
    "str3"
   ]
  },
  {
   "cell_type": "code",
   "execution_count": 43,
   "id": "2742d5bb-6307-4b0a-83f0-6fd2f45cbef6",
   "metadata": {},
   "outputs": [
    {
     "data": {
      "text/plain": [
       "'hello   world'"
      ]
     },
     "execution_count": 43,
     "metadata": {},
     "output_type": "execute_result"
    }
   ],
   "source": [
    "\"hello \\tworld\".expandtabs()"
   ]
  },
  {
   "cell_type": "code",
   "execution_count": 44,
   "id": "f2007c0a-cd69-4bbd-97df-b538040ca8eb",
   "metadata": {},
   "outputs": [
    {
     "data": {
      "text/plain": [
       "'pw skillll'"
      ]
     },
     "execution_count": 44,
     "metadata": {},
     "output_type": "execute_result"
    }
   ],
   "source": [
    "str2"
   ]
  },
  {
   "cell_type": "code",
   "execution_count": 45,
   "id": "6e3e25bd-dca7-4fbe-b435-782ec6c886d9",
   "metadata": {},
   "outputs": [
    {
     "data": {
      "text/plain": [
       "'PW skills'"
      ]
     },
     "execution_count": 45,
     "metadata": {},
     "output_type": "execute_result"
    }
   ],
   "source": [
    "str2.replace(\"pw\",\"PW\").replace(\"skillll\",\"skills\")"
   ]
  },
  {
   "cell_type": "code",
   "execution_count": 47,
   "id": "246e2af3-db80-4d7f-afbe-8da30784be21",
   "metadata": {},
   "outputs": [
    {
     "data": {
      "text/plain": [
       "False"
      ]
     },
     "execution_count": 47,
     "metadata": {},
     "output_type": "execute_result"
    }
   ],
   "source": [
    "str2.isupper()"
   ]
  },
  {
   "cell_type": "code",
   "execution_count": 49,
   "id": "ec425f0c-7aed-4940-8c07-b8a6965cef7e",
   "metadata": {},
   "outputs": [
    {
     "data": {
      "text/plain": [
       "False"
      ]
     },
     "execution_count": 49,
     "metadata": {},
     "output_type": "execute_result"
    }
   ],
   "source": [
    "str2.isspace()"
   ]
  },
  {
   "cell_type": "code",
   "execution_count": 50,
   "id": "bc7ee0ce-1078-4293-9c4f-80bd8bf09e0a",
   "metadata": {},
   "outputs": [
    {
     "data": {
      "text/plain": [
       "True"
      ]
     },
     "execution_count": 50,
     "metadata": {},
     "output_type": "execute_result"
    }
   ],
   "source": [
    "str3.islower()"
   ]
  },
  {
   "cell_type": "code",
   "execution_count": 52,
   "id": "7df38161-04db-4c83-aa22-af8a7773ba88",
   "metadata": {},
   "outputs": [
    {
     "data": {
      "text/plain": [
       "' greeting to pwskills'"
      ]
     },
     "execution_count": 52,
     "metadata": {},
     "output_type": "execute_result"
    }
   ],
   "source": [
    "str3"
   ]
  },
  {
   "cell_type": "code",
   "execution_count": 56,
   "id": "22ffad75-f7ef-4663-b2f8-9a23d96ad438",
   "metadata": {},
   "outputs": [
    {
     "name": "stdout",
     "output_type": "stream",
     "text": [
      "hello world\n"
     ]
    }
   ],
   "source": [
    "if \"  \".isspace():\n",
    "    print(\"hello world\")"
   ]
  },
  {
   "cell_type": "code",
   "execution_count": 57,
   "id": "cf8dab79-7c59-4101-a5d2-10f4427b4f60",
   "metadata": {},
   "outputs": [
    {
     "data": {
      "text/plain": [
       "True"
      ]
     },
     "execution_count": 57,
     "metadata": {},
     "output_type": "execute_result"
    }
   ],
   "source": [
    "str3.endswith('s')"
   ]
  },
  {
   "cell_type": "code",
   "execution_count": 58,
   "id": "599c0001-a959-4f8a-b9ec-39887120c5c0",
   "metadata": {},
   "outputs": [
    {
     "data": {
      "text/plain": [
       "True"
      ]
     },
     "execution_count": 58,
     "metadata": {},
     "output_type": "execute_result"
    }
   ],
   "source": [
    "str3.startswith(\" \")"
   ]
  },
  {
   "cell_type": "code",
   "execution_count": 1,
   "id": "bcf798cf-9e90-4235-9813-9ced42f4733f",
   "metadata": {},
   "outputs": [],
   "source": [
    "a = \"Pwskills\""
   ]
  },
  {
   "cell_type": "code",
   "execution_count": 3,
   "id": "1dee5b27-0a9b-4a9f-a83c-6ed927355f9a",
   "metadata": {},
   "outputs": [
    {
     "name": "stdout",
     "output_type": "stream",
     "text": [
      "0 = P\n",
      "1 = w\n",
      "2 = s\n",
      "3 = k\n",
      "4 = i\n",
      "5 = l\n",
      "6 = l\n",
      "7 = s\n"
     ]
    }
   ],
   "source": [
    "for i in range(len(a)):\n",
    "    print(i,\"=\",a[i])"
   ]
  },
  {
   "cell_type": "code",
   "execution_count": 14,
   "id": "0f77137f-a818-4cd7-ae55-11f074b06ae2",
   "metadata": {},
   "outputs": [
    {
     "name": "stdout",
     "output_type": "stream",
     "text": [
      "0 = s\n",
      "1 = l\n",
      "2 = l\n",
      "3 = i\n",
      "4 = k\n",
      "5 = s\n",
      "6 = w\n",
      "7 = P\n"
     ]
    }
   ],
   "source": [
    "i = 0\n",
    "while(i<len(a)):\n",
    "    print(i,\"=\",a[(len(a)-i-1)])\n",
    "    i = i + 1"
   ]
  },
  {
   "cell_type": "code",
   "execution_count": 8,
   "id": "0d81f9ff-b364-48ba-a12d-c61c0c41c408",
   "metadata": {},
   "outputs": [
    {
     "data": {
      "text/plain": [
       "8"
      ]
     },
     "execution_count": 8,
     "metadata": {},
     "output_type": "execute_result"
    }
   ],
   "source": [
    "len(a)"
   ]
  },
  {
   "cell_type": "code",
   "execution_count": 13,
   "id": "2bacae41-65d9-40ce-aef6-b5472b8c1544",
   "metadata": {},
   "outputs": [
    {
     "name": "stdout",
     "output_type": "stream",
     "text": [
      "0  =  s\n",
      "1  =  l\n",
      "2  =  l\n",
      "3  =  i\n",
      "4  =  k\n",
      "5  =  s\n",
      "6  =  w\n",
      "7  =  P\n"
     ]
    }
   ],
   "source": [
    "for i in range(len(a)):\n",
    "    print(i , \" = \",a[len(a)-i - 1])"
   ]
  },
  {
   "cell_type": "code",
   "execution_count": 20,
   "id": "f66300ba-fd76-41d1-944e-8be5d6d5f8b8",
   "metadata": {},
   "outputs": [
    {
     "name": "stdout",
     "output_type": "stream",
     "text": [
      "h  is not vowel\n",
      "y  is not vowel\n",
      "y  is not vowel\n",
      "p  is not vowel\n",
      "a  is vowel\n",
      "w  is not vowel\n",
      "a  is vowel\n",
      "n  is not vowel\n"
     ]
    }
   ],
   "source": [
    "name = \"hyypawan\"\n",
    "vowels = \"AaEeIiOoUu\"\n",
    "for i in (name):\n",
    "    if i in (vowels):\n",
    "        print(i,\" is vowel\")\n",
    "    else:\n",
    "        print(i,\" is not vowel\")"
   ]
  },
  {
   "cell_type": "markdown",
   "id": "89a8b657-cd7f-4dd8-a394-029f6f35f264",
   "metadata": {},
   "source": [
    "list\n"
   ]
  },
  {
   "cell_type": "code",
   "execution_count": 21,
   "id": "e8604498-3621-46a5-822f-3268069b2351",
   "metadata": {},
   "outputs": [
    {
     "data": {
      "text/plain": [
       "list"
      ]
     },
     "execution_count": 21,
     "metadata": {},
     "output_type": "execute_result"
    }
   ],
   "source": [
    "type([])"
   ]
  },
  {
   "cell_type": "code",
   "execution_count": 22,
   "id": "8f82affb-e164-44d0-8a75-77eca5c4088f",
   "metadata": {},
   "outputs": [
    {
     "data": {
      "text/plain": [
       "[1, 2, 3, 4, 5]"
      ]
     },
     "execution_count": 22,
     "metadata": {},
     "output_type": "execute_result"
    }
   ],
   "source": [
    "list([1,2,3,4,5])"
   ]
  },
  {
   "cell_type": "code",
   "execution_count": 24,
   "id": "23f61d16-cb41-4742-8b9f-d6be81ee96f8",
   "metadata": {},
   "outputs": [
    {
     "data": {
      "text/plain": [
       "'Pwskills'"
      ]
     },
     "execution_count": 24,
     "metadata": {},
     "output_type": "execute_result"
    }
   ],
   "source": [
    "a"
   ]
  },
  {
   "cell_type": "code",
   "execution_count": 25,
   "id": "5195be06-3a39-4445-9f7d-b5fd4544db6c",
   "metadata": {},
   "outputs": [
    {
     "data": {
      "text/plain": [
       "['P', 'w', 's', 'k', 'i', 'l', 'l', 's']"
      ]
     },
     "execution_count": 25,
     "metadata": {},
     "output_type": "execute_result"
    }
   ],
   "source": [
    "list(a)"
   ]
  },
  {
   "cell_type": "code",
   "execution_count": 26,
   "id": "987cc99b-a198-43e1-ae97-d421d4c6dcd7",
   "metadata": {},
   "outputs": [],
   "source": [
    "b = \"my name is pawan joshi\""
   ]
  },
  {
   "cell_type": "code",
   "execution_count": 27,
   "id": "1d684535-072a-4cd9-a191-87717f228d33",
   "metadata": {},
   "outputs": [
    {
     "data": {
      "text/plain": [
       "['my', 'name', 'is', 'pawan', 'joshi']"
      ]
     },
     "execution_count": 27,
     "metadata": {},
     "output_type": "execute_result"
    }
   ],
   "source": [
    "list(b.split(\" \"))"
   ]
  },
  {
   "cell_type": "code",
   "execution_count": 30,
   "id": "3f065f55-7a2a-44d3-95e3-44513453e405",
   "metadata": {},
   "outputs": [],
   "source": [
    "lst1=b.split(\" \")"
   ]
  },
  {
   "cell_type": "code",
   "execution_count": 29,
   "id": "51240b70-73d0-44f5-91b3-f844429cd7d9",
   "metadata": {},
   "outputs": [
    {
     "data": {
      "text/plain": [
       "'my name is pawan joshi'"
      ]
     },
     "execution_count": 29,
     "metadata": {},
     "output_type": "execute_result"
    }
   ],
   "source": [
    "b"
   ]
  },
  {
   "cell_type": "code",
   "execution_count": 31,
   "id": "7f2efe96-cd4e-42de-ad70-e90307af89dd",
   "metadata": {},
   "outputs": [
    {
     "data": {
      "text/plain": [
       "['my', 'name', 'is', 'pawan', 'joshi']"
      ]
     },
     "execution_count": 31,
     "metadata": {},
     "output_type": "execute_result"
    }
   ],
   "source": [
    "lst1"
   ]
  },
  {
   "cell_type": "code",
   "execution_count": 33,
   "id": "9f4683d3-5986-4f92-993f-358634fb7852",
   "metadata": {},
   "outputs": [],
   "source": [
    "lst1[2]=\"hero\""
   ]
  },
  {
   "cell_type": "code",
   "execution_count": 34,
   "id": "ac3b49a5-9934-4bba-bd6f-45d788f1c0b1",
   "metadata": {},
   "outputs": [
    {
     "data": {
      "text/plain": [
       "['my', 'name', 'hero', 'pawan', 'joshi']"
      ]
     },
     "execution_count": 34,
     "metadata": {},
     "output_type": "execute_result"
    }
   ],
   "source": [
    "lst1"
   ]
  },
  {
   "cell_type": "code",
   "execution_count": 35,
   "id": "eb8db376-b5f5-405a-a6ef-5573323caabf",
   "metadata": {},
   "outputs": [
    {
     "data": {
      "text/plain": [
       "['joshi', 'pawan', 'hero', 'name', 'my']"
      ]
     },
     "execution_count": 35,
     "metadata": {},
     "output_type": "execute_result"
    }
   ],
   "source": [
    "lst1[::-1]"
   ]
  },
  {
   "cell_type": "code",
   "execution_count": 36,
   "id": "eb673b02-cafe-458b-a63a-204cd99ebbc0",
   "metadata": {},
   "outputs": [
    {
     "data": {
      "text/plain": [
       "['my', 'name', 'hero', 'pawan', 'joshi', 12]"
      ]
     },
     "execution_count": 36,
     "metadata": {},
     "output_type": "execute_result"
    }
   ],
   "source": [
    "#concatenation operation\n",
    "lst1 +[12]"
   ]
  },
  {
   "cell_type": "code",
   "execution_count": 37,
   "id": "ca5734fc-6577-43b1-8389-ca8f9146b973",
   "metadata": {},
   "outputs": [
    {
     "data": {
      "text/plain": [
       "['my', 'name', 'hero', 'pawan', 'joshi', [23]]"
      ]
     },
     "execution_count": 37,
     "metadata": {},
     "output_type": "execute_result"
    }
   ],
   "source": [
    "lst1 + [[23]]"
   ]
  },
  {
   "cell_type": "code",
   "execution_count": 38,
   "id": "94ca29a5-a6e0-44b6-bbae-c500bc696e21",
   "metadata": {},
   "outputs": [
    {
     "data": {
      "text/plain": [
       "['my',\n",
       " 'name',\n",
       " 'hero',\n",
       " 'pawan',\n",
       " 'joshi',\n",
       " 'my',\n",
       " 'name',\n",
       " 'hero',\n",
       " 'pawan',\n",
       " 'joshi']"
      ]
     },
     "execution_count": 38,
     "metadata": {},
     "output_type": "execute_result"
    }
   ],
   "source": [
    "lst1 * 2"
   ]
  },
  {
   "cell_type": "code",
   "execution_count": 39,
   "id": "5dd39b53-6852-4bac-8612-232e2a01f00a",
   "metadata": {},
   "outputs": [],
   "source": [
    "lst1[2] = \"is\""
   ]
  },
  {
   "cell_type": "code",
   "execution_count": 43,
   "id": "e8722945-5875-4cd0-957f-664265a972eb",
   "metadata": {},
   "outputs": [
    {
     "data": {
      "text/plain": [
       "['my', 'name', 'is', 'pawan', 'joshi', [23, 'he']]"
      ]
     },
     "execution_count": 43,
     "metadata": {},
     "output_type": "execute_result"
    }
   ],
   "source": [
    "lst2 = lst1 + [[23,\"he\"]]\n",
    "lst2"
   ]
  },
  {
   "cell_type": "code",
   "execution_count": 50,
   "id": "b7f80200-256c-4a8a-97bd-f54ffb9fbe28",
   "metadata": {},
   "outputs": [
    {
     "data": {
      "text/plain": [
       "[23, 'he']"
      ]
     },
     "execution_count": 50,
     "metadata": {},
     "output_type": "execute_result"
    }
   ],
   "source": [
    "lst2[::1][-1]"
   ]
  },
  {
   "cell_type": "code",
   "execution_count": 52,
   "id": "c16e8205-9e54-428f-8b5f-4ba07b665349",
   "metadata": {},
   "outputs": [
    {
     "name": "stdout",
     "output_type": "stream",
     "text": [
      "my\n",
      "name\n",
      "is\n",
      "pawan\n"
     ]
    }
   ],
   "source": [
    "for i in lst2:\n",
    "    print(i)\n",
    "    if \"pawan\" == i:\n",
    "        break"
   ]
  },
  {
   "cell_type": "code",
   "execution_count": 54,
   "id": "ac9cc469-81bd-47c0-8752-94fd377dbf57",
   "metadata": {},
   "outputs": [
    {
     "data": {
      "text/plain": [
       "True"
      ]
     },
     "execution_count": 54,
     "metadata": {},
     "output_type": "execute_result"
    }
   ],
   "source": [
    "[23,\"he\"] in lst2"
   ]
  },
  {
   "cell_type": "code",
   "execution_count": 1,
   "id": "522c88db-9d84-4bae-b07d-451fe69a8d58",
   "metadata": {},
   "outputs": [],
   "source": [
    "lst1 = [\"zebra\",\"monkey\",\"donkey\",\"lion\"]\n",
    "list2=[5,6,2,9,5,8,6]"
   ]
  },
  {
   "cell_type": "code",
   "execution_count": 2,
   "id": "594b1801-83dd-427f-84eb-f5b744f821b5",
   "metadata": {},
   "outputs": [
    {
     "name": "stdout",
     "output_type": "stream",
     "text": [
      "zebra\n"
     ]
    }
   ],
   "source": [
    "print(max(lst1))"
   ]
  },
  {
   "cell_type": "code",
   "execution_count": 3,
   "id": "91a9fc11-c167-4bec-a6d0-38443734035c",
   "metadata": {},
   "outputs": [
    {
     "data": {
      "text/plain": [
       "9"
      ]
     },
     "execution_count": 3,
     "metadata": {},
     "output_type": "execute_result"
    }
   ],
   "source": [
    "max(list2)"
   ]
  },
  {
   "cell_type": "code",
   "execution_count": 4,
   "id": "154d12a0-2495-4f39-b676-26b5f84008e9",
   "metadata": {},
   "outputs": [
    {
     "data": {
      "text/plain": [
       "'donkey'"
      ]
     },
     "execution_count": 4,
     "metadata": {},
     "output_type": "execute_result"
    }
   ],
   "source": [
    "min(lst1)"
   ]
  },
  {
   "cell_type": "code",
   "execution_count": 5,
   "id": "4dd93743-1fcf-4d3a-a0ec-fc008e7efa49",
   "metadata": {},
   "outputs": [
    {
     "data": {
      "text/plain": [
       "2"
      ]
     },
     "execution_count": 5,
     "metadata": {},
     "output_type": "execute_result"
    }
   ],
   "source": [
    "min(list2)"
   ]
  },
  {
   "cell_type": "code",
   "execution_count": 6,
   "id": "1247f27f-5d74-4982-93aa-4eba9a75f18e",
   "metadata": {},
   "outputs": [],
   "source": [
    "## append \n",
    "lst=[1,2,3,4,5,6]"
   ]
  },
  {
   "cell_type": "code",
   "execution_count": 8,
   "id": "b4ed7576-4213-48d4-8ccc-67b6b815f103",
   "metadata": {},
   "outputs": [],
   "source": [
    "lst.append(\"krish\")"
   ]
  },
  {
   "cell_type": "code",
   "execution_count": 9,
   "id": "8e490b14-6d92-488d-9775-3bbef9965e55",
   "metadata": {},
   "outputs": [
    {
     "data": {
      "text/plain": [
       "[1, 2, 3, 4, 5, 6, 'krish']"
      ]
     },
     "execution_count": 9,
     "metadata": {},
     "output_type": "execute_result"
    }
   ],
   "source": [
    "lst"
   ]
  },
  {
   "cell_type": "code",
   "execution_count": 10,
   "id": "4077f3b7-8a44-4eb0-be2d-3b48b675e554",
   "metadata": {},
   "outputs": [],
   "source": [
    "lst.append(['my' ,'name','is','pawan'])"
   ]
  },
  {
   "cell_type": "code",
   "execution_count": 11,
   "id": "2fd28a6b-491a-4adb-9a3b-09ec1915c0a3",
   "metadata": {},
   "outputs": [
    {
     "data": {
      "text/plain": [
       "[1, 2, 3, 4, 5, 6, 'krish', ['my', 'name', 'is', 'pawan']]"
      ]
     },
     "execution_count": 11,
     "metadata": {},
     "output_type": "execute_result"
    }
   ],
   "source": [
    "lst"
   ]
  },
  {
   "cell_type": "code",
   "execution_count": 12,
   "id": "965e1cf6-d06c-4f15-bfd4-abf0a07ae8b2",
   "metadata": {},
   "outputs": [
    {
     "data": {
      "text/plain": [
       "['zebra', 'monkey', 'donkey', 'lion']"
      ]
     },
     "execution_count": 12,
     "metadata": {},
     "output_type": "execute_result"
    }
   ],
   "source": [
    "lst1"
   ]
  },
  {
   "cell_type": "code",
   "execution_count": 13,
   "id": "8367ab20-ea4e-48ed-8d76-c824d1168b65",
   "metadata": {},
   "outputs": [
    {
     "data": {
      "text/plain": [
       "'lion'"
      ]
     },
     "execution_count": 13,
     "metadata": {},
     "output_type": "execute_result"
    }
   ],
   "source": [
    "lst1.pop()"
   ]
  },
  {
   "cell_type": "code",
   "execution_count": 15,
   "id": "f4197199-ae3e-4de6-ae72-953de6bd5ef5",
   "metadata": {},
   "outputs": [
    {
     "data": {
      "text/plain": [
       "'donkey'"
      ]
     },
     "execution_count": 15,
     "metadata": {},
     "output_type": "execute_result"
    }
   ],
   "source": [
    "lst1.pop(2)"
   ]
  },
  {
   "cell_type": "code",
   "execution_count": 16,
   "id": "9d2ea0c0-7505-40b3-af9a-04827d6701db",
   "metadata": {},
   "outputs": [
    {
     "data": {
      "text/plain": [
       "['zebra', 'monkey']"
      ]
     },
     "execution_count": 16,
     "metadata": {},
     "output_type": "execute_result"
    }
   ],
   "source": [
    "lst1"
   ]
  },
  {
   "cell_type": "code",
   "execution_count": 17,
   "id": "078426f9-76fc-44fc-9144-5622fc1349b4",
   "metadata": {},
   "outputs": [],
   "source": [
    "#sorting and revrse method \n",
    "new_list=['q','w','e','r','t']\n"
   ]
  },
  {
   "cell_type": "code",
   "execution_count": 18,
   "id": "8054d597-8963-4937-8c1b-a73596b3e739",
   "metadata": {},
   "outputs": [],
   "source": [
    "new_list.reverse()"
   ]
  },
  {
   "cell_type": "code",
   "execution_count": 19,
   "id": "c8ff36f2-ffbf-4905-845a-150cab2a54ab",
   "metadata": {},
   "outputs": [
    {
     "data": {
      "text/plain": [
       "['t', 'r', 'e', 'w', 'q']"
      ]
     },
     "execution_count": 19,
     "metadata": {},
     "output_type": "execute_result"
    }
   ],
   "source": [
    "new_list\n"
   ]
  },
  {
   "cell_type": "code",
   "execution_count": 20,
   "id": "ca9f8d02-f5de-446d-bb34-eda28245705f",
   "metadata": {},
   "outputs": [],
   "source": [
    "new_list.sort()"
   ]
  },
  {
   "cell_type": "code",
   "execution_count": 21,
   "id": "988d4cf5-a172-4d8b-8d66-fa8c1f81fa5e",
   "metadata": {},
   "outputs": [
    {
     "data": {
      "text/plain": [
       "['e', 'q', 'r', 't', 'w']"
      ]
     },
     "execution_count": 21,
     "metadata": {},
     "output_type": "execute_result"
    }
   ],
   "source": [
    "new_list"
   ]
  },
  {
   "cell_type": "code",
   "execution_count": 22,
   "id": "8aeb20ed-eccb-4f5b-8656-59467164a49e",
   "metadata": {},
   "outputs": [
    {
     "data": {
      "text/plain": [
       "[1, 2, 4, 5, 6, 'krish', ['my', 'name', 'is', 'pawan']]"
      ]
     },
     "execution_count": 22,
     "metadata": {},
     "output_type": "execute_result"
    }
   ],
   "source": [
    "#Nested list\n",
    "lst"
   ]
  },
  {
   "cell_type": "code",
   "execution_count": 23,
   "id": "9ccd4ef6-bfe4-48da-8fd5-b45847fc9c08",
   "metadata": {},
   "outputs": [],
   "source": [
    "lst.extend(['pawan','joshi'])"
   ]
  },
  {
   "cell_type": "code",
   "execution_count": 24,
   "id": "a648ea16-1b62-489b-892e-b1e09794e7fc",
   "metadata": {},
   "outputs": [
    {
     "data": {
      "text/plain": [
       "[1, 2, 4, 5, 6, 'krish', ['my', 'name', 'is', 'pawan'], 'pawan', 'joshi']"
      ]
     },
     "execution_count": 24,
     "metadata": {},
     "output_type": "execute_result"
    }
   ],
   "source": [
    "lst\n"
   ]
  },
  {
   "cell_type": "code",
   "execution_count": 25,
   "id": "a55492db-517f-4788-be78-21bd94bdb213",
   "metadata": {},
   "outputs": [],
   "source": [
    "ls1 = [1,2,3]\n",
    "ls2 = [4,5,6]\n",
    "ls3 = [7,8,9]\n"
   ]
  },
  {
   "cell_type": "code",
   "execution_count": 28,
   "id": "7ffcddcc-de01-4848-960e-542d3500d87d",
   "metadata": {},
   "outputs": [],
   "source": [
    "matrix = [ls1,ls2,ls3]"
   ]
  },
  {
   "cell_type": "code",
   "execution_count": 29,
   "id": "967572b7-29d0-49b8-92c4-a22383f04d05",
   "metadata": {},
   "outputs": [
    {
     "data": {
      "text/plain": [
       "[[1, 2, 3], [4, 5, 6], [7, 8, 9]]"
      ]
     },
     "execution_count": 29,
     "metadata": {},
     "output_type": "execute_result"
    }
   ],
   "source": [
    "matrix"
   ]
  },
  {
   "cell_type": "code",
   "execution_count": 32,
   "id": "6c290f36-d700-4474-8033-64c37ff7b3e1",
   "metadata": {},
   "outputs": [
    {
     "data": {
      "text/plain": [
       "[8, 9]"
      ]
     },
     "execution_count": 32,
     "metadata": {},
     "output_type": "execute_result"
    }
   ],
   "source": [
    "matrix[2][1:]"
   ]
  },
  {
   "cell_type": "code",
   "execution_count": 51,
   "id": "590478cd-6ce7-4c87-a886-2f2a4b324c3e",
   "metadata": {},
   "outputs": [
    {
     "data": {
      "text/plain": [
       "[[1, 2, 3]]"
      ]
     },
     "execution_count": 51,
     "metadata": {},
     "output_type": "execute_result"
    }
   ],
   "source": [
    "matrix[0:][0::-2]"
   ]
  },
  {
   "cell_type": "code",
   "execution_count": 53,
   "id": "9ab0af5c-70ab-4812-a3d9-51bd6db2ba7d",
   "metadata": {},
   "outputs": [
    {
     "data": {
      "text/plain": [
       "[0, 1, 2, 3, 4, 5, 6, 7, 8, 9, 10, 11, 12, 13, 14, 15, 16, 17, 18, 19]"
      ]
     },
     "execution_count": 53,
     "metadata": {},
     "output_type": "execute_result"
    }
   ],
   "source": [
    "#list comprehension \n",
    "[i for i in range(20)]"
   ]
  },
  {
   "cell_type": "code",
   "execution_count": 54,
   "id": "5ca1389f-6a2a-49cf-b8e3-8df996cc7d68",
   "metadata": {},
   "outputs": [
    {
     "data": {
      "text/plain": [
       "[0, '', 2, '', 4, '', 6, '', 8, '', 10, '', 12, '', 14, '', 16, '', 18, '']"
      ]
     },
     "execution_count": 54,
     "metadata": {},
     "output_type": "execute_result"
    }
   ],
   "source": [
    "[i if i % 2 == 0 else \"\" for i in range(20)]"
   ]
  },
  {
   "cell_type": "code",
   "execution_count": 74,
   "id": "726c8a8b-a9b8-4ff0-95f0-b1782d1047d5",
   "metadata": {},
   "outputs": [],
   "source": [
    "#even sum\n",
    "lst = [1,2,3,4,5,6,7,8]\n",
    "even_sum = sum([i for i in lst if i%2==0 ])"
   ]
  },
  {
   "cell_type": "code",
   "execution_count": 60,
   "id": "cf178be6-1be2-4fc7-91eb-231f491662e0",
   "metadata": {},
   "outputs": [
    {
     "data": {
      "text/plain": [
       "20"
      ]
     },
     "execution_count": 60,
     "metadata": {},
     "output_type": "execute_result"
    }
   ],
   "source": [
    "even_sum"
   ]
  },
  {
   "cell_type": "code",
   "execution_count": 75,
   "id": "6eb84cff-2595-4e9c-a16c-b572fcbc22bf",
   "metadata": {},
   "outputs": [
    {
     "data": {
      "text/plain": [
       "[1, 4, 9, 16, 3136, 49, 64, 81]"
      ]
     },
     "execution_count": 75,
     "metadata": {},
     "output_type": "execute_result"
    }
   ],
   "source": [
    "#square of each element in list \n",
    "sq = [1,2,3,4,56,7,8,9]\n",
    "[ i*i for i in sq] "
   ]
  },
  {
   "cell_type": "code",
   "execution_count": 76,
   "id": "cfff9923-ceb7-4baf-9c3a-37e3dca93f76",
   "metadata": {},
   "outputs": [
    {
     "data": {
      "text/plain": [
       "[0, 1, 2, 3, 4]"
      ]
     },
     "execution_count": 76,
     "metadata": {},
     "output_type": "execute_result"
    }
   ],
   "source": [
    "#positive intiger\n",
    "numbers = [-2,-1,0,1,2,3,4]\n",
    "[i  for i in numbers if i >=0]"
   ]
  },
  {
   "cell_type": "code",
   "execution_count": 77,
   "id": "f2538537-f9b3-4d60-afaf-de51df0196a6",
   "metadata": {},
   "outputs": [
    {
     "data": {
      "text/plain": [
       "['a', 'b', 'c', 'd']"
      ]
     },
     "execution_count": 77,
     "metadata": {},
     "output_type": "execute_result"
    }
   ],
   "source": [
    "#create a list of only  the first letters of word in a list \n",
    "words = ['apple','banana','cherry','date']\n",
    "[i[0] for i in words ]"
   ]
  },
  {
   "cell_type": "code",
   "execution_count": 78,
   "id": "0167e272-3bc1-414c-b7d9-785f2a1d68fb",
   "metadata": {},
   "outputs": [
    {
     "data": {
      "text/plain": [
       "[32, 50, 68, 86, 104, 122]"
      ]
     },
     "execution_count": 78,
     "metadata": {},
     "output_type": "execute_result"
    }
   ],
   "source": [
    "#convert a list of temp for celcius to ferhrenite using list comprehesnion\n",
    "celsius_tempratures = [0,10,20,30,40,50]\n",
    "[int((9/5)*i+32) for i in celsius_tempratures]"
   ]
  },
  {
   "cell_type": "code",
   "execution_count": 80,
   "id": "0a586c97-7864-4175-8201-138184877e30",
   "metadata": {},
   "outputs": [
    {
     "data": {
      "text/plain": [
       "[1, 2, 3, 4, 5, 6, 7, 8, 9]"
      ]
     },
     "execution_count": 80,
     "metadata": {},
     "output_type": "execute_result"
    }
   ],
   "source": [
    "# flatten a list of lists into a single list \n",
    "list1=[[1,2,3],[4,5,6],[7,8,9]]\n",
    "[i for j in list1 for i in j ]"
   ]
  },
  {
   "cell_type": "code",
   "execution_count": 8,
   "id": "5ec153b3-1de9-4fd9-81cb-1138cdfb9310",
   "metadata": {},
   "outputs": [
    {
     "data": {
      "text/plain": [
       "[2, 3, 5, 7, 29]"
      ]
     },
     "execution_count": 8,
     "metadata": {},
     "output_type": "execute_result"
    }
   ],
   "source": [
    "#create a list of only the prime no from a given list\n",
    "numbers = [1,2,3,4,5,6,7,8,9,10,29,27]\n",
    "[i for i in numbers  if all(i % j != 0  for j in range(2, i)) and i > 1] "
   ]
  },
  {
   "cell_type": "code",
   "execution_count": 14,
   "id": "ff973280-7ae3-4814-8006-46c479215f96",
   "metadata": {},
   "outputs": [
    {
     "name": "stdout",
     "output_type": "stream",
     "text": [
      "[2, 3, 5, 7, 13, 17, 29]\n"
     ]
    }
   ],
   "source": [
    "numbers = [1,2,3,4,5,6,7,8,9,10,13,17,21,24,29]\n",
    "lst1 = []\n",
    "for i in numbers:\n",
    "    if i > 1 :\n",
    "        k = 0\n",
    "        for j in range (2,i):\n",
    "            k = k +1\n",
    "            if i % j == 0:\n",
    "                break \n",
    "            elif k == i - 2:\n",
    "                lst1.append(i)\n",
    "print(lst1)\n",
    "       "
   ]
  },
  {
   "cell_type": "code",
   "execution_count": 21,
   "id": "0d4c52a6-bbad-4bcc-b07f-4cf832c94c12",
   "metadata": {},
   "outputs": [
    {
     "name": "stdout",
     "output_type": "stream",
     "text": [
      "[[1, 1], [1, 2], [1, 3], [1, 4], [1, 5], [2, 1], [2, 2], [2, 3], [2, 4], [2, 5], [3, 1], [3, 2], [3, 3], [3, 4], [3, 5], [4, 1], [4, 2], [4, 3], [4, 4], [4, 5], [5, 1], [5, 2], [5, 3], [5, 4], [5, 5]]\n"
     ]
    }
   ],
   "source": [
    "#create a list of all the posible combinations of 2 elements from a list\n",
    "numbers=[1,2,3,4,5]\n",
    "lst1 = []\n",
    "for i in numbers :\n",
    "    for j in numbers :\n",
    "        lst1.append([i,j])\n",
    "print(lst1)"
   ]
  },
  {
   "cell_type": "code",
   "execution_count": 1,
   "id": "51c90410-41de-4a92-b580-20661fa9b984",
   "metadata": {},
   "outputs": [
    {
     "data": {
      "text/plain": [
       "[[1, 1],\n",
       " [1, 2],\n",
       " [1, 3],\n",
       " [1, 4],\n",
       " [1, 5],\n",
       " [2, 1],\n",
       " [2, 2],\n",
       " [2, 3],\n",
       " [2, 4],\n",
       " [2, 5],\n",
       " [3, 1],\n",
       " [3, 2],\n",
       " [3, 3],\n",
       " [3, 4],\n",
       " [3, 5],\n",
       " [4, 1],\n",
       " [4, 2],\n",
       " [4, 3],\n",
       " [4, 4],\n",
       " [4, 5],\n",
       " [5, 1],\n",
       " [5, 2],\n",
       " [5, 3],\n",
       " [5, 4],\n",
       " [5, 5]]"
      ]
     },
     "execution_count": 1,
     "metadata": {},
     "output_type": "execute_result"
    }
   ],
   "source": [
    "numbers=[1,2,3,4,5]\n",
    "[[i,j]for i in numbers for j in numbers]\n"
   ]
  },
  {
   "cell_type": "code",
   "execution_count": null,
   "id": "715e8758-129e-4f38-8071-16a5a35ca17c",
   "metadata": {},
   "outputs": [],
   "source": []
  },
  {
   "cell_type": "code",
   "execution_count": null,
   "id": "e3423441-71b6-4d73-a54a-619334f7fb5f",
   "metadata": {},
   "outputs": [],
   "source": []
  }
 ],
 "metadata": {
  "kernelspec": {
   "display_name": "Python 3 (ipykernel)",
   "language": "python",
   "name": "python3"
  },
  "language_info": {
   "codemirror_mode": {
    "name": "ipython",
    "version": 3
   },
   "file_extension": ".py",
   "mimetype": "text/x-python",
   "name": "python",
   "nbconvert_exporter": "python",
   "pygments_lexer": "ipython3",
   "version": "3.10.8"
  }
 },
 "nbformat": 4,
 "nbformat_minor": 5
}

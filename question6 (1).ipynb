{
 "cells": [
  {
   "cell_type": "code",
   "execution_count": 2,
   "id": "67a8a2e5-2f8c-4090-9aeb-9d9d7b6093d5",
   "metadata": {},
   "outputs": [
    {
     "name": "stdout",
     "output_type": "stream",
     "text": [
      "this is english subject\n"
     ]
    }
   ],
   "source": [
    "#1 explain class and object with respect to object oriented programming.give a suitable example\n",
    "#Classes are user-defined data types that act as the blueprint for individual objects, attributes and methods.\n",
    "#Objects are instances of a class created with specifically defined data.\n",
    "class test:\n",
    "    def english(self):\n",
    "        print(\"this is english subject\")\n",
    "a = test()\n",
    "a.english()\n",
    "# here test is class and a is the object "
   ]
  },
  {
   "cell_type": "code",
   "execution_count": 3,
   "id": "cac16743-4f25-4c06-a6b1-3172dcc64ede",
   "metadata": {},
   "outputs": [],
   "source": [
    "#2 name the foue=r pillaes of oops\n",
    "# the four pillars of oops are Inheritance ,Polymorphism,Abstraction,and Encapsulation"
   ]
  },
  {
   "cell_type": "code",
   "execution_count": 4,
   "id": "9064a139-133f-40d4-a132-5165bd99862c",
   "metadata": {},
   "outputs": [],
   "source": [
    "#3 explain why the __init__() function is used .give a suitable example.\n",
    "#__init__ is one of the reserved methods in Python. In object oriented programming, it is known as a constructor. \n",
    "#The __init__ method can be called when an object is created from the class, and access is required to initialize the attributes of the class\n",
    "class Person:\n",
    "    def __init__(self, name):\n",
    "        self.name = name\n",
    "    def say_hi(self):\n",
    "        print('Hello, my name is', self.name) \n",
    "p = Person('Nikhil')\n",
    "p.say_hi()"
   ]
  },
  {
   "cell_type": "code",
   "execution_count": 7,
   "id": "383a1226-62d7-4b95-8cfd-75a8956f5595",
   "metadata": {},
   "outputs": [],
   "source": [
    "#4 why self is used in oops \n",
    "#The self in keyword in Python is used to all the instances in a class. By using the self keyword, \n",
    "# one can easily access all the instances defined within a class, including its methods and attributes."
   ]
  },
  {
   "cell_type": "code",
   "execution_count": 17,
   "id": "62d20e2e-bc15-49c0-be07-d5283901e1e4",
   "metadata": {},
   "outputs": [
    {
     "name": "stdout",
     "output_type": "stream",
     "text": [
      "child age  8\n",
      "parent age 90\n"
     ]
    }
   ],
   "source": [
    "#5 what is inheritance ? give an example of each type of inheritance.\n",
    "#Inheritance is defined as the mechanism of inheriting the properties of the base class to the child class\n",
    "#there are 5 type of inheritance in python \n",
    "#1 single level inheritance in this  derived class to inherit properties from a single parent class\n",
    "class parent:\n",
    "    parent_age = \" \"\n",
    "    def age1(self):\n",
    "        print(\"parent age\",self.parent_age)\n",
    "class child(parent):\n",
    "    def age(self):\n",
    "        child_age = \"\"\n",
    "        print(\"child age \",self.child_age)\n",
    "a = child()\n",
    "a.child_age = 8\n",
    "a.age()\n",
    "a.parent_age = 90\n",
    "a.age1()"
   ]
  },
  {
   "cell_type": "code",
   "execution_count": 19,
   "id": "22dd8dd9-677a-4a22-b540-64e7887e4d2a",
   "metadata": {},
   "outputs": [
    {
     "name": "stdout",
     "output_type": "stream",
     "text": [
      "8 is child age and parent age is 90\n"
     ]
    }
   ],
   "source": [
    "# When a class can be derived from more than one base class this type of inheritance is called multiple inheritances\n",
    "class parent:\n",
    "    parent_age = \" \"\n",
    "    def age1(self):\n",
    "        print(\"parent age\",self.parent_age)\n",
    "class child:\n",
    "    def age(self):\n",
    "        child_age = \"\"\n",
    "        print(\"child age \",self.child_age)\n",
    "class grandchild(parent,child):\n",
    "    def age2(self):\n",
    "        print(self.child_age,\"is child age and parent age is\",self.parent_age)\n",
    "\n",
    "a = grandchild()\n",
    "a.child_age = 8\n",
    "a.parent_age = 90\n",
    "a.age2()"
   ]
  },
  {
   "cell_type": "code",
   "execution_count": 20,
   "id": "e60fa234-5b4a-40a7-9701-c57b444dc9bc",
   "metadata": {},
   "outputs": [
    {
     "name": "stdout",
     "output_type": "stream",
     "text": [
      "37 is child age and parent age is 90 and grand child age is  7\n"
     ]
    }
   ],
   "source": [
    "#multilevel inheritance, features of the base class and the derived class are further inherited into the new derived class\n",
    "class parent:\n",
    "    parent_age = \" \"\n",
    "    def age1(self):\n",
    "        print(\"parent age\",self.parent_age)\n",
    "class child(parent):\n",
    "    def age(self):\n",
    "        child_age = \"\"\n",
    "        print(\"child age \",self.child_age)\n",
    "class grandchild(child):\n",
    "    grand_child_age = \" \"\n",
    "    def age2(self):\n",
    "        print(self.child_age,\"is child age and parent age is\",self.parent_age,\"and grand child age is \",self.grand_child_age)\n",
    "\n",
    "a = grandchild()\n",
    "a.child_age = 37\n",
    "a.parent_age = 90\n",
    "a.grand_child_age = 7\n",
    "a.age2()"
   ]
  },
  {
   "cell_type": "code",
   "execution_count": 27,
   "id": "e9b1d987-3800-45d5-8ebc-1f2e852e8b59",
   "metadata": {},
   "outputs": [
    {
     "name": "stdout",
     "output_type": "stream",
     "text": [
      "child1 age  37 and parent age is 90\n",
      "7 is child age and parent age is 90\n"
     ]
    }
   ],
   "source": [
    "# When more than one derived class are created from a single base this type of inheritance is called hierarchical inheritance\n",
    "class parent:\n",
    "    parent_age = 90\n",
    "    def age1(self):\n",
    "        print(\"parent age\",self.parent_age)\n",
    "class child1(parent):\n",
    "    def age(self):\n",
    "        child1_age = \" \"\n",
    "        print(\"child1 age \",self.child1_age,\"and parent age is\",self.parent_age)\n",
    "class child2(parent):\n",
    "    child2_age = \" \"\n",
    "    def age2(self):\n",
    "        print(self.child2_age,\"is child age and parent age is\",self.parent_age)\n",
    "\n",
    "a = child2()\n",
    "b = child1()\n",
    "b.child1_age = 37\n",
    "a.child2_age = 7\n",
    "b.age()\n",
    "a.age2()"
   ]
  },
  {
   "cell_type": "code",
   "execution_count": 28,
   "id": "84738d75-f672-41e0-bfb0-efd375c8d804",
   "metadata": {},
   "outputs": [
    {
     "name": "stdout",
     "output_type": "stream",
     "text": [
      "37 is child1 age and parent age is 90 and grand child age is  7\n",
      "20 is child age and parent age is 90\n"
     ]
    }
   ],
   "source": [
    "# Inheritance consisting of multiple types of inheritance is called hybrid inheritance.\n",
    "class parent:\n",
    "    parent_age = 90\n",
    "    def age1(self):\n",
    "        print(\"parent age\",self.parent_age)\n",
    "class child1(parent):\n",
    "    def age(self):\n",
    "        child1_age = \"\"\n",
    "        print(\"child1 age \",self.child1_age)\n",
    "class child2(parent):\n",
    "    child2_age = \" \"\n",
    "    def age2(self):\n",
    "        print(self.child2_age,\"is child age and parent age is\",self.parent_age)\n",
    "class grandchild(child1,parent):\n",
    "    grand_child_age = \" \"\n",
    "    def age3(self):\n",
    "        print(self.child1_age,\"is child1 age and parent age is\",self.parent_age,\"and grand child age is \",self.grand_child_age)\n",
    "\n",
    "b = child2()\n",
    "a = grandchild()\n",
    "a.child1_age = 37\n",
    "a.grand_child_age = 7\n",
    "b.child2_age = 20\n",
    "a.age3()\n",
    "b.age2()"
   ]
  },
  {
   "cell_type": "code",
   "execution_count": null,
   "id": "11dc70f0-0c66-43ff-88c8-f35954124d6f",
   "metadata": {},
   "outputs": [],
   "source": []
  }
 ],
 "metadata": {
  "kernelspec": {
   "display_name": "Python 3 (ipykernel)",
   "language": "python",
   "name": "python3"
  },
  "language_info": {
   "codemirror_mode": {
    "name": "ipython",
    "version": 3
   },
   "file_extension": ".py",
   "mimetype": "text/x-python",
   "name": "python",
   "nbconvert_exporter": "python",
   "pygments_lexer": "ipython3",
   "version": "3.10.8"
  }
 },
 "nbformat": 4,
 "nbformat_minor": 5
}

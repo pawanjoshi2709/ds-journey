{
 "cells": [
  {
   "cell_type": "code",
   "execution_count": 2,
   "id": "c5da17da-b9d4-497b-aca0-9112c12d37e8",
   "metadata": {},
   "outputs": [
    {
     "name": "stdout",
     "output_type": "stream",
     "text": [
      "hello lets start\n"
     ]
    }
   ],
   "source": [
    "print(\"hello lets start\")"
   ]
  },
  {
   "cell_type": "code",
   "execution_count": 3,
   "id": "95ffba78-5868-4924-80ad-b99a6ce3cea2",
   "metadata": {},
   "outputs": [],
   "source": [
    "l = [1,2,34,5]"
   ]
  },
  {
   "cell_type": "code",
   "execution_count": 4,
   "id": "e29e2cb4-24a1-4568-91b3-18343f3e3cca",
   "metadata": {},
   "outputs": [
    {
     "data": {
      "text/plain": [
       "4"
      ]
     },
     "execution_count": 4,
     "metadata": {},
     "output_type": "execute_result"
    }
   ],
   "source": [
    "len(l)"
   ]
  },
  {
   "cell_type": "code",
   "execution_count": 5,
   "id": "81f88be2-799c-4ac1-992d-38e5f7b13cfe",
   "metadata": {},
   "outputs": [
    {
     "ename": "SyntaxError",
     "evalue": "incomplete input (2690612609.py, line 2)",
     "output_type": "error",
     "traceback": [
      "\u001b[0;36m  Cell \u001b[0;32mIn[5], line 2\u001b[0;36m\u001b[0m\n\u001b[0;31m    \u001b[0m\n\u001b[0m    ^\u001b[0m\n\u001b[0;31mSyntaxError\u001b[0m\u001b[0;31m:\u001b[0m incomplete input\n"
     ]
    }
   ],
   "source": [
    "def test():\n",
    "    "
   ]
  },
  {
   "cell_type": "code",
   "execution_count": 6,
   "id": "af9d224f-d847-48c7-abdf-4d79ff50d41b",
   "metadata": {},
   "outputs": [],
   "source": [
    "def test():\n",
    "    pass"
   ]
  },
  {
   "cell_type": "code",
   "execution_count": 7,
   "id": "27dc530c-7a98-4acf-be4d-a94c275d40bc",
   "metadata": {},
   "outputs": [],
   "source": [
    "def test1():\n",
    "    print (\" this is my very very first function \")"
   ]
  },
  {
   "cell_type": "code",
   "execution_count": 8,
   "id": "31aeda92-fac4-42fe-b713-432c0f278e10",
   "metadata": {},
   "outputs": [
    {
     "name": "stdout",
     "output_type": "stream",
     "text": [
      " this is my very very first function \n"
     ]
    }
   ],
   "source": [
    "test1()"
   ]
  },
  {
   "cell_type": "code",
   "execution_count": 9,
   "id": "eee6940f-148b-4a6c-b453-1456ba68dd3d",
   "metadata": {},
   "outputs": [
    {
     "name": "stdout",
     "output_type": "stream",
     "text": [
      " this is my very very first function \n"
     ]
    },
    {
     "ename": "TypeError",
     "evalue": "unsupported operand type(s) for +: 'NoneType' and 'str'",
     "output_type": "error",
     "traceback": [
      "\u001b[0;31m---------------------------------------------------------------------------\u001b[0m",
      "\u001b[0;31mTypeError\u001b[0m                                 Traceback (most recent call last)",
      "Cell \u001b[0;32mIn[9], line 1\u001b[0m\n\u001b[0;32m----> 1\u001b[0m \u001b[43mtest1\u001b[49m\u001b[43m(\u001b[49m\u001b[43m)\u001b[49m\u001b[43m \u001b[49m\u001b[38;5;241;43m+\u001b[39;49m\u001b[43m \u001b[49m\u001b[38;5;124;43m\"\u001b[39;49m\u001b[38;5;124;43msudh\u001b[39;49m\u001b[38;5;124;43m\"\u001b[39;49m\n",
      "\u001b[0;31mTypeError\u001b[0m: unsupported operand type(s) for +: 'NoneType' and 'str'"
     ]
    }
   ],
   "source": [
    "test1() + \"sudh\""
   ]
  },
  {
   "cell_type": "code",
   "execution_count": 10,
   "id": "59e4b812-0e77-4397-acf5-27952d1c4144",
   "metadata": {},
   "outputs": [
    {
     "name": "stdout",
     "output_type": "stream",
     "text": [
      " this is my very very first function \n"
     ]
    },
    {
     "data": {
      "text/plain": [
       "NoneType"
      ]
     },
     "execution_count": 10,
     "metadata": {},
     "output_type": "execute_result"
    }
   ],
   "source": [
    "type(test1())"
   ]
  },
  {
   "cell_type": "code",
   "execution_count": 11,
   "id": "2f01b9f1-48de-4d42-9568-a5275ab36568",
   "metadata": {},
   "outputs": [],
   "source": [
    "def test2():\n",
    "    return \" this is my function with return \" "
   ]
  },
  {
   "cell_type": "code",
   "execution_count": 12,
   "id": "af121225-2ff5-40de-b770-84ecfbdb0f9a",
   "metadata": {},
   "outputs": [
    {
     "data": {
      "text/plain": [
       "' this is my function with return pawan'"
      ]
     },
     "execution_count": 12,
     "metadata": {},
     "output_type": "execute_result"
    }
   ],
   "source": [
    "test2() + \"pawan\""
   ]
  },
  {
   "cell_type": "code",
   "execution_count": 13,
   "id": "009d893d-50ff-43ce-b28c-74613fc63c0e",
   "metadata": {},
   "outputs": [
    {
     "data": {
      "text/plain": [
       "' this is my function with return '"
      ]
     },
     "execution_count": 13,
     "metadata": {},
     "output_type": "execute_result"
    }
   ],
   "source": [
    "test2()"
   ]
  },
  {
   "cell_type": "markdown",
   "id": "ab405219-69f8-4173-853f-49f80160ecdd",
   "metadata": {},
   "source": [
    "#we alaways use try to  return in function "
   ]
  },
  {
   "cell_type": "code",
   "execution_count": 14,
   "id": "395cc09a-c29e-4c23-9c48-e8c71716e657",
   "metadata": {},
   "outputs": [],
   "source": [
    "def test3():\n",
    "    return 1,4,\"hyy pawan \",34.56"
   ]
  },
  {
   "cell_type": "code",
   "execution_count": 15,
   "id": "0cccc481-ace0-419c-b8a9-a259d0b26708",
   "metadata": {},
   "outputs": [
    {
     "data": {
      "text/plain": [
       "(1, 4, 'hyy pawan ', 34.56)"
      ]
     },
     "execution_count": 15,
     "metadata": {},
     "output_type": "execute_result"
    }
   ],
   "source": [
    "test3()"
   ]
  },
  {
   "cell_type": "code",
   "execution_count": 16,
   "id": "1a01720b-6862-45b7-9f51-04394b6bba77",
   "metadata": {},
   "outputs": [],
   "source": [
    "a , b,c,d = 1,2,34.56 , True"
   ]
  },
  {
   "cell_type": "code",
   "execution_count": 17,
   "id": "09087a18-068e-4a01-be25-86ca412a20a5",
   "metadata": {},
   "outputs": [
    {
     "data": {
      "text/plain": [
       "1"
      ]
     },
     "execution_count": 17,
     "metadata": {},
     "output_type": "execute_result"
    }
   ],
   "source": [
    "a"
   ]
  },
  {
   "cell_type": "code",
   "execution_count": 18,
   "id": "c18ff5e4-953a-49d5-9841-02565870691f",
   "metadata": {},
   "outputs": [
    {
     "data": {
      "text/plain": [
       "2"
      ]
     },
     "execution_count": 18,
     "metadata": {},
     "output_type": "execute_result"
    }
   ],
   "source": [
    "b"
   ]
  },
  {
   "cell_type": "code",
   "execution_count": 19,
   "id": "bbc25764-64ef-483d-ba6f-8ad0a9bc5f17",
   "metadata": {},
   "outputs": [
    {
     "data": {
      "text/plain": [
       "34.56"
      ]
     },
     "execution_count": 19,
     "metadata": {},
     "output_type": "execute_result"
    }
   ],
   "source": [
    "c"
   ]
  },
  {
   "cell_type": "code",
   "execution_count": 20,
   "id": "d1ef3ba9-601f-4329-863f-a660be24aa81",
   "metadata": {},
   "outputs": [
    {
     "data": {
      "text/plain": [
       "True"
      ]
     },
     "execution_count": 20,
     "metadata": {},
     "output_type": "execute_result"
    }
   ],
   "source": [
    "d"
   ]
  },
  {
   "cell_type": "code",
   "execution_count": 21,
   "id": "851096ad-09c9-45dd-87e3-16bd20596e63",
   "metadata": {},
   "outputs": [
    {
     "data": {
      "text/plain": [
       "(1, 4, 'hyy pawan ', 34.56)"
      ]
     },
     "execution_count": 21,
     "metadata": {},
     "output_type": "execute_result"
    }
   ],
   "source": [
    "test3()"
   ]
  },
  {
   "cell_type": "code",
   "execution_count": 22,
   "id": "09e8f84b-3256-4d39-b94d-8ffd7b8d5d08",
   "metadata": {},
   "outputs": [
    {
     "data": {
      "text/plain": [
       "1"
      ]
     },
     "execution_count": 22,
     "metadata": {},
     "output_type": "execute_result"
    }
   ],
   "source": [
    "test3()[0]"
   ]
  },
  {
   "cell_type": "code",
   "execution_count": 23,
   "id": "62bf7ca7-0482-4ab4-a18d-f3939eb6819e",
   "metadata": {},
   "outputs": [],
   "source": [
    "a,b,c,d = test3()"
   ]
  },
  {
   "cell_type": "code",
   "execution_count": 24,
   "id": "e1fc72af-7c5b-4fa7-af8b-ec0b4b0dc218",
   "metadata": {},
   "outputs": [
    {
     "data": {
      "text/plain": [
       "1"
      ]
     },
     "execution_count": 24,
     "metadata": {},
     "output_type": "execute_result"
    }
   ],
   "source": [
    "a"
   ]
  },
  {
   "cell_type": "code",
   "execution_count": 25,
   "id": "c30f25d4-2686-4361-bf0f-c3b7235ee3c5",
   "metadata": {},
   "outputs": [
    {
     "data": {
      "text/plain": [
       "4"
      ]
     },
     "execution_count": 25,
     "metadata": {},
     "output_type": "execute_result"
    }
   ],
   "source": [
    "b"
   ]
  },
  {
   "cell_type": "code",
   "execution_count": 26,
   "id": "a1d6c69e-b087-49c7-920a-8d375afccbe4",
   "metadata": {},
   "outputs": [
    {
     "data": {
      "text/plain": [
       "'hyy pawan '"
      ]
     },
     "execution_count": 26,
     "metadata": {},
     "output_type": "execute_result"
    }
   ],
   "source": [
    "c"
   ]
  },
  {
   "cell_type": "code",
   "execution_count": 27,
   "id": "57df2c59-16c1-4b9f-afd3-40c6a0ce3bca",
   "metadata": {},
   "outputs": [
    {
     "ename": "ValueError",
     "evalue": "not enough values to unpack (expected 5, got 4)",
     "output_type": "error",
     "traceback": [
      "\u001b[0;31m---------------------------------------------------------------------------\u001b[0m",
      "\u001b[0;31mValueError\u001b[0m                                Traceback (most recent call last)",
      "Cell \u001b[0;32mIn[27], line 1\u001b[0m\n\u001b[0;32m----> 1\u001b[0m a,b,c,d,e \u001b[38;5;241m=\u001b[39m test3()\n",
      "\u001b[0;31mValueError\u001b[0m: not enough values to unpack (expected 5, got 4)"
     ]
    }
   ],
   "source": [
    "a,b,c,d,e = test3()"
   ]
  },
  {
   "cell_type": "code",
   "execution_count": 28,
   "id": "53053cb5-613c-4650-9b74-21efbf395a4b",
   "metadata": {},
   "outputs": [],
   "source": [
    "def test4():\n",
    "    a = 3*4 + 5\n",
    "    return a"
   ]
  },
  {
   "cell_type": "code",
   "execution_count": 29,
   "id": "52a853b3-fc8f-498d-8f12-b14ae0b2e2e4",
   "metadata": {},
   "outputs": [
    {
     "data": {
      "text/plain": [
       "int"
      ]
     },
     "execution_count": 29,
     "metadata": {},
     "output_type": "execute_result"
    }
   ],
   "source": [
    "type(test4())"
   ]
  },
  {
   "cell_type": "code",
   "execution_count": 30,
   "id": "b990c59f-9ce8-4b62-a128-e0aaf947c24f",
   "metadata": {},
   "outputs": [],
   "source": [
    "def test5(a,b):\n",
    "    c = a + b\n",
    "    return c"
   ]
  },
  {
   "cell_type": "code",
   "execution_count": 31,
   "id": "1ed13c1f-ebc7-49c5-9de7-5d011abffb92",
   "metadata": {},
   "outputs": [
    {
     "ename": "TypeError",
     "evalue": "test5() missing 2 required positional arguments: 'a' and 'b'",
     "output_type": "error",
     "traceback": [
      "\u001b[0;31m---------------------------------------------------------------------------\u001b[0m",
      "\u001b[0;31mTypeError\u001b[0m                                 Traceback (most recent call last)",
      "Cell \u001b[0;32mIn[31], line 1\u001b[0m\n\u001b[0;32m----> 1\u001b[0m \u001b[43mtest5\u001b[49m\u001b[43m(\u001b[49m\u001b[43m)\u001b[49m\n",
      "\u001b[0;31mTypeError\u001b[0m: test5() missing 2 required positional arguments: 'a' and 'b'"
     ]
    }
   ],
   "source": [
    "test5()"
   ]
  },
  {
   "cell_type": "code",
   "execution_count": 32,
   "id": "91be8235-3d5d-4bb7-837b-d8b3dc88e88e",
   "metadata": {},
   "outputs": [
    {
     "data": {
      "text/plain": [
       "6"
      ]
     },
     "execution_count": 32,
     "metadata": {},
     "output_type": "execute_result"
    }
   ],
   "source": [
    "test5(2,4)\n"
   ]
  },
  {
   "cell_type": "code",
   "execution_count": 33,
   "id": "5758b17f-30b4-4f9a-b2b8-40ea9047365c",
   "metadata": {},
   "outputs": [
    {
     "data": {
      "text/plain": [
       "11"
      ]
     },
     "execution_count": 33,
     "metadata": {},
     "output_type": "execute_result"
    }
   ],
   "source": [
    "p = 2\n",
    "q = 9\n",
    "test5(p,q)"
   ]
  },
  {
   "cell_type": "code",
   "execution_count": 34,
   "id": "29638f9b-3243-4d76-ae0d-3a91ccf32104",
   "metadata": {},
   "outputs": [
    {
     "data": {
      "text/plain": [
       "'sudhkumar'"
      ]
     },
     "execution_count": 34,
     "metadata": {},
     "output_type": "execute_result"
    }
   ],
   "source": [
    "test5(\"sudh\",\"kumar\")"
   ]
  },
  {
   "cell_type": "code",
   "execution_count": 35,
   "id": "ccb824c9-d058-450c-b0bd-d296d80bc6fe",
   "metadata": {},
   "outputs": [
    {
     "data": {
      "text/plain": [
       "[1, 2, 3, 4, 5, 6, 7, 8]"
      ]
     },
     "execution_count": 35,
     "metadata": {},
     "output_type": "execute_result"
    }
   ],
   "source": [
    "test5([1,2,3,4],[5,6,7,8])"
   ]
  },
  {
   "cell_type": "code",
   "execution_count": 37,
   "id": "ce370d3f-3384-4e35-8b18-03edf50a7259",
   "metadata": {},
   "outputs": [
    {
     "data": {
      "text/plain": [
       "'pawanjoshi'"
      ]
     },
     "execution_count": 37,
     "metadata": {},
     "output_type": "execute_result"
    }
   ],
   "source": [
    "test5(b = \"joshi\" , a = \"pawan\")"
   ]
  },
  {
   "cell_type": "code",
   "execution_count": 36,
   "id": "fead50f1-b086-4555-9c79-48c96ce28fb8",
   "metadata": {},
   "outputs": [],
   "source": [
    "# create a function  which will take list as a input and gives me a final list with all the numeric value "
   ]
  },
  {
   "cell_type": "code",
   "execution_count": 47,
   "id": "cdd83908-25a1-406b-9376-56b81b0d4050",
   "metadata": {},
   "outputs": [],
   "source": [
    "def test6(a):\n",
    "    b = []\n",
    "    for i in a :\n",
    "        if type(i) == int:\n",
    "            b.append(i)\n",
    "    return b \n",
    "            \n",
    "            "
   ]
  },
  {
   "cell_type": "code",
   "execution_count": 43,
   "id": "fcfb7098-dd59-4e37-8bc8-f62c0de8070c",
   "metadata": {},
   "outputs": [],
   "source": [
    "lst = [1,2,3,\"pawan\",234,5,[1,23,4],\"hero\",3]\n",
    "a = (6,7,8)"
   ]
  },
  {
   "cell_type": "code",
   "execution_count": 48,
   "id": "e0293b04-bbee-435b-8a56-26f824602fc8",
   "metadata": {},
   "outputs": [
    {
     "data": {
      "text/plain": [
       "[1, 2, 3, 234, 5, 3]"
      ]
     },
     "execution_count": 48,
     "metadata": {},
     "output_type": "execute_result"
    }
   ],
   "source": [
    "test6(lst)"
   ]
  },
  {
   "cell_type": "code",
   "execution_count": 44,
   "id": "da6935e0-bdc3-4ad2-9f96-3a25d9941538",
   "metadata": {},
   "outputs": [
    {
     "data": {
      "text/plain": [
       "[6, 7, 8]"
      ]
     },
     "execution_count": 44,
     "metadata": {},
     "output_type": "execute_result"
    }
   ],
   "source": [
    "test6(a)"
   ]
  },
  {
   "cell_type": "code",
   "execution_count": 4,
   "id": "5cb3a049-bbf5-4c70-8c10-5194b93730fe",
   "metadata": {},
   "outputs": [],
   "source": [
    "def test7(a):\n",
    "    n = []\n",
    "    for i in a:\n",
    "        if  type(i) == list :\n",
    "            for j in i :\n",
    "                if type(j) == int or type(j) == float :\n",
    "                    n.append(j)\n",
    "        else : \n",
    "            if type(i) == int or type(i) == float :\n",
    "                n.append(i)\n",
    "    return n \n",
    "    "
   ]
  },
  {
   "cell_type": "code",
   "execution_count": 5,
   "id": "99806422-dd09-406f-9be1-28c40791d1c7",
   "metadata": {},
   "outputs": [
    {
     "data": {
      "text/plain": [
       "[1, 2, 3, 1, 2, 6, 99]"
      ]
     },
     "execution_count": 5,
     "metadata": {},
     "output_type": "execute_result"
    }
   ],
   "source": [
    "a = [1,2,3,\"hyy\" ,[1,2,6,99],(1,2,3)]\n",
    "test7(a)"
   ]
  },
  {
   "cell_type": "code",
   "execution_count": 6,
   "id": "98d4c07a-ef95-4c3a-84ea-fd039728f2c1",
   "metadata": {},
   "outputs": [],
   "source": [
    "def test8(a,b,c,d,e):\n",
    "    pass"
   ]
  },
  {
   "cell_type": "code",
   "execution_count": 7,
   "id": "dfae7c77-7002-4f19-8f54-da27384c4af3",
   "metadata": {},
   "outputs": [
    {
     "ename": "TypeError",
     "evalue": "test8() missing 2 required positional arguments: 'd' and 'e'",
     "output_type": "error",
     "traceback": [
      "\u001b[0;31m---------------------------------------------------------------------------\u001b[0m",
      "\u001b[0;31mTypeError\u001b[0m                                 Traceback (most recent call last)",
      "Cell \u001b[0;32mIn[7], line 1\u001b[0m\n\u001b[0;32m----> 1\u001b[0m \u001b[43mtest8\u001b[49m\u001b[43m(\u001b[49m\u001b[38;5;241;43m1\u001b[39;49m\u001b[43m,\u001b[49m\u001b[38;5;241;43m2\u001b[39;49m\u001b[43m,\u001b[49m\u001b[38;5;241;43m3\u001b[39;49m\u001b[43m)\u001b[49m\n",
      "\u001b[0;31mTypeError\u001b[0m: test8() missing 2 required positional arguments: 'd' and 'e'"
     ]
    }
   ],
   "source": [
    "test8(1,2,3)"
   ]
  },
  {
   "cell_type": "code",
   "execution_count": 8,
   "id": "52cc7216-9460-4ddd-b20b-a14f0e4834f2",
   "metadata": {},
   "outputs": [],
   "source": [
    "def test9(*args):\n",
    "    return args"
   ]
  },
  {
   "cell_type": "code",
   "execution_count": 9,
   "id": "1939175f-2469-4264-826b-01832db749ba",
   "metadata": {},
   "outputs": [
    {
     "data": {
      "text/plain": [
       "(1, 2, 3)"
      ]
     },
     "execution_count": 9,
     "metadata": {},
     "output_type": "execute_result"
    }
   ],
   "source": [
    "test9(1,2,3)"
   ]
  },
  {
   "cell_type": "code",
   "execution_count": 11,
   "id": "c0741ba8-7318-45ad-b766-87a1eb65685d",
   "metadata": {},
   "outputs": [
    {
     "data": {
      "text/plain": [
       "([1, 2], 'args')"
      ]
     },
     "execution_count": 11,
     "metadata": {},
     "output_type": "execute_result"
    }
   ],
   "source": [
    "test9([1,2],\"args\")"
   ]
  },
  {
   "cell_type": "code",
   "execution_count": 12,
   "id": "ce00ff5f-ad9e-4906-8f49-c943bde46e9a",
   "metadata": {},
   "outputs": [],
   "source": [
    "def test10(*a):\n",
    "    return a"
   ]
  },
  {
   "cell_type": "code",
   "execution_count": 13,
   "id": "aaec2914-252e-49f9-bccd-33c94be92a2f",
   "metadata": {},
   "outputs": [
    {
     "data": {
      "text/plain": [
       "([1, 2], 'args')"
      ]
     },
     "execution_count": 13,
     "metadata": {},
     "output_type": "execute_result"
    }
   ],
   "source": [
    "test9([1,2],\"args\")"
   ]
  },
  {
   "cell_type": "code",
   "execution_count": 14,
   "id": "6e51d224-9cec-4bff-b282-e3db7228fa71",
   "metadata": {},
   "outputs": [],
   "source": [
    "def test11(*args , a):\n",
    "    return args ,a "
   ]
  },
  {
   "cell_type": "code",
   "execution_count": 15,
   "id": "49c59174-fe22-4606-a1d8-07fec4d32bd4",
   "metadata": {},
   "outputs": [
    {
     "data": {
      "text/plain": [
       "((1, 2, 3, 4), 'sudh')"
      ]
     },
     "execution_count": 15,
     "metadata": {},
     "output_type": "execute_result"
    }
   ],
   "source": [
    "test11(1,2,3,4,a = \"sudh\")"
   ]
  },
  {
   "cell_type": "code",
   "execution_count": 16,
   "id": "dd79ad08-876f-4229-b40d-82afab66f224",
   "metadata": {},
   "outputs": [
    {
     "ename": "TypeError",
     "evalue": "test11() missing 1 required keyword-only argument: 'a'",
     "output_type": "error",
     "traceback": [
      "\u001b[0;31m---------------------------------------------------------------------------\u001b[0m",
      "\u001b[0;31mTypeError\u001b[0m                                 Traceback (most recent call last)",
      "Cell \u001b[0;32mIn[16], line 1\u001b[0m\n\u001b[0;32m----> 1\u001b[0m \u001b[43mtest11\u001b[49m\u001b[43m(\u001b[49m\u001b[38;5;241;43m1\u001b[39;49m\u001b[43m,\u001b[49m\u001b[38;5;241;43m2\u001b[39;49m\u001b[43m)\u001b[49m\n",
      "\u001b[0;31mTypeError\u001b[0m: test11() missing 1 required keyword-only argument: 'a'"
     ]
    }
   ],
   "source": [
    "test11(1,2)"
   ]
  },
  {
   "cell_type": "code",
   "execution_count": 18,
   "id": "e92e4839-6c0f-49de-8f62-07649bbea127",
   "metadata": {},
   "outputs": [],
   "source": [
    "def test12(*args):\n",
    "    l = []\n",
    "    for i in args :\n",
    "        if type(i)==list:\n",
    "            l.append(i)\n",
    "    return l"
   ]
  },
  {
   "cell_type": "code",
   "execution_count": 20,
   "id": "ae09bc28-0714-467a-94a5-95211e8be822",
   "metadata": {},
   "outputs": [
    {
     "data": {
      "text/plain": [
       "[[1, 5, 6], [7, 'hyy']]"
      ]
     },
     "execution_count": 20,
     "metadata": {},
     "output_type": "execute_result"
    }
   ],
   "source": [
    "test12(1,2,3,[1,5,6],78,(1,2,3),[7,\"hyy\"])\n"
   ]
  },
  {
   "cell_type": "code",
   "execution_count": 21,
   "id": "e0c7b5a1-42a7-4d61-b7b1-940296475ef0",
   "metadata": {},
   "outputs": [],
   "source": [
    "def test15(**keyargs):\n",
    "    return keyargs"
   ]
  },
  {
   "cell_type": "code",
   "execution_count": 22,
   "id": "5a198471-fb8a-4669-9019-358290e84f19",
   "metadata": {},
   "outputs": [
    {
     "data": {
      "text/plain": [
       "dict"
      ]
     },
     "execution_count": 22,
     "metadata": {},
     "output_type": "execute_result"
    }
   ],
   "source": [
    "type(test15())"
   ]
  },
  {
   "cell_type": "code",
   "execution_count": 23,
   "id": "86a2c121-166f-4853-afd8-a8c0658539ef",
   "metadata": {},
   "outputs": [
    {
     "data": {
      "text/plain": [
       "{'a': 34, 'b': 23, 'c': [1, 2, 35, 5], 'd': ('killer ', 'kill')}"
      ]
     },
     "execution_count": 23,
     "metadata": {},
     "output_type": "execute_result"
    }
   ],
   "source": [
    "test15(a = 34 , b = 23, c= [1,2,35,5],d = (\"killer \",\"kill\"))"
   ]
  },
  {
   "cell_type": "code",
   "execution_count": 1,
   "id": "d80321b9-2073-4f67-9568-207931bde7ab",
   "metadata": {},
   "outputs": [],
   "source": [
    "def test16(**kwargs):\n",
    "    for i in kwargs.keys():\n",
    "        if type(kwargs[i]) == list :\n",
    "            return i ,kwargs [i]"
   ]
  },
  {
   "cell_type": "code",
   "execution_count": 2,
   "id": "20832eae-7778-46ce-86d1-c70620de8c33",
   "metadata": {},
   "outputs": [
    {
     "data": {
      "text/plain": [
       "('c', [1, 2, 35, 5])"
      ]
     },
     "execution_count": 2,
     "metadata": {},
     "output_type": "execute_result"
    }
   ],
   "source": [
    "test16(a = 34 , b = 23, c= [1,2,35,5],d = (\"killer \",\"kill\"))"
   ]
  },
  {
   "cell_type": "code",
   "execution_count": 3,
   "id": "9dc1bbab-bfb0-4f5e-9830-ef4562f9482c",
   "metadata": {},
   "outputs": [],
   "source": [
    "def test17(*args , **kwargs):\n",
    "    return args , kwargs "
   ]
  },
  {
   "cell_type": "code",
   "execution_count": 4,
   "id": "7c0f4354-f500-4ba0-9e78-ca836ff8d80c",
   "metadata": {},
   "outputs": [
    {
     "ename": "SyntaxError",
     "evalue": "positional argument follows keyword argument (2308991370.py, line 1)",
     "output_type": "error",
     "traceback": [
      "\u001b[0;36m  Cell \u001b[0;32mIn[4], line 1\u001b[0;36m\u001b[0m\n\u001b[0;31m    test17(2,3,656,7,a=34,b = 9,89)\u001b[0m\n\u001b[0m                                  ^\u001b[0m\n\u001b[0;31mSyntaxError\u001b[0m\u001b[0;31m:\u001b[0m positional argument follows keyword argument\n"
     ]
    }
   ],
   "source": [
    "test17(2,3,656,7,a=34,b = 9,89)"
   ]
  },
  {
   "cell_type": "code",
   "execution_count": 5,
   "id": "874f801b-e0b7-4fa9-a165-d44c826adda4",
   "metadata": {},
   "outputs": [
    {
     "data": {
      "text/plain": [
       "((2, 3, 656, 7), {'a': 34, 'b': 9})"
      ]
     },
     "execution_count": 5,
     "metadata": {},
     "output_type": "execute_result"
    }
   ],
   "source": [
    "test17(2,3,656,7,a=34,b = 9)"
   ]
  },
  {
   "cell_type": "code",
   "execution_count": 9,
   "id": "be761026-8ae6-4898-82b6-2cea42b27ff5",
   "metadata": {},
   "outputs": [
    {
     "ename": "SyntaxError",
     "evalue": "invalid syntax (3651535619.py, line 1)",
     "output_type": "error",
     "traceback": [
      "\u001b[0;36m  Cell \u001b[0;32mIn[9], line 1\u001b[0;36m\u001b[0m\n\u001b[0;31m    def test18(*args , **kwargs, a):\u001b[0m\n\u001b[0m                                 ^\u001b[0m\n\u001b[0;31mSyntaxError\u001b[0m\u001b[0;31m:\u001b[0m invalid syntax\n"
     ]
    }
   ],
   "source": [
    "def test18(*args , **kwargs):\n",
    "    return args , kwargs,a "
   ]
  },
  {
   "cell_type": "code",
   "execution_count": 7,
   "id": "5c532a95-0076-4dfe-8b84-63e1de066f4e",
   "metadata": {},
   "outputs": [
    {
     "data": {
      "text/plain": [
       "((2, 3, 656, 7), {'a': 34, 'b': 9})"
      ]
     },
     "execution_count": 7,
     "metadata": {},
     "output_type": "execute_result"
    }
   ],
   "source": [
    "test17(2,3,656,7,a=34,b = 9)"
   ]
  },
  {
   "cell_type": "code",
   "execution_count": 10,
   "id": "7783fc4f-739c-4b6b-9ec1-76e94ec460f5",
   "metadata": {},
   "outputs": [
    {
     "data": {
      "text/plain": [
       "range(1, 10)"
      ]
     },
     "execution_count": 10,
     "metadata": {},
     "output_type": "execute_result"
    }
   ],
   "source": [
    "range(1,10)"
   ]
  },
  {
   "cell_type": "code",
   "execution_count": 11,
   "id": "ce493a73-1c27-429b-aa67-d23c9cb81502",
   "metadata": {},
   "outputs": [
    {
     "name": "stdout",
     "output_type": "stream",
     "text": [
      "1\n",
      "2\n",
      "3\n",
      "4\n",
      "5\n",
      "6\n",
      "7\n",
      "8\n",
      "9\n"
     ]
    }
   ],
   "source": [
    "for i in range(1,10):\n",
    "    print(i)"
   ]
  },
  {
   "cell_type": "code",
   "execution_count": 12,
   "id": "47bd0545-9aa4-4a4d-a85a-fc819a91ef51",
   "metadata": {},
   "outputs": [],
   "source": [
    " l = [1,2,3,45,56,7,54,\"sudh\",\"pwskills\"]"
   ]
  },
  {
   "cell_type": "code",
   "execution_count": 15,
   "id": "4680a325-b1b0-4b2c-b1a2-f5fabfa995ae",
   "metadata": {},
   "outputs": [],
   "source": [
    "def test21(a):\n",
    "    n = []\n",
    "    for i in a :\n",
    "        if type(i) == int:\n",
    "            n.append(i)\n",
    "    return n "
   ]
  },
  {
   "cell_type": "code",
   "execution_count": 16,
   "id": "0f5a9805-6da6-4dcf-a73b-f0da0283fb17",
   "metadata": {},
   "outputs": [
    {
     "data": {
      "text/plain": [
       "[1, 2, 3, 45, 56, 7, 54]"
      ]
     },
     "execution_count": 16,
     "metadata": {},
     "output_type": "execute_result"
    }
   ],
   "source": [
    "test21(l)"
   ]
  },
  {
   "cell_type": "code",
   "execution_count": 21,
   "id": "686937e1-668c-4ca4-87d5-4fdf3c2d561a",
   "metadata": {},
   "outputs": [],
   "source": [
    "#fibanocaai\n",
    "def test_fib(n):\n",
    "    a,b = 0,1 \n",
    "    for i in range(n):\n",
    "        yield a \n",
    "        a,b = b , a+b"
   ]
  },
  {
   "cell_type": "code",
   "execution_count": 22,
   "id": "366f02dd-67a0-4789-9253-714b1df95aec",
   "metadata": {},
   "outputs": [
    {
     "data": {
      "text/plain": [
       "<generator object test_fib at 0x7f199325c0b0>"
      ]
     },
     "execution_count": 22,
     "metadata": {},
     "output_type": "execute_result"
    }
   ],
   "source": [
    "test_fib(10)"
   ]
  },
  {
   "cell_type": "code",
   "execution_count": 23,
   "id": "ca617b31-04c8-400c-9dd9-8d5116e7d2ee",
   "metadata": {},
   "outputs": [
    {
     "name": "stdout",
     "output_type": "stream",
     "text": [
      "0\n",
      "1\n",
      "1\n",
      "2\n",
      "3\n",
      "5\n",
      "8\n",
      "13\n",
      "21\n",
      "34\n"
     ]
    }
   ],
   "source": [
    "for i in test_fib(10):\n",
    "    print(i)"
   ]
  },
  {
   "cell_type": "code",
   "execution_count": null,
   "id": "440ddf3b-1626-4769-aa15-82118b3d6703",
   "metadata": {},
   "outputs": [],
   "source": []
  }
 ],
 "metadata": {
  "kernelspec": {
   "display_name": "Python 3 (ipykernel)",
   "language": "python",
   "name": "python3"
  },
  "language_info": {
   "codemirror_mode": {
    "name": "ipython",
    "version": 3
   },
   "file_extension": ".py",
   "mimetype": "text/x-python",
   "name": "python",
   "nbconvert_exporter": "python",
   "pygments_lexer": "ipython3",
   "version": "3.10.8"
  }
 },
 "nbformat": 4,
 "nbformat_minor": 5
}

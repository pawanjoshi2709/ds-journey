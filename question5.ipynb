{
 "cells": [
  {
   "cell_type": "code",
   "execution_count": 36,
   "id": "863481e5-7980-4677-b04b-573df572d897",
   "metadata": {},
   "outputs": [],
   "source": [
    "#1 create a python program to sort the given list of tuples based on integer value using a lambda function \n",
    "a = [('sachin tendulkar',34357),('ricky ponting',27483),('jack kallis',25534),('virat kholi',24936)]\n",
    "l = sorted(a, key=lambda x :x[1])"
   ]
  },
  {
   "cell_type": "code",
   "execution_count": 37,
   "id": "5b319de8-8175-4052-9968-a45396e2ed55",
   "metadata": {},
   "outputs": [
    {
     "name": "stdout",
     "output_type": "stream",
     "text": [
      "[('virat kholi', 24936), ('jack kallis', 25534), ('ricky ponting', 27483), ('sachin tendulkar', 34357)]\n"
     ]
    }
   ],
   "source": [
    "print(l)"
   ]
  },
  {
   "cell_type": "code",
   "execution_count": 2,
   "id": "1c3e2934-9ab3-4651-9e67-9bcc8bd52ff9",
   "metadata": {},
   "outputs": [
    {
     "data": {
      "text/plain": [
       "[1, 4, 9, 16, 25, 36, 49, 64, 81, 100]"
      ]
     },
     "execution_count": 2,
     "metadata": {},
     "output_type": "execute_result"
    }
   ],
   "source": [
    "#2 write a python program to find the squares of all the numbers in the given list of integers using lambda and map function\n",
    "a = [1,2,3,4,5,6,7,8,9,10]\n",
    "list(map(lambda x : x**2,a))"
   ]
  },
  {
   "cell_type": "code",
   "execution_count": 4,
   "id": "be85ba89-4339-4c18-bed8-ef468c34ed0e",
   "metadata": {},
   "outputs": [
    {
     "data": {
      "text/plain": [
       "('1', '2', '3', '4', '5', '6', '7', '8', '9', '10')"
      ]
     },
     "execution_count": 4,
     "metadata": {},
     "output_type": "execute_result"
    }
   ],
   "source": [
    "#3 write a python program to convert the given list of integers into a tuple of strings.use map and lambda functiom\n",
    "a = [1,2,3,4,5,6,7,8,9,10]\n",
    "tuple(map(lambda x : str(x),a))"
   ]
  },
  {
   "cell_type": "code",
   "execution_count": 7,
   "id": "89ea7ef8-aef6-4057-87f2-a23efa267dd7",
   "metadata": {},
   "outputs": [
    {
     "name": "stdout",
     "output_type": "stream",
     "text": [
      "[1, 2, 3, 4, 5, 6, 7, 8, 9, 10, 11, 12, 13, 14, 15, 16, 17, 18, 19, 20, 21, 22, 23, 24, 25]\n"
     ]
    },
    {
     "data": {
      "text/plain": [
       "15511210043330985984000000"
      ]
     },
     "execution_count": 7,
     "metadata": {},
     "output_type": "execute_result"
    }
   ],
   "source": [
    "#4 write a python program using reduce function to compute the product of a list containing numbers from 1 to 25.\n",
    "from functools import reduce\n",
    "a=[]\n",
    "for i in range(1,26):\n",
    "    a.append(i)\n",
    "print(a)\n",
    "reduce(lambda x , y : x*y ,a) "
   ]
  },
  {
   "cell_type": "code",
   "execution_count": 13,
   "id": "a510d537-4eaa-4f38-8bd9-599d86b14018",
   "metadata": {},
   "outputs": [
    {
     "data": {
      "text/plain": [
       "[6, 60, 90, 120]"
      ]
     },
     "execution_count": 13,
     "metadata": {},
     "output_type": "execute_result"
    }
   ],
   "source": [
    "#5 write a python program to filter the numbers in a given list that are divisible by 2 and 3 using the filter function.\n",
    "a = [2,3,6,9,27,60,90,120,55,46]\n",
    "list(filter(lambda x : x % 2 == 0 and x % 3 == 0  ,a))"
   ]
  },
  {
   "cell_type": "code",
   "execution_count": 14,
   "id": "b074b4d0-ddc0-44d2-ad08-41fb6c71e2c9",
   "metadata": {},
   "outputs": [
    {
     "data": {
      "text/plain": [
       "['php', 'aba', 'radar', 'level']"
      ]
     },
     "execution_count": 14,
     "metadata": {},
     "output_type": "execute_result"
    }
   ],
   "source": [
    "#6 write a python program to find palindromes in the given list of strings using lambda and filter function.\n",
    "a = ['python','php','aba','radar','level']\n",
    "list(filter(lambda x : x == x[::-1] ,a))"
   ]
  },
  {
   "cell_type": "code",
   "execution_count": null,
   "id": "af52ed98-2840-41e9-bf18-f92899656867",
   "metadata": {},
   "outputs": [],
   "source": []
  }
 ],
 "metadata": {
  "kernelspec": {
   "display_name": "Python 3 (ipykernel)",
   "language": "python",
   "name": "python3"
  },
  "language_info": {
   "codemirror_mode": {
    "name": "ipython",
    "version": 3
   },
   "file_extension": ".py",
   "mimetype": "text/x-python",
   "name": "python",
   "nbconvert_exporter": "python",
   "pygments_lexer": "ipython3",
   "version": "3.10.8"
  }
 },
 "nbformat": 4,
 "nbformat_minor": 5
}

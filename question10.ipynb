{
 "cells": [
  {
   "cell_type": "code",
   "execution_count": 1,
   "id": "fe043db3-baad-4431-8672-e787639c06f0",
   "metadata": {},
   "outputs": [],
   "source": [
    "#1 Which function is used to open a file? What are the different modes of opening a file? Explain each mode of file opening.\n",
    "#open() method is used to open a file\n",
    "#there are six modes of opening a file  are r,r+,w,w+,a,a+\n",
    "#w for writing \n",
    "f = open(\"text.txt\",'w')\n",
    "f.write(\"heelo\")\n",
    "f.close()"
   ]
  },
  {
   "cell_type": "code",
   "execution_count": 22,
   "id": "0ff8de34-d57e-4dd5-8ca7-98daa5e90ff0",
   "metadata": {},
   "outputs": [
    {
     "name": "stdout",
     "output_type": "stream",
     "text": [
      "hyy \n",
      "\n"
     ]
    }
   ],
   "source": [
    "#w+ for both reading and writing \n",
    "with open(\"text.txt\",'w+') as f:\n",
    "    f.write(\"hyy \\n\")\n",
    "    f.seek(0)\n",
    "    print(f.read())\n",
    "    f.close()"
   ]
  },
  {
   "cell_type": "code",
   "execution_count": 26,
   "id": "5b51285a-304b-445a-91cb-46ffb6818526",
   "metadata": {},
   "outputs": [
    {
     "name": "stdout",
     "output_type": "stream",
     "text": [
      "hyy \n",
      "\n"
     ]
    }
   ],
   "source": [
    "# r for reading the file\n",
    "with open(\"text.txt\",'r') as f:\n",
    "    print(f.read())"
   ]
  },
  {
   "cell_type": "code",
   "execution_count": 27,
   "id": "4ff7e4f6-b7db-4e55-886c-101b3f9acbba",
   "metadata": {},
   "outputs": [
    {
     "name": "stdout",
     "output_type": "stream",
     "text": [
      "helllo \n",
      "\n"
     ]
    }
   ],
   "source": [
    "#r+ mode use for reading and writing the file \n",
    "with open (\"text.txt\",'r+')as f:\n",
    "    f.write(\"helllo \\n\")\n",
    "    f.seek(0)\n",
    "    print(f.read())\n",
    "    f.close()"
   ]
  },
  {
   "cell_type": "code",
   "execution_count": 30,
   "id": "4b2b6176-229f-4ee3-9e17-a5eaf264a6c2",
   "metadata": {},
   "outputs": [
    {
     "name": "stdout",
     "output_type": "stream",
     "text": [
      "helllo \n",
      "helllo1 \n",
      "helllo1 \n",
      "helllo1 \n",
      "\n"
     ]
    }
   ],
   "source": [
    "#a+ is used for append and reading the file\n",
    "with open (\"text.txt\",'a+')as f:\n",
    "    f.write(\"helllo1 \\n\")\n",
    "    f.seek(0)\n",
    "    print(f.read())\n",
    "    f.close()"
   ]
  },
  {
   "cell_type": "code",
   "execution_count": 31,
   "id": "dedc52e1-48c5-4e3f-b9cc-3a18753a481d",
   "metadata": {},
   "outputs": [],
   "source": [
    "# a is used for append the file\n",
    "with open (\"text.txt\",'a')as f:\n",
    "    f.write(\"helllo1 \\n\")\n",
    "    f.close()"
   ]
  },
  {
   "cell_type": "code",
   "execution_count": 32,
   "id": "bc165171-7407-400d-8f2c-2d0264e69fd9",
   "metadata": {},
   "outputs": [],
   "source": [
    "#2 Why close() function is used? Why is it important to close a file?\n",
    "#close() function is used to close a file . it is important to close a file because  making sure files are closed after use \n",
    "#will protect against hard-to-debug issues like running out of file handles or experiencing corrupted data."
   ]
  },
  {
   "cell_type": "code",
   "execution_count": 35,
   "id": "133cc014-b131-40ac-b920-d2a198be593e",
   "metadata": {},
   "outputs": [],
   "source": [
    "#3 Write a python program to create a text file. Write ‘I want to become a Data Scientist’ in that file. Then\n",
    "#close the file. Open this file and read the content of the file."
   ]
  },
  {
   "cell_type": "code",
   "execution_count": 34,
   "id": "aca493c4-935e-447b-aacf-e224b35dd232",
   "metadata": {},
   "outputs": [
    {
     "data": {
      "text/plain": [
       "'I want to become a Data Scientist'"
      ]
     },
     "execution_count": 34,
     "metadata": {},
     "output_type": "execute_result"
    }
   ],
   "source": [
    "f = open(\"text2.txt\",'w')\n",
    "f.write(\"I want to become a Data Scientist\")\n",
    "f.close()\n",
    "f = open(\"text2.txt\",'r')\n",
    "f.read()"
   ]
  },
  {
   "cell_type": "code",
   "execution_count": 36,
   "id": "8e4a639d-b0bf-4058-b8af-ab0a62668e00",
   "metadata": {},
   "outputs": [
    {
     "data": {
      "text/plain": [
       "'I want to become a Data Scientist'"
      ]
     },
     "execution_count": 36,
     "metadata": {},
     "output_type": "execute_result"
    }
   ],
   "source": [
    "#4 Explain the following with python code: read(), readline() and readlines().\n",
    "# read() is use for reading the content of the file \n",
    "f = open(\"text2.txt\",'r')\n",
    "f.read()"
   ]
  },
  {
   "cell_type": "code",
   "execution_count": 52,
   "id": "bce851c3-9da6-4568-954e-3d170b8a797d",
   "metadata": {},
   "outputs": [],
   "source": [
    "#readline() method will return a line from the file when called.\n",
    "with open (\"text3.txt\",'w+') as f:\n",
    "    f.write(\"Google LLC is an American multinational technology \\n\")\n",
    "    f.write(\"company focusing on online advertising,\\n\") \n",
    "    f.write(\"search engine technology, cloud computing, computer \\n\")\n",
    "    "
   ]
  },
  {
   "cell_type": "code",
   "execution_count": 51,
   "id": "11b9cbbd-b540-481d-a207-1fc006bc2c09",
   "metadata": {},
   "outputs": [
    {
     "name": "stdout",
     "output_type": "stream",
     "text": [
      "Google LLC is an American multinational technology \n",
      "\n",
      "Google LLC is an American multinational technology \n",
      "\n",
      "company focusing on online advertising,\n",
      "\n"
     ]
    }
   ],
   "source": [
    "with open (\"text3.txt\",'r') as f:\n",
    "    print(f.readline())\n",
    "    f.seek(0)\n",
    "    print(f.readline(60))\n",
    "    print(f.readline())"
   ]
  },
  {
   "cell_type": "code",
   "execution_count": 50,
   "id": "a27ce259-b4d2-49db-a6bf-7aaeae20bb47",
   "metadata": {},
   "outputs": [
    {
     "name": "stdout",
     "output_type": "stream",
     "text": [
      "['Google LLC is an American multinational technology \\n', 'company focusing on online advertising,\\n', 'search engine technology, cloud computing, computer \\n']\n",
      "['Google LLC is an American multinational technology \\n', 'company focusing on online advertising,\\n']\n",
      "['search engine technology, cloud computing, computer \\n']\n"
     ]
    }
   ],
   "source": [
    "#readlines() method will return all the lines in a file in the format of a list where each element is a line in the file.\n",
    "with open (\"text3.txt\",'r') as f:\n",
    "    print(f.readlines())\n",
    "    f.seek(0)\n",
    "    print(f.readlines(60))\n",
    "    print(f.readlines())"
   ]
  },
  {
   "cell_type": "code",
   "execution_count": null,
   "id": "f1e2e57c-b1ba-4d65-9390-d02f56113a7e",
   "metadata": {},
   "outputs": [],
   "source": [
    "#5 Explain why with statement is used with open(). What is the advantage of using with statement and open() together?\n",
    "#The with statement works with the open() function to open a file. Unlike open() where you have to close the file with the close()\n",
    "#method, the with statement closes the file for you without you telling it to If an exception occurs before the end of the block, \n",
    "#it will close the file before the exception is caught by an outer exception handler."
   ]
  },
  {
   "cell_type": "code",
   "execution_count": 54,
   "id": "94cae2cd-552d-414e-b31c-cacfb27d9c25",
   "metadata": {},
   "outputs": [],
   "source": [
    "#6 Explain the write() and writelines() functions. Give a suitable example.\n",
    "# The write() function will write the content in the file without adding any extra characters.\n",
    "with open (\"text4.txt\",'w+') as f:\n",
    "    f.write(\"Google LLC is an American multinational technology \\n\")\n",
    "    f.write(\"company focusing on online advertising,\\n\") \n",
    "    f.write(\"search engine technology, cloud computing, computer \\n\")"
   ]
  },
  {
   "cell_type": "code",
   "execution_count": 58,
   "id": "e6f53480-c92f-42a5-b280-1fc5c0ffaf6f",
   "metadata": {},
   "outputs": [],
   "source": [
    "# writelines() function writes the content of a list to a file\n",
    "lst = [\"pawan joshi\",\"hyy my name \",\"my name is pawan joshi\"]\n",
    "with open (\"text5.txt\",'w') as f:\n",
    "    f.writelines(lst)\n",
    "    "
   ]
  },
  {
   "cell_type": "code",
   "execution_count": null,
   "id": "25b4ef2b-297f-40fa-b590-388bf913ab82",
   "metadata": {},
   "outputs": [],
   "source": []
  }
 ],
 "metadata": {
  "kernelspec": {
   "display_name": "Python 3 (ipykernel)",
   "language": "python",
   "name": "python3"
  },
  "language_info": {
   "codemirror_mode": {
    "name": "ipython",
    "version": 3
   },
   "file_extension": ".py",
   "mimetype": "text/x-python",
   "name": "python",
   "nbconvert_exporter": "python",
   "pygments_lexer": "ipython3",
   "version": "3.10.8"
  }
 },
 "nbformat": 4,
 "nbformat_minor": 5
}

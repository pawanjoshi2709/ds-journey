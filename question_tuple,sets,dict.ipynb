{
 "cells": [
  {
   "cell_type": "raw",
   "id": "8e671c7c-7e62-4a1e-ad96-cef2650d8cfb",
   "metadata": {},
   "source": [
    "#1 what are the characteristic of a tuple ? is tuple immutable?\n",
    "A tuple is a collection of data of different type which is ordered and unchangeable\n",
    "tuples allow the dupilcation of data and have indexing\n",
    "yes tuple is immutable it cannot be change after created "
   ]
  },
  {
   "cell_type": "raw",
   "id": "9c3b6bb8-83e9-4d4a-aa5d-fc737227e2c6",
   "metadata": {},
   "source": [
    "#2 what are the two tuple method in python? give an example of each method. give a reason why tuples have only two in - built methods\n",
    "as compared to list?\n",
    "the two tuple method are count() and index()\n",
    "because tuple are immutable and we cannot change in tuple and update  so the other function we not required in tuple ."
   ]
  },
  {
   "cell_type": "code",
   "execution_count": 7,
   "id": "f1eceb52-7a76-4353-a949-0c5403138513",
   "metadata": {},
   "outputs": [],
   "source": [
    "tuple1 = (1.2,2,2,2,3,4,\"hello\")"
   ]
  },
  {
   "cell_type": "code",
   "execution_count": 9,
   "id": "460c9375-c4d0-4d0f-8d47-b884b2f9d190",
   "metadata": {},
   "outputs": [
    {
     "data": {
      "text/plain": [
       "3"
      ]
     },
     "execution_count": 9,
     "metadata": {},
     "output_type": "execute_result"
    }
   ],
   "source": [
    "tuple1.count(2)"
   ]
  },
  {
   "cell_type": "code",
   "execution_count": 10,
   "id": "f1e45729-4c56-4023-a607-767cd7756545",
   "metadata": {},
   "outputs": [
    {
     "data": {
      "text/plain": [
       "4"
      ]
     },
     "execution_count": 10,
     "metadata": {},
     "output_type": "execute_result"
    }
   ],
   "source": [
    "tuple1.index(3)"
   ]
  },
  {
   "cell_type": "raw",
   "id": "9592adc9-e46d-48df-af13-712adad4ea6c",
   "metadata": {},
   "source": [
    "#3  which collection datatype  do not allow duplicate items ? write a code using a set to remove duplicates from the given list \n",
    "list = [1,1,1,2,1,3,1,4,2,1,2,2,2,3,2,4,3,1,3,2,3,3,3,4,4,1,4,2,4,3,4,4]\n",
    "ans: Sets are the collection of datatype in python do not allow duplicate items"
   ]
  },
  {
   "cell_type": "code",
   "execution_count": 33,
   "id": "1ffe9eb0-7b1b-46df-b37c-2a0713aec533",
   "metadata": {},
   "outputs": [
    {
     "name": "stdout",
     "output_type": "stream",
     "text": [
      "[1, 2, 3, 4]\n"
     ]
    }
   ],
   "source": [
    "list1 = [1,1,1,2,1,3,1,4,2,1,2,2,2,3,2,4,3,1,3,2,3,3,3,4,4,1,4,2,4,3,4,4]\n",
    "n = []\n",
    "for i in list1:\n",
    "    if n.count(i) == 0 :\n",
    "        n.append(i) \n",
    "print(n)"
   ]
  },
  {
   "cell_type": "code",
   "execution_count": 32,
   "id": "8e558a28-e00b-4bce-8d8d-d7d438e48c73",
   "metadata": {},
   "outputs": [
    {
     "name": "stdout",
     "output_type": "stream",
     "text": [
      "[1, 2, 3, 4]\n"
     ]
    }
   ],
   "source": [
    "m = list(dict.fromkeys(list1))\n",
    "print(m)"
   ]
  },
  {
   "cell_type": "code",
   "execution_count": 49,
   "id": "9fdebe9b-126c-440e-8094-39c3a58c02dd",
   "metadata": {},
   "outputs": [
    {
     "name": "stdout",
     "output_type": "stream",
     "text": [
      "{1, 2, 3}\n",
      "{3, 4, 5, 6}\n"
     ]
    }
   ],
   "source": [
    "#explain the difference between the union() and update method for a set.give a example of each method\n",
    "# the difference between update() and union() is union created new set of element present set1 and set2 and update is upadte in set1 and return take element from set1 and set2\n",
    "set1 = { 1,2,3}\n",
    "set2 = {3,4,5,6}\n",
    "set1.union(set2)\n",
    "print(set1)\n",
    "print(set2)"
   ]
  },
  {
   "cell_type": "code",
   "execution_count": 41,
   "id": "64bf1df5-90c3-47cc-9330-04bdf4902dde",
   "metadata": {},
   "outputs": [
    {
     "name": "stdout",
     "output_type": "stream",
     "text": [
      "{1, 2, 3, 4, 5, 6}\n",
      "{3, 4, 5, 6}\n"
     ]
    }
   ],
   "source": [
    "set1 = { 1,2,3}\n",
    "set2 = {3,4,5,6}\n",
    "set1.update(set2)\n",
    "print(set1)\n",
    "print(set2)"
   ]
  },
  {
   "cell_type": "code",
   "execution_count": 43,
   "id": "8d04fb55-add9-4001-97bc-b5c5d091dde3",
   "metadata": {},
   "outputs": [
    {
     "data": {
      "text/plain": [
       "{1: 'a', 2: 'b', 3: 'c'}"
      ]
     },
     "execution_count": 43,
     "metadata": {},
     "output_type": "execute_result"
    }
   ],
   "source": [
    "#5 what is a dictionary? give an example. also , state whether a dictionary is orderd or unordered \n",
    "# dictionary store data in a key-value pair.key is the unique identity of each value . it is ordered collection of items.\n",
    "dict1 = { 1: \"a\",2:\"b\",3:'c'}\n",
    "dict1"
   ]
  },
  {
   "cell_type": "code",
   "execution_count": 45,
   "id": "84b44fcd-42ce-4800-9044-65785430b635",
   "metadata": {},
   "outputs": [],
   "source": [
    "#6 can we create the nested dictionary ? if so, please give an example by creating a simple one-level nested dictionary\n",
    "# yes we create nested dictionary \n"
   ]
  },
  {
   "cell_type": "code",
   "execution_count": 48,
   "id": "e5878347-3045-49a1-8e14-ae7536ba5afa",
   "metadata": {},
   "outputs": [
    {
     "data": {
      "text/plain": [
       "'d'"
      ]
     },
     "execution_count": 48,
     "metadata": {},
     "output_type": "execute_result"
    }
   ],
   "source": [
    "dict2 = { 1: \"a\",2:\"b\",3:{4:'c',5:'d'}}\n",
    "dict2[3][5]"
   ]
  },
  {
   "cell_type": "code",
   "execution_count": 54,
   "id": "b61d9c8f-0480-4db8-8586-97d4214d09d7",
   "metadata": {},
   "outputs": [
    {
     "data": {
      "text/plain": [
       "{'language': 'python',\n",
       " 'course': 'data science masters',\n",
       " 'topics': ['python', 'machine learning', 'deep learning']}"
      ]
     },
     "execution_count": 54,
     "metadata": {},
     "output_type": "execute_result"
    }
   ],
   "source": [
    "#using setdefault() method , create a key named topics int the given dictionary and \n",
    "#also add the key as this list ['python','machine learning','deep learning']\n",
    "dict1 = {'language':'python','course':'data science masters'}\n",
    "dict1.setdefault('topics',['python','machine learning','deep learning'])\n",
    "dict1"
   ]
  },
  {
   "cell_type": "code",
   "execution_count": 57,
   "id": "aade9614-6988-43dc-90aa-91ace36aa2e7",
   "metadata": {},
   "outputs": [
    {
     "name": "stdout",
     "output_type": "stream",
     "text": [
      "dict_keys(['sport', 'teams'])\n",
      "dict_values(['cricket', ['India', 'Australia', 'England', 'South Africa', 'sSri lanka', 'New zeland']])\n",
      "dict_items([('sport', 'cricket'), ('teams', ['India', 'Australia', 'England', 'South Africa', 'sSri lanka', 'New zeland'])])\n"
     ]
    }
   ],
   "source": [
    "# 8 what are the three view object in dictionaries ? use the three in - built methods in python to display these\n",
    "#three view objects for the given dictionary.\n",
    "#The main view objects of dictionary in python are keys, values and items\n",
    "dict1 = { 'sport':'cricket','teams':['India','Australia','England','South Africa','sSri lanka','New zeland']}\n",
    "print(dict1.keys())\n",
    "print(dict1.values())\n",
    "print(dict1.items())"
   ]
  },
  {
   "cell_type": "code",
   "execution_count": null,
   "id": "29d8841f-08aa-4154-b851-ea02716f5df1",
   "metadata": {},
   "outputs": [],
   "source": []
  }
 ],
 "metadata": {
  "kernelspec": {
   "display_name": "Python 3 (ipykernel)",
   "language": "python",
   "name": "python3"
  },
  "language_info": {
   "codemirror_mode": {
    "name": "ipython",
    "version": 3
   },
   "file_extension": ".py",
   "mimetype": "text/x-python",
   "name": "python",
   "nbconvert_exporter": "python",
   "pygments_lexer": "ipython3",
   "version": "3.10.8"
  }
 },
 "nbformat": 4,
 "nbformat_minor": 5
}

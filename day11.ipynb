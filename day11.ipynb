{
 "cells": [
  {
   "cell_type": "markdown",
   "id": "cb6e53f3-594d-481d-b43b-c0f504589a9f",
   "metadata": {},
   "source": [
    "#multithreading"
   ]
  },
  {
   "cell_type": "code",
   "execution_count": 1,
   "id": "422d69e4-393b-4baa-a90b-de6a7e57bef8",
   "metadata": {},
   "outputs": [],
   "source": [
    "import threading"
   ]
  },
  {
   "cell_type": "code",
   "execution_count": 2,
   "id": "9cd3187f-4372-40a4-b548-f0049082897e",
   "metadata": {},
   "outputs": [],
   "source": [
    "def test(id):\n",
    "    print(\"this is my test id %d\" % id)"
   ]
  },
  {
   "cell_type": "code",
   "execution_count": 3,
   "id": "4d1ad529-85e8-4d7d-b880-3ac7f36e7f89",
   "metadata": {},
   "outputs": [
    {
     "name": "stdout",
     "output_type": "stream",
     "text": [
      "this is my test id 10\n"
     ]
    }
   ],
   "source": [
    "test(10)"
   ]
  },
  {
   "cell_type": "code",
   "execution_count": 4,
   "id": "12ac0255-9549-45ff-a36d-cea175019185",
   "metadata": {},
   "outputs": [
    {
     "name": "stdout",
     "output_type": "stream",
     "text": [
      "this is my test id 11\n"
     ]
    }
   ],
   "source": [
    "test(11)"
   ]
  },
  {
   "cell_type": "code",
   "execution_count": 5,
   "id": "2ea940e2-5e2a-4662-8fe7-44f000e91f3d",
   "metadata": {},
   "outputs": [
    {
     "name": "stdout",
     "output_type": "stream",
     "text": [
      "this is my test id 1\n"
     ]
    }
   ],
   "source": [
    "test(1)"
   ]
  },
  {
   "cell_type": "code",
   "execution_count": 6,
   "id": "cee1b6b1-0602-42f9-b745-6ef6ca42ec70",
   "metadata": {},
   "outputs": [
    {
     "data": {
      "text/plain": [
       "[<Thread(Thread-5 (test), initial)>,\n",
       " <Thread(Thread-6 (test), initial)>,\n",
       " <Thread(Thread-7 (test), initial)>]"
      ]
     },
     "execution_count": 6,
     "metadata": {},
     "output_type": "execute_result"
    }
   ],
   "source": [
    "thred = [threading.Thread(target=test, args=(i,)) for i in [10, 11, 1]]\n",
    "thred"
   ]
  },
  {
   "cell_type": "code",
   "execution_count": 7,
   "id": "a0f11931-e34f-473a-b426-2a6ed8e30035",
   "metadata": {},
   "outputs": [
    {
     "name": "stdout",
     "output_type": "stream",
     "text": [
      "this is my test id 10\n",
      "this is my test id 11\n",
      "this is my test id 1\n"
     ]
    }
   ],
   "source": [
    "for t in thred:\n",
    "    t.start()"
   ]
  },
  {
   "cell_type": "code",
   "execution_count": 8,
   "id": "9308a52f-2743-4d21-bfe7-2ecb018eb99b",
   "metadata": {},
   "outputs": [],
   "source": [
    "import urllib.request\n",
    "def file_download(url,filename):\n",
    "    urllib.request.urlretrieve(url, filename)"
   ]
  },
  {
   "cell_type": "code",
   "execution_count": 9,
   "id": "7a7df260-afac-454a-9a28-d8252f5e11a4",
   "metadata": {},
   "outputs": [],
   "source": [
    "file_download('https://runestone.academy/ns/books/published/thinkcspy/GeneralIntro/Algorithms.html','test101.txt')"
   ]
  },
  {
   "cell_type": "code",
   "execution_count": 10,
   "id": "661d30ad-2ea3-46f0-b3ff-e27ee650f6bc",
   "metadata": {},
   "outputs": [],
   "source": [
    "url_list=['https://runestone.academy/ns/books/published/thinkcspy/GeneralIntro/Algorithms.html','https://github.com/pawanjoshi2709/ds-journey/blob/main/1.pdf']"
   ]
  },
  {
   "cell_type": "code",
   "execution_count": 11,
   "id": "6a33a114-f228-49c6-be03-b04e021bed89",
   "metadata": {},
   "outputs": [],
   "source": [
    "file_list = ['test24.txt','test25.txt']"
   ]
  },
  {
   "cell_type": "code",
   "execution_count": 12,
   "id": "28daa844-c985-4f6d-9de8-b1085682f3c7",
   "metadata": {},
   "outputs": [],
   "source": [
    "thread1 = [threading.Thread(target = file_download , args =(url_list[i],file_list[i],)) for i in range(len(url_list))]"
   ]
  },
  {
   "cell_type": "code",
   "execution_count": 13,
   "id": "c4691125-c210-40e9-8cff-94901a21336e",
   "metadata": {},
   "outputs": [],
   "source": [
    "for p in thread1:\n",
    "    p.start()"
   ]
  },
  {
   "cell_type": "code",
   "execution_count": 14,
   "id": "756bc5a4-3037-47a9-a8b3-c77a16cdc9a3",
   "metadata": {},
   "outputs": [],
   "source": [
    "import time"
   ]
  },
  {
   "cell_type": "code",
   "execution_count": 15,
   "id": "ee0f2101-39a7-4603-97ff-4ce42eb7dd77",
   "metadata": {},
   "outputs": [],
   "source": [
    "def test2(x):\n",
    "    for i in range(10):\n",
    "        print(\" test2 is x %d and the value of i is %d\" %(x,i))\n",
    "        time.sleep(1)"
   ]
  },
  {
   "cell_type": "code",
   "execution_count": 16,
   "id": "9d72b96b-c988-46f0-a39f-9d965767130a",
   "metadata": {},
   "outputs": [
    {
     "name": "stdout",
     "output_type": "stream",
     "text": [
      " test2 is x 10 and the value of i is 0\n",
      " test2 is x 10 and the value of i is 1\n",
      " test2 is x 10 and the value of i is 2\n",
      " test2 is x 10 and the value of i is 3\n",
      " test2 is x 10 and the value of i is 4\n",
      " test2 is x 10 and the value of i is 5\n",
      " test2 is x 10 and the value of i is 6\n",
      " test2 is x 10 and the value of i is 7\n",
      " test2 is x 10 and the value of i is 8\n",
      " test2 is x 10 and the value of i is 9\n"
     ]
    }
   ],
   "source": [
    "test2(10)"
   ]
  },
  {
   "cell_type": "code",
   "execution_count": 17,
   "id": "e98002f7-8b03-4e65-8608-95ac1f74cdd1",
   "metadata": {},
   "outputs": [],
   "source": [
    "thread4 = [threading.Thread(target= test2 , args=(i,)) for i in [100,10,20,5]]"
   ]
  },
  {
   "cell_type": "code",
   "execution_count": 18,
   "id": "31047988-7d4b-4408-ae3c-658a6d13d35e",
   "metadata": {},
   "outputs": [
    {
     "name": "stdout",
     "output_type": "stream",
     "text": [
      " test2 is x 100 and the value of i is 0\n",
      " test2 is x 10 and the value of i is 0\n",
      " test2 is x 20 and the value of i is 0\n",
      " test2 is x 5 and the value of i is 0\n"
     ]
    }
   ],
   "source": [
    "for t in thread4:\n",
    "    t.start()"
   ]
  },
  {
   "cell_type": "code",
   "execution_count": 21,
   "id": "7c375b82-c2be-4474-9f28-cb149c94702a",
   "metadata": {},
   "outputs": [],
   "source": [
    "thread5 = [threading.Thread(target = test3 ,args = (j,))for j in [100,50,20,5]]"
   ]
  },
  {
   "cell_type": "code",
   "execution_count": 20,
   "id": "7c89f94c-3429-4bb5-9174-3602942d1387",
   "metadata": {},
   "outputs": [
    {
     "name": "stdout",
     "output_type": "stream",
     "text": [
      " test2 is x 5 and the value of i is 7 test2 is x 20 and the value of i is 7\n",
      " test2 is x 100 and the value of i is 7\n",
      " test2 is x 10 and the value of i is 7\n",
      "\n",
      " test2 is x 20 and the value of i is 8 test2 is x 10 and the value of i is 8\n",
      "\n",
      " test2 is x 100 and the value of i is 8\n",
      " test2 is x 5 and the value of i is 8\n",
      " test2 is x 10 and the value of i is 9\n",
      " test2 is x 20 and the value of i is 9\n",
      " test2 is x 5 and the value of i is 9\n",
      " test2 is x 100 and the value of i is 9\n"
     ]
    }
   ],
   "source": [
    "def test3(x):\n",
    "    for i in range(10):\n",
    "        print(\" test2 is x %d and the value of i is %d\" %(x,i))"
   ]
  },
  {
   "cell_type": "code",
   "execution_count": 22,
   "id": "f1cbe537-b665-4465-8540-9fd73ec53926",
   "metadata": {},
   "outputs": [
    {
     "name": "stdout",
     "output_type": "stream",
     "text": [
      " test2 is x 100 and the value of i is 0\n",
      " test2 is x 100 and the value of i is 1\n",
      " test2 is x 100 and the value of i is 2\n",
      " test2 is x 100 and the value of i is 3\n",
      " test2 is x 100 and the value of i is 4\n",
      " test2 is x 100 and the value of i is 5\n",
      " test2 is x 100 and the value of i is 6\n",
      " test2 is x 100 and the value of i is 7\n",
      " test2 is x 100 and the value of i is 8\n",
      " test2 is x 100 and the value of i is 9\n",
      " test2 is x 50 and the value of i is 0\n",
      " test2 is x 50 and the value of i is 1\n",
      " test2 is x 50 and the value of i is 2\n",
      " test2 is x 50 and the value of i is 3\n",
      " test2 is x 50 and the value of i is 4\n",
      " test2 is x 50 and the value of i is 5\n",
      " test2 is x 50 and the value of i is 6\n",
      " test2 is x 50 and the value of i is 7\n",
      " test2 is x 50 and the value of i is 8\n",
      " test2 is x 50 and the value of i is 9\n",
      " test2 is x 20 and the value of i is 0\n",
      " test2 is x 20 and the value of i is 1\n",
      " test2 is x 20 and the value of i is 2\n",
      " test2 is x 20 and the value of i is 3\n",
      " test2 is x 20 and the value of i is 4\n",
      " test2 is x 20 and the value of i is 5\n",
      " test2 is x 20 and the value of i is 6\n",
      " test2 is x 20 and the value of i is 7\n",
      " test2 is x 20 and the value of i is 8\n",
      " test2 is x 20 and the value of i is 9\n",
      " test2 is x 5 and the value of i is 0\n",
      " test2 is x 5 and the value of i is 1\n",
      " test2 is x 5 and the value of i is 2\n",
      " test2 is x 5 and the value of i is 3\n",
      " test2 is x 5 and the value of i is 4\n",
      " test2 is x 5 and the value of i is 5\n",
      " test2 is x 5 and the value of i is 6\n",
      " test2 is x 5 and the value of i is 7\n",
      " test2 is x 5 and the value of i is 8\n",
      " test2 is x 5 and the value of i is 9\n"
     ]
    }
   ],
   "source": [
    "for i in thread5:\n",
    "    i.start()"
   ]
  },
  {
   "cell_type": "code",
   "execution_count": 23,
   "id": "75cddd1b-3901-4ba3-ad29-8929cbebdbe3",
   "metadata": {},
   "outputs": [
    {
     "name": "stdout",
     "output_type": "stream",
     "text": [
      "value of x 1 and the value of shared variable is 1 \n",
      "1.0013value of x 2 and the value of shared variable is 2 \n",
      "\n",
      "2.0016\n",
      "value of x 34 and the value of shared variable is 3 \n",
      "3.0033\n",
      "value of x 56 and the value of shared variable is 4 \n"
     ]
    }
   ],
   "source": [
    "shared_var  = 0\n",
    "lock_var = threading.Lock()\n",
    "def test7(x):\n",
    "    start = time.time()\n",
    "    global shared_var\n",
    "    with lock_var:\n",
    "        shared_var = shared_var+1\n",
    "        print(\"value of x %d and the value of shared variable is %d \" %(x, shared_var))\n",
    "        time.sleep(1)\n",
    "    end = time.time()\n",
    "    print(round(end - start,4))\n",
    "thread5 = [threading.Thread(target = test7 , args = (i,)) for i in [1,2,34,56,67,7]]\n",
    "for t in thread5:\n",
    "    t.start()"
   ]
  },
  {
   "cell_type": "markdown",
   "id": "dd959e0f-ec1d-4687-bd24-16479ee9483e",
   "metadata": {},
   "source": [
    "#multitasking"
   ]
  },
  {
   "cell_type": "code",
   "execution_count": 24,
   "id": "c9543864-2c4c-468f-a7a2-a54c68b5290f",
   "metadata": {},
   "outputs": [
    {
     "name": "stdout",
     "output_type": "stream",
     "text": [
      "4.0051\n",
      "value of x 67 and the value of shared variable is 5 \n",
      "5.0066\n",
      "value of x 7 and the value of shared variable is 6 \n",
      "6.0078\n"
     ]
    }
   ],
   "source": [
    "import multiprocessing"
   ]
  },
  {
   "cell_type": "code",
   "execution_count": 25,
   "id": "bb9ecfec-ea5a-47e3-890e-1bbee9417e09",
   "metadata": {},
   "outputs": [
    {
     "name": "stdout",
     "output_type": "stream",
     "text": [
      "this is my prog\n",
      "this is my multiprocessing prog\n"
     ]
    }
   ],
   "source": [
    "def test():\n",
    "    print(\"this is my multiprocessing prog\")\n",
    "if __name__ == \"__main__\":\n",
    "    m = multiprocessing.Process(target = test)\n",
    "    print(\"this is my prog\")\n",
    "    m.start()\n",
    "    m.join()"
   ]
  },
  {
   "cell_type": "code",
   "execution_count": 26,
   "id": "e143f4bd-bfaa-4abe-bfbb-cda40f8b64df",
   "metadata": {},
   "outputs": [
    {
     "name": "stdout",
     "output_type": "stream",
     "text": [
      "[9, 16, 25, 25, 36, 36, 49, 7569, 64, 64]\n"
     ]
    }
   ],
   "source": [
    "def  square(n):\n",
    "    return n**2\n",
    "if __name__ == '__main__':\n",
    "    with multiprocessing.Pool(processes = 5) as pool:\n",
    "        out = pool.map(square , [3,4,5,5,6,6,7,87,8,8])\n",
    "        print(out)"
   ]
  },
  {
   "cell_type": "code",
   "execution_count": null,
   "id": "aa79dfe5-e093-4a7b-8b03-08a8601a6862",
   "metadata": {},
   "outputs": [],
   "source": [
    "def producer(q):\n",
    "    for i in [\"sudh\",\"kumar\",\"pwskills\",\"krish\",\"naik\"]:\n",
    "        q.put(i)\n",
    "def consume(q):\n",
    "    while True:\n",
    "        item = q.get()\n",
    "        print(item)\n",
    "        if item is None:\n",
    "            break\n",
    "        print(item )\n",
    "if __name__ == '__main__':\n",
    "    queue = multiprocessing.Queue()\n",
    "    m1 = multiprocessing.Process(target = producer , args = (queue,))\n",
    "    m2 = multiprocessing.Process(target = consume , args = (queue,))\n",
    "    m1.start()\n",
    "    m2.start()\n",
    "    queue.put(\"XYZ\")\n",
    "    m1.join()\n",
    "    m2.join()"
   ]
  },
  {
   "cell_type": "code",
   "execution_count": null,
   "id": "f455ad50-bf8a-4ca9-87f4-8e07dd5601c1",
   "metadata": {},
   "outputs": [],
   "source": [
    "def square1(index , value ):\n",
    "    value[index] = value[index]**2\n",
    "if __name__ == '__main__':\n",
    "    arr = multiprocessing.Array('i',[2,3,6,7,8,8,9,3,3,3])\n",
    "    process = []\n",
    "    for i in range(10):\n",
    "        m = multiprocessing.Process(target = square1 , args = (i,arr))\n",
    "        process.append(m)\n",
    "        m.start()\n",
    "    for m in process:\n",
    "        m.join()\n",
    "    print(list(arr))\n",
    "    print(tuple(arr))"
   ]
  },
  {
   "cell_type": "code",
   "execution_count": null,
   "id": "9fa134b2-d7d4-4a54-952d-9408ce1f5d76",
   "metadata": {},
   "outputs": [],
   "source": [
    "import multiprocessing\n",
    "def sender(conn , msg):\n",
    "    for i in msg:\n",
    "        conn.send(i)\n",
    "    conn.close()\n",
    "def recieve(conn):\n",
    "    while True:\n",
    "        try :\n",
    "            msg = conn.recv()\n",
    "        except Exception as e:\n",
    "            print(e)\n",
    "        print(msg)\n",
    "if __name__ == '__main__':\n",
    "    msg = [\"my name is pawan \", \"this is my msg to compiler\",\"i am creating a program\"]\n",
    "    parent_connection, child_connection = multiprocessing.Pipe()\n",
    "    a1 = multiprocessing.Process(target = sender , args = (child_connection,msg))\n",
    "    a2 = multiprocessing.Process(target = recieve , args = (parent_connection,))\n",
    "    a1.start()\n",
    "    a2.start()\n",
    "    a1.join()\n",
    "    child_connection.close()\n",
    "    a2.join()\n",
    "    parent_connection.close()"
   ]
  },
  {
   "cell_type": "code",
   "execution_count": null,
   "id": "684fa364-ceac-4015-a675-549276f9cc02",
   "metadata": {},
   "outputs": [],
   "source": []
  },
  {
   "cell_type": "code",
   "execution_count": null,
   "id": "2f3aeab8-af44-406c-baef-7e50aa8cd54e",
   "metadata": {},
   "outputs": [],
   "source": []
  },
  {
   "cell_type": "code",
   "execution_count": null,
   "id": "d4ec27ef-a01f-4ce5-8d07-4f198cb4ea0b",
   "metadata": {},
   "outputs": [],
   "source": []
  }
 ],
 "metadata": {
  "kernelspec": {
   "display_name": "Python 3 (ipykernel)",
   "language": "python",
   "name": "python3"
  },
  "language_info": {
   "codemirror_mode": {
    "name": "ipython",
    "version": 3
   },
   "file_extension": ".py",
   "mimetype": "text/x-python",
   "name": "python",
   "nbconvert_exporter": "python",
   "pygments_lexer": "ipython3",
   "version": "3.10.8"
  }
 },
 "nbformat": 4,
 "nbformat_minor": 5
}

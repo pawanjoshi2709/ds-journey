{
 "cells": [
  {
   "cell_type": "code",
   "execution_count": 4,
   "id": "2ed7d622-c286-430c-a3eb-f1e394756851",
   "metadata": {},
   "outputs": [
    {
     "name": "stdout",
     "output_type": "stream",
     "text": [
      "1\n",
      "2\n",
      "5\n",
      "6\n",
      "7\n",
      "8\n",
      "9\n"
     ]
    }
   ],
   "source": [
    "def d(x):\n",
    "    for i in x:\n",
    "        if type(i)==list:\n",
    "            d(i)\n",
    "        elif type(i)==int:\n",
    "            print(i)\n",
    "\n",
    "l=[1,2,[5,[6,7],False],[8,9]]\n",
    "d(l)"
   ]
  },
  {
   "cell_type": "code",
   "execution_count": 9,
   "id": "c8e09569-96bc-4630-87f9-fe7e28395e41",
   "metadata": {},
   "outputs": [],
   "source": [
    "f = open(\"test.txt\",'w')"
   ]
  },
  {
   "cell_type": "code",
   "execution_count": 3,
   "id": "830ddda9-67e8-4258-8ed2-852281740366",
   "metadata": {},
   "outputs": [
    {
     "data": {
      "text/plain": [
       "'/home/jovyan/work/first'"
      ]
     },
     "execution_count": 3,
     "metadata": {},
     "output_type": "execute_result"
    }
   ],
   "source": [
    "pwd"
   ]
  },
  {
   "cell_type": "code",
   "execution_count": 4,
   "id": "1a9261d6-b49b-46e7-b913-f9f7d453b884",
   "metadata": {},
   "outputs": [
    {
     "name": "stdout",
     "output_type": "stream",
     "text": [
      "day2.ipynb  day4.ipynb  day6.ipynb  day8.ipynb  start1.ipynb\n",
      "day3.ipynb  day5.ipynb  day7.ipynb  day9.ipynb  test.txt\n"
     ]
    }
   ],
   "source": [
    "ls"
   ]
  },
  {
   "cell_type": "code",
   "execution_count": 10,
   "id": "54500bf3-b63f-4f08-a206-44b6837196f8",
   "metadata": {},
   "outputs": [
    {
     "data": {
      "text/plain": [
       "929"
      ]
     },
     "execution_count": 10,
     "metadata": {},
     "output_type": "execute_result"
    }
   ],
   "source": [
    "f.write(\"this is my first write operation in the file. Backtracking is a technique used to solve the problems in which we need to build all the possible solutions and remove those solutions that fail to satisfy the problem's constraints at any point in time. You can learn more about backtracking herApplication of BacktrackingThe following types of problems can be solved using backtrackingAll those problems where we need to find a feasible solution.Optimization problems.Problems in which we need to find all the possible solutions.The time complexity of BacktrackingThe time complexity of backtracking depends on the number of times the function calls itself.For example, if the function calls itself two times, then its time complexity is O(2 ^ N), and if it calls three times, then O(3 ^ N) and so on. Hence the time complexity of backtracking can be defined as O(K ^ N), where ‘K’ is the number of times the function calls itself. \")"
   ]
  },
  {
   "cell_type": "code",
   "execution_count": 11,
   "id": "25135593-c799-4e1b-a1fa-6cf99a5e4709",
   "metadata": {},
   "outputs": [],
   "source": [
    "f.close()"
   ]
  },
  {
   "cell_type": "code",
   "execution_count": 12,
   "id": "79f284e2-e87d-4cca-8d31-cb2ddae88f27",
   "metadata": {},
   "outputs": [],
   "source": [
    "f = open(\"test.txt\",'a')"
   ]
  },
  {
   "cell_type": "code",
   "execution_count": 13,
   "id": "e5c7a58d-1fa4-481e-a8e8-86d617df1d29",
   "metadata": {},
   "outputs": [
    {
     "data": {
      "text/plain": [
       "929"
      ]
     },
     "execution_count": 13,
     "metadata": {},
     "output_type": "execute_result"
    }
   ],
   "source": [
    "f.write(\"this is my first write operation in the file. Backtracking is a technique used to solve the problems in which we need to build all the possible solutions and remove those solutions that fail to satisfy the problem's constraints at any point in time. You can learn more about backtracking herApplication of BacktrackingThe following types of problems can be solved using backtrackingAll those problems where we need to find a feasible solution.Optimization problems.Problems in which we need to find all the possible solutions.The time complexity of BacktrackingThe time complexity of backtracking depends on the number of times the function calls itself.For example, if the function calls itself two times, then its time complexity is O(2 ^ N), and if it calls three times, then O(3 ^ N) and so on. Hence the time complexity of backtracking can be defined as O(K ^ N), where ‘K’ is the number of times the function calls itself. \")"
   ]
  },
  {
   "cell_type": "code",
   "execution_count": 14,
   "id": "1392e8bc-1af2-4f50-9e37-06af5a1b57fb",
   "metadata": {},
   "outputs": [],
   "source": [
    "f.close()"
   ]
  },
  {
   "cell_type": "code",
   "execution_count": 15,
   "id": "d5189410-b2d5-442f-9431-54368a0a6486",
   "metadata": {},
   "outputs": [],
   "source": [
    "data = open(\"test.txt\", \"r\")"
   ]
  },
  {
   "cell_type": "code",
   "execution_count": 16,
   "id": "4fe59deb-4bc3-408a-b9e6-dc83e8e3cb56",
   "metadata": {},
   "outputs": [
    {
     "data": {
      "text/plain": [
       "\"this is my first write operation in the file. Backtracking is a technique used to solve the problems in which we need to build all the possible solutions and remove those solutions that fail to satisfy the problem's constraints at any point in time. You can learn more about backtracking herApplication of BacktrackingThe following types of problems can be solved using backtrackingAll those problems where we need to find a feasible solution.Optimization problems.Problems in which we need to find all the possible solutions.The time complexity of BacktrackingThe time complexity of backtracking depends on the number of times the function calls itself.For example, if the function calls itself two times, then its time complexity is O(2 ^ N), and if it calls three times, then O(3 ^ N) and so on. Hence the time complexity of backtracking can be defined as O(K ^ N), where ‘K’ is the number of times the function calls itself. this is my first write operation in the file. Backtracking is a technique used to solve the problems in which we need to build all the possible solutions and remove those solutions that fail to satisfy the problem's constraints at any point in time. You can learn more about backtracking herApplication of BacktrackingThe following types of problems can be solved using backtrackingAll those problems where we need to find a feasible solution.Optimization problems.Problems in which we need to find all the possible solutions.The time complexity of BacktrackingThe time complexity of backtracking depends on the number of times the function calls itself.For example, if the function calls itself two times, then its time complexity is O(2 ^ N), and if it calls three times, then O(3 ^ N) and so on. Hence the time complexity of backtracking can be defined as O(K ^ N), where ‘K’ is the number of times the function calls itself. \""
      ]
     },
     "execution_count": 16,
     "metadata": {},
     "output_type": "execute_result"
    }
   ],
   "source": [
    "data.read()"
   ]
  },
  {
   "cell_type": "code",
   "execution_count": 17,
   "id": "cfdc9303-430a-42b6-a9cf-c769f1524fda",
   "metadata": {},
   "outputs": [
    {
     "data": {
      "text/plain": [
       "''"
      ]
     },
     "execution_count": 17,
     "metadata": {},
     "output_type": "execute_result"
    }
   ],
   "source": [
    "data.read()"
   ]
  },
  {
   "cell_type": "code",
   "execution_count": 19,
   "id": "d3ea9530-a2c9-4bfa-b55a-7e9fbe0b56a9",
   "metadata": {},
   "outputs": [
    {
     "data": {
      "text/plain": [
       "0"
      ]
     },
     "execution_count": 19,
     "metadata": {},
     "output_type": "execute_result"
    }
   ],
   "source": [
    "data.seek(0)"
   ]
  },
  {
   "cell_type": "code",
   "execution_count": 20,
   "id": "79b0018f-e8a9-49d1-9c9a-498a2b2d4139",
   "metadata": {},
   "outputs": [
    {
     "data": {
      "text/plain": [
       "\"this is my first write operation in the file. Backtracking is a technique used to solve the problems in which we need to build all the possible solutions and remove those solutions that fail to satisfy the problem's constraints at any point in time. You can learn more about backtracking herApplication of BacktrackingThe following types of problems can be solved using backtrackingAll those problems where we need to find a feasible solution.Optimization problems.Problems in which we need to find all the possible solutions.The time complexity of BacktrackingThe time complexity of backtracking depends on the number of times the function calls itself.For example, if the function calls itself two times, then its time complexity is O(2 ^ N), and if it calls three times, then O(3 ^ N) and so on. Hence the time complexity of backtracking can be defined as O(K ^ N), where ‘K’ is the number of times the function calls itself. this is my first write operation in the file. Backtracking is a technique used to solve the problems in which we need to build all the possible solutions and remove those solutions that fail to satisfy the problem's constraints at any point in time. You can learn more about backtracking herApplication of BacktrackingThe following types of problems can be solved using backtrackingAll those problems where we need to find a feasible solution.Optimization problems.Problems in which we need to find all the possible solutions.The time complexity of BacktrackingThe time complexity of backtracking depends on the number of times the function calls itself.For example, if the function calls itself two times, then its time complexity is O(2 ^ N), and if it calls three times, then O(3 ^ N) and so on. Hence the time complexity of backtracking can be defined as O(K ^ N), where ‘K’ is the number of times the function calls itself. \""
      ]
     },
     "execution_count": 20,
     "metadata": {},
     "output_type": "execute_result"
    }
   ],
   "source": [
    "data.read()"
   ]
  },
  {
   "cell_type": "code",
   "execution_count": 21,
   "id": "087df17a-16ff-4c06-86cd-89d8c3dd41ad",
   "metadata": {},
   "outputs": [
    {
     "data": {
      "text/plain": [
       "100"
      ]
     },
     "execution_count": 21,
     "metadata": {},
     "output_type": "execute_result"
    }
   ],
   "source": [
    "data.seek(100)"
   ]
  },
  {
   "cell_type": "code",
   "execution_count": 22,
   "id": "2495accb-dd5c-40fd-8c34-4bd1cc0ce537",
   "metadata": {},
   "outputs": [
    {
     "data": {
      "text/plain": [
       "\" in which we need to build all the possible solutions and remove those solutions that fail to satisfy the problem's constraints at any point in time. You can learn more about backtracking herApplication of BacktrackingThe following types of problems can be solved using backtrackingAll those problems where we need to find a feasible solution.Optimization problems.Problems in which we need to find all the possible solutions.The time complexity of BacktrackingThe time complexity of backtracking depends on the number of times the function calls itself.For example, if the function calls itself two times, then its time complexity is O(2 ^ N), and if it calls three times, then O(3 ^ N) and so on. Hence the time complexity of backtracking can be defined as O(K ^ N), where ‘K’ is the number of times the function calls itself. this is my first write operation in the file. Backtracking is a technique used to solve the problems in which we need to build all the possible solutions and remove those solutions that fail to satisfy the problem's constraints at any point in time. You can learn more about backtracking herApplication of BacktrackingThe following types of problems can be solved using backtrackingAll those problems where we need to find a feasible solution.Optimization problems.Problems in which we need to find all the possible solutions.The time complexity of BacktrackingThe time complexity of backtracking depends on the number of times the function calls itself.For example, if the function calls itself two times, then its time complexity is O(2 ^ N), and if it calls three times, then O(3 ^ N) and so on. Hence the time complexity of backtracking can be defined as O(K ^ N), where ‘K’ is the number of times the function calls itself. \""
      ]
     },
     "execution_count": 22,
     "metadata": {},
     "output_type": "execute_result"
    }
   ],
   "source": [
    "data.read()"
   ]
  },
  {
   "cell_type": "code",
   "execution_count": 25,
   "id": "8c48d8da-d5c0-4155-8b11-93ab970a4890",
   "metadata": {},
   "outputs": [
    {
     "data": {
      "text/plain": [
       "100"
      ]
     },
     "execution_count": 25,
     "metadata": {},
     "output_type": "execute_result"
    }
   ],
   "source": [
    "data.seek(100)"
   ]
  },
  {
   "cell_type": "code",
   "execution_count": 26,
   "id": "9f4babb3-7734-4a4a-b66a-fae115ac902f",
   "metadata": {},
   "outputs": [
    {
     "data": {
      "text/plain": [
       "' in which we need to build all the possible solutions and remove those solutions that fail to satisfy'"
      ]
     },
     "execution_count": 26,
     "metadata": {},
     "output_type": "execute_result"
    }
   ],
   "source": [
    "data.read(101)"
   ]
  },
  {
   "cell_type": "code",
   "execution_count": 27,
   "id": "8bd1521f-3975-4d7d-970e-8054f35408c7",
   "metadata": {},
   "outputs": [
    {
     "data": {
      "text/plain": [
       "\" the problem's constraints at any point in time. Y\""
      ]
     },
     "execution_count": 27,
     "metadata": {},
     "output_type": "execute_result"
    }
   ],
   "source": [
    "data.read(50)"
   ]
  },
  {
   "cell_type": "code",
   "execution_count": 28,
   "id": "2a1aa5f7-93b0-4433-a5fb-1c778a810085",
   "metadata": {},
   "outputs": [],
   "source": [
    "data1 = open(\"test.txt\",'r')"
   ]
  },
  {
   "cell_type": "code",
   "execution_count": 30,
   "id": "6027fb94-e8f1-44ba-acd9-595fad67906b",
   "metadata": {},
   "outputs": [
    {
     "name": "stdout",
     "output_type": "stream",
     "text": [
      "this is my first write operation in the file. Backtracking is a technique used to solve the problems in which we need to build all the possible solutions and remove those solutions that fail to satisfy the problem's constraints at any point in time. You can learn more about backtracking herApplication of BacktrackingThe following types of problems can be solved using backtrackingAll those problems where we need to find a feasible solution.Optimization problems.Problems in which we need to find all the possible solutions.The time complexity of BacktrackingThe time complexity of backtracking depends on the number of times the function calls itself.For example, if the function calls itself two times, then its time complexity is O(2 ^ N), and if it calls three times, then O(3 ^ N) and so on. Hence the time complexity of backtracking can be defined as O(K ^ N), where ‘K’ is the number of times the function calls itself. this is my first write operation in the file. Backtracking is a technique used to solve the problems in which we need to build all the possible solutions and remove those solutions that fail to satisfy the problem's constraints at any point in time. You can learn more about backtracking herApplication of BacktrackingThe following types of problems can be solved using backtrackingAll those problems where we need to find a feasible solution.Optimization problems.Problems in which we need to find all the possible solutions.The time complexity of BacktrackingThe time complexity of backtracking depends on the number of times the function calls itself.For example, if the function calls itself two times, then its time complexity is O(2 ^ N), and if it calls three times, then O(3 ^ N) and so on. Hence the time complexity of backtracking can be defined as O(K ^ N), where ‘K’ is the number of times the function calls itself. \n"
     ]
    }
   ],
   "source": [
    "for i in data1:\n",
    "    print(i)"
   ]
  },
  {
   "cell_type": "code",
   "execution_count": 31,
   "id": "30e88cbc-5483-4791-8351-0e242f1bc029",
   "metadata": {},
   "outputs": [],
   "source": [
    "import os\n"
   ]
  },
  {
   "cell_type": "code",
   "execution_count": 32,
   "id": "7b50ee9a-83be-41e0-a8f3-44642cd67327",
   "metadata": {},
   "outputs": [
    {
     "data": {
      "text/plain": [
       "1866"
      ]
     },
     "execution_count": 32,
     "metadata": {},
     "output_type": "execute_result"
    }
   ],
   "source": [
    "os.path.getsize(\"test.txt\")"
   ]
  },
  {
   "cell_type": "code",
   "execution_count": 33,
   "id": "5aa3cb82-4888-494c-b2f8-0dfb9295a7ba",
   "metadata": {},
   "outputs": [],
   "source": [
    "import shutil"
   ]
  },
  {
   "cell_type": "code",
   "execution_count": 34,
   "id": "9ee30f9d-41e5-4583-9bd6-572d8774fecf",
   "metadata": {},
   "outputs": [
    {
     "data": {
      "text/plain": [
       "'new_test.txt'"
      ]
     },
     "execution_count": 34,
     "metadata": {},
     "output_type": "execute_result"
    }
   ],
   "source": [
    "shutil.copy(\"test.txt\",\"new_test.txt\")"
   ]
  },
  {
   "cell_type": "code",
   "execution_count": 35,
   "id": "ba1b1c8e-945a-4227-b17b-d56de956a5d0",
   "metadata": {},
   "outputs": [],
   "source": [
    "os.remove(\"test.txt\")"
   ]
  },
  {
   "cell_type": "code",
   "execution_count": 36,
   "id": "331f88bd-840a-4859-8741-dd1f875e3003",
   "metadata": {},
   "outputs": [
    {
     "name": "stdout",
     "output_type": "stream",
     "text": [
      "this is my first write operation in the file. Backtracking is a technique used to solve the problems in which we need to build all the possible solutions and remove those solutions that fail to satisfy the problem's constraints at any point in time. You can learn more about backtracking herApplication of BacktrackingThe following types of problems can be solved using backtrackingAll those problems where we need to find a feasible solution.Optimization problems.Problems in which we need to find all the possible solutions.The time complexity of BacktrackingThe time complexity of backtracking depends on the number of times the function calls itself.For example, if the function calls itself two times, then its time complexity is O(2 ^ N), and if it calls three times, then O(3 ^ N) and so on. Hence the time complexity of backtracking can be defined as O(K ^ N), where ‘K’ is the number of times the function calls itself. this is my first write operation in the file. Backtracking is a technique used to solve the problems in which we need to build all the possible solutions and remove those solutions that fail to satisfy the problem's constraints at any point in time. You can learn more about backtracking herApplication of BacktrackingThe following types of problems can be solved using backtrackingAll those problems where we need to find a feasible solution.Optimization problems.Problems in which we need to find all the possible solutions.The time complexity of BacktrackingThe time complexity of backtracking depends on the number of times the function calls itself.For example, if the function calls itself two times, then its time complexity is O(2 ^ N), and if it calls three times, then O(3 ^ N) and so on. Hence the time complexity of backtracking can be defined as O(K ^ N), where ‘K’ is the number of times the function calls itself. \n"
     ]
    }
   ],
   "source": [
    "with open(\"new_test.txt\",\"r\") as f:\n",
    "    print(f.read())"
   ]
  },
  {
   "cell_type": "code",
   "execution_count": 37,
   "id": "d68c0998-d556-4f27-a7c9-61d917ef80c5",
   "metadata": {},
   "outputs": [],
   "source": [
    "os.rename(\"new_test.txt\",\"test.txt\")"
   ]
  },
  {
   "cell_type": "code",
   "execution_count": null,
   "id": "4a2c13d6-cb0c-4306-9286-713b51eb9498",
   "metadata": {},
   "outputs": [],
   "source": []
  },
  {
   "cell_type": "code",
   "execution_count": 38,
   "id": "50124971-65fa-436b-92ef-e706b0cbf2c5",
   "metadata": {},
   "outputs": [],
   "source": [
    "data = { \n",
    "    \"name\" : \"pawan\",\n",
    "    \"mail_id\":\"pawan@gmail.com\",\n",
    "    \"phone_number\" : 9456783457,\n",
    "    \"subject\" : [\"data science\",\"big data \",\"data analytics\"]\n",
    "}"
   ]
  },
  {
   "cell_type": "code",
   "execution_count": 39,
   "id": "ffcbe637-a429-4504-9f02-24242d2f6bab",
   "metadata": {},
   "outputs": [],
   "source": [
    "import json\n"
   ]
  },
  {
   "cell_type": "code",
   "execution_count": 41,
   "id": "21680d21-bcdf-4eb5-9622-d4c208d54bd8",
   "metadata": {},
   "outputs": [],
   "source": [
    "with open(\"test1.json\",\"w\") as f:\n",
    "    json.dump(data,f)"
   ]
  },
  {
   "cell_type": "code",
   "execution_count": 43,
   "id": "06f31e14-514c-4b86-8dfd-ede3923c68cb",
   "metadata": {},
   "outputs": [],
   "source": [
    "with open(\"test1.json\", 'r') as f:\n",
    "    data1 = json.load(f)"
   ]
  },
  {
   "cell_type": "code",
   "execution_count": 44,
   "id": "7d02441a-9810-468b-92b7-20bf91d4a9b5",
   "metadata": {},
   "outputs": [
    {
     "data": {
      "text/plain": [
       "{'name': 'pawan',\n",
       " 'mail_id': 'pawan@gmail.com',\n",
       " 'phone_number': 9456783457,\n",
       " 'subject': ['data science', 'big data ', 'data analytics']}"
      ]
     },
     "execution_count": 44,
     "metadata": {},
     "output_type": "execute_result"
    }
   ],
   "source": [
    "data1"
   ]
  },
  {
   "cell_type": "code",
   "execution_count": 45,
   "id": "5612e209-9d2f-4608-bb49-721fa5e31f94",
   "metadata": {},
   "outputs": [
    {
     "data": {
      "text/plain": [
       "'big data '"
      ]
     },
     "execution_count": 45,
     "metadata": {},
     "output_type": "execute_result"
    }
   ],
   "source": [
    "data1['subject'][1]"
   ]
  },
  {
   "cell_type": "code",
   "execution_count": 47,
   "id": "2a276d5d-f0ee-4d05-95eb-d4d33d424f3b",
   "metadata": {},
   "outputs": [],
   "source": [
    "data = [[\"name\",\"emailid\",\"number\"],\n",
    "        ['pawan','pawan@gmail.com',678987654],\n",
    "        ['rohan','rohan@gmail.com',945678458]]"
   ]
  },
  {
   "cell_type": "code",
   "execution_count": 48,
   "id": "563c58e7-afb9-4d93-934c-a701726b4ce1",
   "metadata": {},
   "outputs": [],
   "source": [
    "import csv"
   ]
  },
  {
   "cell_type": "code",
   "execution_count": 49,
   "id": "69ebb867-7453-4e12-819b-deffea7e131e",
   "metadata": {},
   "outputs": [],
   "source": [
    "with open(\"test3.csv\" ,'w') as f:\n",
    "    w = csv.writer(f)\n",
    "    for i in data:\n",
    "        w.writerow(i)"
   ]
  },
  {
   "cell_type": "code",
   "execution_count": 50,
   "id": "2f375952-15b0-4402-8be8-d5478f37b5b4",
   "metadata": {},
   "outputs": [
    {
     "name": "stdout",
     "output_type": "stream",
     "text": [
      "['name', 'emailid', 'number']\n",
      "['pawan', 'pawan@gmail.com', '678987654']\n",
      "['rohan', 'rohan@gmail.com', '945678458']\n"
     ]
    }
   ],
   "source": [
    "with open(\"test3.csv\" ,'r') as f:\n",
    "    read = csv.reader(f)\n",
    "    for i in read:\n",
    "        print(i)"
   ]
  },
  {
   "cell_type": "code",
   "execution_count": 53,
   "id": "6d9e5906-b025-43e8-8173-0c01d1db124e",
   "metadata": {},
   "outputs": [],
   "source": [
    "with open(\"test.bin\",'wb') as f:\n",
    "    f.write(b\"\\x01\\x02\\x03\")"
   ]
  },
  {
   "cell_type": "code",
   "execution_count": 54,
   "id": "44449649-7d72-4e0d-81db-8df48dcf0bbc",
   "metadata": {},
   "outputs": [
    {
     "name": "stdout",
     "output_type": "stream",
     "text": [
      "b'\\x01\\x02\\x03'\n"
     ]
    }
   ],
   "source": [
    "with open(\"test.bin\",'rb') as f:\n",
    "    print(f.read())"
   ]
  },
  {
   "cell_type": "code",
   "execution_count": 56,
   "id": "7716cce1-4e4a-4ad6-aca1-bf863d25dbb3",
   "metadata": {},
   "outputs": [],
   "source": [
    "import io "
   ]
  },
  {
   "cell_type": "code",
   "execution_count": 59,
   "id": "7b744b49-18e9-4451-bc2f-2ea1e2f7bd51",
   "metadata": {},
   "outputs": [],
   "source": [
    "with open(\"test11\",'wb') as f:\n",
    "    file = io.BufferedWriter(f)\n",
    "    file.write(b\"this is my buffer write\\n\")\n",
    "    file.write(b\"this is the second line of my buffer\")\n",
    "    file.flush()"
   ]
  },
  {
   "cell_type": "code",
   "execution_count": 61,
   "id": "562808f5-0a9a-4be6-87e5-7bc9a935cdb7",
   "metadata": {},
   "outputs": [
    {
     "name": "stdout",
     "output_type": "stream",
     "text": [
      "b'this is my buffer write\\nthis is the second line of my buffer'\n"
     ]
    }
   ],
   "source": [
    "with open(\"test11\",'rb') as f:\n",
    "    file = io.BufferedReader(f)\n",
    "    data = file.read()\n",
    "    print(data)"
   ]
  },
  {
   "cell_type": "code",
   "execution_count": 94,
   "id": "a215d506-f37e-4886-aea9-c20d38a9979a",
   "metadata": {},
   "outputs": [
    {
     "name": "stdout",
     "output_type": "stream",
     "text": [
      "this is my print start\n"
     ]
    }
   ],
   "source": [
    "print(\"this is my print start\")"
   ]
  },
  {
   "cell_type": "code",
   "execution_count": null,
   "id": "b6e1e032-b7e3-4d2e-adff-06abf751186f",
   "metadata": {},
   "outputs": [],
   "source": []
  }
 ],
 "metadata": {
  "kernelspec": {
   "display_name": "Python 3 (ipykernel)",
   "language": "python",
   "name": "python3"
  },
  "language_info": {
   "codemirror_mode": {
    "name": "ipython",
    "version": 3
   },
   "file_extension": ".py",
   "mimetype": "text/x-python",
   "name": "python",
   "nbconvert_exporter": "python",
   "pygments_lexer": "ipython3",
   "version": "3.10.8"
  }
 },
 "nbformat": 4,
 "nbformat_minor": 5
}

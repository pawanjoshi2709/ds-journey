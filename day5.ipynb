{
 "cells": [
  {
   "cell_type": "markdown",
   "id": "20ad1893-53f1-4544-b6a4-95af1896c468",
   "metadata": {},
   "source": [
    "#Tuples"
   ]
  },
  {
   "cell_type": "code",
   "execution_count": 1,
   "id": "5727132a-a647-47fa-845f-417bc776b525",
   "metadata": {},
   "outputs": [],
   "source": [
    "t = ()"
   ]
  },
  {
   "cell_type": "code",
   "execution_count": 2,
   "id": "bea0d50d-1e10-429e-ac65-6ec03547b672",
   "metadata": {},
   "outputs": [
    {
     "data": {
      "text/plain": [
       "tuple"
      ]
     },
     "execution_count": 2,
     "metadata": {},
     "output_type": "execute_result"
    }
   ],
   "source": [
    "type(t)"
   ]
  },
  {
   "cell_type": "code",
   "execution_count": 3,
   "id": "429a0327-51de-4775-8098-2983eb805a49",
   "metadata": {},
   "outputs": [],
   "source": [
    "t1 = (1,2 ,3 ,4 ,45.3,\"hyy\")"
   ]
  },
  {
   "cell_type": "code",
   "execution_count": 4,
   "id": "bcc23525-31d5-467f-a5e9-b912e74ca3ea",
   "metadata": {},
   "outputs": [
    {
     "data": {
      "text/plain": [
       "(1, 2, 3, 4, 45.3, 'hyy')"
      ]
     },
     "execution_count": 4,
     "metadata": {},
     "output_type": "execute_result"
    }
   ],
   "source": [
    "t1"
   ]
  },
  {
   "cell_type": "code",
   "execution_count": 6,
   "id": "5149bc30-fb7d-43bb-8e56-82309ea4f187",
   "metadata": {},
   "outputs": [],
   "source": [
    "t2 =  (1,1,2)"
   ]
  },
  {
   "cell_type": "code",
   "execution_count": 7,
   "id": "5f27ae1e-13ce-4598-a936-abdb1e100c8a",
   "metadata": {},
   "outputs": [
    {
     "data": {
      "text/plain": [
       "(1, 1, 2)"
      ]
     },
     "execution_count": 7,
     "metadata": {},
     "output_type": "execute_result"
    }
   ],
   "source": [
    "t2"
   ]
  },
  {
   "cell_type": "code",
   "execution_count": 9,
   "id": "a7f3bdd4-dee8-429c-bc46-ea54eae087b4",
   "metadata": {},
   "outputs": [
    {
     "data": {
      "text/plain": [
       "1"
      ]
     },
     "execution_count": 9,
     "metadata": {},
     "output_type": "execute_result"
    }
   ],
   "source": [
    "t2[1]"
   ]
  },
  {
   "cell_type": "code",
   "execution_count": 10,
   "id": "fa37df9b-2d36-4040-9d15-5b41ef1cc60a",
   "metadata": {},
   "outputs": [
    {
     "data": {
      "text/plain": [
       "('hyy', 45.3, 4, 3, 2, 1)"
      ]
     },
     "execution_count": 10,
     "metadata": {},
     "output_type": "execute_result"
    }
   ],
   "source": [
    "t1[::-1]"
   ]
  },
  {
   "cell_type": "code",
   "execution_count": 11,
   "id": "4c0d61fe-b3b9-4f51-a747-b9270161a516",
   "metadata": {},
   "outputs": [
    {
     "data": {
      "text/plain": [
       "(1, 2, 3)"
      ]
     },
     "execution_count": 11,
     "metadata": {},
     "output_type": "execute_result"
    }
   ],
   "source": [
    "t1[0:3]"
   ]
  },
  {
   "cell_type": "code",
   "execution_count": 12,
   "id": "a9eb9b5f-91cb-4ba4-b9a4-b44a56025d49",
   "metadata": {},
   "outputs": [
    {
     "data": {
      "text/plain": [
       "1"
      ]
     },
     "execution_count": 12,
     "metadata": {},
     "output_type": "execute_result"
    }
   ],
   "source": [
    "t1.count(4)"
   ]
  },
  {
   "cell_type": "code",
   "execution_count": 13,
   "id": "200d6387-c05a-4625-a84f-6e52ebd89eca",
   "metadata": {},
   "outputs": [
    {
     "data": {
      "text/plain": [
       "0"
      ]
     },
     "execution_count": 13,
     "metadata": {},
     "output_type": "execute_result"
    }
   ],
   "source": [
    "t1.count(76)"
   ]
  },
  {
   "cell_type": "code",
   "execution_count": 14,
   "id": "31b30f6a-098b-4440-bb2f-1af8df08dc8b",
   "metadata": {},
   "outputs": [
    {
     "data": {
      "text/plain": [
       "1"
      ]
     },
     "execution_count": 14,
     "metadata": {},
     "output_type": "execute_result"
    }
   ],
   "source": [
    "t1.index(2)"
   ]
  },
  {
   "cell_type": "code",
   "execution_count": 15,
   "id": "6acb8695-f5f9-4eb2-97c8-03feb6b00dac",
   "metadata": {},
   "outputs": [
    {
     "data": {
      "text/plain": [
       "(1, 2, 3, 4, 45.3, 'hyy')"
      ]
     },
     "execution_count": 15,
     "metadata": {},
     "output_type": "execute_result"
    }
   ],
   "source": [
    "t1"
   ]
  },
  {
   "cell_type": "code",
   "execution_count": 16,
   "id": "48fc67a5-214f-45e1-a776-0716476161a8",
   "metadata": {},
   "outputs": [
    {
     "data": {
      "text/plain": [
       "4"
      ]
     },
     "execution_count": 16,
     "metadata": {},
     "output_type": "execute_result"
    }
   ],
   "source": [
    "t1.index(45.3)"
   ]
  },
  {
   "cell_type": "code",
   "execution_count": 17,
   "id": "7f52e39a-be17-4fdd-a446-b448a9915e2d",
   "metadata": {},
   "outputs": [
    {
     "ename": "TypeError",
     "evalue": "'tuple' object does not support item assignment",
     "output_type": "error",
     "traceback": [
      "\u001b[0;31m---------------------------------------------------------------------------\u001b[0m",
      "\u001b[0;31mTypeError\u001b[0m                                 Traceback (most recent call last)",
      "Cell \u001b[0;32mIn[17], line 1\u001b[0m\n\u001b[0;32m----> 1\u001b[0m \u001b[43mt1\u001b[49m\u001b[43m[\u001b[49m\u001b[38;5;241;43m0\u001b[39;49m\u001b[43m]\u001b[49m \u001b[38;5;241m=\u001b[39m \u001b[38;5;241m6\u001b[39m\n",
      "\u001b[0;31mTypeError\u001b[0m: 'tuple' object does not support item assignment"
     ]
    }
   ],
   "source": [
    "t1[0] = 6"
   ]
  },
  {
   "cell_type": "code",
   "execution_count": 18,
   "id": "1334d091-bcb7-49eb-b83f-170f54f25e68",
   "metadata": {},
   "outputs": [
    {
     "name": "stdout",
     "output_type": "stream",
     "text": [
      "1 <class 'int'>\n",
      "2 <class 'int'>\n",
      "3 <class 'int'>\n",
      "4 <class 'int'>\n",
      "45.3 <class 'float'>\n",
      "hyy <class 'str'>\n"
     ]
    }
   ],
   "source": [
    "for i in t1 :\n",
    "    print(i , type(i))"
   ]
  },
  {
   "cell_type": "code",
   "execution_count": 19,
   "id": "d445e8cb-83cf-4093-a1af-70007865af6c",
   "metadata": {},
   "outputs": [],
   "source": [
    "t2 = (1,2,3,3,4)"
   ]
  },
  {
   "cell_type": "code",
   "execution_count": 20,
   "id": "fc5e9199-b8f3-4a74-937f-9fe919398a67",
   "metadata": {},
   "outputs": [
    {
     "data": {
      "text/plain": [
       "(1, 2, 3, 3, 4)"
      ]
     },
     "execution_count": 20,
     "metadata": {},
     "output_type": "execute_result"
    }
   ],
   "source": [
    "t2"
   ]
  },
  {
   "cell_type": "code",
   "execution_count": 21,
   "id": "5f93ebfe-c4aa-4163-ad3c-801348d213b4",
   "metadata": {},
   "outputs": [
    {
     "data": {
      "text/plain": [
       "(1, 2, 3, 3, 4, 1, 2, 3, 3, 4, 1, 2, 3, 3, 4)"
      ]
     },
     "execution_count": 21,
     "metadata": {},
     "output_type": "execute_result"
    }
   ],
   "source": [
    "t2*3"
   ]
  },
  {
   "cell_type": "code",
   "execution_count": 22,
   "id": "eab109fe-9a11-4972-95d1-a61f2d879c1f",
   "metadata": {},
   "outputs": [
    {
     "data": {
      "text/plain": [
       "4"
      ]
     },
     "execution_count": 22,
     "metadata": {},
     "output_type": "execute_result"
    }
   ],
   "source": [
    "max(t2)"
   ]
  },
  {
   "cell_type": "code",
   "execution_count": 23,
   "id": "633ee2de-490a-46ac-9807-1b20e92baa13",
   "metadata": {},
   "outputs": [
    {
     "data": {
      "text/plain": [
       "1"
      ]
     },
     "execution_count": 23,
     "metadata": {},
     "output_type": "execute_result"
    }
   ],
   "source": [
    "min(t2)"
   ]
  },
  {
   "cell_type": "code",
   "execution_count": 24,
   "id": "951bafdb-448d-4e24-bd0a-79600c115309",
   "metadata": {},
   "outputs": [],
   "source": [
    "# tuples are immutable"
   ]
  },
  {
   "cell_type": "code",
   "execution_count": 25,
   "id": "7776dd3c-4ba4-448d-8e7b-b41c7a7b7092",
   "metadata": {},
   "outputs": [],
   "source": [
    "t1 = (1,2,3,4)\n",
    "t2 = (4,5,6,7)"
   ]
  },
  {
   "cell_type": "code",
   "execution_count": 26,
   "id": "4dce73f7-7fb3-47fe-9542-7926164f453a",
   "metadata": {},
   "outputs": [],
   "source": [
    "t3 = (t1,t2)"
   ]
  },
  {
   "cell_type": "code",
   "execution_count": 27,
   "id": "922e9cfd-a0cd-4fb6-9bcb-8fb6f644174c",
   "metadata": {},
   "outputs": [
    {
     "data": {
      "text/plain": [
       "((1, 2, 3, 4), (4, 5, 6, 7))"
      ]
     },
     "execution_count": 27,
     "metadata": {},
     "output_type": "execute_result"
    }
   ],
   "source": [
    "t3"
   ]
  },
  {
   "cell_type": "code",
   "execution_count": 28,
   "id": "f5754338-1dae-4ca8-bd60-f76a0b5235a7",
   "metadata": {},
   "outputs": [],
   "source": [
    "t4 = ((1,3),[1,4])"
   ]
  },
  {
   "cell_type": "code",
   "execution_count": 29,
   "id": "c3d1bd9b-5405-490c-b67d-3a9ae7e4cbb6",
   "metadata": {},
   "outputs": [
    {
     "data": {
      "text/plain": [
       "((1, 3), [1, 4])"
      ]
     },
     "execution_count": 29,
     "metadata": {},
     "output_type": "execute_result"
    }
   ],
   "source": [
    "t4"
   ]
  },
  {
   "cell_type": "code",
   "execution_count": 30,
   "id": "cb8cd4a2-3318-4c21-a16e-20d6ebe06b47",
   "metadata": {},
   "outputs": [],
   "source": [
    "t5 = [1,2,(1,5)]"
   ]
  },
  {
   "cell_type": "code",
   "execution_count": 31,
   "id": "d14e3166-9bdd-4689-9bf5-dac771df8aed",
   "metadata": {},
   "outputs": [
    {
     "data": {
      "text/plain": [
       "[1, 2, (1, 5)]"
      ]
     },
     "execution_count": 31,
     "metadata": {},
     "output_type": "execute_result"
    }
   ],
   "source": [
    "t5"
   ]
  },
  {
   "cell_type": "code",
   "execution_count": 32,
   "id": "a7eb254e-b130-4251-b46c-85f404c77ace",
   "metadata": {},
   "outputs": [],
   "source": [
    "del t4"
   ]
  },
  {
   "cell_type": "code",
   "execution_count": 33,
   "id": "4882a03f-ea30-4896-b033-3db9a0b97dc7",
   "metadata": {},
   "outputs": [
    {
     "ename": "NameError",
     "evalue": "name 't4' is not defined",
     "output_type": "error",
     "traceback": [
      "\u001b[0;31m---------------------------------------------------------------------------\u001b[0m",
      "\u001b[0;31mNameError\u001b[0m                                 Traceback (most recent call last)",
      "Cell \u001b[0;32mIn[33], line 1\u001b[0m\n\u001b[0;32m----> 1\u001b[0m \u001b[43mt4\u001b[49m\n",
      "\u001b[0;31mNameError\u001b[0m: name 't4' is not defined"
     ]
    }
   ],
   "source": [
    "t4"
   ]
  },
  {
   "cell_type": "code",
   "execution_count": 34,
   "id": "a244f695-9cf7-4ee3-a452-106ff05ba8c8",
   "metadata": {},
   "outputs": [
    {
     "data": {
      "text/plain": [
       "(1, 2, 3, 4)"
      ]
     },
     "execution_count": 34,
     "metadata": {},
     "output_type": "execute_result"
    }
   ],
   "source": [
    "t1"
   ]
  },
  {
   "cell_type": "code",
   "execution_count": 35,
   "id": "44463384-7a28-45ed-8c27-cf95d0449021",
   "metadata": {},
   "outputs": [
    {
     "data": {
      "text/plain": [
       "4"
      ]
     },
     "execution_count": 35,
     "metadata": {},
     "output_type": "execute_result"
    }
   ],
   "source": [
    "len(t1)"
   ]
  },
  {
   "cell_type": "code",
   "execution_count": 38,
   "id": "2d13a189-a713-4f87-b916-7a2d1c0d8ea5",
   "metadata": {},
   "outputs": [
    {
     "data": {
      "text/plain": [
       "True"
      ]
     },
     "execution_count": 38,
     "metadata": {},
     "output_type": "execute_result"
    }
   ],
   "source": [
    "# check element present in tuple \n",
    "2 in t1"
   ]
  },
  {
   "cell_type": "code",
   "execution_count": 37,
   "id": "4959c07f-922a-4108-932f-db998a0d96f9",
   "metadata": {},
   "outputs": [
    {
     "data": {
      "text/plain": [
       "False"
      ]
     },
     "execution_count": 37,
     "metadata": {},
     "output_type": "execute_result"
    }
   ],
   "source": [
    "5 in t1"
   ]
  },
  {
   "cell_type": "markdown",
   "id": "6c0ea163-71d7-468d-a084-2f267ad0e351",
   "metadata": {},
   "source": [
    "# sets\n"
   ]
  },
  {
   "cell_type": "code",
   "execution_count": 1,
   "id": "33bf9c1b-7098-4996-8db1-ec259270f800",
   "metadata": {},
   "outputs": [],
   "source": [
    "s1 = {}"
   ]
  },
  {
   "cell_type": "code",
   "execution_count": 2,
   "id": "949d3de3-b771-4d13-81aa-5edeb3f5a0ed",
   "metadata": {},
   "outputs": [
    {
     "data": {
      "text/plain": [
       "dict"
      ]
     },
     "execution_count": 2,
     "metadata": {},
     "output_type": "execute_result"
    }
   ],
   "source": [
    "type(s1)"
   ]
  },
  {
   "cell_type": "code",
   "execution_count": 3,
   "id": "20f82aaf-b38b-41e1-81f4-fcefc4069b49",
   "metadata": {},
   "outputs": [],
   "source": [
    "s1 = {1,2,3,4}"
   ]
  },
  {
   "cell_type": "code",
   "execution_count": 4,
   "id": "5f947eb8-9fba-4c10-940c-4c4a3928f72e",
   "metadata": {},
   "outputs": [
    {
     "data": {
      "text/plain": [
       "set"
      ]
     },
     "execution_count": 4,
     "metadata": {},
     "output_type": "execute_result"
    }
   ],
   "source": [
    "type(s1)"
   ]
  },
  {
   "cell_type": "code",
   "execution_count": 5,
   "id": "938c8b58-60ff-4b4a-9cd0-4cd80fb5f71c",
   "metadata": {},
   "outputs": [],
   "source": [
    "s2 = {1,2,2,3,2,2,3,4,5,6,7,8}"
   ]
  },
  {
   "cell_type": "code",
   "execution_count": 6,
   "id": "6c94e544-ec40-4efa-9454-6d89a84f6378",
   "metadata": {},
   "outputs": [
    {
     "data": {
      "text/plain": [
       "{1, 2, 3, 4, 5, 6, 7, 8}"
      ]
     },
     "execution_count": 6,
     "metadata": {},
     "output_type": "execute_result"
    }
   ],
   "source": [
    "s2"
   ]
  },
  {
   "cell_type": "code",
   "execution_count": 7,
   "id": "e2fa1800-d17b-467f-8412-17f03a68392c",
   "metadata": {},
   "outputs": [
    {
     "data": {
      "text/plain": [
       "[1, 2, 3, 4, 5, 6, 7, 8]"
      ]
     },
     "execution_count": 7,
     "metadata": {},
     "output_type": "execute_result"
    }
   ],
   "source": [
    "list(s2)"
   ]
  },
  {
   "cell_type": "code",
   "execution_count": 9,
   "id": "18147323-95df-473d-8671-20ba89dd016e",
   "metadata": {},
   "outputs": [
    {
     "data": {
      "text/plain": [
       "(1, 2, 3, 4, 5, 6, 7, 8)"
      ]
     },
     "execution_count": 9,
     "metadata": {},
     "output_type": "execute_result"
    }
   ],
   "source": [
    "tuple(s2)"
   ]
  },
  {
   "cell_type": "code",
   "execution_count": 10,
   "id": "0bae2f81-a4b1-4da1-954c-5e435fd7f237",
   "metadata": {},
   "outputs": [
    {
     "ename": "TypeError",
     "evalue": "unhashable type: 'list'",
     "output_type": "error",
     "traceback": [
      "\u001b[0;31m---------------------------------------------------------------------------\u001b[0m",
      "\u001b[0;31mTypeError\u001b[0m                                 Traceback (most recent call last)",
      "Cell \u001b[0;32mIn[10], line 1\u001b[0m\n\u001b[0;32m----> 1\u001b[0m s4 \u001b[38;5;241m=\u001b[39m {\u001b[38;5;241m1\u001b[39m,\u001b[38;5;241m2\u001b[39m,\u001b[38;5;241m3\u001b[39m,\u001b[38;5;241m4\u001b[39m,[\u001b[38;5;241m1\u001b[39m,\u001b[38;5;241m2\u001b[39m,\u001b[38;5;241m3\u001b[39m,\u001b[38;5;241m4\u001b[39m]}\n",
      "\u001b[0;31mTypeError\u001b[0m: unhashable type: 'list'"
     ]
    }
   ],
   "source": [
    "s4 = {1,2,3,4,[1,2,3,4]}"
   ]
  },
  {
   "cell_type": "code",
   "execution_count": 11,
   "id": "73cf92d8-24da-4bff-8cd4-19d50adb31fd",
   "metadata": {},
   "outputs": [],
   "source": [
    "s5 = {1,2,3,(2,3,4)}"
   ]
  },
  {
   "cell_type": "code",
   "execution_count": 14,
   "id": "54b66cd7-a2ea-4c13-835a-2e434874eea0",
   "metadata": {},
   "outputs": [],
   "source": [
    "s6 = (\"pawan\",\"Pawan\",3,2,2)"
   ]
  },
  {
   "cell_type": "code",
   "execution_count": 20,
   "id": "c53f5dc1-c936-47dd-81c6-aafbd1544b3a",
   "metadata": {},
   "outputs": [],
   "source": [
    "s7 = set(s6)"
   ]
  },
  {
   "cell_type": "code",
   "execution_count": 21,
   "id": "ffc7f089-d904-47b2-909e-40ed2d90afb3",
   "metadata": {},
   "outputs": [
    {
     "ename": "TypeError",
     "evalue": "'set' object is not subscriptable",
     "output_type": "error",
     "traceback": [
      "\u001b[0;31m---------------------------------------------------------------------------\u001b[0m",
      "\u001b[0;31mTypeError\u001b[0m                                 Traceback (most recent call last)",
      "Cell \u001b[0;32mIn[21], line 1\u001b[0m\n\u001b[0;32m----> 1\u001b[0m \u001b[43ms7\u001b[49m\u001b[43m[\u001b[49m\u001b[38;5;241;43m0\u001b[39;49m\u001b[43m]\u001b[49m\n",
      "\u001b[0;31mTypeError\u001b[0m: 'set' object is not subscriptable"
     ]
    }
   ],
   "source": [
    "s7[0]"
   ]
  },
  {
   "cell_type": "code",
   "execution_count": 22,
   "id": "dbb06511-587d-43be-89f1-91bce8e23c2b",
   "metadata": {},
   "outputs": [
    {
     "name": "stdout",
     "output_type": "stream",
     "text": [
      "Pawan\n",
      "3\n",
      "2\n",
      "pawan\n"
     ]
    }
   ],
   "source": [
    "for i in s7 :\n",
    "    print(i)"
   ]
  },
  {
   "cell_type": "code",
   "execution_count": 23,
   "id": "34f2fbb9-a925-4d5c-9baf-0c0e7d1f25b5",
   "metadata": {},
   "outputs": [],
   "source": [
    "s7.add(34)"
   ]
  },
  {
   "cell_type": "code",
   "execution_count": 24,
   "id": "4de83a72-044e-4d4f-8b0c-fecf137dc98c",
   "metadata": {},
   "outputs": [
    {
     "data": {
      "text/plain": [
       "{2, 3, 34, 'Pawan', 'pawan'}"
      ]
     },
     "execution_count": 24,
     "metadata": {},
     "output_type": "execute_result"
    }
   ],
   "source": [
    "s7"
   ]
  },
  {
   "cell_type": "code",
   "execution_count": 25,
   "id": "8d6ff2ad-75ad-4ddb-be4f-282e37fed696",
   "metadata": {},
   "outputs": [
    {
     "data": {
      "text/plain": [
       "5"
      ]
     },
     "execution_count": 25,
     "metadata": {},
     "output_type": "execute_result"
    }
   ],
   "source": [
    "len(s7)"
   ]
  },
  {
   "cell_type": "code",
   "execution_count": 26,
   "id": "199a3da4-85b9-4f30-b726-f30204bab135",
   "metadata": {},
   "outputs": [
    {
     "data": {
      "text/plain": [
       "2"
      ]
     },
     "execution_count": 26,
     "metadata": {},
     "output_type": "execute_result"
    }
   ],
   "source": [
    "s7.pop()"
   ]
  },
  {
   "cell_type": "code",
   "execution_count": 27,
   "id": "50e943a8-c758-495f-9c35-33adcd4d3d01",
   "metadata": {},
   "outputs": [
    {
     "data": {
      "text/plain": [
       "3"
      ]
     },
     "execution_count": 27,
     "metadata": {},
     "output_type": "execute_result"
    }
   ],
   "source": [
    "s7.pop()"
   ]
  },
  {
   "cell_type": "code",
   "execution_count": 28,
   "id": "ea221ddb-f374-4913-a26e-aee99405113f",
   "metadata": {},
   "outputs": [
    {
     "data": {
      "text/plain": [
       "{34, 'Pawan', 'pawan'}"
      ]
     },
     "execution_count": 28,
     "metadata": {},
     "output_type": "execute_result"
    }
   ],
   "source": [
    "s7"
   ]
  },
  {
   "cell_type": "code",
   "execution_count": 30,
   "id": "935b2b41-9d18-48f6-bf60-bacd47080701",
   "metadata": {},
   "outputs": [],
   "source": [
    "s7.clear()"
   ]
  },
  {
   "cell_type": "code",
   "execution_count": 31,
   "id": "49d733dc-f380-4a2d-8782-0b30c2e67d73",
   "metadata": {},
   "outputs": [
    {
     "data": {
      "text/plain": [
       "set()"
      ]
     },
     "execution_count": 31,
     "metadata": {},
     "output_type": "execute_result"
    }
   ],
   "source": [
    "s7"
   ]
  },
  {
   "cell_type": "code",
   "execution_count": 32,
   "id": "0ca95e39-4d6e-4ae2-bcb3-dce44cc71791",
   "metadata": {},
   "outputs": [],
   "source": [
    "s8 = {1,2,3,4}\n"
   ]
  },
  {
   "cell_type": "code",
   "execution_count": 50,
   "id": "71929d16-86ce-4ac2-9936-5e8108c43c8e",
   "metadata": {},
   "outputs": [],
   "source": [
    "s9 = {1,2,3,5}"
   ]
  },
  {
   "cell_type": "code",
   "execution_count": 34,
   "id": "28c67338-5054-4d29-9fb9-b945c9bfe5ae",
   "metadata": {},
   "outputs": [
    {
     "data": {
      "text/plain": [
       "{4}"
      ]
     },
     "execution_count": 34,
     "metadata": {},
     "output_type": "execute_result"
    }
   ],
   "source": [
    "s8.difference(s9)"
   ]
  },
  {
   "cell_type": "code",
   "execution_count": 51,
   "id": "dc243ff7-fcc8-4bea-a77c-0ca98cf1866b",
   "metadata": {},
   "outputs": [],
   "source": [
    "s8.difference_update(s9)"
   ]
  },
  {
   "cell_type": "code",
   "execution_count": 52,
   "id": "03ed27b7-4dea-45fe-822a-e8dd7934fd5c",
   "metadata": {},
   "outputs": [
    {
     "name": "stdout",
     "output_type": "stream",
     "text": [
      "{4}\n"
     ]
    }
   ],
   "source": [
    "print(s8)"
   ]
  },
  {
   "cell_type": "markdown",
   "id": "618771df-af01-4d29-b975-ace5547fad92",
   "metadata": {},
   "source": [
    "#dictionary"
   ]
  },
  {
   "cell_type": "code",
   "execution_count": 53,
   "id": "78d41d62-d80d-446a-8dc3-793bd54a9f7c",
   "metadata": {},
   "outputs": [],
   "source": [
    "d ={}"
   ]
  },
  {
   "cell_type": "code",
   "execution_count": 54,
   "id": "ffc17f77-dc77-4809-a297-1387c4e7d53e",
   "metadata": {},
   "outputs": [
    {
     "data": {
      "text/plain": [
       "dict"
      ]
     },
     "execution_count": 54,
     "metadata": {},
     "output_type": "execute_result"
    }
   ],
   "source": [
    "type(d)"
   ]
  },
  {
   "cell_type": "code",
   "execution_count": 55,
   "id": "48abcfbc-c778-4aa8-b231-a61a5706e55e",
   "metadata": {},
   "outputs": [],
   "source": [
    "d1 = {\"name\" : \"pawan\", \"wmail id\" : \"pawan@.com\",\"number\":1234}"
   ]
  },
  {
   "cell_type": "code",
   "execution_count": 56,
   "id": "83e54b94-6f1e-41c4-83b1-2a1f70bbb89f",
   "metadata": {},
   "outputs": [
    {
     "data": {
      "text/plain": [
       "{'name': 'pawan', 'wmail id': 'pawan@.com', 'number': 1234}"
      ]
     },
     "execution_count": 56,
     "metadata": {},
     "output_type": "execute_result"
    }
   ],
   "source": [
    "d1"
   ]
  },
  {
   "cell_type": "code",
   "execution_count": 57,
   "id": "c502c451-aff3-4fe3-8085-004bbc6dad34",
   "metadata": {},
   "outputs": [
    {
     "data": {
      "text/plain": [
       "dict"
      ]
     },
     "execution_count": 57,
     "metadata": {},
     "output_type": "execute_result"
    }
   ],
   "source": [
    "type(d1)"
   ]
  },
  {
   "cell_type": "code",
   "execution_count": 61,
   "id": "35a337ab-7dd2-4855-84d4-b1b2b482315c",
   "metadata": {},
   "outputs": [],
   "source": [
    "d2 ={\"name\" : \" pawan joshi\",\"name\" : \"pawan\"}"
   ]
  },
  {
   "cell_type": "code",
   "execution_count": 62,
   "id": "a1a1288c-10b6-4513-8592-cbdd475e7cf9",
   "metadata": {},
   "outputs": [
    {
     "data": {
      "text/plain": [
       "{'name': 'pawan'}"
      ]
     },
     "execution_count": 62,
     "metadata": {},
     "output_type": "execute_result"
    }
   ],
   "source": [
    "d2"
   ]
  },
  {
   "cell_type": "code",
   "execution_count": 63,
   "id": "a4d2341f-2551-4796-ac61-1b2588022148",
   "metadata": {},
   "outputs": [],
   "source": [
    "d3 = {123:\"abc\"}"
   ]
  },
  {
   "cell_type": "code",
   "execution_count": 64,
   "id": "0e49cdc4-8931-4657-b7d9-ca9812281223",
   "metadata": {},
   "outputs": [
    {
     "data": {
      "text/plain": [
       "{123: 'abc'}"
      ]
     },
     "execution_count": 64,
     "metadata": {},
     "output_type": "execute_result"
    }
   ],
   "source": [
    "d3"
   ]
  },
  {
   "cell_type": "code",
   "execution_count": 65,
   "id": "e5151db9-8fcd-47e6-986a-79caaba4f8a9",
   "metadata": {},
   "outputs": [],
   "source": [
    "d4 = { 234.45 : \"abc\"}"
   ]
  },
  {
   "cell_type": "code",
   "execution_count": 66,
   "id": "f571c7dc-dd79-4f9c-9556-13cafc47c82f",
   "metadata": {},
   "outputs": [
    {
     "data": {
      "text/plain": [
       "{234.45: 'abc'}"
      ]
     },
     "execution_count": 66,
     "metadata": {},
     "output_type": "execute_result"
    }
   ],
   "source": [
    "d4"
   ]
  },
  {
   "cell_type": "code",
   "execution_count": 67,
   "id": "cb001e33-159a-45fb-a8f1-0d59cb4a6359",
   "metadata": {},
   "outputs": [],
   "source": [
    "d5 = {True : \"abc\"}"
   ]
  },
  {
   "cell_type": "code",
   "execution_count": 68,
   "id": "981371d6-10a6-4f0b-af30-ae280bf3e10b",
   "metadata": {},
   "outputs": [
    {
     "data": {
      "text/plain": [
       "{True: 'abc'}"
      ]
     },
     "execution_count": 68,
     "metadata": {},
     "output_type": "execute_result"
    }
   ],
   "source": [
    "d5"
   ]
  },
  {
   "cell_type": "code",
   "execution_count": 69,
   "id": "2f0dbec1-b334-4bb3-bdb2-f0db26e2ab43",
   "metadata": {},
   "outputs": [
    {
     "ename": "SyntaxError",
     "evalue": "invalid syntax (1534914803.py, line 1)",
     "output_type": "error",
     "traceback": [
      "\u001b[0;36m  Cell \u001b[0;32mIn[69], line 1\u001b[0;36m\u001b[0m\n\u001b[0;31m    d6 = {$ : \"abc\"}\u001b[0m\n\u001b[0m          ^\u001b[0m\n\u001b[0;31mSyntaxError\u001b[0m\u001b[0;31m:\u001b[0m invalid syntax\n"
     ]
    }
   ],
   "source": [
    "d6 = {$ : \"abc\"}"
   ]
  },
  {
   "cell_type": "code",
   "execution_count": 70,
   "id": "82677bd6-dd46-4a71-ab71-2a5fc79586c9",
   "metadata": {},
   "outputs": [
    {
     "ename": "TypeError",
     "evalue": "unhashable type: 'list'",
     "output_type": "error",
     "traceback": [
      "\u001b[0;31m---------------------------------------------------------------------------\u001b[0m",
      "\u001b[0;31mTypeError\u001b[0m                                 Traceback (most recent call last)",
      "Cell \u001b[0;32mIn[70], line 1\u001b[0m\n\u001b[0;32m----> 1\u001b[0m d6 \u001b[38;5;241m=\u001b[39m { [\u001b[38;5;241m1\u001b[39m,\u001b[38;5;241m2\u001b[39m,\u001b[38;5;241m3\u001b[39m] : \u001b[38;5;124m\"\u001b[39m\u001b[38;5;124mabc\u001b[39m\u001b[38;5;124m\"\u001b[39m}\n",
      "\u001b[0;31mTypeError\u001b[0m: unhashable type: 'list'"
     ]
    }
   ],
   "source": [
    "d6 = { [1,2,3] : \"abc\"}"
   ]
  },
  {
   "cell_type": "code",
   "execution_count": 71,
   "id": "adad7206-4c85-4732-88bc-595003b72702",
   "metadata": {},
   "outputs": [],
   "source": [
    "d9 = { (1,2,3) : \"abc\"}"
   ]
  },
  {
   "cell_type": "code",
   "execution_count": 72,
   "id": "ccb93ce4-8eb6-41cb-a8ac-54372b877135",
   "metadata": {},
   "outputs": [
    {
     "data": {
      "text/plain": [
       "{(1, 2, 3): 'abc'}"
      ]
     },
     "execution_count": 72,
     "metadata": {},
     "output_type": "execute_result"
    }
   ],
   "source": [
    "d9"
   ]
  },
  {
   "cell_type": "code",
   "execution_count": 73,
   "id": "4bccc22e-c50e-4a10-8259-80bbab646c96",
   "metadata": {},
   "outputs": [
    {
     "ename": "TypeError",
     "evalue": "unhashable type: 'set'",
     "output_type": "error",
     "traceback": [
      "\u001b[0;31m---------------------------------------------------------------------------\u001b[0m",
      "\u001b[0;31mTypeError\u001b[0m                                 Traceback (most recent call last)",
      "Cell \u001b[0;32mIn[73], line 1\u001b[0m\n\u001b[0;32m----> 1\u001b[0m d10 \u001b[38;5;241m=\u001b[39m { { \u001b[38;5;241m1\u001b[39m,\u001b[38;5;241m2\u001b[39m,\u001b[38;5;241m3\u001b[39m} : \u001b[38;5;124m\"\u001b[39m\u001b[38;5;124mabc\u001b[39m\u001b[38;5;124m\"\u001b[39m }\n",
      "\u001b[0;31mTypeError\u001b[0m: unhashable type: 'set'"
     ]
    }
   ],
   "source": [
    "d10 = { { 1,2,3} : \"abc\" }"
   ]
  },
  {
   "cell_type": "code",
   "execution_count": 74,
   "id": "8900d0ee-ff4a-4d9c-a2c5-50a6768798e4",
   "metadata": {},
   "outputs": [
    {
     "ename": "TypeError",
     "evalue": "unhashable type: 'dict'",
     "output_type": "error",
     "traceback": [
      "\u001b[0;31m---------------------------------------------------------------------------\u001b[0m",
      "\u001b[0;31mTypeError\u001b[0m                                 Traceback (most recent call last)",
      "Cell \u001b[0;32mIn[74], line 1\u001b[0m\n\u001b[0;32m----> 1\u001b[0m d11 \u001b[38;5;241m=\u001b[39m {{\u001b[38;5;124m\"\u001b[39m\u001b[38;5;124mkey\u001b[39m\u001b[38;5;124m\"\u001b[39m:\u001b[38;5;241m234\u001b[39m} : \u001b[38;5;124m\"\u001b[39m\u001b[38;5;124mabc\u001b[39m\u001b[38;5;124m\"\u001b[39m}\n",
      "\u001b[0;31mTypeError\u001b[0m: unhashable type: 'dict'"
     ]
    }
   ],
   "source": [
    "d11 = {{\"key\":234} : \"abc\"}"
   ]
  },
  {
   "cell_type": "code",
   "execution_count": 76,
   "id": "b00756b2-9427-4893-aa39-f3c48f8f058e",
   "metadata": {},
   "outputs": [],
   "source": [
    "d12 = {\"course_name\" : [\" data scienc\",\"web devlopment\",\"java app dev \"]}"
   ]
  },
  {
   "cell_type": "code",
   "execution_count": 77,
   "id": "ead1ea72-c288-4013-b016-1e4e1de5d6d6",
   "metadata": {},
   "outputs": [
    {
     "data": {
      "text/plain": [
       "{'course_name': [' data scienc', 'web devlopment', 'java app dev ']}"
      ]
     },
     "execution_count": 77,
     "metadata": {},
     "output_type": "execute_result"
    }
   ],
   "source": [
    "d12"
   ]
  },
  {
   "cell_type": "code",
   "execution_count": 78,
   "id": "a02af35a-91d6-4b80-9499-68e5412d925b",
   "metadata": {},
   "outputs": [],
   "source": [
    "d13 = {\"key\" : (1,2,3,4,5)}"
   ]
  },
  {
   "cell_type": "code",
   "execution_count": 79,
   "id": "32797056-18e5-48d5-bd0a-f34ff11ed9c0",
   "metadata": {},
   "outputs": [
    {
     "data": {
      "text/plain": [
       "{'key': (1, 2, 3, 4, 5)}"
      ]
     },
     "execution_count": 79,
     "metadata": {},
     "output_type": "execute_result"
    }
   ],
   "source": [
    "d13"
   ]
  },
  {
   "cell_type": "code",
   "execution_count": 80,
   "id": "f7b7483e-afd7-482f-8423-c7f08fa2cd38",
   "metadata": {},
   "outputs": [],
   "source": [
    "d14 = {\"key \": {1,2,3}}"
   ]
  },
  {
   "cell_type": "code",
   "execution_count": 6,
   "id": "c5d11484-23a2-4347-b4fc-621e31ae020b",
   "metadata": {},
   "outputs": [],
   "source": [
    "d15 = { \"key \": { \"name\" : \"pawan\" , \"class \" : \"dsm\"}}"
   ]
  },
  {
   "cell_type": "code",
   "execution_count": 83,
   "id": "018fc57f-b791-46b9-94df-de6752e93dfa",
   "metadata": {},
   "outputs": [
    {
     "data": {
      "text/plain": [
       "{'key ': {'name': 'pawan', 'class ': 'dsm'}}"
      ]
     },
     "execution_count": 83,
     "metadata": {},
     "output_type": "execute_result"
    }
   ],
   "source": [
    "d15"
   ]
  },
  {
   "cell_type": "code",
   "execution_count": 7,
   "id": "6a5c001d-00e1-452e-a4dc-7cf888ed25f5",
   "metadata": {},
   "outputs": [],
   "source": [
    "d16 = { 'batch_name' : [\"data science \",\"web dev\" , \"jds\"],\"start_date\": (28,14,21),\"mentor\":{\"hyder\",\"krish\",\"shidhu\",\"hero\"}}"
   ]
  },
  {
   "cell_type": "code",
   "execution_count": 85,
   "id": "dfaa2072-6319-45d5-ad6a-5467bf6fb6ac",
   "metadata": {},
   "outputs": [
    {
     "data": {
      "text/plain": [
       "{'batch_name': ['data science ', 'web dev', 'jds'],\n",
       " 'start_date': (28, 14, 21),\n",
       " 'mentor': {'hero', 'hyder', 'krish', 'shidhu'}}"
      ]
     },
     "execution_count": 85,
     "metadata": {},
     "output_type": "execute_result"
    }
   ],
   "source": [
    "d16"
   ]
  },
  {
   "cell_type": "code",
   "execution_count": 86,
   "id": "8d0724e7-0f28-4384-9bbd-89e2251f8a79",
   "metadata": {},
   "outputs": [],
   "source": [
    "d16[\"timing\"] = (8,8,8)"
   ]
  },
  {
   "cell_type": "code",
   "execution_count": 87,
   "id": "4560ca4f-ae1a-46cc-b948-0f912a8fd081",
   "metadata": {},
   "outputs": [
    {
     "data": {
      "text/plain": [
       "{'batch_name': ['data science ', 'web dev', 'jds'],\n",
       " 'start_date': (28, 14, 21),\n",
       " 'mentor': {'hero', 'hyder', 'krish', 'shidhu'},\n",
       " 'timing': (8, 8, 8)}"
      ]
     },
     "execution_count": 87,
     "metadata": {},
     "output_type": "execute_result"
    }
   ],
   "source": [
    "d16"
   ]
  },
  {
   "cell_type": "code",
   "execution_count": 88,
   "id": "97724bf5-2fa2-4bb5-88d5-6628063894f4",
   "metadata": {},
   "outputs": [
    {
     "ename": "KeyError",
     "evalue": "0",
     "output_type": "error",
     "traceback": [
      "\u001b[0;31m---------------------------------------------------------------------------\u001b[0m",
      "\u001b[0;31mKeyError\u001b[0m                                  Traceback (most recent call last)",
      "Cell \u001b[0;32mIn[88], line 1\u001b[0m\n\u001b[0;32m----> 1\u001b[0m \u001b[43md16\u001b[49m\u001b[43m[\u001b[49m\u001b[38;5;241;43m0\u001b[39;49m\u001b[43m]\u001b[49m\n",
      "\u001b[0;31mKeyError\u001b[0m: 0"
     ]
    }
   ],
   "source": [
    "d16[0]"
   ]
  },
  {
   "cell_type": "code",
   "execution_count": 89,
   "id": "b11c7ced-8930-416d-a143-58cafcd625d6",
   "metadata": {},
   "outputs": [
    {
     "data": {
      "text/plain": [
       "(8, 8, 8)"
      ]
     },
     "execution_count": 89,
     "metadata": {},
     "output_type": "execute_result"
    }
   ],
   "source": [
    "d16[\"timing\"]"
   ]
  },
  {
   "cell_type": "code",
   "execution_count": 90,
   "id": "4fbab368-e81c-40a3-bf3b-2e19f84cb4fa",
   "metadata": {},
   "outputs": [
    {
     "data": {
      "text/plain": [
       "tuple"
      ]
     },
     "execution_count": 90,
     "metadata": {},
     "output_type": "execute_result"
    }
   ],
   "source": [
    "type(d16[\"timing\"])"
   ]
  },
  {
   "cell_type": "code",
   "execution_count": 91,
   "id": "8734f737-4608-4ece-9665-b39b5d709759",
   "metadata": {},
   "outputs": [],
   "source": [
    "d16[\"name\"] = \"pawan\""
   ]
  },
  {
   "cell_type": "code",
   "execution_count": 92,
   "id": "fdd339f5-6673-4ec4-a7f1-1f4d3d0452c1",
   "metadata": {},
   "outputs": [
    {
     "data": {
      "text/plain": [
       "{'batch_name': ['data science ', 'web dev', 'jds'],\n",
       " 'start_date': (28, 14, 21),\n",
       " 'mentor': {'hero', 'hyder', 'krish', 'shidhu'},\n",
       " 'timing': (8, 8, 8),\n",
       " 'name': 'pawan'}"
      ]
     },
     "execution_count": 92,
     "metadata": {},
     "output_type": "execute_result"
    }
   ],
   "source": [
    "d16"
   ]
  },
  {
   "cell_type": "code",
   "execution_count": 93,
   "id": "d279983c-8228-41f3-b459-a4d54244b194",
   "metadata": {},
   "outputs": [
    {
     "data": {
      "text/plain": [
       "'PAWAN'"
      ]
     },
     "execution_count": 93,
     "metadata": {},
     "output_type": "execute_result"
    }
   ],
   "source": [
    "d16 [\"name\"].upper()"
   ]
  },
  {
   "cell_type": "code",
   "execution_count": 94,
   "id": "7229b26c-9991-4ee8-91a0-abd40a913cfe",
   "metadata": {},
   "outputs": [
    {
     "data": {
      "text/plain": [
       "{'key ': {'name': 'pawan', 'class ': 'dsm'}}"
      ]
     },
     "execution_count": 94,
     "metadata": {},
     "output_type": "execute_result"
    }
   ],
   "source": [
    "d15"
   ]
  },
  {
   "cell_type": "code",
   "execution_count": 98,
   "id": "58908ede-1f11-4156-b1ea-549d8e21e051",
   "metadata": {},
   "outputs": [
    {
     "data": {
      "text/plain": [
       "{'name': 'pawan', 'class ': 'dsm'}"
      ]
     },
     "execution_count": 98,
     "metadata": {},
     "output_type": "execute_result"
    }
   ],
   "source": [
    "d15['key ']"
   ]
  },
  {
   "cell_type": "code",
   "execution_count": 100,
   "id": "e828999b-8006-4b06-9de1-21590b1f35b1",
   "metadata": {},
   "outputs": [
    {
     "data": {
      "text/plain": [
       "'dsm'"
      ]
     },
     "execution_count": 100,
     "metadata": {},
     "output_type": "execute_result"
    }
   ],
   "source": [
    "d15['key ']['class ']"
   ]
  },
  {
   "cell_type": "code",
   "execution_count": 101,
   "id": "f6a2c870-b43d-4213-a9cd-358de43ef784",
   "metadata": {},
   "outputs": [],
   "source": [
    "d15[\"key1\"] = \"abc\""
   ]
  },
  {
   "cell_type": "code",
   "execution_count": 8,
   "id": "09a5f6e5-a89a-4ec7-ba69-be04427d24cd",
   "metadata": {},
   "outputs": [
    {
     "data": {
      "text/plain": [
       "{'key ': {'name': 'pawan', 'class ': 'dsm'}}"
      ]
     },
     "execution_count": 8,
     "metadata": {},
     "output_type": "execute_result"
    }
   ],
   "source": [
    "d15"
   ]
  },
  {
   "cell_type": "code",
   "execution_count": 103,
   "id": "0410f2cb-165c-4ac7-b004-3ef6c8c94a02",
   "metadata": {},
   "outputs": [],
   "source": [
    "del d15['key1']"
   ]
  },
  {
   "cell_type": "code",
   "execution_count": 104,
   "id": "cc597b85-4ece-4823-bd5e-df7c35fb6a01",
   "metadata": {},
   "outputs": [
    {
     "data": {
      "text/plain": [
       "{'key ': {'name': 'pawan', 'class ': 'dsm'}}"
      ]
     },
     "execution_count": 104,
     "metadata": {},
     "output_type": "execute_result"
    }
   ],
   "source": [
    "d15"
   ]
  },
  {
   "cell_type": "code",
   "execution_count": 9,
   "id": "df3efd64-3ed6-4f09-8b39-d5a128f8d1f8",
   "metadata": {},
   "outputs": [
    {
     "data": {
      "text/plain": [
       "{'key ': {'name': 'pawan', 'class ': 'dsm'}}"
      ]
     },
     "execution_count": 9,
     "metadata": {},
     "output_type": "execute_result"
    }
   ],
   "source": [
    "d15"
   ]
  },
  {
   "cell_type": "code",
   "execution_count": 10,
   "id": "ae9f9dae-5b17-47c4-831b-7eb625d05a54",
   "metadata": {},
   "outputs": [
    {
     "data": {
      "text/plain": [
       "3"
      ]
     },
     "execution_count": 10,
     "metadata": {},
     "output_type": "execute_result"
    }
   ],
   "source": [
    "len(d16)"
   ]
  },
  {
   "cell_type": "code",
   "execution_count": 11,
   "id": "fe9a2247-a6ba-4767-b1a4-f6239ea9160a",
   "metadata": {},
   "outputs": [
    {
     "data": {
      "text/plain": [
       "{'batch_name': ['data science ', 'web dev', 'jds'],\n",
       " 'start_date': (28, 14, 21),\n",
       " 'mentor': {'hero', 'hyder', 'krish', 'shidhu'}}"
      ]
     },
     "execution_count": 11,
     "metadata": {},
     "output_type": "execute_result"
    }
   ],
   "source": [
    "d16"
   ]
  },
  {
   "cell_type": "code",
   "execution_count": 12,
   "id": "3c78be0b-229c-45f8-acf6-597c59de5b8e",
   "metadata": {},
   "outputs": [
    {
     "data": {
      "text/plain": [
       "dict_values([['data science ', 'web dev', 'jds'], (28, 14, 21), {'krish', 'hyder', 'hero', 'shidhu'}])"
      ]
     },
     "execution_count": 12,
     "metadata": {},
     "output_type": "execute_result"
    }
   ],
   "source": [
    "d16.values()"
   ]
  },
  {
   "cell_type": "code",
   "execution_count": 13,
   "id": "96948f3b-df3a-4461-8f27-f693fdef3945",
   "metadata": {},
   "outputs": [
    {
     "data": {
      "text/plain": [
       "['batch_name', 'start_date', 'mentor']"
      ]
     },
     "execution_count": 13,
     "metadata": {},
     "output_type": "execute_result"
    }
   ],
   "source": [
    "list(d16.keys())"
   ]
  },
  {
   "cell_type": "code",
   "execution_count": 15,
   "id": "173e3c45-a278-40e3-93f9-183236734199",
   "metadata": {},
   "outputs": [
    {
     "data": {
      "text/plain": [
       "[['data science ', 'web dev', 'jds'],\n",
       " (28, 14, 21),\n",
       " {'hero', 'hyder', 'krish', 'shidhu'}]"
      ]
     },
     "execution_count": 15,
     "metadata": {},
     "output_type": "execute_result"
    }
   ],
   "source": [
    "list(d16.values())"
   ]
  },
  {
   "cell_type": "code",
   "execution_count": 16,
   "id": "c8a278eb-e908-4814-ae7d-71fe48d55619",
   "metadata": {},
   "outputs": [
    {
     "data": {
      "text/plain": [
       "[('batch_name', ['data science ', 'web dev', 'jds']),\n",
       " ('start_date', (28, 14, 21)),\n",
       " ('mentor', {'hero', 'hyder', 'krish', 'shidhu'})]"
      ]
     },
     "execution_count": 16,
     "metadata": {},
     "output_type": "execute_result"
    }
   ],
   "source": [
    "list(d16.items())"
   ]
  },
  {
   "cell_type": "code",
   "execution_count": 21,
   "id": "89d58259-4ebf-4c12-9a13-f1d4dddf0e1d",
   "metadata": {},
   "outputs": [],
   "source": [
    "#make new space\n",
    "d17 = d16.copy()"
   ]
  },
  {
   "cell_type": "code",
   "execution_count": 18,
   "id": "28025118-a12f-4e3c-9e57-11bd9e026096",
   "metadata": {},
   "outputs": [
    {
     "data": {
      "text/plain": [
       "{'batch_name': ['data science ', 'web dev', 'jds'],\n",
       " 'start_date': (28, 14, 21),\n",
       " 'mentor': {'hero', 'hyder', 'krish', 'shidhu'}}"
      ]
     },
     "execution_count": 18,
     "metadata": {},
     "output_type": "execute_result"
    }
   ],
   "source": [
    "d17"
   ]
  },
  {
   "cell_type": "code",
   "execution_count": 22,
   "id": "49e0d01f-dfa2-41e0-9f98-2cb3c55cf3f7",
   "metadata": {},
   "outputs": [],
   "source": [
    "# not make new space \n",
    "d18 = d16"
   ]
  },
  {
   "cell_type": "code",
   "execution_count": 23,
   "id": "d36090da-d25a-4604-a264-d12b3d38d604",
   "metadata": {},
   "outputs": [],
   "source": [
    "del d16[\"mentor\"]"
   ]
  },
  {
   "cell_type": "code",
   "execution_count": 24,
   "id": "2d9f8e1f-70ec-4d3b-b3f0-a07b698a0108",
   "metadata": {},
   "outputs": [
    {
     "data": {
      "text/plain": [
       "{'batch_name': ['data science ', 'web dev', 'jds'], 'start_date': (28, 14, 21)}"
      ]
     },
     "execution_count": 24,
     "metadata": {},
     "output_type": "execute_result"
    }
   ],
   "source": [
    "d18"
   ]
  },
  {
   "cell_type": "code",
   "execution_count": 25,
   "id": "ee2d26aa-3e06-4dc4-8a40-1af85e9f4397",
   "metadata": {},
   "outputs": [
    {
     "data": {
      "text/plain": [
       "{'batch_name': ['data science ', 'web dev', 'jds'],\n",
       " 'start_date': (28, 14, 21),\n",
       " 'mentor': {'hero', 'hyder', 'krish', 'shidhu'}}"
      ]
     },
     "execution_count": 25,
     "metadata": {},
     "output_type": "execute_result"
    }
   ],
   "source": [
    "d17"
   ]
  },
  {
   "cell_type": "code",
   "execution_count": 26,
   "id": "bb3912c4-6a44-4c02-9b38-45a8b41fcd95",
   "metadata": {},
   "outputs": [
    {
     "ename": "TypeError",
     "evalue": "pop expected at least 1 argument, got 0",
     "output_type": "error",
     "traceback": [
      "\u001b[0;31m---------------------------------------------------------------------------\u001b[0m",
      "\u001b[0;31mTypeError\u001b[0m                                 Traceback (most recent call last)",
      "Cell \u001b[0;32mIn[26], line 1\u001b[0m\n\u001b[0;32m----> 1\u001b[0m \u001b[43md16\u001b[49m\u001b[38;5;241;43m.\u001b[39;49m\u001b[43mpop\u001b[49m\u001b[43m(\u001b[49m\u001b[43m)\u001b[49m\n",
      "\u001b[0;31mTypeError\u001b[0m: pop expected at least 1 argument, got 0"
     ]
    }
   ],
   "source": [
    "d16.pop()"
   ]
  },
  {
   "cell_type": "code",
   "execution_count": 27,
   "id": "1b833531-c3a2-4cbb-8ae7-47a538012e76",
   "metadata": {},
   "outputs": [
    {
     "data": {
      "text/plain": [
       "(28, 14, 21)"
      ]
     },
     "execution_count": 27,
     "metadata": {},
     "output_type": "execute_result"
    }
   ],
   "source": [
    "d16.pop(\"start_date\")"
   ]
  },
  {
   "cell_type": "code",
   "execution_count": 29,
   "id": "7962df41-0c55-4956-855f-9d0b0a4eb269",
   "metadata": {},
   "outputs": [],
   "source": [
    "d = {}"
   ]
  },
  {
   "cell_type": "code",
   "execution_count": 30,
   "id": "8f55fd39-1de3-47c9-b96e-499965fb583c",
   "metadata": {},
   "outputs": [
    {
     "data": {
      "text/plain": [
       "{1: ('a', 'b', 'c'), 2: ('a', 'b', 'c'), 3: ('a', 'b', 'c')}"
      ]
     },
     "execution_count": 30,
     "metadata": {},
     "output_type": "execute_result"
    }
   ],
   "source": [
    "d.fromkeys((1,2,3),('a','b','c'))"
   ]
  },
  {
   "cell_type": "code",
   "execution_count": 31,
   "id": "fdb0821a-e84f-4157-9eca-fb2fb6af9f46",
   "metadata": {},
   "outputs": [],
   "source": [
    "d19 = {\"key1\":\"values\",\"keys2\" : \"values2\"}\n",
    "d20 = {\"key3\":\"values3\",\"keys4\" : \"values4\"}"
   ]
  },
  {
   "cell_type": "code",
   "execution_count": 32,
   "id": "06b87cfa-bb1c-4a4f-8e19-bca76d187abb",
   "metadata": {},
   "outputs": [
    {
     "data": {
      "text/plain": [
       "({'key1': 'values', 'keys2': 'values2'},\n",
       " {'key3': 'values3', 'keys4': 'values4'})"
      ]
     },
     "execution_count": 32,
     "metadata": {},
     "output_type": "execute_result"
    }
   ],
   "source": [
    "(d19,d20)"
   ]
  },
  {
   "cell_type": "code",
   "execution_count": 34,
   "id": "c3747f60-d678-4527-abe0-5c84115e814d",
   "metadata": {},
   "outputs": [],
   "source": [
    "d19.update(d20)"
   ]
  },
  {
   "cell_type": "code",
   "execution_count": 35,
   "id": "5673c967-457c-421d-b8e6-bdeae19389bd",
   "metadata": {},
   "outputs": [
    {
     "data": {
      "text/plain": [
       "{'key1': 'values', 'keys2': 'values2', 'key3': 'values3', 'keys4': 'values4'}"
      ]
     },
     "execution_count": 35,
     "metadata": {},
     "output_type": "execute_result"
    }
   ],
   "source": [
    "d19"
   ]
  },
  {
   "cell_type": "code",
   "execution_count": 36,
   "id": "e9260063-e3e3-4f41-bbff-525ea306efb8",
   "metadata": {},
   "outputs": [],
   "source": [
    "d19.get(\"sudh\")"
   ]
  },
  {
   "cell_type": "code",
   "execution_count": 37,
   "id": "8a6aa2c7-3b80-4eab-a184-73c0ac3d34dd",
   "metadata": {},
   "outputs": [
    {
     "data": {
      "text/plain": [
       "'values3'"
      ]
     },
     "execution_count": 37,
     "metadata": {},
     "output_type": "execute_result"
    }
   ],
   "source": [
    "d20.get(\"key3\")"
   ]
  },
  {
   "cell_type": "code",
   "execution_count": 38,
   "id": "8932f3ce-4e30-4d19-9557-7b274b78faf9",
   "metadata": {},
   "outputs": [
    {
     "ename": "TypeError",
     "evalue": "'dict' object is not callable",
     "output_type": "error",
     "traceback": [
      "\u001b[0;31m---------------------------------------------------------------------------\u001b[0m",
      "\u001b[0;31mTypeError\u001b[0m                                 Traceback (most recent call last)",
      "Cell \u001b[0;32mIn[38], line 1\u001b[0m\n\u001b[0;32m----> 1\u001b[0m \u001b[43md19\u001b[49m\u001b[43m(\u001b[49m\u001b[38;5;124;43m\"\u001b[39;49m\u001b[38;5;124;43msudh\u001b[39;49m\u001b[38;5;124;43m\"\u001b[39;49m\u001b[43m)\u001b[49m\n",
      "\u001b[0;31mTypeError\u001b[0m: 'dict' object is not callable"
     ]
    }
   ],
   "source": [
    "d19(\"sudh\")"
   ]
  },
  {
   "cell_type": "code",
   "execution_count": 39,
   "id": "1b34a25f-3216-48d0-b824-41e37b51a48d",
   "metadata": {},
   "outputs": [
    {
     "data": {
      "text/plain": [
       "{1: 1, 2: 4, 3: 9, 4: 16, 5: 25, 6: 36, 7: 49, 8: 64, 9: 81, 10: 100}"
      ]
     },
     "execution_count": 39,
     "metadata": {},
     "output_type": "execute_result"
    }
   ],
   "source": [
    "{i : i**2 for i in range(1,11)}"
   ]
  },
  {
   "cell_type": "code",
   "execution_count": 46,
   "id": "aa7e3881-0a20-43d2-911d-fcac3cc299b8",
   "metadata": {},
   "outputs": [],
   "source": [
    "import math\n",
    "d21 = {i : math.log10(i) for i in range(1,11)}"
   ]
  },
  {
   "cell_type": "code",
   "execution_count": 43,
   "id": "64443797-e727-4ea4-863b-f8d8f31e8422",
   "metadata": {},
   "outputs": [
    {
     "data": {
      "text/plain": [
       "{'batch_name': ['data science ', 'web dev', 'jds']}"
      ]
     },
     "execution_count": 43,
     "metadata": {},
     "output_type": "execute_result"
    }
   ],
   "source": [
    "d16"
   ]
  },
  {
   "cell_type": "code",
   "execution_count": 44,
   "id": "c3c2e573-3215-4faf-941b-dd3e39f14da7",
   "metadata": {},
   "outputs": [
    {
     "data": {
      "text/plain": [
       "True"
      ]
     },
     "execution_count": 44,
     "metadata": {},
     "output_type": "execute_result"
    }
   ],
   "source": [
    "\"batch_name\" in d16"
   ]
  },
  {
   "cell_type": "code",
   "execution_count": 51,
   "id": "2993e2c7-91e6-422c-8288-c803caff8717",
   "metadata": {},
   "outputs": [
    {
     "data": {
      "text/plain": [
       "{0.3010299956639812,\n",
       " 0.6020599913279624,\n",
       " 0.7781512503836436,\n",
       " 0.9030899869919435,\n",
       " 1.0}"
      ]
     },
     "execution_count": 51,
     "metadata": {},
     "output_type": "execute_result"
    }
   ],
   "source": [
    "{d21[i] for i in d21.keys() if i % 2 == 0}"
   ]
  },
  {
   "cell_type": "code",
   "execution_count": null,
   "id": "14af1153-e22e-43f4-9592-4331235fdfed",
   "metadata": {},
   "outputs": [],
   "source": []
  }
 ],
 "metadata": {
  "kernelspec": {
   "display_name": "Python 3 (ipykernel)",
   "language": "python",
   "name": "python3"
  },
  "language_info": {
   "codemirror_mode": {
    "name": "ipython",
    "version": 3
   },
   "file_extension": ".py",
   "mimetype": "text/x-python",
   "name": "python",
   "nbconvert_exporter": "python",
   "pygments_lexer": "ipython3",
   "version": "3.10.8"
  }
 },
 "nbformat": 4,
 "nbformat_minor": 5
}

{
 "cells": [
  {
   "cell_type": "code",
   "execution_count": 23,
   "id": "c67a3caa-6d83-40d1-957c-0a52c77c4fa3",
   "metadata": {},
   "outputs": [
    {
     "name": "stdout",
     "output_type": "stream",
     "text": [
      "flatter list is  [1, 2, 3, 4, 44, 55, 66, True, False, 34, 56, 78, 89, 34, 1, 2, 3, 1, 34, 'key2', 55, 67, 78, 89, 4, 45, 22, 61, 34, 56, 'data science', 'machine learning']\n"
     ]
    },
    {
     "data": {
      "text/plain": [
       "('product of all number in list is ', 4134711838987085478833841242112000)"
      ]
     },
     "execution_count": 23,
     "metadata": {},
     "output_type": "execute_result"
    }
   ],
   "source": [
    "#1 create a function which will take a list of argument and return the productof all the numbers after creating a flat list.\n",
    "list1 =[1,2,3,4,[44,55,66,True],False,(34,56,78,89,34),{1,2,3,3,2,1},{1:34,\"key2\":[55,67,78,89],4:(45,22,61,34)},[56,'data science'],'machine learning']\n",
    "def singlelist(list1):\n",
    "    a = []\n",
    "    for i in list1:\n",
    "        if type(i) == list or type(i)== tuple or type(i) == set :\n",
    "            for j in i:\n",
    "                a.append(j)\n",
    "        elif type(i) == dict:\n",
    "            for j in i:\n",
    "                a.append(j)\n",
    "                if type(i[j]) == list or type(i[j])== tuple or type(i[j]) == set :\n",
    "                    for k in i[j]:\n",
    "                        a.append(k)\n",
    "                else:\n",
    "                    a.append(i[j])\n",
    "        else:\n",
    "            a.append(i)\n",
    "    c = 1\n",
    "    for i in  a :\n",
    "        if type(i) == int or type(i) == float:\n",
    "            c = c*i\n",
    "    print(\"flatter list is \",a)\n",
    "    return \"product of all number in list is \",c\n",
    "singlelist(list1)\n",
    "\n",
    "            "
   ]
  },
  {
   "cell_type": "code",
   "execution_count": 61,
   "id": "b62a45b0-0d22-482c-8e09-ae5c5a398dc3",
   "metadata": {},
   "outputs": [
    {
     "name": "stdout",
     "output_type": "stream",
     "text": [
      "r@dzmg@gl@yvxlnv@z@wzgz@hxrvmgrhg."
     ]
    }
   ],
   "source": [
    "#2 write a python program for encrypting a message sent to you by your friend. the logic of encryption should be such that,\n",
    "# for a the output should be z. for b,the output should be y . for c, the output should be x respectively.also ,the whitespace should be \n",
    "# replaced with a dollar sign. keep the punctuation marks unchanged\n",
    "input1 = \"I want to become a Data Scientist.\"\n",
    "#convert the given input sentance into lower case before encrypting. the final ans should be lowercase \n",
    "input2 = input1.lower()\n",
    "for i in input2 :\n",
    "    if i == ' ':\n",
    "        i = '@'\n",
    "    elif ord(i) >96 and ord(i) < 123:\n",
    "        if  ord(i)<=109:\n",
    "            c = 110 - ord(i)\n",
    "            i = chr(ord(i)+(2*c-1))\n",
    "        else:\n",
    "            c = ord(i) -109\n",
    "            i = chr(ord(i) - (2*c -1)) \n",
    "    print(i,end=\"\")\n",
    "                \n",
    "                "
   ]
  },
  {
   "cell_type": "code",
   "execution_count": null,
   "id": "d5b72638-a938-42c6-baeb-498a36da83d0",
   "metadata": {},
   "outputs": [],
   "source": [
    "\n"
   ]
  },
  {
   "cell_type": "code",
   "execution_count": null,
   "id": "037fe4cd-d379-4b30-bf24-c0088af2f813",
   "metadata": {},
   "outputs": [],
   "source": []
  }
 ],
 "metadata": {
  "kernelspec": {
   "display_name": "Python 3 (ipykernel)",
   "language": "python",
   "name": "python3"
  },
  "language_info": {
   "codemirror_mode": {
    "name": "ipython",
    "version": 3
   },
   "file_extension": ".py",
   "mimetype": "text/x-python",
   "name": "python",
   "nbconvert_exporter": "python",
   "pygments_lexer": "ipython3",
   "version": "3.10.8"
  }
 },
 "nbformat": 4,
 "nbformat_minor": 5
}

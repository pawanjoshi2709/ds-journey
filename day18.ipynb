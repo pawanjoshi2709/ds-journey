{
 "cells": [
  {
   "cell_type": "code",
   "execution_count": 1,
   "id": "cfcbe699-cb4d-4a1e-8791-2dbf27d3e1a2",
   "metadata": {},
   "outputs": [],
   "source": [
    "#hanadling missing data\n",
    "import seaborn as sns "
   ]
  },
  {
   "cell_type": "code",
   "execution_count": 2,
   "id": "e3bc9c43-38e3-4ddb-8331-f89af2331e51",
   "metadata": {},
   "outputs": [],
   "source": [
    "df = sns.load_dataset(\"titanic\")"
   ]
  },
  {
   "cell_type": "code",
   "execution_count": 5,
   "id": "55a1108c-8388-41f5-b03b-9bc6cdc387aa",
   "metadata": {},
   "outputs": [
    {
     "data": {
      "text/html": [
       "<div>\n",
       "<style scoped>\n",
       "    .dataframe tbody tr th:only-of-type {\n",
       "        vertical-align: middle;\n",
       "    }\n",
       "\n",
       "    .dataframe tbody tr th {\n",
       "        vertical-align: top;\n",
       "    }\n",
       "\n",
       "    .dataframe thead th {\n",
       "        text-align: right;\n",
       "    }\n",
       "</style>\n",
       "<table border=\"1\" class=\"dataframe\">\n",
       "  <thead>\n",
       "    <tr style=\"text-align: right;\">\n",
       "      <th></th>\n",
       "      <th>survived</th>\n",
       "      <th>pclass</th>\n",
       "      <th>sex</th>\n",
       "      <th>age</th>\n",
       "      <th>sibsp</th>\n",
       "      <th>parch</th>\n",
       "      <th>fare</th>\n",
       "      <th>embarked</th>\n",
       "      <th>class</th>\n",
       "      <th>who</th>\n",
       "      <th>adult_male</th>\n",
       "      <th>deck</th>\n",
       "      <th>embark_town</th>\n",
       "      <th>alive</th>\n",
       "      <th>alone</th>\n",
       "    </tr>\n",
       "  </thead>\n",
       "  <tbody>\n",
       "    <tr>\n",
       "      <th>0</th>\n",
       "      <td>0</td>\n",
       "      <td>3</td>\n",
       "      <td>male</td>\n",
       "      <td>22.0</td>\n",
       "      <td>1</td>\n",
       "      <td>0</td>\n",
       "      <td>7.2500</td>\n",
       "      <td>S</td>\n",
       "      <td>Third</td>\n",
       "      <td>man</td>\n",
       "      <td>True</td>\n",
       "      <td>NaN</td>\n",
       "      <td>Southampton</td>\n",
       "      <td>no</td>\n",
       "      <td>False</td>\n",
       "    </tr>\n",
       "    <tr>\n",
       "      <th>1</th>\n",
       "      <td>1</td>\n",
       "      <td>1</td>\n",
       "      <td>female</td>\n",
       "      <td>38.0</td>\n",
       "      <td>1</td>\n",
       "      <td>0</td>\n",
       "      <td>71.2833</td>\n",
       "      <td>C</td>\n",
       "      <td>First</td>\n",
       "      <td>woman</td>\n",
       "      <td>False</td>\n",
       "      <td>C</td>\n",
       "      <td>Cherbourg</td>\n",
       "      <td>yes</td>\n",
       "      <td>False</td>\n",
       "    </tr>\n",
       "    <tr>\n",
       "      <th>2</th>\n",
       "      <td>1</td>\n",
       "      <td>3</td>\n",
       "      <td>female</td>\n",
       "      <td>26.0</td>\n",
       "      <td>0</td>\n",
       "      <td>0</td>\n",
       "      <td>7.9250</td>\n",
       "      <td>S</td>\n",
       "      <td>Third</td>\n",
       "      <td>woman</td>\n",
       "      <td>False</td>\n",
       "      <td>NaN</td>\n",
       "      <td>Southampton</td>\n",
       "      <td>yes</td>\n",
       "      <td>True</td>\n",
       "    </tr>\n",
       "    <tr>\n",
       "      <th>3</th>\n",
       "      <td>1</td>\n",
       "      <td>1</td>\n",
       "      <td>female</td>\n",
       "      <td>35.0</td>\n",
       "      <td>1</td>\n",
       "      <td>0</td>\n",
       "      <td>53.1000</td>\n",
       "      <td>S</td>\n",
       "      <td>First</td>\n",
       "      <td>woman</td>\n",
       "      <td>False</td>\n",
       "      <td>C</td>\n",
       "      <td>Southampton</td>\n",
       "      <td>yes</td>\n",
       "      <td>False</td>\n",
       "    </tr>\n",
       "    <tr>\n",
       "      <th>4</th>\n",
       "      <td>0</td>\n",
       "      <td>3</td>\n",
       "      <td>male</td>\n",
       "      <td>35.0</td>\n",
       "      <td>0</td>\n",
       "      <td>0</td>\n",
       "      <td>8.0500</td>\n",
       "      <td>S</td>\n",
       "      <td>Third</td>\n",
       "      <td>man</td>\n",
       "      <td>True</td>\n",
       "      <td>NaN</td>\n",
       "      <td>Southampton</td>\n",
       "      <td>no</td>\n",
       "      <td>True</td>\n",
       "    </tr>\n",
       "  </tbody>\n",
       "</table>\n",
       "</div>"
      ],
      "text/plain": [
       "   survived  pclass     sex   age  sibsp  parch     fare embarked  class  \\\n",
       "0         0       3    male  22.0      1      0   7.2500        S  Third   \n",
       "1         1       1  female  38.0      1      0  71.2833        C  First   \n",
       "2         1       3  female  26.0      0      0   7.9250        S  Third   \n",
       "3         1       1  female  35.0      1      0  53.1000        S  First   \n",
       "4         0       3    male  35.0      0      0   8.0500        S  Third   \n",
       "\n",
       "     who  adult_male deck  embark_town alive  alone  \n",
       "0    man        True  NaN  Southampton    no  False  \n",
       "1  woman       False    C    Cherbourg   yes  False  \n",
       "2  woman       False  NaN  Southampton   yes   True  \n",
       "3  woman       False    C  Southampton   yes  False  \n",
       "4    man        True  NaN  Southampton    no   True  "
      ]
     },
     "execution_count": 5,
     "metadata": {},
     "output_type": "execute_result"
    }
   ],
   "source": [
    "df.head()\n"
   ]
  },
  {
   "cell_type": "code",
   "execution_count": 6,
   "id": "be93fa5f-0959-4b13-aa41-b9d93bfb63fa",
   "metadata": {},
   "outputs": [
    {
     "data": {
      "text/plain": [
       "survived         0\n",
       "pclass           0\n",
       "sex              0\n",
       "age            177\n",
       "sibsp            0\n",
       "parch            0\n",
       "fare             0\n",
       "embarked         2\n",
       "class            0\n",
       "who              0\n",
       "adult_male       0\n",
       "deck           688\n",
       "embark_town      2\n",
       "alive            0\n",
       "alone            0\n",
       "dtype: int64"
      ]
     },
     "execution_count": 6,
     "metadata": {},
     "output_type": "execute_result"
    }
   ],
   "source": [
    "#cheack missing value\n",
    "df.isnull().sum()"
   ]
  },
  {
   "cell_type": "code",
   "execution_count": 7,
   "id": "00765e0a-1de9-44e3-af44-7ea925256c7e",
   "metadata": {},
   "outputs": [
    {
     "data": {
      "text/plain": [
       "(891, 15)"
      ]
     },
     "execution_count": 7,
     "metadata": {},
     "output_type": "execute_result"
    }
   ],
   "source": [
    "#delete the rows or data in missing values \n",
    "df.shape"
   ]
  },
  {
   "cell_type": "code",
   "execution_count": 8,
   "id": "12042a5f-0882-494f-ab90-3f2019a42f9a",
   "metadata": {},
   "outputs": [
    {
     "data": {
      "text/plain": [
       "(182, 15)"
      ]
     },
     "execution_count": 8,
     "metadata": {},
     "output_type": "execute_result"
    }
   ],
   "source": [
    "df.dropna().shape"
   ]
  },
  {
   "cell_type": "markdown",
   "id": "4fb2181a-cdfa-495c-8d8d-b4656b55d69a",
   "metadata": {},
   "source": [
    "## imputation missing values\n",
    "mean value impulation"
   ]
  },
  {
   "cell_type": "code",
   "execution_count": 9,
   "id": "e26f9357-bf25-469a-9876-009534eb2f61",
   "metadata": {},
   "outputs": [
    {
     "data": {
      "text/plain": [
       "<AxesSubplot: xlabel='age', ylabel='Count'>"
      ]
     },
     "execution_count": 9,
     "metadata": {},
     "output_type": "execute_result"
    },
    {
     "data": {
      "image/png": "[encoded data removed]",
      "text/plain": [
       "<Figure size 640x480 with 1 Axes>"
      ]
     },
     "metadata": {},
     "output_type": "display_data"
    }
   ],
   "source": [
    "sns.histplot(df['age'],kde=True)"
   ]
  },
  {
   "cell_type": "code",
   "execution_count": 10,
   "id": "44da5f09-6859-41ba-a7ec-12bf26183594",
   "metadata": {},
   "outputs": [],
   "source": [
    "df['mean_age']=df['age'].fillna(df['age'].mean())"
   ]
  },
  {
   "cell_type": "code",
   "execution_count": 11,
   "id": "55581611-1785-4cea-b487-17cfe0929574",
   "metadata": {},
   "outputs": [
    {
     "data": {
      "text/html": [
       "<div>\n",
       "<style scoped>\n",
       "    .dataframe tbody tr th:only-of-type {\n",
       "        vertical-align: middle;\n",
       "    }\n",
       "\n",
       "    .dataframe tbody tr th {\n",
       "        vertical-align: top;\n",
       "    }\n",
       "\n",
       "    .dataframe thead th {\n",
       "        text-align: right;\n",
       "    }\n",
       "</style>\n",
       "<table border=\"1\" class=\"dataframe\">\n",
       "  <thead>\n",
       "    <tr style=\"text-align: right;\">\n",
       "      <th></th>\n",
       "      <th>mean_age</th>\n",
       "      <th>age</th>\n",
       "    </tr>\n",
       "  </thead>\n",
       "  <tbody>\n",
       "    <tr>\n",
       "      <th>0</th>\n",
       "      <td>22.000000</td>\n",
       "      <td>22.0</td>\n",
       "    </tr>\n",
       "    <tr>\n",
       "      <th>1</th>\n",
       "      <td>38.000000</td>\n",
       "      <td>38.0</td>\n",
       "    </tr>\n",
       "    <tr>\n",
       "      <th>2</th>\n",
       "      <td>26.000000</td>\n",
       "      <td>26.0</td>\n",
       "    </tr>\n",
       "    <tr>\n",
       "      <th>3</th>\n",
       "      <td>35.000000</td>\n",
       "      <td>35.0</td>\n",
       "    </tr>\n",
       "    <tr>\n",
       "      <th>4</th>\n",
       "      <td>35.000000</td>\n",
       "      <td>35.0</td>\n",
       "    </tr>\n",
       "    <tr>\n",
       "      <th>...</th>\n",
       "      <td>...</td>\n",
       "      <td>...</td>\n",
       "    </tr>\n",
       "    <tr>\n",
       "      <th>886</th>\n",
       "      <td>27.000000</td>\n",
       "      <td>27.0</td>\n",
       "    </tr>\n",
       "    <tr>\n",
       "      <th>887</th>\n",
       "      <td>19.000000</td>\n",
       "      <td>19.0</td>\n",
       "    </tr>\n",
       "    <tr>\n",
       "      <th>888</th>\n",
       "      <td>29.699118</td>\n",
       "      <td>NaN</td>\n",
       "    </tr>\n",
       "    <tr>\n",
       "      <th>889</th>\n",
       "      <td>26.000000</td>\n",
       "      <td>26.0</td>\n",
       "    </tr>\n",
       "    <tr>\n",
       "      <th>890</th>\n",
       "      <td>32.000000</td>\n",
       "      <td>32.0</td>\n",
       "    </tr>\n",
       "  </tbody>\n",
       "</table>\n",
       "<p>891 rows × 2 columns</p>\n",
       "</div>"
      ],
      "text/plain": [
       "      mean_age   age\n",
       "0    22.000000  22.0\n",
       "1    38.000000  38.0\n",
       "2    26.000000  26.0\n",
       "3    35.000000  35.0\n",
       "4    35.000000  35.0\n",
       "..         ...   ...\n",
       "886  27.000000  27.0\n",
       "887  19.000000  19.0\n",
       "888  29.699118   NaN\n",
       "889  26.000000  26.0\n",
       "890  32.000000  32.0\n",
       "\n",
       "[891 rows x 2 columns]"
      ]
     },
     "execution_count": 11,
     "metadata": {},
     "output_type": "execute_result"
    }
   ],
   "source": [
    "df[['mean_age','age']]"
   ]
  },
  {
   "cell_type": "code",
   "execution_count": 12,
   "id": "4c0f83ba-b1f7-4185-b004-b13dbea2f6c9",
   "metadata": {},
   "outputs": [],
   "source": [
    "#it is used when normally distributed data "
   ]
  },
  {
   "cell_type": "code",
   "execution_count": 13,
   "id": "759513cf-18c2-4f81-8b40-4cfb5e6b56b4",
   "metadata": {},
   "outputs": [],
   "source": [
    "#2 median value imputation"
   ]
  },
  {
   "cell_type": "code",
   "execution_count": 14,
   "id": "7ae58b6c-56ca-451c-bfd7-2987e1ec6f99",
   "metadata": {},
   "outputs": [],
   "source": [
    "df['median_age']=df['age'].fillna(df['age'].median())"
   ]
  },
  {
   "cell_type": "code",
   "execution_count": 16,
   "id": "07263b33-94fa-40f5-9c0a-7d0a06f9e5a1",
   "metadata": {},
   "outputs": [
    {
     "data": {
      "text/html": [
       "<div>\n",
       "<style scoped>\n",
       "    .dataframe tbody tr th:only-of-type {\n",
       "        vertical-align: middle;\n",
       "    }\n",
       "\n",
       "    .dataframe tbody tr th {\n",
       "        vertical-align: top;\n",
       "    }\n",
       "\n",
       "    .dataframe thead th {\n",
       "        text-align: right;\n",
       "    }\n",
       "</style>\n",
       "<table border=\"1\" class=\"dataframe\">\n",
       "  <thead>\n",
       "    <tr style=\"text-align: right;\">\n",
       "      <th></th>\n",
       "      <th>median_age</th>\n",
       "      <th>age</th>\n",
       "    </tr>\n",
       "  </thead>\n",
       "  <tbody>\n",
       "    <tr>\n",
       "      <th>0</th>\n",
       "      <td>22.0</td>\n",
       "      <td>22.0</td>\n",
       "    </tr>\n",
       "    <tr>\n",
       "      <th>1</th>\n",
       "      <td>38.0</td>\n",
       "      <td>38.0</td>\n",
       "    </tr>\n",
       "    <tr>\n",
       "      <th>2</th>\n",
       "      <td>26.0</td>\n",
       "      <td>26.0</td>\n",
       "    </tr>\n",
       "    <tr>\n",
       "      <th>3</th>\n",
       "      <td>35.0</td>\n",
       "      <td>35.0</td>\n",
       "    </tr>\n",
       "    <tr>\n",
       "      <th>4</th>\n",
       "      <td>35.0</td>\n",
       "      <td>35.0</td>\n",
       "    </tr>\n",
       "    <tr>\n",
       "      <th>...</th>\n",
       "      <td>...</td>\n",
       "      <td>...</td>\n",
       "    </tr>\n",
       "    <tr>\n",
       "      <th>886</th>\n",
       "      <td>27.0</td>\n",
       "      <td>27.0</td>\n",
       "    </tr>\n",
       "    <tr>\n",
       "      <th>887</th>\n",
       "      <td>19.0</td>\n",
       "      <td>19.0</td>\n",
       "    </tr>\n",
       "    <tr>\n",
       "      <th>888</th>\n",
       "      <td>28.0</td>\n",
       "      <td>NaN</td>\n",
       "    </tr>\n",
       "    <tr>\n",
       "      <th>889</th>\n",
       "      <td>26.0</td>\n",
       "      <td>26.0</td>\n",
       "    </tr>\n",
       "    <tr>\n",
       "      <th>890</th>\n",
       "      <td>32.0</td>\n",
       "      <td>32.0</td>\n",
       "    </tr>\n",
       "  </tbody>\n",
       "</table>\n",
       "<p>891 rows × 2 columns</p>\n",
       "</div>"
      ],
      "text/plain": [
       "     median_age   age\n",
       "0          22.0  22.0\n",
       "1          38.0  38.0\n",
       "2          26.0  26.0\n",
       "3          35.0  35.0\n",
       "4          35.0  35.0\n",
       "..          ...   ...\n",
       "886        27.0  27.0\n",
       "887        19.0  19.0\n",
       "888        28.0   NaN\n",
       "889        26.0  26.0\n",
       "890        32.0  32.0\n",
       "\n",
       "[891 rows x 2 columns]"
      ]
     },
     "execution_count": 16,
     "metadata": {},
     "output_type": "execute_result"
    }
   ],
   "source": [
    "df[['median_age','age']]"
   ]
  },
  {
   "cell_type": "code",
   "execution_count": 17,
   "id": "2d4e94d5-bab8-4bad-9777-2afe6dc64daf",
   "metadata": {},
   "outputs": [],
   "source": [
    "## mode imputation technique - categorial data"
   ]
  },
  {
   "cell_type": "code",
   "execution_count": 18,
   "id": "f6a63c4e-49d0-40ca-9868-c7d72c291692",
   "metadata": {},
   "outputs": [
    {
     "data": {
      "text/html": [
       "<div>\n",
       "<style scoped>\n",
       "    .dataframe tbody tr th:only-of-type {\n",
       "        vertical-align: middle;\n",
       "    }\n",
       "\n",
       "    .dataframe tbody tr th {\n",
       "        vertical-align: top;\n",
       "    }\n",
       "\n",
       "    .dataframe thead th {\n",
       "        text-align: right;\n",
       "    }\n",
       "</style>\n",
       "<table border=\"1\" class=\"dataframe\">\n",
       "  <thead>\n",
       "    <tr style=\"text-align: right;\">\n",
       "      <th></th>\n",
       "      <th>survived</th>\n",
       "      <th>pclass</th>\n",
       "      <th>sex</th>\n",
       "      <th>age</th>\n",
       "      <th>sibsp</th>\n",
       "      <th>parch</th>\n",
       "      <th>fare</th>\n",
       "      <th>embarked</th>\n",
       "      <th>class</th>\n",
       "      <th>who</th>\n",
       "      <th>adult_male</th>\n",
       "      <th>deck</th>\n",
       "      <th>embark_town</th>\n",
       "      <th>alive</th>\n",
       "      <th>alone</th>\n",
       "      <th>mean_age</th>\n",
       "      <th>median_age</th>\n",
       "    </tr>\n",
       "  </thead>\n",
       "  <tbody>\n",
       "    <tr>\n",
       "      <th>61</th>\n",
       "      <td>1</td>\n",
       "      <td>1</td>\n",
       "      <td>female</td>\n",
       "      <td>38.0</td>\n",
       "      <td>0</td>\n",
       "      <td>0</td>\n",
       "      <td>80.0</td>\n",
       "      <td>NaN</td>\n",
       "      <td>First</td>\n",
       "      <td>woman</td>\n",
       "      <td>False</td>\n",
       "      <td>B</td>\n",
       "      <td>NaN</td>\n",
       "      <td>yes</td>\n",
       "      <td>True</td>\n",
       "      <td>38.0</td>\n",
       "      <td>38.0</td>\n",
       "    </tr>\n",
       "    <tr>\n",
       "      <th>829</th>\n",
       "      <td>1</td>\n",
       "      <td>1</td>\n",
       "      <td>female</td>\n",
       "      <td>62.0</td>\n",
       "      <td>0</td>\n",
       "      <td>0</td>\n",
       "      <td>80.0</td>\n",
       "      <td>NaN</td>\n",
       "      <td>First</td>\n",
       "      <td>woman</td>\n",
       "      <td>False</td>\n",
       "      <td>B</td>\n",
       "      <td>NaN</td>\n",
       "      <td>yes</td>\n",
       "      <td>True</td>\n",
       "      <td>62.0</td>\n",
       "      <td>62.0</td>\n",
       "    </tr>\n",
       "  </tbody>\n",
       "</table>\n",
       "</div>"
      ],
      "text/plain": [
       "     survived  pclass     sex   age  sibsp  parch  fare embarked  class  \\\n",
       "61          1       1  female  38.0      0      0  80.0      NaN  First   \n",
       "829         1       1  female  62.0      0      0  80.0      NaN  First   \n",
       "\n",
       "       who  adult_male deck embark_town alive  alone  mean_age  median_age  \n",
       "61   woman       False    B         NaN   yes   True      38.0        38.0  \n",
       "829  woman       False    B         NaN   yes   True      62.0        62.0  "
      ]
     },
     "execution_count": 18,
     "metadata": {},
     "output_type": "execute_result"
    }
   ],
   "source": [
    "df[df['embarked'].isnull()]"
   ]
  },
  {
   "cell_type": "code",
   "execution_count": 19,
   "id": "7eedc403-3d46-4192-b249-717b08107121",
   "metadata": {},
   "outputs": [
    {
     "data": {
      "text/plain": [
       "array(['S', 'C', 'Q', nan], dtype=object)"
      ]
     },
     "execution_count": 19,
     "metadata": {},
     "output_type": "execute_result"
    }
   ],
   "source": [
    "df['embarked'].unique()"
   ]
  },
  {
   "cell_type": "code",
   "execution_count": 46,
   "id": "fa5be631-9f95-40d2-b1c8-ced987659649",
   "metadata": {},
   "outputs": [],
   "source": [
    "df['mode_embarked']=df['embarked'].fillna(df['embarked'].mode()[0])"
   ]
  },
  {
   "cell_type": "code",
   "execution_count": 47,
   "id": "e2bd3844-1760-474a-875b-1c8fa07f2b03",
   "metadata": {},
   "outputs": [
    {
     "data": {
      "text/html": [
       "<div>\n",
       "<style scoped>\n",
       "    .dataframe tbody tr th:only-of-type {\n",
       "        vertical-align: middle;\n",
       "    }\n",
       "\n",
       "    .dataframe tbody tr th {\n",
       "        vertical-align: top;\n",
       "    }\n",
       "\n",
       "    .dataframe thead th {\n",
       "        text-align: right;\n",
       "    }\n",
       "</style>\n",
       "<table border=\"1\" class=\"dataframe\">\n",
       "  <thead>\n",
       "    <tr style=\"text-align: right;\">\n",
       "      <th></th>\n",
       "      <th>survived</th>\n",
       "      <th>pclass</th>\n",
       "      <th>sex</th>\n",
       "      <th>age</th>\n",
       "      <th>sibsp</th>\n",
       "      <th>parch</th>\n",
       "      <th>fare</th>\n",
       "      <th>embarked</th>\n",
       "      <th>class</th>\n",
       "      <th>who</th>\n",
       "      <th>adult_male</th>\n",
       "      <th>deck</th>\n",
       "      <th>embark_town</th>\n",
       "      <th>alive</th>\n",
       "      <th>alone</th>\n",
       "      <th>mean_age</th>\n",
       "      <th>median_age</th>\n",
       "      <th>mode_embarked</th>\n",
       "    </tr>\n",
       "  </thead>\n",
       "  <tbody>\n",
       "  </tbody>\n",
       "</table>\n",
       "</div>"
      ],
      "text/plain": [
       "Empty DataFrame\n",
       "Columns: [survived, pclass, sex, age, sibsp, parch, fare, embarked, class, who, adult_male, deck, embark_town, alive, alone, mean_age, median_age, mode_embarked]\n",
       "Index: []"
      ]
     },
     "execution_count": 47,
     "metadata": {},
     "output_type": "execute_result"
    }
   ],
   "source": [
    "df[df['mode_embarked'].isnull()]"
   ]
  },
  {
   "cell_type": "code",
   "execution_count": 48,
   "id": "1fe2385a-6c19-4e5a-bace-07afc1305400",
   "metadata": {},
   "outputs": [
    {
     "data": {
      "text/html": [
       "<div>\n",
       "<style scoped>\n",
       "    .dataframe tbody tr th:only-of-type {\n",
       "        vertical-align: middle;\n",
       "    }\n",
       "\n",
       "    .dataframe tbody tr th {\n",
       "        vertical-align: top;\n",
       "    }\n",
       "\n",
       "    .dataframe thead th {\n",
       "        text-align: right;\n",
       "    }\n",
       "</style>\n",
       "<table border=\"1\" class=\"dataframe\">\n",
       "  <thead>\n",
       "    <tr style=\"text-align: right;\">\n",
       "      <th></th>\n",
       "      <th>survived</th>\n",
       "      <th>pclass</th>\n",
       "      <th>sex</th>\n",
       "      <th>age</th>\n",
       "      <th>sibsp</th>\n",
       "      <th>parch</th>\n",
       "      <th>fare</th>\n",
       "      <th>embarked</th>\n",
       "      <th>class</th>\n",
       "      <th>who</th>\n",
       "      <th>adult_male</th>\n",
       "      <th>deck</th>\n",
       "      <th>embark_town</th>\n",
       "      <th>alive</th>\n",
       "      <th>alone</th>\n",
       "      <th>mean_age</th>\n",
       "      <th>median_age</th>\n",
       "      <th>mode_embarked</th>\n",
       "    </tr>\n",
       "  </thead>\n",
       "  <tbody>\n",
       "    <tr>\n",
       "      <th>61</th>\n",
       "      <td>1</td>\n",
       "      <td>1</td>\n",
       "      <td>female</td>\n",
       "      <td>38.0</td>\n",
       "      <td>0</td>\n",
       "      <td>0</td>\n",
       "      <td>80.0</td>\n",
       "      <td>NaN</td>\n",
       "      <td>First</td>\n",
       "      <td>woman</td>\n",
       "      <td>False</td>\n",
       "      <td>B</td>\n",
       "      <td>NaN</td>\n",
       "      <td>yes</td>\n",
       "      <td>True</td>\n",
       "      <td>38.0</td>\n",
       "      <td>38.0</td>\n",
       "      <td>S</td>\n",
       "    </tr>\n",
       "    <tr>\n",
       "      <th>829</th>\n",
       "      <td>1</td>\n",
       "      <td>1</td>\n",
       "      <td>female</td>\n",
       "      <td>62.0</td>\n",
       "      <td>0</td>\n",
       "      <td>0</td>\n",
       "      <td>80.0</td>\n",
       "      <td>NaN</td>\n",
       "      <td>First</td>\n",
       "      <td>woman</td>\n",
       "      <td>False</td>\n",
       "      <td>B</td>\n",
       "      <td>NaN</td>\n",
       "      <td>yes</td>\n",
       "      <td>True</td>\n",
       "      <td>62.0</td>\n",
       "      <td>62.0</td>\n",
       "      <td>S</td>\n",
       "    </tr>\n",
       "  </tbody>\n",
       "</table>\n",
       "</div>"
      ],
      "text/plain": [
       "     survived  pclass     sex   age  sibsp  parch  fare embarked  class  \\\n",
       "61          1       1  female  38.0      0      0  80.0      NaN  First   \n",
       "829         1       1  female  62.0      0      0  80.0      NaN  First   \n",
       "\n",
       "       who  adult_male deck embark_town alive  alone  mean_age  median_age  \\\n",
       "61   woman       False    B         NaN   yes   True      38.0        38.0   \n",
       "829  woman       False    B         NaN   yes   True      62.0        62.0   \n",
       "\n",
       "    mode_embarked  \n",
       "61              S  \n",
       "829             S  "
      ]
     },
     "execution_count": 48,
     "metadata": {},
     "output_type": "execute_result"
    }
   ],
   "source": [
    "df[df[['embarked','mode_embarked']]['embarked'].isnull()]"
   ]
  },
  {
   "cell_type": "code",
   "execution_count": 2,
   "id": "5575ee57-5993-49d6-a298-cc2330cf69ac",
   "metadata": {},
   "outputs": [],
   "source": [
    "import numpy as np\n",
    "import pandas as pd\n",
    "\n",
    "# Set the random seed for reproducibility\n",
    "np.random.seed(123)\n",
    "\n",
    "# Create a dataframe with two classes\n",
    "n_samples = 1000\n",
    "class_0_ratio = 0.9\n",
    "n_class_0 = int(n_samples * class_0_ratio)\n",
    "n_class_1 = n_samples - n_class_0"
   ]
  },
  {
   "cell_type": "code",
   "execution_count": 3,
   "id": "b377e0ad-829a-4135-bcd3-ddb11585af1a",
   "metadata": {},
   "outputs": [
    {
     "data": {
      "text/plain": [
       "(900, 100)"
      ]
     },
     "execution_count": 3,
     "metadata": {},
     "output_type": "execute_result"
    }
   ],
   "source": [
    "n_class_0,n_class_1"
   ]
  },
  {
   "cell_type": "code",
   "execution_count": 4,
   "id": "80dde133-bc6a-4402-bead-f3bed0659727",
   "metadata": {},
   "outputs": [],
   "source": [
    "## CREATE MY DATAFRAME WITH IMBALANCED DATASET\n",
    "class_0 = pd.DataFrame({\n",
    "    'feature_1': np.random.normal(loc=0, scale=1, size=n_class_0),\n",
    "    'feature_2': np.random.normal(loc=0, scale=1, size=n_class_0),\n",
    "    'target': [0] * n_class_0\n",
    "})\n",
    "\n",
    "class_1 = pd.DataFrame({\n",
    "    'feature_1': np.random.normal(loc=2, scale=1, size=n_class_1),\n",
    "    'feature_2': np.random.normal(loc=2, scale=1, size=n_class_1),\n",
    "    'target': [1] * n_class_1\n",
    "})"
   ]
  },
  {
   "cell_type": "code",
   "execution_count": 5,
   "id": "c248b7c7-4056-4379-be8a-e69968efe334",
   "metadata": {},
   "outputs": [],
   "source": [
    "df=pd.concat([class_0,class_1]).reset_index(drop=True)"
   ]
  },
  {
   "cell_type": "code",
   "execution_count": 6,
   "id": "763cd823-d42c-454b-a8fc-e90bb5705c2d",
   "metadata": {},
   "outputs": [
    {
     "data": {
      "text/html": [
       "<div>\n",
       "<style scoped>\n",
       "    .dataframe tbody tr th:only-of-type {\n",
       "        vertical-align: middle;\n",
       "    }\n",
       "\n",
       "    .dataframe tbody tr th {\n",
       "        vertical-align: top;\n",
       "    }\n",
       "\n",
       "    .dataframe thead th {\n",
       "        text-align: right;\n",
       "    }\n",
       "</style>\n",
       "<table border=\"1\" class=\"dataframe\">\n",
       "  <thead>\n",
       "    <tr style=\"text-align: right;\">\n",
       "      <th></th>\n",
       "      <th>feature_1</th>\n",
       "      <th>feature_2</th>\n",
       "      <th>target</th>\n",
       "    </tr>\n",
       "  </thead>\n",
       "  <tbody>\n",
       "    <tr>\n",
       "      <th>0</th>\n",
       "      <td>-1.085631</td>\n",
       "      <td>0.551302</td>\n",
       "      <td>0</td>\n",
       "    </tr>\n",
       "    <tr>\n",
       "      <th>1</th>\n",
       "      <td>0.997345</td>\n",
       "      <td>0.419589</td>\n",
       "      <td>0</td>\n",
       "    </tr>\n",
       "    <tr>\n",
       "      <th>2</th>\n",
       "      <td>0.282978</td>\n",
       "      <td>1.815652</td>\n",
       "      <td>0</td>\n",
       "    </tr>\n",
       "    <tr>\n",
       "      <th>3</th>\n",
       "      <td>-1.506295</td>\n",
       "      <td>-0.252750</td>\n",
       "      <td>0</td>\n",
       "    </tr>\n",
       "    <tr>\n",
       "      <th>4</th>\n",
       "      <td>-0.578600</td>\n",
       "      <td>-0.292004</td>\n",
       "      <td>0</td>\n",
       "    </tr>\n",
       "    <tr>\n",
       "      <th>...</th>\n",
       "      <td>...</td>\n",
       "      <td>...</td>\n",
       "      <td>...</td>\n",
       "    </tr>\n",
       "    <tr>\n",
       "      <th>995</th>\n",
       "      <td>1.376371</td>\n",
       "      <td>2.845701</td>\n",
       "      <td>1</td>\n",
       "    </tr>\n",
       "    <tr>\n",
       "      <th>996</th>\n",
       "      <td>2.239810</td>\n",
       "      <td>0.880077</td>\n",
       "      <td>1</td>\n",
       "    </tr>\n",
       "    <tr>\n",
       "      <th>997</th>\n",
       "      <td>1.131760</td>\n",
       "      <td>1.640703</td>\n",
       "      <td>1</td>\n",
       "    </tr>\n",
       "    <tr>\n",
       "      <th>998</th>\n",
       "      <td>2.902006</td>\n",
       "      <td>0.390305</td>\n",
       "      <td>1</td>\n",
       "    </tr>\n",
       "    <tr>\n",
       "      <th>999</th>\n",
       "      <td>2.697490</td>\n",
       "      <td>2.013570</td>\n",
       "      <td>1</td>\n",
       "    </tr>\n",
       "  </tbody>\n",
       "</table>\n",
       "<p>1000 rows × 3 columns</p>\n",
       "</div>"
      ],
      "text/plain": [
       "     feature_1  feature_2  target\n",
       "0    -1.085631   0.551302       0\n",
       "1     0.997345   0.419589       0\n",
       "2     0.282978   1.815652       0\n",
       "3    -1.506295  -0.252750       0\n",
       "4    -0.578600  -0.292004       0\n",
       "..         ...        ...     ...\n",
       "995   1.376371   2.845701       1\n",
       "996   2.239810   0.880077       1\n",
       "997   1.131760   1.640703       1\n",
       "998   2.902006   0.390305       1\n",
       "999   2.697490   2.013570       1\n",
       "\n",
       "[1000 rows x 3 columns]"
      ]
     },
     "execution_count": 6,
     "metadata": {},
     "output_type": "execute_result"
    }
   ],
   "source": [
    "df"
   ]
  },
  {
   "cell_type": "code",
   "execution_count": 7,
   "id": "658d4217-8963-45dd-9bf9-3b2afa097008",
   "metadata": {},
   "outputs": [],
   "source": [
    "## upsampling\n",
    "df_minority=df[df['target']==1]\n",
    "df_majority=df[df['target']==0]\n"
   ]
  },
  {
   "cell_type": "code",
   "execution_count": 8,
   "id": "2aaafa40-9016-4ccc-bf56-ed5affbaa250",
   "metadata": {},
   "outputs": [],
   "source": [
    "from sklearn.utils import resample\n",
    "df_minority_upsampled=resample(df_minority,replace=True, #Sample With replacement\n",
    "         n_samples=len(df_majority),\n",
    "         random_state=42\n",
    "        )"
   ]
  },
  {
   "cell_type": "code",
   "execution_count": 9,
   "id": "57f98ed6-0688-4c39-a6d5-fdd42991c75d",
   "metadata": {},
   "outputs": [],
   "source": [
    "df_upsampled=pd.concat([df_majority,df_minority_upsampled])"
   ]
  },
  {
   "cell_type": "code",
   "execution_count": 10,
   "id": "f402c280-f640-4c27-ac9a-00b5d1e7c1d5",
   "metadata": {},
   "outputs": [
    {
     "data": {
      "text/html": [
       "<div>\n",
       "<style scoped>\n",
       "    .dataframe tbody tr th:only-of-type {\n",
       "        vertical-align: middle;\n",
       "    }\n",
       "\n",
       "    .dataframe tbody tr th {\n",
       "        vertical-align: top;\n",
       "    }\n",
       "\n",
       "    .dataframe thead th {\n",
       "        text-align: right;\n",
       "    }\n",
       "</style>\n",
       "<table border=\"1\" class=\"dataframe\">\n",
       "  <thead>\n",
       "    <tr style=\"text-align: right;\">\n",
       "      <th></th>\n",
       "      <th>feature_1</th>\n",
       "      <th>feature_2</th>\n",
       "      <th>target</th>\n",
       "    </tr>\n",
       "  </thead>\n",
       "  <tbody>\n",
       "    <tr>\n",
       "      <th>0</th>\n",
       "      <td>-1.085631</td>\n",
       "      <td>0.551302</td>\n",
       "      <td>0</td>\n",
       "    </tr>\n",
       "    <tr>\n",
       "      <th>1</th>\n",
       "      <td>0.997345</td>\n",
       "      <td>0.419589</td>\n",
       "      <td>0</td>\n",
       "    </tr>\n",
       "    <tr>\n",
       "      <th>2</th>\n",
       "      <td>0.282978</td>\n",
       "      <td>1.815652</td>\n",
       "      <td>0</td>\n",
       "    </tr>\n",
       "    <tr>\n",
       "      <th>3</th>\n",
       "      <td>-1.506295</td>\n",
       "      <td>-0.252750</td>\n",
       "      <td>0</td>\n",
       "    </tr>\n",
       "    <tr>\n",
       "      <th>4</th>\n",
       "      <td>-0.578600</td>\n",
       "      <td>-0.292004</td>\n",
       "      <td>0</td>\n",
       "    </tr>\n",
       "    <tr>\n",
       "      <th>...</th>\n",
       "      <td>...</td>\n",
       "      <td>...</td>\n",
       "      <td>...</td>\n",
       "    </tr>\n",
       "    <tr>\n",
       "      <th>952</th>\n",
       "      <td>1.188902</td>\n",
       "      <td>2.189189</td>\n",
       "      <td>1</td>\n",
       "    </tr>\n",
       "    <tr>\n",
       "      <th>965</th>\n",
       "      <td>3.919526</td>\n",
       "      <td>1.980541</td>\n",
       "      <td>1</td>\n",
       "    </tr>\n",
       "    <tr>\n",
       "      <th>976</th>\n",
       "      <td>2.810326</td>\n",
       "      <td>3.604614</td>\n",
       "      <td>1</td>\n",
       "    </tr>\n",
       "    <tr>\n",
       "      <th>942</th>\n",
       "      <td>3.621531</td>\n",
       "      <td>2.168229</td>\n",
       "      <td>1</td>\n",
       "    </tr>\n",
       "    <tr>\n",
       "      <th>974</th>\n",
       "      <td>1.160887</td>\n",
       "      <td>2.489203</td>\n",
       "      <td>1</td>\n",
       "    </tr>\n",
       "  </tbody>\n",
       "</table>\n",
       "<p>1800 rows × 3 columns</p>\n",
       "</div>"
      ],
      "text/plain": [
       "     feature_1  feature_2  target\n",
       "0    -1.085631   0.551302       0\n",
       "1     0.997345   0.419589       0\n",
       "2     0.282978   1.815652       0\n",
       "3    -1.506295  -0.252750       0\n",
       "4    -0.578600  -0.292004       0\n",
       "..         ...        ...     ...\n",
       "952   1.188902   2.189189       1\n",
       "965   3.919526   1.980541       1\n",
       "976   2.810326   3.604614       1\n",
       "942   3.621531   2.168229       1\n",
       "974   1.160887   2.489203       1\n",
       "\n",
       "[1800 rows x 3 columns]"
      ]
     },
     "execution_count": 10,
     "metadata": {},
     "output_type": "execute_result"
    }
   ],
   "source": [
    "df_upsampled"
   ]
  },
  {
   "cell_type": "code",
   "execution_count": 12,
   "id": "75a03e09-8631-4036-b186-ed37558392ca",
   "metadata": {},
   "outputs": [
    {
     "data": {
      "text/html": [
       "<div>\n",
       "<style scoped>\n",
       "    .dataframe tbody tr th:only-of-type {\n",
       "        vertical-align: middle;\n",
       "    }\n",
       "\n",
       "    .dataframe tbody tr th {\n",
       "        vertical-align: top;\n",
       "    }\n",
       "\n",
       "    .dataframe thead th {\n",
       "        text-align: right;\n",
       "    }\n",
       "</style>\n",
       "<table border=\"1\" class=\"dataframe\">\n",
       "  <thead>\n",
       "    <tr style=\"text-align: right;\">\n",
       "      <th></th>\n",
       "      <th>feature_1</th>\n",
       "      <th>feature_2</th>\n",
       "      <th>target</th>\n",
       "    </tr>\n",
       "  </thead>\n",
       "  <tbody>\n",
       "    <tr>\n",
       "      <th>0</th>\n",
       "      <td>-1.085631</td>\n",
       "      <td>0.551302</td>\n",
       "      <td>0</td>\n",
       "    </tr>\n",
       "    <tr>\n",
       "      <th>1</th>\n",
       "      <td>0.997345</td>\n",
       "      <td>0.419589</td>\n",
       "      <td>0</td>\n",
       "    </tr>\n",
       "    <tr>\n",
       "      <th>2</th>\n",
       "      <td>0.282978</td>\n",
       "      <td>1.815652</td>\n",
       "      <td>0</td>\n",
       "    </tr>\n",
       "    <tr>\n",
       "      <th>3</th>\n",
       "      <td>-1.506295</td>\n",
       "      <td>-0.252750</td>\n",
       "      <td>0</td>\n",
       "    </tr>\n",
       "    <tr>\n",
       "      <th>4</th>\n",
       "      <td>-0.578600</td>\n",
       "      <td>-0.292004</td>\n",
       "      <td>0</td>\n",
       "    </tr>\n",
       "    <tr>\n",
       "      <th>...</th>\n",
       "      <td>...</td>\n",
       "      <td>...</td>\n",
       "      <td>...</td>\n",
       "    </tr>\n",
       "    <tr>\n",
       "      <th>895</th>\n",
       "      <td>0.238761</td>\n",
       "      <td>-0.003155</td>\n",
       "      <td>0</td>\n",
       "    </tr>\n",
       "    <tr>\n",
       "      <th>896</th>\n",
       "      <td>-1.106386</td>\n",
       "      <td>-0.430660</td>\n",
       "      <td>0</td>\n",
       "    </tr>\n",
       "    <tr>\n",
       "      <th>897</th>\n",
       "      <td>0.366732</td>\n",
       "      <td>-0.146416</td>\n",
       "      <td>0</td>\n",
       "    </tr>\n",
       "    <tr>\n",
       "      <th>898</th>\n",
       "      <td>1.023906</td>\n",
       "      <td>1.160176</td>\n",
       "      <td>0</td>\n",
       "    </tr>\n",
       "    <tr>\n",
       "      <th>899</th>\n",
       "      <td>-0.210056</td>\n",
       "      <td>-0.641512</td>\n",
       "      <td>0</td>\n",
       "    </tr>\n",
       "  </tbody>\n",
       "</table>\n",
       "<p>900 rows × 3 columns</p>\n",
       "</div>"
      ],
      "text/plain": [
       "     feature_1  feature_2  target\n",
       "0    -1.085631   0.551302       0\n",
       "1     0.997345   0.419589       0\n",
       "2     0.282978   1.815652       0\n",
       "3    -1.506295  -0.252750       0\n",
       "4    -0.578600  -0.292004       0\n",
       "..         ...        ...     ...\n",
       "895   0.238761  -0.003155       0\n",
       "896  -1.106386  -0.430660       0\n",
       "897   0.366732  -0.146416       0\n",
       "898   1.023906   1.160176       0\n",
       "899  -0.210056  -0.641512       0\n",
       "\n",
       "[900 rows x 3 columns]"
      ]
     },
     "execution_count": 12,
     "metadata": {},
     "output_type": "execute_result"
    }
   ],
   "source": [
    "df_majority"
   ]
  },
  {
   "cell_type": "code",
   "execution_count": 13,
   "id": "4be18ec7-d934-46dd-972d-744d2120b818",
   "metadata": {},
   "outputs": [],
   "source": [
    "import numpy as np\n",
    "import pandas as pd\n",
    "\n",
    "# Set the random seed for reproducibility\n",
    "np.random.seed(123)\n",
    "\n",
    "# Create a dataframe with two classes\n",
    "n_samples = 1000\n",
    "class_0_ratio = 0.9\n",
    "n_class_0 = int(n_samples * class_0_ratio)\n",
    "n_class_1 = n_samples - n_class_0"
   ]
  },
  {
   "cell_type": "code",
   "execution_count": 14,
   "id": "3099d437-fe26-4f13-9595-59339d00f547",
   "metadata": {},
   "outputs": [],
   "source": [
    "## CREATE MY DATAFRAME WITH IMBALANCED DATASET\n",
    "class_0 = pd.DataFrame({\n",
    "    'feature_1': np.random.normal(loc=0, scale=1, size=n_class_0),\n",
    "    'feature_2': np.random.normal(loc=0, scale=1, size=n_class_0),\n",
    "    'target': [0] * n_class_0\n",
    "})\n",
    "\n",
    "class_1 = pd.DataFrame({\n",
    "    'feature_1': np.random.normal(loc=2, scale=1, size=n_class_1),\n",
    "    'feature_2': np.random.normal(loc=2, scale=1, size=n_class_1),\n",
    "    'target': [1] * n_class_1\n",
    "})"
   ]
  },
  {
   "cell_type": "code",
   "execution_count": 15,
   "id": "24ea9dd9-81f6-452f-90f8-b0fbcfa213ba",
   "metadata": {},
   "outputs": [],
   "source": [
    "df=pd.concat([class_0,class_1]).reset_index(drop=True)"
   ]
  },
  {
   "cell_type": "code",
   "execution_count": 16,
   "id": "f43e6a63-17e6-453f-a1bc-0a77f99ed2aa",
   "metadata": {},
   "outputs": [],
   "source": [
    "## downsampling\n",
    "df_minority=df[df['target']==1]\n",
    "df_majority=df[df['target']==0]\n"
   ]
  },
  {
   "cell_type": "code",
   "execution_count": 17,
   "id": "349ab98e-9dfb-4e93-a89a-1e6adfa31f27",
   "metadata": {},
   "outputs": [],
   "source": [
    "from sklearn.utils import resample\n",
    "df_majority_upsampled=resample(df_majority,replace=False, #Sample With replacement\n",
    "         n_samples=len(df_minority),\n",
    "         random_state=42\n",
    "        )"
   ]
  },
  {
   "cell_type": "code",
   "execution_count": 18,
   "id": "0828d6b3-d300-4715-8bdc-c1fb7098b007",
   "metadata": {},
   "outputs": [],
   "source": [
    "df_downsampled=pd.concat([df_minority,df_majority_upsampled])"
   ]
  },
  {
   "cell_type": "code",
   "execution_count": 19,
   "id": "ad323d7d-5fbb-4ddf-bf2f-1110cba30b4e",
   "metadata": {},
   "outputs": [
    {
     "data": {
      "text/html": [
       "<div>\n",
       "<style scoped>\n",
       "    .dataframe tbody tr th:only-of-type {\n",
       "        vertical-align: middle;\n",
       "    }\n",
       "\n",
       "    .dataframe tbody tr th {\n",
       "        vertical-align: top;\n",
       "    }\n",
       "\n",
       "    .dataframe thead th {\n",
       "        text-align: right;\n",
       "    }\n",
       "</style>\n",
       "<table border=\"1\" class=\"dataframe\">\n",
       "  <thead>\n",
       "    <tr style=\"text-align: right;\">\n",
       "      <th></th>\n",
       "      <th>feature_1</th>\n",
       "      <th>feature_2</th>\n",
       "      <th>target</th>\n",
       "    </tr>\n",
       "  </thead>\n",
       "  <tbody>\n",
       "    <tr>\n",
       "      <th>900</th>\n",
       "      <td>1.699768</td>\n",
       "      <td>2.139033</td>\n",
       "      <td>1</td>\n",
       "    </tr>\n",
       "    <tr>\n",
       "      <th>901</th>\n",
       "      <td>1.367739</td>\n",
       "      <td>2.025577</td>\n",
       "      <td>1</td>\n",
       "    </tr>\n",
       "    <tr>\n",
       "      <th>902</th>\n",
       "      <td>1.795683</td>\n",
       "      <td>1.803557</td>\n",
       "      <td>1</td>\n",
       "    </tr>\n",
       "    <tr>\n",
       "      <th>903</th>\n",
       "      <td>2.213696</td>\n",
       "      <td>3.312255</td>\n",
       "      <td>1</td>\n",
       "    </tr>\n",
       "    <tr>\n",
       "      <th>904</th>\n",
       "      <td>3.033878</td>\n",
       "      <td>3.187417</td>\n",
       "      <td>1</td>\n",
       "    </tr>\n",
       "    <tr>\n",
       "      <th>...</th>\n",
       "      <td>...</td>\n",
       "      <td>...</td>\n",
       "      <td>...</td>\n",
       "    </tr>\n",
       "    <tr>\n",
       "      <th>398</th>\n",
       "      <td>-0.168426</td>\n",
       "      <td>0.553775</td>\n",
       "      <td>0</td>\n",
       "    </tr>\n",
       "    <tr>\n",
       "      <th>76</th>\n",
       "      <td>-0.403366</td>\n",
       "      <td>0.081491</td>\n",
       "      <td>0</td>\n",
       "    </tr>\n",
       "    <tr>\n",
       "      <th>196</th>\n",
       "      <td>-0.269293</td>\n",
       "      <td>0.611238</td>\n",
       "      <td>0</td>\n",
       "    </tr>\n",
       "    <tr>\n",
       "      <th>631</th>\n",
       "      <td>-0.295829</td>\n",
       "      <td>0.671673</td>\n",
       "      <td>0</td>\n",
       "    </tr>\n",
       "    <tr>\n",
       "      <th>751</th>\n",
       "      <td>-0.553404</td>\n",
       "      <td>0.804438</td>\n",
       "      <td>0</td>\n",
       "    </tr>\n",
       "  </tbody>\n",
       "</table>\n",
       "<p>200 rows × 3 columns</p>\n",
       "</div>"
      ],
      "text/plain": [
       "     feature_1  feature_2  target\n",
       "900   1.699768   2.139033       1\n",
       "901   1.367739   2.025577       1\n",
       "902   1.795683   1.803557       1\n",
       "903   2.213696   3.312255       1\n",
       "904   3.033878   3.187417       1\n",
       "..         ...        ...     ...\n",
       "398  -0.168426   0.553775       0\n",
       "76   -0.403366   0.081491       0\n",
       "196  -0.269293   0.611238       0\n",
       "631  -0.295829   0.671673       0\n",
       "751  -0.553404   0.804438       0\n",
       "\n",
       "[200 rows x 3 columns]"
      ]
     },
     "execution_count": 19,
     "metadata": {},
     "output_type": "execute_result"
    }
   ],
   "source": [
    "df_downsampled"
   ]
  },
  {
   "cell_type": "code",
   "execution_count": 1,
   "id": "28f528c7-4639-43a9-870e-770bfb422304",
   "metadata": {},
   "outputs": [],
   "source": [
    "from sklearn.datasets import make_classification"
   ]
  },
  {
   "cell_type": "code",
   "execution_count": 4,
   "id": "474e3b38-aaaf-43ad-b9b3-5f2fd2a53d78",
   "metadata": {},
   "outputs": [],
   "source": [
    "X,y=make_classification(n_samples=1000,n_redundant=0,n_features=2,n_clusters_per_class=1,\n",
    "                    weights=[0.90],random_state=12)"
   ]
  },
  {
   "cell_type": "code",
   "execution_count": 5,
   "id": "5620dd9f-1bb1-4350-94d1-c54335b2b020",
   "metadata": {},
   "outputs": [],
   "source": [
    "import pandas as pd"
   ]
  },
  {
   "cell_type": "code",
   "execution_count": 10,
   "id": "e9af41c2-bed1-4702-a139-63ecd7236bfe",
   "metadata": {},
   "outputs": [],
   "source": [
    "df1 =pd.DataFrame(X,columns=['f1','f2'])\n",
    "df2 = pd.DataFrame(y,columns=['target'])\n",
    "final_df = pd.concat([df1,df2],axis=1)"
   ]
  },
  {
   "cell_type": "code",
   "execution_count": 11,
   "id": "be01796c-d3e1-42b5-a7cf-1ce4a29b5f5c",
   "metadata": {},
   "outputs": [
    {
     "data": {
      "text/html": [
       "<div>\n",
       "<style scoped>\n",
       "    .dataframe tbody tr th:only-of-type {\n",
       "        vertical-align: middle;\n",
       "    }\n",
       "\n",
       "    .dataframe tbody tr th {\n",
       "        vertical-align: top;\n",
       "    }\n",
       "\n",
       "    .dataframe thead th {\n",
       "        text-align: right;\n",
       "    }\n",
       "</style>\n",
       "<table border=\"1\" class=\"dataframe\">\n",
       "  <thead>\n",
       "    <tr style=\"text-align: right;\">\n",
       "      <th></th>\n",
       "      <th>f1</th>\n",
       "      <th>f2</th>\n",
       "      <th>target</th>\n",
       "    </tr>\n",
       "  </thead>\n",
       "  <tbody>\n",
       "    <tr>\n",
       "      <th>0</th>\n",
       "      <td>-0.762898</td>\n",
       "      <td>-0.706808</td>\n",
       "      <td>0</td>\n",
       "    </tr>\n",
       "    <tr>\n",
       "      <th>1</th>\n",
       "      <td>-1.075436</td>\n",
       "      <td>-1.051162</td>\n",
       "      <td>0</td>\n",
       "    </tr>\n",
       "    <tr>\n",
       "      <th>2</th>\n",
       "      <td>-0.610115</td>\n",
       "      <td>-0.909802</td>\n",
       "      <td>0</td>\n",
       "    </tr>\n",
       "    <tr>\n",
       "      <th>3</th>\n",
       "      <td>-2.023284</td>\n",
       "      <td>-0.428945</td>\n",
       "      <td>1</td>\n",
       "    </tr>\n",
       "    <tr>\n",
       "      <th>4</th>\n",
       "      <td>-0.812921</td>\n",
       "      <td>-1.316206</td>\n",
       "      <td>0</td>\n",
       "    </tr>\n",
       "  </tbody>\n",
       "</table>\n",
       "</div>"
      ],
      "text/plain": [
       "         f1        f2  target\n",
       "0 -0.762898 -0.706808       0\n",
       "1 -1.075436 -1.051162       0\n",
       "2 -0.610115 -0.909802       0\n",
       "3 -2.023284 -0.428945       1\n",
       "4 -0.812921 -1.316206       0"
      ]
     },
     "execution_count": 11,
     "metadata": {},
     "output_type": "execute_result"
    }
   ],
   "source": [
    "final_df.head()"
   ]
  },
  {
   "cell_type": "code",
   "execution_count": 13,
   "id": "e5afb01a-bbd0-4041-a02a-b9a875776560",
   "metadata": {},
   "outputs": [
    {
     "data": {
      "text/plain": [
       "0    900\n",
       "1    100\n",
       "Name: target, dtype: int64"
      ]
     },
     "execution_count": 13,
     "metadata": {},
     "output_type": "execute_result"
    }
   ],
   "source": [
    "final_df['target'].value_counts()"
   ]
  },
  {
   "cell_type": "code",
   "execution_count": 14,
   "id": "9b3ad123-e66f-41ca-b51c-21edf9b7e56b",
   "metadata": {},
   "outputs": [],
   "source": [
    "import matplotlib.pyplot as plt"
   ]
  },
  {
   "cell_type": "code",
   "execution_count": 15,
   "id": "09ce4c79-5e1a-450b-975a-5c91bfb75a92",
   "metadata": {},
   "outputs": [
    {
     "data": {
      "text/plain": [
       "<matplotlib.collections.PathCollection at 0x7f4a079182b0>"
      ]
     },
     "execution_count": 15,
     "metadata": {},
     "output_type": "execute_result"
    },
    {
     "data": {
      "image/png": "[encoded data removed]",
      "text/plain": [
       "<Figure size 640x480 with 1 Axes>"
      ]
     },
     "metadata": {},
     "output_type": "display_data"
    }
   ],
   "source": [
    "plt.scatter(final_df['f1'],final_df['f2'],c=final_df['target'])"
   ]
  },
  {
   "cell_type": "code",
   "execution_count": 16,
   "id": "80f79713-195a-4c5f-8e26-237e1b0afe93",
   "metadata": {},
   "outputs": [
    {
     "name": "stdout",
     "output_type": "stream",
     "text": [
      "Collecting imblearn\n",
      "  Downloading imblearn-0.0-py2.py3-none-any.whl (1.9 kB)\n",
      "Collecting imbalanced-learn\n",
      "  Downloading imbalanced_learn-0.10.1-py3-none-any.whl (226 kB)\n",
      "\u001b[2K     \u001b[90m━━━━━━━━━━━━━━━━━━━━━━━━━━━━━━━━━━━━━━━\u001b[0m \u001b[32m226.0/226.0 kB\u001b[0m \u001b[31m4.1 MB/s\u001b[0m eta \u001b[36m0:00:00\u001b[0ma \u001b[36m0:00:01\u001b[0m\n",
      "\u001b[?25hRequirement already satisfied: threadpoolctl>=2.0.0 in /opt/conda/lib/python3.10/site-packages (from imbalanced-learn->imblearn) (3.1.0)\n",
      "Requirement already satisfied: scikit-learn>=1.0.2 in /opt/conda/lib/python3.10/site-packages (from imbalanced-learn->imblearn) (1.2.0)\n",
      "Requirement already satisfied: scipy>=1.3.2 in /opt/conda/lib/python3.10/site-packages (from imbalanced-learn->imblearn) (1.9.3)\n",
      "Requirement already satisfied: joblib>=1.1.1 in /opt/conda/lib/python3.10/site-packages (from imbalanced-learn->imblearn) (1.2.0)\n",
      "Requirement already satisfied: numpy>=1.17.3 in /opt/conda/lib/python3.10/site-packages (from imbalanced-learn->imblearn) (1.23.5)\n",
      "Installing collected packages: imbalanced-learn, imblearn\n",
      "Successfully installed imbalanced-learn-0.10.1 imblearn-0.0\n",
      "Note: you may need to restart the kernel to use updated packages.\n"
     ]
    }
   ],
   "source": [
    "pip install imblearn"
   ]
  },
  {
   "cell_type": "code",
   "execution_count": 17,
   "id": "3e367ad2-65dc-48de-a14f-37353ca429c5",
   "metadata": {},
   "outputs": [],
   "source": [
    "from imblearn.over_sampling import SMOTE"
   ]
  },
  {
   "cell_type": "code",
   "execution_count": 18,
   "id": "b06d5bcf-4bf2-4b90-9ab0-eb5e813c2755",
   "metadata": {},
   "outputs": [],
   "source": [
    "oversample = SMOTE()\n",
    "X,y=oversample.fit_resample(final_df[['f1','f2']],final_df['target'])"
   ]
  },
  {
   "cell_type": "code",
   "execution_count": 20,
   "id": "99ce3d06-11f5-442a-aac6-9020d2eb4fef",
   "metadata": {},
   "outputs": [
    {
     "data": {
      "text/plain": [
       "((1800, 2), (1800,))"
      ]
     },
     "execution_count": 20,
     "metadata": {},
     "output_type": "execute_result"
    }
   ],
   "source": [
    "X.shape,y.shape"
   ]
  },
  {
   "cell_type": "code",
   "execution_count": 21,
   "id": "d685dd28-3655-464b-8938-5a477b80cbb2",
   "metadata": {},
   "outputs": [],
   "source": [
    "df3 =pd.DataFrame(X,columns=['f1','f2'])\n",
    "df4 = pd.DataFrame(y,columns=['target'])\n",
    "oversample_df = pd.concat([df3,df4],axis=1)"
   ]
  },
  {
   "cell_type": "code",
   "execution_count": 23,
   "id": "fba748f4-5db4-4abe-a88a-5c02d2411bfc",
   "metadata": {},
   "outputs": [
    {
     "data": {
      "text/plain": [
       "<matplotlib.collections.PathCollection at 0x7f4a08222950>"
      ]
     },
     "execution_count": 23,
     "metadata": {},
     "output_type": "execute_result"
    },
    {
     "data": {
      "image/png": "[encoded data removed]",
      "text/plain": [
       "<Figure size 640x480 with 1 Axes>"
      ]
     },
     "metadata": {},
     "output_type": "display_data"
    }
   ],
   "source": [
    "plt.scatter(final_df['f1'],final_df['f2'],c=final_df['target'])"
   ]
  },
  {
   "cell_type": "code",
   "execution_count": 22,
   "id": "111cb0af-a7ba-4b33-8f12-7882994c585f",
   "metadata": {},
   "outputs": [
    {
     "data": {
      "text/plain": [
       "<matplotlib.collections.PathCollection at 0x7f4a0822b880>"
      ]
     },
     "execution_count": 22,
     "metadata": {},
     "output_type": "execute_result"
    },
    {
     "data": {
      "image/png": "[encoded data removed]",
      "text/plain": [
       "<Figure size 640x480 with 1 Axes>"
      ]
     },
     "metadata": {},
     "output_type": "display_data"
    }
   ],
   "source": [
    "plt.scatter(oversample_df['f1'],oversample_df['f2'],c=oversample_df['target'])"
   ]
  },
  {
   "cell_type": "code",
   "execution_count": 37,
   "id": "9b2e605e-ed93-4703-aaa7-5bb88d188ee9",
   "metadata": {},
   "outputs": [],
   "source": [
    "#linear interpolation"
   ]
  },
  {
   "cell_type": "code",
   "execution_count": 26,
   "id": "b348db00-f309-4e84-8700-df887cc78a56",
   "metadata": {},
   "outputs": [],
   "source": [
    "import numpy as np"
   ]
  },
  {
   "cell_type": "code",
   "execution_count": 27,
   "id": "332850ec-def1-4051-bc3c-690314038341",
   "metadata": {},
   "outputs": [],
   "source": [
    "x=np.array([1,2,3,4,5])\n",
    "y=np.array([2,4,6,8,10])\n"
   ]
  },
  {
   "cell_type": "code",
   "execution_count": 28,
   "id": "1cfd0d20-4984-4f8e-bd06-1b6d484b027e",
   "metadata": {},
   "outputs": [],
   "source": [
    "import matplotlib.pyplot as plt\n"
   ]
  },
  {
   "cell_type": "code",
   "execution_count": 29,
   "id": "0b52bf96-754d-4acd-b22d-cebc9117473e",
   "metadata": {},
   "outputs": [
    {
     "data": {
      "text/plain": [
       "<matplotlib.collections.PathCollection at 0x7f4a0805a500>"
      ]
     },
     "execution_count": 29,
     "metadata": {},
     "output_type": "execute_result"
    },
    {
     "data": {
      "image/png": "[encoded data removed]",
      "text/plain": [
       "<Figure size 640x480 with 1 Axes>"
      ]
     },
     "metadata": {},
     "output_type": "display_data"
    }
   ],
   "source": [
    "plt.scatter(x,y)"
   ]
  },
  {
   "cell_type": "code",
   "execution_count": 31,
   "id": "5c65ba12-c1ab-43e7-afd5-1281dc63cbad",
   "metadata": {},
   "outputs": [],
   "source": [
    "x_new=np.linspace(1,5,10)\n",
    "y_interp=np.interp(x_new,x,y)"
   ]
  },
  {
   "cell_type": "code",
   "execution_count": 32,
   "id": "57a5e57d-41d0-4957-915e-987d168908ef",
   "metadata": {},
   "outputs": [
    {
     "data": {
      "text/plain": [
       "<matplotlib.collections.PathCollection at 0x7f4c32a2e410>"
      ]
     },
     "execution_count": 32,
     "metadata": {},
     "output_type": "execute_result"
    },
    {
     "data": {
      "image/png": "[encoded data removed]",
      "text/plain": [
       "<Figure size 640x480 with 1 Axes>"
      ]
     },
     "metadata": {},
     "output_type": "display_data"
    }
   ],
   "source": [
    "plt.scatter(x_new,y_interp)"
   ]
  },
  {
   "cell_type": "code",
   "execution_count": 34,
   "id": "b9729b99-0b95-4cb3-b352-e42c114bb974",
   "metadata": {},
   "outputs": [],
   "source": [
    "#cubic interpolation"
   ]
  },
  {
   "cell_type": "code",
   "execution_count": 35,
   "id": "a06d687a-7903-4eb1-82b3-02e928824b54",
   "metadata": {},
   "outputs": [
    {
     "data": {
      "text/plain": [
       "array([1, 2, 3, 4, 5])"
      ]
     },
     "execution_count": 35,
     "metadata": {},
     "output_type": "execute_result"
    }
   ],
   "source": [
    "x"
   ]
  },
  {
   "cell_type": "code",
   "execution_count": 36,
   "id": "0f42d36b-48bb-405f-9cb5-521de8631c88",
   "metadata": {},
   "outputs": [],
   "source": [
    "y1 =np.array([1,8,27,64,125])"
   ]
  },
  {
   "cell_type": "code",
   "execution_count": 37,
   "id": "f7013d62-8592-45c0-8613-f472e6470463",
   "metadata": {},
   "outputs": [],
   "source": [
    "from scipy.interpolate import interp1d"
   ]
  },
  {
   "cell_type": "code",
   "execution_count": 38,
   "id": "bce5a584-36da-4242-b53b-5b2420d8899b",
   "metadata": {},
   "outputs": [],
   "source": [
    "f=interp1d(x,y1,kind='cubic')"
   ]
  },
  {
   "cell_type": "code",
   "execution_count": 39,
   "id": "0abb4b59-e279-4d9c-9f07-d626091f9f1a",
   "metadata": {},
   "outputs": [
    {
     "data": {
      "text/plain": [
       "array([1.        , 1.44444444, 1.88888889, 2.33333333, 2.77777778,\n",
       "       3.22222222, 3.66666667, 4.11111111, 4.55555556, 5.        ])"
      ]
     },
     "execution_count": 39,
     "metadata": {},
     "output_type": "execute_result"
    }
   ],
   "source": [
    "x_new"
   ]
  },
  {
   "cell_type": "code",
   "execution_count": 40,
   "id": "cc2f99f8-cbdc-4ca3-9b78-239a4c164139",
   "metadata": {},
   "outputs": [],
   "source": [
    "y1_interp = f(x_new)"
   ]
  },
  {
   "cell_type": "code",
   "execution_count": 41,
   "id": "32ab7304-03b2-46ae-bfb4-8a88aadcfe0b",
   "metadata": {},
   "outputs": [
    {
     "data": {
      "text/plain": [
       "<matplotlib.collections.PathCollection at 0x7f49fe9d8d30>"
      ]
     },
     "execution_count": 41,
     "metadata": {},
     "output_type": "execute_result"
    },
    {
     "data": {
      "image/png": "[encoded data removed]",
      "text/plain": [
       "<Figure size 640x480 with 1 Axes>"
      ]
     },
     "metadata": {},
     "output_type": "display_data"
    }
   ],
   "source": [
    "plt.scatter(x_new,y1_interp)"
   ]
  },
  {
   "cell_type": "code",
   "execution_count": null,
   "id": "d385cf36-6cb9-4eba-9c35-5293f167bec7",
   "metadata": {},
   "outputs": [],
   "source": [
    "#polynomial interpolation"
   ]
  },
  {
   "cell_type": "code",
   "execution_count": 42,
   "id": "4fc70010-67bf-45bc-b9da-3215f37da3a4",
   "metadata": {},
   "outputs": [],
   "source": [
    "y2 = np.array([1,4,9,16,25])\n"
   ]
  },
  {
   "cell_type": "code",
   "execution_count": 43,
   "id": "32de3949-878e-4db5-aa0d-9637728c2617",
   "metadata": {},
   "outputs": [],
   "source": [
    "p=np.polyfit(x,y2,2)"
   ]
  },
  {
   "cell_type": "code",
   "execution_count": 44,
   "id": "4a9ac19a-a839-447e-8ccb-001bca80a297",
   "metadata": {},
   "outputs": [],
   "source": [
    "y2_interp=np.polyval(p,x_new)"
   ]
  },
  {
   "cell_type": "code",
   "execution_count": 45,
   "id": "e4ed8f45-5373-4d31-ab86-6c0761bf55e2",
   "metadata": {},
   "outputs": [
    {
     "data": {
      "text/plain": [
       "<matplotlib.collections.PathCollection at 0x7f49feac66e0>"
      ]
     },
     "execution_count": 45,
     "metadata": {},
     "output_type": "execute_result"
    },
    {
     "data": {
      "image/png": "[encoded data removed]",
      "text/plain": [
       "<Figure size 640x480 with 1 Axes>"
      ]
     },
     "metadata": {},
     "output_type": "display_data"
    }
   ],
   "source": [
    "plt.scatter(x_new,y2_interp)"
   ]
  },
  {
   "cell_type": "code",
   "execution_count": 46,
   "id": "9fb1e717-d7f8-4247-b61d-e754a3666aef",
   "metadata": {},
   "outputs": [],
   "source": [
    "#5 number summary and box polt"
   ]
  },
  {
   "cell_type": "code",
   "execution_count": 47,
   "id": "c8caecfa-959b-41bd-8225-9e449d6086be",
   "metadata": {},
   "outputs": [],
   "source": [
    "import numpy as np"
   ]
  },
  {
   "cell_type": "code",
   "execution_count": 51,
   "id": "c9ea5262-2c51-4c20-906e-d918662c6b43",
   "metadata": {},
   "outputs": [],
   "source": [
    "lst_marks=[44,56,44,67,88,95,44,33,77,88,66,44,33,66,54,35,53,65]"
   ]
  },
  {
   "cell_type": "code",
   "execution_count": 52,
   "id": "7669b05f-293e-48b0-9a55-613f8db8ab93",
   "metadata": {},
   "outputs": [],
   "source": [
    "minimum,Q1,median,Q3,maximum=np.quantile(lst_marks,[0,0.25,0.5,0.75,1.0])"
   ]
  },
  {
   "cell_type": "code",
   "execution_count": 53,
   "id": "b98b0132-2ec1-4032-9459-cefa02b62279",
   "metadata": {},
   "outputs": [
    {
     "data": {
      "text/plain": [
       "(33.0, 44.0, 55.0, 66.75, 95.0)"
      ]
     },
     "execution_count": 53,
     "metadata": {},
     "output_type": "execute_result"
    }
   ],
   "source": [
    "minimum,Q1,median,Q3,maximum"
   ]
  },
  {
   "cell_type": "code",
   "execution_count": 54,
   "id": "73f35391-4d10-48a9-b3d0-ec17b7ca6130",
   "metadata": {},
   "outputs": [
    {
     "name": "stdout",
     "output_type": "stream",
     "text": [
      "22.75\n"
     ]
    }
   ],
   "source": [
    "IQR=Q3-Q1\n",
    "print(IQR)"
   ]
  },
  {
   "cell_type": "code",
   "execution_count": 68,
   "id": "b541e9b8-d987-4bc2-97b5-5fafeac8ea12",
   "metadata": {},
   "outputs": [],
   "source": [
    "lower_fence=Q1-1.5*IQR\n",
    "higher_fence=Q3+1.5*IQR"
   ]
  },
  {
   "cell_type": "code",
   "execution_count": 56,
   "id": "cccc68a8-a10a-4aa1-9cec-dd409995005d",
   "metadata": {},
   "outputs": [],
   "source": [
    "import seaborn as sns"
   ]
  },
  {
   "cell_type": "code",
   "execution_count": 59,
   "id": "e989d937-d3dd-4f2d-ab39-9d8c6bc40297",
   "metadata": {},
   "outputs": [
    {
     "data": {
      "text/plain": [
       "<AxesSubplot: >"
      ]
     },
     "execution_count": 59,
     "metadata": {},
     "output_type": "execute_result"
    },
    {
     "data": {
      "image/png": "[encoded data removed]",
      "text/plain": [
       "<Figure size 640x480 with 1 Axes>"
      ]
     },
     "metadata": {},
     "output_type": "display_data"
    }
   ],
   "source": [
    "sns.boxplot(lst_marks)"
   ]
  },
  {
   "cell_type": "code",
   "execution_count": 64,
   "id": "59b8a7ee-e2b7-4cef-9adb-f4242b225898",
   "metadata": {},
   "outputs": [],
   "source": [
    "lst_marks=[-10,44,56,44,67,88,95,44,33,77,88,66,44,33,66,54,35,53,65,120,130]"
   ]
  },
  {
   "cell_type": "code",
   "execution_count": 65,
   "id": "7416895b-b46c-45ef-ac15-67a75444aca8",
   "metadata": {},
   "outputs": [
    {
     "data": {
      "text/plain": [
       "<AxesSubplot: >"
      ]
     },
     "execution_count": 65,
     "metadata": {},
     "output_type": "execute_result"
    },
    {
     "data": {
      "image/png": "[encoded data removed]",
      "text/plain": [
       "<Figure size 640x480 with 1 Axes>"
      ]
     },
     "metadata": {},
     "output_type": "display_data"
    }
   ],
   "source": [
    "sns.boxplot(lst_marks)"
   ]
  },
  {
   "cell_type": "code",
   "execution_count": 66,
   "id": "92bdd28f-72b9-4644-a90b-5a43a71a8f95",
   "metadata": {},
   "outputs": [],
   "source": [
    "minimum,Q1,median,Q3,maximum=np.quantile(lst_marks,[0,0.25,0.5,0.75,1.0])"
   ]
  },
  {
   "cell_type": "code",
   "execution_count": null,
   "id": "44af65de-7740-48c3-94ba-c0937c9bdbc8",
   "metadata": {},
   "outputs": [],
   "source": [
    "#standardziation"
   ]
  },
  {
   "cell_type": "code",
   "execution_count": 1,
   "id": "846f912b-3b80-4439-8dac-c3ad071e5c26",
   "metadata": {},
   "outputs": [],
   "source": [
    "import seaborn as sns"
   ]
  },
  {
   "cell_type": "code",
   "execution_count": 2,
   "id": "de58a01e-2788-45b1-bf18-e31da2e4abbd",
   "metadata": {},
   "outputs": [],
   "source": [
    "df = sns.load_dataset(\"tips\")"
   ]
  },
  {
   "cell_type": "code",
   "execution_count": 3,
   "id": "4da6b10c-5858-48af-a8d5-c2398bbe0fd2",
   "metadata": {},
   "outputs": [
    {
     "data": {
      "text/html": [
       "<div>\n",
       "<style scoped>\n",
       "    .dataframe tbody tr th:only-of-type {\n",
       "        vertical-align: middle;\n",
       "    }\n",
       "\n",
       "    .dataframe tbody tr th {\n",
       "        vertical-align: top;\n",
       "    }\n",
       "\n",
       "    .dataframe thead th {\n",
       "        text-align: right;\n",
       "    }\n",
       "</style>\n",
       "<table border=\"1\" class=\"dataframe\">\n",
       "  <thead>\n",
       "    <tr style=\"text-align: right;\">\n",
       "      <th></th>\n",
       "      <th>total_bill</th>\n",
       "      <th>tip</th>\n",
       "      <th>sex</th>\n",
       "      <th>smoker</th>\n",
       "      <th>day</th>\n",
       "      <th>time</th>\n",
       "      <th>size</th>\n",
       "    </tr>\n",
       "  </thead>\n",
       "  <tbody>\n",
       "    <tr>\n",
       "      <th>0</th>\n",
       "      <td>16.99</td>\n",
       "      <td>1.01</td>\n",
       "      <td>Female</td>\n",
       "      <td>No</td>\n",
       "      <td>Sun</td>\n",
       "      <td>Dinner</td>\n",
       "      <td>2</td>\n",
       "    </tr>\n",
       "    <tr>\n",
       "      <th>1</th>\n",
       "      <td>10.34</td>\n",
       "      <td>1.66</td>\n",
       "      <td>Male</td>\n",
       "      <td>No</td>\n",
       "      <td>Sun</td>\n",
       "      <td>Dinner</td>\n",
       "      <td>3</td>\n",
       "    </tr>\n",
       "    <tr>\n",
       "      <th>2</th>\n",
       "      <td>21.01</td>\n",
       "      <td>3.50</td>\n",
       "      <td>Male</td>\n",
       "      <td>No</td>\n",
       "      <td>Sun</td>\n",
       "      <td>Dinner</td>\n",
       "      <td>3</td>\n",
       "    </tr>\n",
       "    <tr>\n",
       "      <th>3</th>\n",
       "      <td>23.68</td>\n",
       "      <td>3.31</td>\n",
       "      <td>Male</td>\n",
       "      <td>No</td>\n",
       "      <td>Sun</td>\n",
       "      <td>Dinner</td>\n",
       "      <td>2</td>\n",
       "    </tr>\n",
       "    <tr>\n",
       "      <th>4</th>\n",
       "      <td>24.59</td>\n",
       "      <td>3.61</td>\n",
       "      <td>Female</td>\n",
       "      <td>No</td>\n",
       "      <td>Sun</td>\n",
       "      <td>Dinner</td>\n",
       "      <td>4</td>\n",
       "    </tr>\n",
       "  </tbody>\n",
       "</table>\n",
       "</div>"
      ],
      "text/plain": [
       "   total_bill   tip     sex smoker  day    time  size\n",
       "0       16.99  1.01  Female     No  Sun  Dinner     2\n",
       "1       10.34  1.66    Male     No  Sun  Dinner     3\n",
       "2       21.01  3.50    Male     No  Sun  Dinner     3\n",
       "3       23.68  3.31    Male     No  Sun  Dinner     2\n",
       "4       24.59  3.61  Female     No  Sun  Dinner     4"
      ]
     },
     "execution_count": 3,
     "metadata": {},
     "output_type": "execute_result"
    }
   ],
   "source": [
    "df.head()"
   ]
  },
  {
   "cell_type": "code",
   "execution_count": 4,
   "id": "30997321-3c85-44df-b7f2-98cc9672e649",
   "metadata": {},
   "outputs": [],
   "source": [
    "import numpy as np"
   ]
  },
  {
   "cell_type": "code",
   "execution_count": 5,
   "id": "24e1e735-3f05-4e80-b0aa-4ebeff532709",
   "metadata": {},
   "outputs": [],
   "source": [
    "mean=np.mean(df[\"total_bill\"])\n",
    "std=np.std(df[\"total_bill\"])\n"
   ]
  },
  {
   "cell_type": "code",
   "execution_count": 6,
   "id": "c2a664b4-97e2-44cb-a0d5-884cabd2805d",
   "metadata": {},
   "outputs": [],
   "source": [
    "normalized_data=[]\n",
    "for i in list(df[\"total_bill\"]):\n",
    "    z_score = (i-mean)/std\n",
    "    normalized_data.append(z_score)\n",
    "    "
   ]
  },
  {
   "cell_type": "code",
   "execution_count": 7,
   "id": "70855496-cdd7-4601-9486-80d97391f32e",
   "metadata": {},
   "outputs": [
    {
     "data": {
      "text/plain": [
       "[-0.31471130509049433,\n",
       " -1.0632353132988694,\n",
       " 0.13777989987156147,\n",
       " 0.4383151031672548,\n",
       " 0.5407447042905061,\n",
       " 0.6195367051545456,\n",
       " -1.2399545152367868,\n",
       " 0.7985071071171497,\n",
       " -0.5342033074974615,\n",
       " -0.5634689078183904,\n",
       " -1.0711145133852735,\n",
       " 1.7417599174609368,\n",
       " -0.49143050702841135,\n",
       " -0.1526249033130415,\n",
       " -0.5578409077566732,\n",
       " 0.20193910057513614,\n",
       " -1.0643609133112129,\n",
       " -0.39350330595453376,\n",
       " -0.31696250511518115,\n",
       " 0.09725829942719796,\n",
       " -0.21003050394255576,\n",
       " 0.05673669898283485,\n",
       " -0.4520345065963916,\n",
       " 2.2100095225958007,\n",
       " 0.0038334984026941687,\n",
       " -0.22241210407833373,\n",
       " -0.7221785095588128,\n",
       " -0.7987193103981655,\n",
       " 0.2154463007232573,\n",
       " -0.01530170180714419,\n",
       " -1.1521577142739996,\n",
       " -0.16162970341178867,\n",
       " -0.5319521074727744,\n",
       " 0.10176069947657196,\n",
       " -0.22578890411536373,\n",
       " 0.4810879036363047,\n",
       " -0.39125210592984694,\n",
       " -0.3214649051645547,\n",
       " -0.12335930299211235,\n",
       " 1.2926455125359118,\n",
       " -0.4216433062631193,\n",
       " -0.26180810451035325,\n",
       " -0.6580193088552377,\n",
       " -1.1375249141135353,\n",
       " 1.1947183114620339,\n",
       " -0.16838330348584946,\n",
       " 0.27510310137745875,\n",
       " 1.4198383139307182,\n",
       " 0.9864823091785012,\n",
       " -0.196523303794435,\n",
       " -0.8156033105833168,\n",
       " -1.0688633133605867,\n",
       " 1.6911079169054832,\n",
       " -1.1082593137926064,\n",
       " 0.649927905487818,\n",
       " -0.03331130200463895,\n",
       " 2.0512999208553775,\n",
       " 0.7456039065370089,\n",
       " -0.9619313121879615,\n",
       " 3.2061655335197288,\n",
       " 0.05673669898283485,\n",
       " -0.6726521090157022,\n",
       " -0.9866945124595169,\n",
       " -0.16838330348584946,\n",
       " -0.24717530434988888,\n",
       " 0.033099098723622905,\n",
       " -0.375493705757039,\n",
       " -1.881546522272537,\n",
       " 0.04998309890877447,\n",
       " -0.5375801075344916,\n",
       " -0.8741345112251747,\n",
       " -0.30570650499174673,\n",
       " 0.7962559070924629,\n",
       " 0.6184111051422024,\n",
       " -0.5690969078801074,\n",
       " -1.0441001130890313,\n",
       " -0.21003050394255576,\n",
       " 0.8345263075121392,\n",
       " 0.33475990203166023,\n",
       " -0.28094330472019163,\n",
       " -0.038939302066355735,\n",
       " -0.35185610549782703,\n",
       " -1.093626513632142,\n",
       " 1.4513551142763341,\n",
       " -0.4283969063371797,\n",
       " 1.6933591169301696,\n",
       " -0.7604489099784891,\n",
       " -0.16950890349819264,\n",
       " 0.5542519044386274,\n",
       " 0.15466390005671263,\n",
       " 1.0337575096969247,\n",
       " 0.30436870169838753,\n",
       " -1.5798857189645,\n",
       " -0.39012650591750336,\n",
       " 0.33363430201931665,\n",
       " 2.2944295235215573,\n",
       " 0.8435311076108867,\n",
       " -0.8730089112128313,\n",
       " 0.13777989987156147,\n",
       " -0.824608110682064,\n",
       " -0.949549712052184,\n",
       " -0.4959329070777849,\n",
       " 2.75930232861939,\n",
       " 0.29648950161198395,\n",
       " 0.12764949976047069,\n",
       " -0.4981841071024719,\n",
       " 0.0792486992297032,\n",
       " 0.6105319050557985,\n",
       " -0.17401130354756664,\n",
       " -0.6163721083985311,\n",
       " -0.6512657087811772,\n",
       " -1.4110457171129867,\n",
       " 2.0580535209294384,\n",
       " 0.46870630350052717,\n",
       " 0.6668119056729696,\n",
       " -0.2786921046955048,\n",
       " 1.1418151108818932,\n",
       " -1.0283417129162233,\n",
       " -0.8279849107190944,\n",
       " 0.48333910366099153,\n",
       " -0.9112793116325076,\n",
       " -0.7165505094970956,\n",
       " -0.6220001084602482,\n",
       " -0.4317737063742101,\n",
       " -0.8223569106573773,\n",
       " 1.127182310721429,\n",
       " -1.2680945155453722,\n",
       " -0.5927345081393193,\n",
       " -0.9461729120151535,\n",
       " 0.3415135021057206,\n",
       " -0.07946090251071924,\n",
       " 0.054485498958148054,\n",
       " -0.9698105122743655,\n",
       " -0.8471201109289326,\n",
       " -0.17176010352287946,\n",
       " -1.2692201155577156,\n",
       " -1.0643609133112129,\n",
       " -0.6343817085960258,\n",
       " -0.4261457063124929,\n",
       " -0.7458161098180246,\n",
       " -0.26068250449801006,\n",
       " 1.6337023162759683,\n",
       " 2.409240724780586,\n",
       " 0.817642307326988,\n",
       " -0.3777449057817258,\n",
       " -1.2872297157552104,\n",
       " -0.12898730305382955,\n",
       " -0.8910185114103261,\n",
       " -1.1262689139901012,\n",
       " -1.3817801167920578,\n",
       " -0.6433865086947732,\n",
       " -0.7491929098550548,\n",
       " -0.2843201047572216,\n",
       " 0.5362423042411326,\n",
       " -0.001794501659023019,\n",
       " 1.1328103107831462,\n",
       " 3.1949095333962942,\n",
       " 0.5868943047965864,\n",
       " -0.7199273095341259,\n",
       " -0.3709913057076654,\n",
       " 0.19293430047638896,\n",
       " -0.8020961104351957,\n",
       " -0.40250810605328097,\n",
       " -0.6726521090157022,\n",
       " -0.25618010444863604,\n",
       " 0.5328655042041022,\n",
       " 0.10963989956297594,\n",
       " 1.3421719130790224,\n",
       " -1.035095312990284,\n",
       " -1.0305929129409102,\n",
       " 3.4920679366549576,\n",
       " -0.44753210654701786,\n",
       " -1.4110457171129867,\n",
       " 1.3579303132518303,\n",
       " -0.3338465053003323,\n",
       " 1.4761183145478893,\n",
       " -0.21340730397958615,\n",
       " -0.5972369081886929,\n",
       " -1.1465297142122828,\n",
       " 1.6708471166833017,\n",
       " 1.673098316707988,\n",
       " 0.3989191027352349,\n",
       " 2.8774903299154495,\n",
       " 0.38090950253774053,\n",
       " 2.337202323990607,\n",
       " 0.10176069947657196,\n",
       " 0.1253982997357835,\n",
       " 1.2014719115360948,\n",
       " -0.18414170365865742,\n",
       " 0.37303030245133656,\n",
       " -0.461039306695139,\n",
       " 0.002707898390350571,\n",
       " 0.9741007090427236,\n",
       " -0.4846769069543508,\n",
       " -0.36086090559657463,\n",
       " -1.3761521167303408,\n",
       " -1.0632353132988694,\n",
       " 2.625355927150523,\n",
       " -0.7638257100155194,\n",
       " -0.7064201093860049,\n",
       " -0.12110810296742555,\n",
       " -0.7930913103364483,\n",
       " -0.7638257100155194,\n",
       " -0.3811217058187562,\n",
       " 0.08375109927907719,\n",
       " -0.3732425057323522,\n",
       " 0.7658647067591905,\n",
       " 2.132343121744104,\n",
       " 0.5047255038955166,\n",
       " -0.7908401103117615,\n",
       " 1.1564479110423576,\n",
       " 0.687072705895151,\n",
       " 3.212919133593789,\n",
       " -0.733434509682247,\n",
       " 0.9437095087094514,\n",
       " -0.7750817101389536,\n",
       " 0.9414583086847641,\n",
       " -0.9225353117559418,\n",
       " -1.355891316508159,\n",
       " 1.1654527111411053,\n",
       " -0.8583761110523668,\n",
       " -0.7165505094970956,\n",
       " -1.2613409154713116,\n",
       " -0.4283969063371797,\n",
       " -0.7165505094970956,\n",
       " -0.39575450597922057,\n",
       " -1.091375313607455,\n",
       " 0.07474629918032961,\n",
       " -0.7323089096699036,\n",
       " 0.2627215012416812,\n",
       " 0.47545990357458795,\n",
       " -0.461039306695139,\n",
       " -0.920284111731255,\n",
       " -1.0148345127681024,\n",
       " -0.4790489068926338,\n",
       " -1.093626513632142,\n",
       " -0.8088497105092562,\n",
       " 1.4682391144614853,\n",
       " 1.8059191181645118,\n",
       " 1.0405111097709856,\n",
       " 0.8322751074874524,\n",
       " 0.32462950192056944,\n",
       " -0.22128650406599013,\n",
       " -0.11322890288102158]"
      ]
     },
     "execution_count": 7,
     "metadata": {},
     "output_type": "execute_result"
    }
   ],
   "source": [
    "normalized_data"
   ]
  },
  {
   "cell_type": "code",
   "execution_count": 8,
   "id": "4cebe593-6c5c-4dfc-af91-1f0dbc63353d",
   "metadata": {},
   "outputs": [
    {
     "data": {
      "text/plain": [
       "<AxesSubplot: xlabel='total_bill', ylabel='Count'>"
      ]
     },
     "execution_count": 8,
     "metadata": {},
     "output_type": "execute_result"
    },
    {
     "data": {
      "image/png": "[encoded data removed]",
      "text/plain": [
       "<Figure size 640x480 with 1 Axes>"
      ]
     },
     "metadata": {},
     "output_type": "display_data"
    }
   ],
   "source": [
    "sns.histplot(df['total_bill'])"
   ]
  },
  {
   "cell_type": "code",
   "execution_count": 9,
   "id": "199810c9-33ce-4b94-b23f-8548ac6ee73a",
   "metadata": {},
   "outputs": [
    {
     "data": {
      "text/plain": [
       "<AxesSubplot: ylabel='Count'>"
      ]
     },
     "execution_count": 9,
     "metadata": {},
     "output_type": "execute_result"
    },
    {
     "data": {
      "image/png": "[encoded data removed]",
      "text/plain": [
       "<Figure size 640x480 with 1 Axes>"
      ]
     },
     "metadata": {},
     "output_type": "display_data"
    }
   ],
   "source": [
    "sns.histplot(normalized_data)"
   ]
  },
  {
   "cell_type": "code",
   "execution_count": 10,
   "id": "7986bdd7-ed0a-4406-b68b-71a72d985409",
   "metadata": {},
   "outputs": [],
   "source": [
    "from sklearn.preprocessing import StandardScaler"
   ]
  },
  {
   "cell_type": "code",
   "execution_count": 14,
   "id": "36b1ee3d-4eeb-4273-ae2b-22cb6d9ffc41",
   "metadata": {},
   "outputs": [],
   "source": [
    "scaler = StandardScaler()"
   ]
  },
  {
   "cell_type": "code",
   "execution_count": 15,
   "id": "63fddb88-8fad-4e00-b410-aed19b33fd8c",
   "metadata": {},
   "outputs": [
    {
     "data": {
      "text/html": [
       "<style>#sk-container-id-1 {color: black;background-color: white;}#sk-container-id-1 pre{padding: 0;}#sk-container-id-1 div.sk-toggleable {background-color: white;}#sk-container-id-1 label.sk-toggleable__label {cursor: pointer;display: block;width: 100%;margin-bottom: 0;padding: 0.3em;box-sizing: border-box;text-align: center;}#sk-container-id-1 label.sk-toggleable__label-arrow:before {content: \"▸\";float: left;margin-right: 0.25em;color: #696969;}#sk-container-id-1 label.sk-toggleable__label-arrow:hover:before {color: black;}#sk-container-id-1 div.sk-estimator:hover label.sk-toggleable__label-arrow:before {color: black;}#sk-container-id-1 div.sk-toggleable__content {max-height: 0;max-width: 0;overflow: hidden;text-align: left;background-color: #f0f8ff;}#sk-container-id-1 div.sk-toggleable__content pre {margin: 0.2em;color: black;border-radius: 0.25em;background-color: #f0f8ff;}#sk-container-id-1 input.sk-toggleable__control:checked~div.sk-toggleable__content {max-height: 200px;max-width: 100%;overflow: auto;}#sk-container-id-1 input.sk-toggleable__control:checked~label.sk-toggleable__label-arrow:before {content: \"▾\";}#sk-container-id-1 div.sk-estimator input.sk-toggleable__control:checked~label.sk-toggleable__label {background-color: #d4ebff;}#sk-container-id-1 div.sk-label input.sk-toggleable__control:checked~label.sk-toggleable__label {background-color: #d4ebff;}#sk-container-id-1 input.sk-hidden--visually {border: 0;clip: rect(1px 1px 1px 1px);clip: rect(1px, 1px, 1px, 1px);height: 1px;margin: -1px;overflow: hidden;padding: 0;position: absolute;width: 1px;}#sk-container-id-1 div.sk-estimator {font-family: monospace;background-color: #f0f8ff;border: 1px dotted black;border-radius: 0.25em;box-sizing: border-box;margin-bottom: 0.5em;}#sk-container-id-1 div.sk-estimator:hover {background-color: #d4ebff;}#sk-container-id-1 div.sk-parallel-item::after {content: \"\";width: 100%;border-bottom: 1px solid gray;flex-grow: 1;}#sk-container-id-1 div.sk-label:hover label.sk-toggleable__label {background-color: #d4ebff;}#sk-container-id-1 div.sk-serial::before {content: \"\";position: absolute;border-left: 1px solid gray;box-sizing: border-box;top: 0;bottom: 0;left: 50%;z-index: 0;}#sk-container-id-1 div.sk-serial {display: flex;flex-direction: column;align-items: center;background-color: white;padding-right: 0.2em;padding-left: 0.2em;position: relative;}#sk-container-id-1 div.sk-item {position: relative;z-index: 1;}#sk-container-id-1 div.sk-parallel {display: flex;align-items: stretch;justify-content: center;background-color: white;position: relative;}#sk-container-id-1 div.sk-item::before, #sk-container-id-1 div.sk-parallel-item::before {content: \"\";position: absolute;border-left: 1px solid gray;box-sizing: border-box;top: 0;bottom: 0;left: 50%;z-index: -1;}#sk-container-id-1 div.sk-parallel-item {display: flex;flex-direction: column;z-index: 1;position: relative;background-color: white;}#sk-container-id-1 div.sk-parallel-item:first-child::after {align-self: flex-end;width: 50%;}#sk-container-id-1 div.sk-parallel-item:last-child::after {align-self: flex-start;width: 50%;}#sk-container-id-1 div.sk-parallel-item:only-child::after {width: 0;}#sk-container-id-1 div.sk-dashed-wrapped {border: 1px dashed gray;margin: 0 0.4em 0.5em 0.4em;box-sizing: border-box;padding-bottom: 0.4em;background-color: white;}#sk-container-id-1 div.sk-label label {font-family: monospace;font-weight: bold;display: inline-block;line-height: 1.2em;}#sk-container-id-1 div.sk-label-container {text-align: center;}#sk-container-id-1 div.sk-container {/* jupyter's `normalize.less` sets `[hidden] { display: none; }` but bootstrap.min.css set `[hidden] { display: none !important; }` so we also need the `!important` here to be able to override the default hidden behavior on the sphinx rendered scikit-learn.org. See: https://github.com/scikit-learn/scikit-learn/issues/21755 */display: inline-block !important;position: relative;}#sk-container-id-1 div.sk-text-repr-fallback {display: none;}</style><div id=\"sk-container-id-1\" class=\"sk-top-container\"><div class=\"sk-text-repr-fallback\"><pre>StandardScaler()</pre><b>In a Jupyter environment, please rerun this cell to show the HTML representation or trust the notebook. <br />On GitHub, the HTML representation is unable to render, please try loading this page with nbviewer.org.</b></div><div class=\"sk-container\" hidden><div class=\"sk-item\"><div class=\"sk-estimator sk-toggleable\"><input class=\"sk-toggleable__control sk-hidden--visually\" id=\"sk-estimator-id-1\" type=\"checkbox\" checked><label for=\"sk-estimator-id-1\" class=\"sk-toggleable__label sk-toggleable__label-arrow\">StandardScaler</label><div class=\"sk-toggleable__content\"><pre>StandardScaler()</pre></div></div></div></div></div>"
      ],
      "text/plain": [
       "StandardScaler()"
      ]
     },
     "execution_count": 15,
     "metadata": {},
     "output_type": "execute_result"
    }
   ],
   "source": [
    "scaler"
   ]
  },
  {
   "cell_type": "code",
   "execution_count": 16,
   "id": "d2b80091-d402-4064-bce7-dd75e0465a3c",
   "metadata": {},
   "outputs": [
    {
     "data": {
      "text/html": [
       "<style>#sk-container-id-2 {color: black;background-color: white;}#sk-container-id-2 pre{padding: 0;}#sk-container-id-2 div.sk-toggleable {background-color: white;}#sk-container-id-2 label.sk-toggleable__label {cursor: pointer;display: block;width: 100%;margin-bottom: 0;padding: 0.3em;box-sizing: border-box;text-align: center;}#sk-container-id-2 label.sk-toggleable__label-arrow:before {content: \"▸\";float: left;margin-right: 0.25em;color: #696969;}#sk-container-id-2 label.sk-toggleable__label-arrow:hover:before {color: black;}#sk-container-id-2 div.sk-estimator:hover label.sk-toggleable__label-arrow:before {color: black;}#sk-container-id-2 div.sk-toggleable__content {max-height: 0;max-width: 0;overflow: hidden;text-align: left;background-color: #f0f8ff;}#sk-container-id-2 div.sk-toggleable__content pre {margin: 0.2em;color: black;border-radius: 0.25em;background-color: #f0f8ff;}#sk-container-id-2 input.sk-toggleable__control:checked~div.sk-toggleable__content {max-height: 200px;max-width: 100%;overflow: auto;}#sk-container-id-2 input.sk-toggleable__control:checked~label.sk-toggleable__label-arrow:before {content: \"▾\";}#sk-container-id-2 div.sk-estimator input.sk-toggleable__control:checked~label.sk-toggleable__label {background-color: #d4ebff;}#sk-container-id-2 div.sk-label input.sk-toggleable__control:checked~label.sk-toggleable__label {background-color: #d4ebff;}#sk-container-id-2 input.sk-hidden--visually {border: 0;clip: rect(1px 1px 1px 1px);clip: rect(1px, 1px, 1px, 1px);height: 1px;margin: -1px;overflow: hidden;padding: 0;position: absolute;width: 1px;}#sk-container-id-2 div.sk-estimator {font-family: monospace;background-color: #f0f8ff;border: 1px dotted black;border-radius: 0.25em;box-sizing: border-box;margin-bottom: 0.5em;}#sk-container-id-2 div.sk-estimator:hover {background-color: #d4ebff;}#sk-container-id-2 div.sk-parallel-item::after {content: \"\";width: 100%;border-bottom: 1px solid gray;flex-grow: 1;}#sk-container-id-2 div.sk-label:hover label.sk-toggleable__label {background-color: #d4ebff;}#sk-container-id-2 div.sk-serial::before {content: \"\";position: absolute;border-left: 1px solid gray;box-sizing: border-box;top: 0;bottom: 0;left: 50%;z-index: 0;}#sk-container-id-2 div.sk-serial {display: flex;flex-direction: column;align-items: center;background-color: white;padding-right: 0.2em;padding-left: 0.2em;position: relative;}#sk-container-id-2 div.sk-item {position: relative;z-index: 1;}#sk-container-id-2 div.sk-parallel {display: flex;align-items: stretch;justify-content: center;background-color: white;position: relative;}#sk-container-id-2 div.sk-item::before, #sk-container-id-2 div.sk-parallel-item::before {content: \"\";position: absolute;border-left: 1px solid gray;box-sizing: border-box;top: 0;bottom: 0;left: 50%;z-index: -1;}#sk-container-id-2 div.sk-parallel-item {display: flex;flex-direction: column;z-index: 1;position: relative;background-color: white;}#sk-container-id-2 div.sk-parallel-item:first-child::after {align-self: flex-end;width: 50%;}#sk-container-id-2 div.sk-parallel-item:last-child::after {align-self: flex-start;width: 50%;}#sk-container-id-2 div.sk-parallel-item:only-child::after {width: 0;}#sk-container-id-2 div.sk-dashed-wrapped {border: 1px dashed gray;margin: 0 0.4em 0.5em 0.4em;box-sizing: border-box;padding-bottom: 0.4em;background-color: white;}#sk-container-id-2 div.sk-label label {font-family: monospace;font-weight: bold;display: inline-block;line-height: 1.2em;}#sk-container-id-2 div.sk-label-container {text-align: center;}#sk-container-id-2 div.sk-container {/* jupyter's `normalize.less` sets `[hidden] { display: none; }` but bootstrap.min.css set `[hidden] { display: none !important; }` so we also need the `!important` here to be able to override the default hidden behavior on the sphinx rendered scikit-learn.org. See: https://github.com/scikit-learn/scikit-learn/issues/21755 */display: inline-block !important;position: relative;}#sk-container-id-2 div.sk-text-repr-fallback {display: none;}</style><div id=\"sk-container-id-2\" class=\"sk-top-container\"><div class=\"sk-text-repr-fallback\"><pre>StandardScaler()</pre><b>In a Jupyter environment, please rerun this cell to show the HTML representation or trust the notebook. <br />On GitHub, the HTML representation is unable to render, please try loading this page with nbviewer.org.</b></div><div class=\"sk-container\" hidden><div class=\"sk-item\"><div class=\"sk-estimator sk-toggleable\"><input class=\"sk-toggleable__control sk-hidden--visually\" id=\"sk-estimator-id-2\" type=\"checkbox\" checked><label for=\"sk-estimator-id-2\" class=\"sk-toggleable__label sk-toggleable__label-arrow\">StandardScaler</label><div class=\"sk-toggleable__content\"><pre>StandardScaler()</pre></div></div></div></div></div>"
      ],
      "text/plain": [
       "StandardScaler()"
      ]
     },
     "execution_count": 16,
     "metadata": {},
     "output_type": "execute_result"
    }
   ],
   "source": [
    "scaler.fit(df[[\"total_bill\"]])"
   ]
  },
  {
   "cell_type": "code",
   "execution_count": 19,
   "id": "ddb5ea20-9a55-4ef1-a9be-d78811bfddfe",
   "metadata": {},
   "outputs": [],
   "source": [
    "a=scaler.transform(df[[\"total_bill\"]])"
   ]
  },
  {
   "cell_type": "code",
   "execution_count": 23,
   "id": "ae23121f-f525-45c5-a103-cb3d583b8f09",
   "metadata": {},
   "outputs": [
    {
     "data": {
      "text/html": [
       "<div>\n",
       "<style scoped>\n",
       "    .dataframe tbody tr th:only-of-type {\n",
       "        vertical-align: middle;\n",
       "    }\n",
       "\n",
       "    .dataframe tbody tr th {\n",
       "        vertical-align: top;\n",
       "    }\n",
       "\n",
       "    .dataframe thead th {\n",
       "        text-align: right;\n",
       "    }\n",
       "</style>\n",
       "<table border=\"1\" class=\"dataframe\">\n",
       "  <thead>\n",
       "    <tr style=\"text-align: right;\">\n",
       "      <th></th>\n",
       "      <th>total_bill</th>\n",
       "      <th>tip</th>\n",
       "    </tr>\n",
       "  </thead>\n",
       "  <tbody>\n",
       "    <tr>\n",
       "      <th>0</th>\n",
       "      <td>-0.314711</td>\n",
       "      <td>-1.439947</td>\n",
       "    </tr>\n",
       "    <tr>\n",
       "      <th>1</th>\n",
       "      <td>-1.063235</td>\n",
       "      <td>-0.969205</td>\n",
       "    </tr>\n",
       "    <tr>\n",
       "      <th>2</th>\n",
       "      <td>0.137780</td>\n",
       "      <td>0.363356</td>\n",
       "    </tr>\n",
       "    <tr>\n",
       "      <th>3</th>\n",
       "      <td>0.438315</td>\n",
       "      <td>0.225754</td>\n",
       "    </tr>\n",
       "    <tr>\n",
       "      <th>4</th>\n",
       "      <td>0.540745</td>\n",
       "      <td>0.443020</td>\n",
       "    </tr>\n",
       "    <tr>\n",
       "      <th>...</th>\n",
       "      <td>...</td>\n",
       "      <td>...</td>\n",
       "    </tr>\n",
       "    <tr>\n",
       "      <th>239</th>\n",
       "      <td>1.040511</td>\n",
       "      <td>2.115963</td>\n",
       "    </tr>\n",
       "    <tr>\n",
       "      <th>240</th>\n",
       "      <td>0.832275</td>\n",
       "      <td>-0.722971</td>\n",
       "    </tr>\n",
       "    <tr>\n",
       "      <th>241</th>\n",
       "      <td>0.324630</td>\n",
       "      <td>-0.722971</td>\n",
       "    </tr>\n",
       "    <tr>\n",
       "      <th>242</th>\n",
       "      <td>-0.221287</td>\n",
       "      <td>-0.904026</td>\n",
       "    </tr>\n",
       "    <tr>\n",
       "      <th>243</th>\n",
       "      <td>-0.113229</td>\n",
       "      <td>0.001247</td>\n",
       "    </tr>\n",
       "  </tbody>\n",
       "</table>\n",
       "<p>244 rows × 2 columns</p>\n",
       "</div>"
      ],
      "text/plain": [
       "     total_bill       tip\n",
       "0     -0.314711 -1.439947\n",
       "1     -1.063235 -0.969205\n",
       "2      0.137780  0.363356\n",
       "3      0.438315  0.225754\n",
       "4      0.540745  0.443020\n",
       "..          ...       ...\n",
       "239    1.040511  2.115963\n",
       "240    0.832275 -0.722971\n",
       "241    0.324630 -0.722971\n",
       "242   -0.221287 -0.904026\n",
       "243   -0.113229  0.001247\n",
       "\n",
       "[244 rows x 2 columns]"
      ]
     },
     "execution_count": 23,
     "metadata": {},
     "output_type": "execute_result"
    }
   ],
   "source": [
    "import pandas as pd\n",
    "pd.DataFrame(scaler.fit_transform(df[[\"total_bill\",\"tip\"]]),columns=['total_bill','tip'])"
   ]
  },
  {
   "cell_type": "code",
   "execution_count": 24,
   "id": "4c50bdb1-e715-4eb0-a129-d28266c76f48",
   "metadata": {},
   "outputs": [
    {
     "name": "stderr",
     "output_type": "stream",
     "text": [
      "/opt/conda/lib/python3.10/site-packages/sklearn/base.py:409: UserWarning: X does not have valid feature names, but StandardScaler was fitted with feature names\n",
      "  warnings.warn(\n"
     ]
    },
    {
     "data": {
      "text/plain": [
       "array([[-0.76382571,  0.72546447]])"
      ]
     },
     "execution_count": 24,
     "metadata": {},
     "output_type": "execute_result"
    }
   ],
   "source": [
    "scaler.transform([[13,4]])"
   ]
  },
  {
   "cell_type": "code",
   "execution_count": 25,
   "id": "9270378a-d69d-49e5-b2eb-4ff256ace2ab",
   "metadata": {},
   "outputs": [],
   "source": [
    "#normalization min max scaler\n"
   ]
  },
  {
   "cell_type": "code",
   "execution_count": 28,
   "id": "57eefc00-8daa-4a11-8561-641761377a2c",
   "metadata": {},
   "outputs": [],
   "source": [
    "df = sns.load_dataset('taxis')"
   ]
  },
  {
   "cell_type": "code",
   "execution_count": 29,
   "id": "ed90655b-4176-43f3-951f-55a20aa3c73d",
   "metadata": {},
   "outputs": [],
   "source": [
    "from sklearn.preprocessing import MinMaxScaler"
   ]
  },
  {
   "cell_type": "code",
   "execution_count": 30,
   "id": "64a9b14b-1e09-4180-b9d3-2dec5396eb6e",
   "metadata": {},
   "outputs": [],
   "source": [
    "min_max=MinMaxScaler()"
   ]
  },
  {
   "cell_type": "code",
   "execution_count": 32,
   "id": "765d6c67-e8b3-4c42-90de-8cf66057a117",
   "metadata": {},
   "outputs": [
    {
     "data": {
      "text/html": [
       "<div>\n",
       "<style scoped>\n",
       "    .dataframe tbody tr th:only-of-type {\n",
       "        vertical-align: middle;\n",
       "    }\n",
       "\n",
       "    .dataframe tbody tr th {\n",
       "        vertical-align: top;\n",
       "    }\n",
       "\n",
       "    .dataframe thead th {\n",
       "        text-align: right;\n",
       "    }\n",
       "</style>\n",
       "<table border=\"1\" class=\"dataframe\">\n",
       "  <thead>\n",
       "    <tr style=\"text-align: right;\">\n",
       "      <th></th>\n",
       "      <th>distance</th>\n",
       "      <th>fare</th>\n",
       "      <th>tip</th>\n",
       "    </tr>\n",
       "  </thead>\n",
       "  <tbody>\n",
       "    <tr>\n",
       "      <th>0</th>\n",
       "      <td>0.043597</td>\n",
       "      <td>0.040268</td>\n",
       "      <td>0.064759</td>\n",
       "    </tr>\n",
       "    <tr>\n",
       "      <th>1</th>\n",
       "      <td>0.021526</td>\n",
       "      <td>0.026846</td>\n",
       "      <td>0.000000</td>\n",
       "    </tr>\n",
       "    <tr>\n",
       "      <th>2</th>\n",
       "      <td>0.037330</td>\n",
       "      <td>0.043624</td>\n",
       "      <td>0.071084</td>\n",
       "    </tr>\n",
       "    <tr>\n",
       "      <th>3</th>\n",
       "      <td>0.209809</td>\n",
       "      <td>0.174497</td>\n",
       "      <td>0.185241</td>\n",
       "    </tr>\n",
       "    <tr>\n",
       "      <th>4</th>\n",
       "      <td>0.058856</td>\n",
       "      <td>0.053691</td>\n",
       "      <td>0.033133</td>\n",
       "    </tr>\n",
       "    <tr>\n",
       "      <th>...</th>\n",
       "      <td>...</td>\n",
       "      <td>...</td>\n",
       "      <td>...</td>\n",
       "    </tr>\n",
       "    <tr>\n",
       "      <th>6428</th>\n",
       "      <td>0.020436</td>\n",
       "      <td>0.023490</td>\n",
       "      <td>0.031928</td>\n",
       "    </tr>\n",
       "    <tr>\n",
       "      <th>6429</th>\n",
       "      <td>0.510627</td>\n",
       "      <td>0.382550</td>\n",
       "      <td>0.000000</td>\n",
       "    </tr>\n",
       "    <tr>\n",
       "      <th>6430</th>\n",
       "      <td>0.112807</td>\n",
       "      <td>0.100671</td>\n",
       "      <td>0.000000</td>\n",
       "    </tr>\n",
       "    <tr>\n",
       "      <th>6431</th>\n",
       "      <td>0.030518</td>\n",
       "      <td>0.033557</td>\n",
       "      <td>0.000000</td>\n",
       "    </tr>\n",
       "    <tr>\n",
       "      <th>6432</th>\n",
       "      <td>0.104905</td>\n",
       "      <td>0.093960</td>\n",
       "      <td>0.101205</td>\n",
       "    </tr>\n",
       "  </tbody>\n",
       "</table>\n",
       "<p>6433 rows × 3 columns</p>\n",
       "</div>"
      ],
      "text/plain": [
       "      distance      fare       tip\n",
       "0     0.043597  0.040268  0.064759\n",
       "1     0.021526  0.026846  0.000000\n",
       "2     0.037330  0.043624  0.071084\n",
       "3     0.209809  0.174497  0.185241\n",
       "4     0.058856  0.053691  0.033133\n",
       "...        ...       ...       ...\n",
       "6428  0.020436  0.023490  0.031928\n",
       "6429  0.510627  0.382550  0.000000\n",
       "6430  0.112807  0.100671  0.000000\n",
       "6431  0.030518  0.033557  0.000000\n",
       "6432  0.104905  0.093960  0.101205\n",
       "\n",
       "[6433 rows x 3 columns]"
      ]
     },
     "execution_count": 32,
     "metadata": {},
     "output_type": "execute_result"
    }
   ],
   "source": [
    "pd.DataFrame(min_max.fit_transform(df[['distance','fare','tip']]),columns=['distance','fare','tip'])"
   ]
  },
  {
   "cell_type": "code",
   "execution_count": 33,
   "id": "a5a2bcaf-41be-418e-ad23-5fb0d0bc462f",
   "metadata": {},
   "outputs": [],
   "source": [
    "#unit vector feature scalling\n"
   ]
  },
  {
   "cell_type": "code",
   "execution_count": 36,
   "id": "c17e5851-0a13-49f7-a053-a9f863d7d3c4",
   "metadata": {},
   "outputs": [
    {
     "data": {
      "text/html": [
       "<div>\n",
       "<style scoped>\n",
       "    .dataframe tbody tr th:only-of-type {\n",
       "        vertical-align: middle;\n",
       "    }\n",
       "\n",
       "    .dataframe tbody tr th {\n",
       "        vertical-align: top;\n",
       "    }\n",
       "\n",
       "    .dataframe thead th {\n",
       "        text-align: right;\n",
       "    }\n",
       "</style>\n",
       "<table border=\"1\" class=\"dataframe\">\n",
       "  <thead>\n",
       "    <tr style=\"text-align: right;\">\n",
       "      <th></th>\n",
       "      <th>0</th>\n",
       "      <th>1</th>\n",
       "      <th>2</th>\n",
       "    </tr>\n",
       "  </thead>\n",
       "  <tbody>\n",
       "    <tr>\n",
       "      <th>0</th>\n",
       "      <td>0.213461</td>\n",
       "      <td>0.933894</td>\n",
       "      <td>0.286839</td>\n",
       "    </tr>\n",
       "    <tr>\n",
       "      <th>1</th>\n",
       "      <td>0.156064</td>\n",
       "      <td>0.987747</td>\n",
       "      <td>0.000000</td>\n",
       "    </tr>\n",
       "    <tr>\n",
       "      <th>2</th>\n",
       "      <td>0.171657</td>\n",
       "      <td>0.939731</td>\n",
       "      <td>0.295702</td>\n",
       "    </tr>\n",
       "    <tr>\n",
       "      <th>3</th>\n",
       "      <td>0.267899</td>\n",
       "      <td>0.939386</td>\n",
       "      <td>0.213971</td>\n",
       "    </tr>\n",
       "    <tr>\n",
       "      <th>4</th>\n",
       "      <td>0.231742</td>\n",
       "      <td>0.965592</td>\n",
       "      <td>0.118017</td>\n",
       "    </tr>\n",
       "    <tr>\n",
       "      <th>...</th>\n",
       "      <td>...</td>\n",
       "      <td>...</td>\n",
       "      <td>...</td>\n",
       "    </tr>\n",
       "    <tr>\n",
       "      <th>6428</th>\n",
       "      <td>0.160133</td>\n",
       "      <td>0.960800</td>\n",
       "      <td>0.226322</td>\n",
       "    </tr>\n",
       "    <tr>\n",
       "      <th>6429</th>\n",
       "      <td>0.307453</td>\n",
       "      <td>0.951563</td>\n",
       "      <td>0.000000</td>\n",
       "    </tr>\n",
       "    <tr>\n",
       "      <th>6430</th>\n",
       "      <td>0.250500</td>\n",
       "      <td>0.968117</td>\n",
       "      <td>0.000000</td>\n",
       "    </tr>\n",
       "    <tr>\n",
       "      <th>6431</th>\n",
       "      <td>0.183497</td>\n",
       "      <td>0.983020</td>\n",
       "      <td>0.000000</td>\n",
       "    </tr>\n",
       "    <tr>\n",
       "      <th>6432</th>\n",
       "      <td>0.242956</td>\n",
       "      <td>0.946580</td>\n",
       "      <td>0.212034</td>\n",
       "    </tr>\n",
       "  </tbody>\n",
       "</table>\n",
       "<p>6433 rows × 3 columns</p>\n",
       "</div>"
      ],
      "text/plain": [
       "             0         1         2\n",
       "0     0.213461  0.933894  0.286839\n",
       "1     0.156064  0.987747  0.000000\n",
       "2     0.171657  0.939731  0.295702\n",
       "3     0.267899  0.939386  0.213971\n",
       "4     0.231742  0.965592  0.118017\n",
       "...        ...       ...       ...\n",
       "6428  0.160133  0.960800  0.226322\n",
       "6429  0.307453  0.951563  0.000000\n",
       "6430  0.250500  0.968117  0.000000\n",
       "6431  0.183497  0.983020  0.000000\n",
       "6432  0.242956  0.946580  0.212034\n",
       "\n",
       "[6433 rows x 3 columns]"
      ]
     },
     "execution_count": 36,
     "metadata": {},
     "output_type": "execute_result"
    }
   ],
   "source": [
    "from sklearn.preprocessing import normalize\n",
    "pd.DataFrame(normalize(df[['distance','fare','tip']]))"
   ]
  },
  {
   "cell_type": "code",
   "execution_count": null,
   "id": "b128d4eb-0c4a-4d00-95b7-39c9facbb956",
   "metadata": {},
   "outputs": [],
   "source": []
  }
 ],
 "metadata": {
  "kernelspec": {
   "display_name": "Python 3 (ipykernel)",
   "language": "python",
   "name": "python3"
  },
  "language_info": {
   "codemirror_mode": {
    "name": "ipython",
    "version": 3
   },
   "file_extension": ".py",
   "mimetype": "text/x-python",
   "name": "python",
   "nbconvert_exporter": "python",
   "pygments_lexer": "ipython3",
   "version": "3.10.8"
  }
 },
 "nbformat": 4,
 "nbformat_minor": 5
}

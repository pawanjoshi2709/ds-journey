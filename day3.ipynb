{
 "cells": [
  {
   "cell_type": "markdown",
   "id": "1b170638-74ee-427a-abce-4b55a209e42e",
   "metadata": {},
   "source": [
    "###logical opreators \n",
    "##and\n",
    "or \n",
    "not"
   ]
  },
  {
   "cell_type": "code",
   "execution_count": 2,
   "id": "80494c38-e307-4d85-aa75-b1b5c3cb753c",
   "metadata": {},
   "outputs": [
    {
     "data": {
      "text/plain": [
       "True"
      ]
     },
     "execution_count": 2,
     "metadata": {},
     "output_type": "execute_result"
    }
   ],
   "source": [
    "True or False\n"
   ]
  },
  {
   "cell_type": "code",
   "execution_count": 6,
   "id": "f6ed4fe9-9570-4d53-91d2-dcc173ec991d",
   "metadata": {},
   "outputs": [
    {
     "name": "stdout",
     "output_type": "stream",
     "text": [
      "False\n"
     ]
    }
   ],
   "source": [
    "a = True\n",
    "print(not a)"
   ]
  },
  {
   "cell_type": "code",
   "execution_count": 7,
   "id": "c68197ff-d56b-4a51-8fd6-9a9cfa512b2b",
   "metadata": {},
   "outputs": [
    {
     "data": {
      "text/plain": [
       "0"
      ]
     },
     "execution_count": 7,
     "metadata": {},
     "output_type": "execute_result"
    }
   ],
   "source": [
    "int(not (True))"
   ]
  },
  {
   "cell_type": "code",
   "execution_count": 8,
   "id": "2504f42d-0fc9-4899-998e-26c191744c41",
   "metadata": {},
   "outputs": [
    {
     "data": {
      "text/plain": [
       "False"
      ]
     },
     "execution_count": 8,
     "metadata": {},
     "output_type": "execute_result"
    }
   ],
   "source": [
    "bool(0)"
   ]
  },
  {
   "cell_type": "code",
   "execution_count": 10,
   "id": "979a6260-14e6-4a2b-9270-7266011e9580",
   "metadata": {},
   "outputs": [
    {
     "data": {
      "text/plain": [
       "0"
      ]
     },
     "execution_count": 10,
     "metadata": {},
     "output_type": "execute_result"
    }
   ],
   "source": [
    "int(bool(0))"
   ]
  },
  {
   "cell_type": "code",
   "execution_count": 11,
   "id": "c8dadb7e-a552-4b90-bf29-4c85a2503fcc",
   "metadata": {},
   "outputs": [
    {
     "data": {
      "text/plain": [
       "True"
      ]
     },
     "execution_count": 11,
     "metadata": {},
     "output_type": "execute_result"
    }
   ],
   "source": [
    "bool(-5)\n"
   ]
  },
  {
   "cell_type": "code",
   "execution_count": 12,
   "id": "fb394d15-bafe-441e-9645-a3e2bddd8595",
   "metadata": {},
   "outputs": [
    {
     "data": {
      "text/plain": [
       "True"
      ]
     },
     "execution_count": 12,
     "metadata": {},
     "output_type": "execute_result"
    }
   ],
   "source": [
    "bool(5)"
   ]
  },
  {
   "cell_type": "code",
   "execution_count": 16,
   "id": "2a20a865-4017-4003-8129-531015dc232a",
   "metadata": {},
   "outputs": [
    {
     "data": {
      "text/plain": [
       "1"
      ]
     },
     "execution_count": 16,
     "metadata": {},
     "output_type": "execute_result"
    }
   ],
   "source": [
    "True * True"
   ]
  },
  {
   "cell_type": "code",
   "execution_count": 26,
   "id": "11f84553-98bb-41f8-beed-af3862976439",
   "metadata": {},
   "outputs": [
    {
     "data": {
      "text/plain": [
       "1"
      ]
     },
     "execution_count": 26,
     "metadata": {},
     "output_type": "execute_result"
    }
   ],
   "source": [
    "(not (False)) * True"
   ]
  },
  {
   "cell_type": "code",
   "execution_count": 27,
   "id": "c0f4d0d9-34cc-4907-9216-a8042dd4a724",
   "metadata": {},
   "outputs": [
    {
     "data": {
      "text/plain": [
       "1"
      ]
     },
     "execution_count": 27,
     "metadata": {},
     "output_type": "execute_result"
    }
   ],
   "source": [
    "(not (False)) * (not(False))"
   ]
  },
  {
   "cell_type": "code",
   "execution_count": 25,
   "id": "62f29c91-fca3-4abe-ae6e-4263bf47cf0c",
   "metadata": {},
   "outputs": [
    {
     "data": {
      "text/plain": [
       "0"
      ]
     },
     "execution_count": 25,
     "metadata": {},
     "output_type": "execute_result"
    }
   ],
   "source": [
    "(not(False)) * False"
   ]
  },
  {
   "cell_type": "code",
   "execution_count": 1,
   "id": "bb53dd49-d0da-4d21-ab60-a452b386dc48",
   "metadata": {},
   "outputs": [
    {
     "data": {
      "text/plain": [
       "int"
      ]
     },
     "execution_count": 1,
     "metadata": {},
     "output_type": "execute_result"
    }
   ],
   "source": [
    "type((not(False)) - True)"
   ]
  },
  {
   "cell_type": "code",
   "execution_count": 41,
   "id": "72856783-21b9-449c-9d7d-345913fdb9dc",
   "metadata": {},
   "outputs": [],
   "source": [
    "#if we multiply , div , add , subtract it take true = 1 and false = 0  and ans come in int\n",
    "# if (not) is come outer from the  bracket it show whole ans in true and false not (True ) * False ans come in boolean \n"
   ]
  },
  {
   "cell_type": "markdown",
   "id": "f37d06c5-94c6-44d8-b005-2bde6d4e8df4",
   "metadata": {},
   "source": [
    "##equality operator \n",
    "is , is not , == , !="
   ]
  },
  {
   "cell_type": "code",
   "execution_count": 42,
   "id": "3329bf63-47ac-4f0f-addb-5533aa203577",
   "metadata": {},
   "outputs": [],
   "source": [
    "# if a and b has same points toward the same object  or check the same memory adrress for is "
   ]
  },
  {
   "cell_type": "code",
   "execution_count": 43,
   "id": "7ba2a5be-4c54-44f5-b2bd-b2d59ee3f3b8",
   "metadata": {},
   "outputs": [],
   "source": [
    "list_a = [1,2,3,4]\n",
    "list_b = [1,2,3,4]\n",
    "list_c = list_a\n"
   ]
  },
  {
   "cell_type": "code",
   "execution_count": 46,
   "id": "e031a056-be43-4788-bfcb-80e1d5674406",
   "metadata": {},
   "outputs": [
    {
     "data": {
      "text/plain": [
       "False"
      ]
     },
     "execution_count": 46,
     "metadata": {},
     "output_type": "execute_result"
    }
   ],
   "source": [
    "list_a is list_b\n"
   ]
  },
  {
   "cell_type": "code",
   "execution_count": 45,
   "id": "c3586dda-b100-42ae-ba66-56f8ea0fabb2",
   "metadata": {},
   "outputs": [
    {
     "data": {
      "text/plain": [
       "True"
      ]
     },
     "execution_count": 45,
     "metadata": {},
     "output_type": "execute_result"
    }
   ],
   "source": [
    "list_a is list_c"
   ]
  },
  {
   "cell_type": "code",
   "execution_count": 48,
   "id": "0c8bad98-7655-46fc-ab7a-83710718ad5a",
   "metadata": {},
   "outputs": [
    {
     "name": "stdout",
     "output_type": "stream",
     "text": [
      "140315314802624\n",
      "140315314030208\n",
      "140315314802624\n"
     ]
    }
   ],
   "source": [
    "print(id (list_a))\n",
    "print(id(list_b))\n",
    "print(id(list_c))"
   ]
  },
  {
   "cell_type": "code",
   "execution_count": 50,
   "id": "d8f11142-1904-4410-98dc-14c77275f65a",
   "metadata": {},
   "outputs": [
    {
     "data": {
      "text/plain": [
       "True"
      ]
     },
     "execution_count": 50,
     "metadata": {},
     "output_type": "execute_result"
    }
   ],
   "source": [
    "list_a is not list_b "
   ]
  },
  {
   "cell_type": "code",
   "execution_count": 51,
   "id": "c38ec24e-8b26-4538-80c5-084b9fa18711",
   "metadata": {},
   "outputs": [
    {
     "data": {
      "text/plain": [
       "False"
      ]
     },
     "execution_count": 51,
     "metadata": {},
     "output_type": "execute_result"
    }
   ],
   "source": [
    "list_a is not list_c"
   ]
  },
  {
   "cell_type": "code",
   "execution_count": 52,
   "id": "01a0bf0e-ca94-465c-bc8a-8be4234b9a3e",
   "metadata": {},
   "outputs": [
    {
     "data": {
      "text/plain": [
       "True"
      ]
     },
     "execution_count": 52,
     "metadata": {},
     "output_type": "execute_result"
    }
   ],
   "source": [
    "list_a == list_b"
   ]
  },
  {
   "cell_type": "code",
   "execution_count": 53,
   "id": "0144c06a-3652-4ce2-8ccf-54868509e835",
   "metadata": {},
   "outputs": [
    {
     "data": {
      "text/plain": [
       "False"
      ]
     },
     "execution_count": 53,
     "metadata": {},
     "output_type": "execute_result"
    }
   ],
   "source": [
    "list_b != list_c"
   ]
  },
  {
   "cell_type": "code",
   "execution_count": 54,
   "id": "5890070b-c836-49df-9249-0e7b582e49b8",
   "metadata": {},
   "outputs": [
    {
     "data": {
      "text/plain": [
       "True"
      ]
     },
     "execution_count": 54,
     "metadata": {},
     "output_type": "execute_result"
    }
   ],
   "source": [
    "list_a == list_b == list_c"
   ]
  },
  {
   "cell_type": "code",
   "execution_count": 55,
   "id": "135e6718-3c09-44fc-a698-9e3d13eeba00",
   "metadata": {},
   "outputs": [
    {
     "name": "stdout",
     "output_type": "stream",
     "text": [
      "140315312885104\n",
      "140315312885104\n"
     ]
    }
   ],
   "source": [
    "a = \"pawan\"\n",
    "b = \"pawan\"\n",
    "print(id(a))\n",
    "print(id(b))"
   ]
  },
  {
   "cell_type": "code",
   "execution_count": 56,
   "id": "45a30607-c781-4efc-861c-c40e6015069f",
   "metadata": {},
   "outputs": [],
   "source": [
    "#string is immutable its means it cannot be change but replaced "
   ]
  },
  {
   "cell_type": "markdown",
   "id": "376f2809-180b-40d4-a9c4-f07ed60fd183",
   "metadata": {},
   "source": [
    "#comperision operations \n",
    "< ,\n",
    "#<=,\n",
    "#>,\n",
    "#>="
   ]
  },
  {
   "cell_type": "markdown",
   "id": "b6d51447-d893-4c78-b230-198e56e6ac42",
   "metadata": {},
   "source": [
    "# arthematic operation\n",
    "+,-,*,/,%,//"
   ]
  },
  {
   "cell_type": "code",
   "execution_count": 59,
   "id": "19bf2ac4-506f-4e50-bbc1-c3ccb4d4bd11",
   "metadata": {},
   "outputs": [],
   "source": [
    "a = 6 \n",
    "b =100\n"
   ]
  },
  {
   "cell_type": "code",
   "execution_count": 60,
   "id": "c1ece3eb-2b0c-488d-ac4d-7d8b9c2d619b",
   "metadata": {},
   "outputs": [
    {
     "data": {
      "text/plain": [
       "0"
      ]
     },
     "execution_count": 60,
     "metadata": {},
     "output_type": "execute_result"
    }
   ],
   "source": [
    "a//b"
   ]
  },
  {
   "cell_type": "code",
   "execution_count": 61,
   "id": "09953066-bc3c-4773-9853-fb36ea398f48",
   "metadata": {},
   "outputs": [
    {
     "data": {
      "text/plain": [
       "16"
      ]
     },
     "execution_count": 61,
     "metadata": {},
     "output_type": "execute_result"
    }
   ],
   "source": [
    "b//a"
   ]
  },
  {
   "cell_type": "code",
   "execution_count": 62,
   "id": "2163f981-e849-4893-9355-e0d4e58bcc20",
   "metadata": {},
   "outputs": [
    {
     "data": {
      "text/plain": [
       "16.666666666666668"
      ]
     },
     "execution_count": 62,
     "metadata": {},
     "output_type": "execute_result"
    }
   ],
   "source": [
    "b/a"
   ]
  },
  {
   "cell_type": "code",
   "execution_count": 63,
   "id": "25a2678c-d1df-4489-9502-8748e63d6832",
   "metadata": {},
   "outputs": [
    {
     "data": {
      "text/plain": [
       "6"
      ]
     },
     "execution_count": 63,
     "metadata": {},
     "output_type": "execute_result"
    }
   ],
   "source": [
    "a%b"
   ]
  },
  {
   "cell_type": "code",
   "execution_count": 65,
   "id": "9ba1da60-8088-4537-bec7-4e5071dcb7b3",
   "metadata": {},
   "outputs": [
    {
     "data": {
      "text/plain": [
       "4"
      ]
     },
     "execution_count": 65,
     "metadata": {},
     "output_type": "execute_result"
    }
   ],
   "source": [
    "b%a"
   ]
  },
  {
   "cell_type": "markdown",
   "id": "4cd9adb0-1ab7-4785-9931-59031758078a",
   "metadata": {},
   "source": [
    "##string "
   ]
  },
  {
   "cell_type": "code",
   "execution_count": 66,
   "id": "f406a3ad-6658-4c37-94ca-6837c4563c63",
   "metadata": {},
   "outputs": [],
   "source": [
    "str1 = \"pawan\""
   ]
  },
  {
   "cell_type": "code",
   "execution_count": 11,
   "id": "f9592672-00fc-4762-83a7-b9065541583d",
   "metadata": {},
   "outputs": [],
   "source": [
    "a = \"hello welcome to the jupiter\""
   ]
  },
  {
   "cell_type": "code",
   "execution_count": 13,
   "id": "89595c16-1106-44b3-b878-320e214b1aca",
   "metadata": {},
   "outputs": [
    {
     "data": {
      "text/plain": [
       "'lo welcome to '"
      ]
     },
     "execution_count": 13,
     "metadata": {},
     "output_type": "execute_result"
    }
   ],
   "source": [
    "#slice operation \n",
    "a[3:17]"
   ]
  },
  {
   "cell_type": "code",
   "execution_count": 14,
   "id": "f53dd46b-5df0-44e1-9d2e-0142c5909483",
   "metadata": {},
   "outputs": [
    {
     "data": {
      "text/plain": [
       "'r'"
      ]
     },
     "execution_count": 14,
     "metadata": {},
     "output_type": "execute_result"
    }
   ],
   "source": [
    "a[-1]"
   ]
  },
  {
   "cell_type": "code",
   "execution_count": 12,
   "id": "a878458b-3573-4ee4-af43-dd3c5596513d",
   "metadata": {},
   "outputs": [
    {
     "data": {
      "text/plain": [
       "'hello welcome to the jupi'"
      ]
     },
     "execution_count": 12,
     "metadata": {},
     "output_type": "execute_result"
    }
   ],
   "source": [
    "a[:-3]"
   ]
  },
  {
   "cell_type": "code",
   "execution_count": 20,
   "id": "edbe1c88-2d2b-475a-8416-c0817eaafd88",
   "metadata": {},
   "outputs": [
    {
     "data": {
      "text/plain": [
       "''"
      ]
     },
     "execution_count": 20,
     "metadata": {},
     "output_type": "execute_result"
    }
   ],
   "source": [
    "a[7:7]"
   ]
  },
  {
   "cell_type": "code",
   "execution_count": 22,
   "id": "c690c468-cae3-4f57-9320-7cb421d7bffe",
   "metadata": {},
   "outputs": [
    {
     "data": {
      "text/plain": [
       "' welcome to the '"
      ]
     },
     "execution_count": 22,
     "metadata": {},
     "output_type": "execute_result"
    }
   ],
   "source": [
    "a[5:-7]"
   ]
  },
  {
   "cell_type": "code",
   "execution_count": 23,
   "id": "a4830d78-1908-4245-ac7b-4148c32c4e0c",
   "metadata": {},
   "outputs": [
    {
     "data": {
      "text/plain": [
       "'hello welcome to the jupiter'"
      ]
     },
     "execution_count": 23,
     "metadata": {},
     "output_type": "execute_result"
    }
   ],
   "source": [
    "a[:]"
   ]
  },
  {
   "cell_type": "code",
   "execution_count": 24,
   "id": "2f0fd3b6-cfd0-4790-b35a-5d8106498992",
   "metadata": {},
   "outputs": [
    {
     "data": {
      "text/plain": [
       "'retipuj eht ot emoclew olleh'"
      ]
     },
     "execution_count": 24,
     "metadata": {},
     "output_type": "execute_result"
    }
   ],
   "source": [
    "a[::-1]"
   ]
  },
  {
   "cell_type": "code",
   "execution_count": 25,
   "id": "88b535a9-1cb5-4d4f-a85f-74ba4a405003",
   "metadata": {},
   "outputs": [
    {
     "data": {
      "text/plain": [
       "'rtpjeto mce le'"
      ]
     },
     "execution_count": 25,
     "metadata": {},
     "output_type": "execute_result"
    }
   ],
   "source": [
    "a[::-2]"
   ]
  },
  {
   "cell_type": "code",
   "execution_count": 28,
   "id": "7480e39e-435f-4570-b6f3-70bb9805b341",
   "metadata": {},
   "outputs": [
    {
     "data": {
      "text/plain": [
       "'ello '"
      ]
     },
     "execution_count": 28,
     "metadata": {},
     "output_type": "execute_result"
    }
   ],
   "source": [
    "a[1:6:1]"
   ]
  },
  {
   "cell_type": "code",
   "execution_count": 33,
   "id": "4be7f6a9-1016-4189-976b-313a2148365c",
   "metadata": {},
   "outputs": [
    {
     "data": {
      "text/plain": [
       "'hello welcome to the jupiter'"
      ]
     },
     "execution_count": 33,
     "metadata": {},
     "output_type": "execute_result"
    }
   ],
   "source": [
    "a[::1]"
   ]
  },
  {
   "cell_type": "code",
   "execution_count": 44,
   "id": "b2cd4df7-ed59-4b7f-8388-928a737ed7ff",
   "metadata": {},
   "outputs": [],
   "source": [
    "name = \"Pawan\""
   ]
  },
  {
   "cell_type": "code",
   "execution_count": 35,
   "id": "e8b24829-c179-4439-80b0-2c18323e7620",
   "metadata": {},
   "outputs": [],
   "source": [
    "#it show starting no : it show ending and exclude : it show skip "
   ]
  },
  {
   "cell_type": "code",
   "execution_count": 47,
   "id": "0ec389b0-dbf0-4655-b83c-4d92121f0ca5",
   "metadata": {},
   "outputs": [
    {
     "data": {
      "text/plain": [
       "'naw'"
      ]
     },
     "execution_count": 47,
     "metadata": {},
     "output_type": "execute_result"
    }
   ],
   "source": [
    "name[4:1:-1]"
   ]
  },
  {
   "cell_type": "code",
   "execution_count": 48,
   "id": "db0a4845-bb50-4060-bbed-ed40d8f2b292",
   "metadata": {},
   "outputs": [
    {
     "data": {
      "text/plain": [
       "28"
      ]
     },
     "execution_count": 48,
     "metadata": {},
     "output_type": "execute_result"
    }
   ],
   "source": [
    "len(a)"
   ]
  },
  {
   "cell_type": "code",
   "execution_count": 49,
   "id": "dd303c82-a222-4289-8057-51c808b9b901",
   "metadata": {},
   "outputs": [
    {
     "data": {
      "text/plain": [
       "'hello welcome to the jupiter'"
      ]
     },
     "execution_count": 49,
     "metadata": {},
     "output_type": "execute_result"
    }
   ],
   "source": [
    "a"
   ]
  },
  {
   "cell_type": "code",
   "execution_count": 52,
   "id": "b9c844a4-13b9-452d-864c-5d9c34f99e9a",
   "metadata": {},
   "outputs": [
    {
     "data": {
      "text/plain": [
       "10"
      ]
     },
     "execution_count": 52,
     "metadata": {},
     "output_type": "execute_result"
    }
   ],
   "source": [
    "a.find(\"o\",5,13)"
   ]
  },
  {
   "cell_type": "code",
   "execution_count": 53,
   "id": "2f36030b-260e-4b25-8b45-186722ec882a",
   "metadata": {},
   "outputs": [
    {
     "data": {
      "text/plain": [
       "4"
      ]
     },
     "execution_count": 53,
     "metadata": {},
     "output_type": "execute_result"
    }
   ],
   "source": [
    "a.find(\"o\")"
   ]
  },
  {
   "cell_type": "code",
   "execution_count": 54,
   "id": "5b3a94b9-7159-4b4f-b19a-8e353531015c",
   "metadata": {},
   "outputs": [
    {
     "data": {
      "text/plain": [
       "3"
      ]
     },
     "execution_count": 54,
     "metadata": {},
     "output_type": "execute_result"
    }
   ],
   "source": [
    "a.count(\"o\")"
   ]
  },
  {
   "cell_type": "code",
   "execution_count": 55,
   "id": "5eb1e38d-8932-4cfd-a5d7-4b206964bef2",
   "metadata": {},
   "outputs": [
    {
     "data": {
      "text/plain": [
       "2"
      ]
     },
     "execution_count": 55,
     "metadata": {},
     "output_type": "execute_result"
    }
   ],
   "source": [
    "a.count(\"o\",5)"
   ]
  },
  {
   "cell_type": "code",
   "execution_count": 56,
   "id": "5ca17f6c-5875-4311-b63e-e9a1464b7ddd",
   "metadata": {},
   "outputs": [],
   "source": [
    "# after first comma , the index where we start , after second comma we end index between the two index of string we find and count the string element "
   ]
  },
  {
   "cell_type": "code",
   "execution_count": 57,
   "id": "5fc4e794-c3ac-4ae9-996d-dec2f04a5021",
   "metadata": {},
   "outputs": [
    {
     "data": {
      "text/plain": [
       "['hello', 'welcome', 'to', 'the', 'jupiter']"
      ]
     },
     "execution_count": 57,
     "metadata": {},
     "output_type": "execute_result"
    }
   ],
   "source": [
    "a.split(' ')"
   ]
  },
  {
   "cell_type": "code",
   "execution_count": 59,
   "id": "9075ffaa-7b5e-4774-bae3-e49f9e280e2d",
   "metadata": {},
   "outputs": [
    {
     "data": {
      "text/plain": [
       "['he', '', 'o we', 'come to the jupiter']"
      ]
     },
     "execution_count": 59,
     "metadata": {},
     "output_type": "execute_result"
    }
   ],
   "source": [
    "a.split('l')"
   ]
  },
  {
   "cell_type": "code",
   "execution_count": 61,
   "id": "195f0238-0f16-4acc-b040-a4a7ea1f6d5e",
   "metadata": {},
   "outputs": [
    {
     "data": {
      "text/plain": [
       "('hello', ' ', 'welcome to the jupiter')"
      ]
     },
     "execution_count": 61,
     "metadata": {},
     "output_type": "execute_result"
    }
   ],
   "source": [
    "a.partition(' ')"
   ]
  },
  {
   "cell_type": "code",
   "execution_count": 62,
   "id": "b4113824-4ada-4145-a4a7-860684d87da3",
   "metadata": {},
   "outputs": [],
   "source": [
    "## string upper and lower case"
   ]
  },
  {
   "cell_type": "code",
   "execution_count": 64,
   "id": "c9fa63f3-6ef5-4357-8f70-7ab7acd6be8a",
   "metadata": {},
   "outputs": [
    {
     "data": {
      "text/plain": [
       "'HELLO WELCOME TO THE JUPITER'"
      ]
     },
     "execution_count": 64,
     "metadata": {},
     "output_type": "execute_result"
    }
   ],
   "source": [
    "a.upper()"
   ]
  },
  {
   "cell_type": "code",
   "execution_count": 65,
   "id": "98fbf8de-9c6f-4a05-baa0-9b6d63753623",
   "metadata": {},
   "outputs": [
    {
     "data": {
      "text/plain": [
       "'hello welcome to the jupiter'"
      ]
     },
     "execution_count": 65,
     "metadata": {},
     "output_type": "execute_result"
    }
   ],
   "source": [
    "a.lower()"
   ]
  },
  {
   "cell_type": "code",
   "execution_count": 66,
   "id": "2a08f5cb-82b7-41a0-98c5-57effbf02598",
   "metadata": {},
   "outputs": [
    {
     "data": {
      "text/plain": [
       "'HELLO WELCOME TO THE JUPITER'"
      ]
     },
     "execution_count": 66,
     "metadata": {},
     "output_type": "execute_result"
    }
   ],
   "source": [
    "a.swapcase()"
   ]
  },
  {
   "cell_type": "code",
   "execution_count": 67,
   "id": "581e281c-c0ef-4919-8acc-213b224c86e3",
   "metadata": {},
   "outputs": [],
   "source": [
    "a = \"Hello Welcome To The Jupiter\""
   ]
  },
  {
   "cell_type": "code",
   "execution_count": 68,
   "id": "3e7d8eea-16f2-470f-a791-b8019f7f1f9e",
   "metadata": {},
   "outputs": [
    {
     "data": {
      "text/plain": [
       "'hELLO wELCOME tO tHE jUPITER'"
      ]
     },
     "execution_count": 68,
     "metadata": {},
     "output_type": "execute_result"
    }
   ],
   "source": [
    "a.swapcase()"
   ]
  },
  {
   "cell_type": "code",
   "execution_count": 69,
   "id": "7a38fc67-1def-4259-ab2f-a2a722fbe9ed",
   "metadata": {},
   "outputs": [
    {
     "data": {
      "text/plain": [
       "'Hello Welcome To The Jupiter'"
      ]
     },
     "execution_count": 69,
     "metadata": {},
     "output_type": "execute_result"
    }
   ],
   "source": [
    "a.title()"
   ]
  },
  {
   "cell_type": "code",
   "execution_count": 70,
   "id": "457f74c1-1c79-4092-8c26-1f07080fd06a",
   "metadata": {},
   "outputs": [
    {
     "data": {
      "text/plain": [
       "'Pawan'"
      ]
     },
     "execution_count": 70,
     "metadata": {},
     "output_type": "execute_result"
    }
   ],
   "source": [
    "name"
   ]
  },
  {
   "cell_type": "code",
   "execution_count": 71,
   "id": "4e04e428-8f14-4821-884d-64e2d843262b",
   "metadata": {},
   "outputs": [],
   "source": [
    "name = \"pawan\""
   ]
  },
  {
   "cell_type": "code",
   "execution_count": 72,
   "id": "fd03340e-5530-4304-aa4d-0f228651c16c",
   "metadata": {},
   "outputs": [
    {
     "data": {
      "text/plain": [
       "'Pawan'"
      ]
     },
     "execution_count": 72,
     "metadata": {},
     "output_type": "execute_result"
    }
   ],
   "source": [
    "name.title()"
   ]
  },
  {
   "cell_type": "code",
   "execution_count": 2,
   "id": "9e1ef440-c60a-4d72-903c-482d9da5f192",
   "metadata": {},
   "outputs": [
    {
     "data": {
      "text/plain": [
       "['__add__',\n",
       " '__class__',\n",
       " '__contains__',\n",
       " '__delattr__',\n",
       " '__dir__',\n",
       " '__doc__',\n",
       " '__eq__',\n",
       " '__format__',\n",
       " '__ge__',\n",
       " '__getattribute__',\n",
       " '__getitem__',\n",
       " '__getnewargs__',\n",
       " '__gt__',\n",
       " '__hash__',\n",
       " '__init__',\n",
       " '__init_subclass__',\n",
       " '__iter__',\n",
       " '__le__',\n",
       " '__len__',\n",
       " '__lt__',\n",
       " '__mod__',\n",
       " '__mul__',\n",
       " '__ne__',\n",
       " '__new__',\n",
       " '__reduce__',\n",
       " '__reduce_ex__',\n",
       " '__repr__',\n",
       " '__rmod__',\n",
       " '__rmul__',\n",
       " '__setattr__',\n",
       " '__sizeof__',\n",
       " '__str__',\n",
       " '__subclasshook__',\n",
       " 'capitalize',\n",
       " 'casefold',\n",
       " 'center',\n",
       " 'count',\n",
       " 'encode',\n",
       " 'endswith',\n",
       " 'expandtabs',\n",
       " 'find',\n",
       " 'format',\n",
       " 'format_map',\n",
       " 'index',\n",
       " 'isalnum',\n",
       " 'isalpha',\n",
       " 'isascii',\n",
       " 'isdecimal',\n",
       " 'isdigit',\n",
       " 'isidentifier',\n",
       " 'islower',\n",
       " 'isnumeric',\n",
       " 'isprintable',\n",
       " 'isspace',\n",
       " 'istitle',\n",
       " 'isupper',\n",
       " 'join',\n",
       " 'ljust',\n",
       " 'lower',\n",
       " 'lstrip',\n",
       " 'maketrans',\n",
       " 'partition',\n",
       " 'removeprefix',\n",
       " 'removesuffix',\n",
       " 'replace',\n",
       " 'rfind',\n",
       " 'rindex',\n",
       " 'rjust',\n",
       " 'rpartition',\n",
       " 'rsplit',\n",
       " 'rstrip',\n",
       " 'split',\n",
       " 'splitlines',\n",
       " 'startswith',\n",
       " 'strip',\n",
       " 'swapcase',\n",
       " 'title',\n",
       " 'translate',\n",
       " 'upper',\n",
       " 'zfill']"
      ]
     },
     "execution_count": 2,
     "metadata": {},
     "output_type": "execute_result"
    }
   ],
   "source": [
    "dir(str)"
   ]
  },
  {
   "cell_type": "code",
   "execution_count": null,
   "id": "ca563bb6-d551-4f04-b8ee-889a59d848ae",
   "metadata": {},
   "outputs": [],
   "source": []
  }
 ],
 "metadata": {
  "kernelspec": {
   "display_name": "Python 3 (ipykernel)",
   "language": "python",
   "name": "python3"
  },
  "language_info": {
   "codemirror_mode": {
    "name": "ipython",
    "version": 3
   },
   "file_extension": ".py",
   "mimetype": "text/x-python",
   "name": "python",
   "nbconvert_exporter": "python",
   "pygments_lexer": "ipython3",
   "version": "3.10.8"
  }
 },
 "nbformat": 4,
 "nbformat_minor": 5
}

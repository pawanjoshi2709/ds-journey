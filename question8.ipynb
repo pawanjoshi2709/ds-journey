{
 "cells": [
  {
   "cell_type": "code",
   "execution_count": 30,
   "id": "9d6ad088-113f-40a3-8326-6bfbf7ea3004",
   "metadata": {},
   "outputs": [
    {
     "name": "stdin",
     "output_type": "stream",
     "text": [
      " enter the password :  A1S2d3f$@#\n"
     ]
    },
    {
     "data": {
      "text/plain": [
       "'Valid Password'"
      ]
     },
     "execution_count": 30,
     "metadata": {},
     "output_type": "execute_result"
    }
   ],
   "source": [
    "'''Q1. You are writing code for a company. The requirement of the company is that you create a python\n",
    "function that will check whether the password entered by the user is correct or not. The function should\n",
    "take the password as input and return the string “Valid Password” if the entered password follows the\n",
    "below-given password guidelines else it should return “Invalid Password”.\n",
    "Note: 1. The Password should contain at least two uppercase letters and at least two lowercase letters.\n",
    " 2. The Password should contain at least a number and three special characters.\n",
    " 3. The length of the password should be 10 characters long.'''\n",
    "def password(a):\n",
    "    uppercase = 0\n",
    "    lowercase = 0\n",
    "    specialchar = 0\n",
    "    number = 0\n",
    "    if len(a) !=10:\n",
    "        return \"Invalid Password\"\n",
    "    else:\n",
    "        for i in a :\n",
    "            if ord(i)>96 and ord(i) < 123: # i.islower() == True\n",
    "                lowercase += 1\n",
    "            elif ord(i)>64 and ord(i) <91:# i.isupper() == True\n",
    "                uppercase += 1\n",
    "            elif ord(i)>47 and ord(i)<58:# i.isnumeric() == True\n",
    "                number += 1   \n",
    "            else:\n",
    "                specialchar += 1\n",
    "        if uppercase >=2 and lowercase >=2 and number >=1 and specialchar >=3:\n",
    "            return \"Valid Password\"\n",
    "        else:\n",
    "            return \"Invalid Password1\"\n",
    "a = input(\" enter the password : \")\n",
    "password(a)"
   ]
  },
  {
   "cell_type": "code",
   "execution_count": 40,
   "id": "5063f5a5-d3aa-40b5-852a-5eeaac503665",
   "metadata": {},
   "outputs": [
    {
     "name": "stdin",
     "output_type": "stream",
     "text": [
      "enter the string fghjuyg\n",
      "enter the first alphabet f\n"
     ]
    },
    {
     "data": {
      "text/plain": [
       "'the string is start with f'"
      ]
     },
     "execution_count": 40,
     "metadata": {},
     "output_type": "execute_result"
    }
   ],
   "source": [
    "''' Q2. Solve the below-given questions using at least one of the following:\n",
    "1. Lambda function\n",
    "2. Filter function\n",
    "3. map function\n",
    "4. List Comprehension\n",
    "# Check if the string starts with a particular letter'''\n",
    "a = input(\"enter the string\")\n",
    "b = input(\"enter the first alphabet\")\n",
    "a1 = lambda x,y :f\"the string is start with {y}\" if x[0] == y  else f\"the string is not strat with {y}\"\n",
    "a1(a,b)"
   ]
  },
  {
   "cell_type": "code",
   "execution_count": 69,
   "id": "56c954b8-60cd-4b95-84eb-7b77612b4f81",
   "metadata": {},
   "outputs": [
    {
     "data": {
      "text/plain": [
       "'string is non numeric'"
      ]
     },
     "execution_count": 69,
     "metadata": {},
     "output_type": "execute_result"
    }
   ],
   "source": [
    "# Check if the string is numeric\n",
    "a = '12345@'\n",
    "a1 = lambda x :\"string is numeric\" if x.isnumeric() == True else \"string is non numeric\"\n",
    "a1(a)"
   ]
  },
  {
   "cell_type": "code",
   "execution_count": 71,
   "id": "dde91dde-ac38-41df-b868-bf605fd017e3",
   "metadata": {},
   "outputs": [
    {
     "name": "stdout",
     "output_type": "stream",
     "text": [
      "[('orange', 80), ('mango', 99), ('grapes', 1000)]\n"
     ]
    }
   ],
   "source": [
    "# Sort a list of tuples having fruit names and their quantity. \n",
    "a=[(\"mango\",99),(\"orange\",80), (\"grapes\", 1000)]\n",
    "l = sorted(a, key=lambda x :x[1])\n",
    "print(l)"
   ]
  },
  {
   "cell_type": "code",
   "execution_count": 63,
   "id": "1d569af4-aeb9-4574-9c32-475820064ebd",
   "metadata": {},
   "outputs": [
    {
     "data": {
      "text/plain": [
       "[1, 4, 9, 16, 25, 36, 49, 64, 81, 100]"
      ]
     },
     "execution_count": 63,
     "metadata": {},
     "output_type": "execute_result"
    }
   ],
   "source": [
    "# Find the squares of numbers from 1 to 10\n",
    "l = [1,2,3,4,5,6,7,8,9,10]\n",
    "list(map(lambda  x:x**2 ,l))"
   ]
  },
  {
   "cell_type": "code",
   "execution_count": 62,
   "id": "beb712ff-3d0e-4dd4-af51-c839abdd8df7",
   "metadata": {},
   "outputs": [
    {
     "data": {
      "text/plain": [
       "[1.0,\n",
       " 1.4142135623730951,\n",
       " 1.7320508075688772,\n",
       " 2.0,\n",
       " 2.23606797749979,\n",
       " 2.449489742783178,\n",
       " 2.6457513110645907,\n",
       " 2.8284271247461903,\n",
       " 3.0]"
      ]
     },
     "execution_count": 62,
     "metadata": {},
     "output_type": "execute_result"
    }
   ],
   "source": [
    "# Find the cube root of numbers from 1 to 10\n",
    "[i**0.5 for i in range(1,10)]"
   ]
  },
  {
   "cell_type": "code",
   "execution_count": 55,
   "id": "1517c49f-a089-471b-9eff-5f5d72b1aa50",
   "metadata": {},
   "outputs": [
    {
     "data": {
      "text/plain": [
       "'number is even'"
      ]
     },
     "execution_count": 55,
     "metadata": {},
     "output_type": "execute_result"
    }
   ],
   "source": [
    "# Check if a given number is even\n",
    "a=4\n",
    "a1 = lambda x :\"number is even\" if x%2==0 else \"number is odd\"\n",
    "a1(a)"
   ]
  },
  {
   "cell_type": "code",
   "execution_count": 59,
   "id": "74d2f086-e3f7-4464-a249-32fd7486d006",
   "metadata": {},
   "outputs": [
    {
     "data": {
      "text/plain": [
       "[1, 3, 5, 7, 9]"
      ]
     },
     "execution_count": 59,
     "metadata": {},
     "output_type": "execute_result"
    }
   ],
   "source": [
    "# Filter odd numbers from the given list\n",
    "l = [1,2,3,4,5,6,7,8,9,10]\n",
    "list(filter(lambda x:x%2!=0,l))"
   ]
  },
  {
   "cell_type": "code",
   "execution_count": 61,
   "id": "957aaf43-2317-43d7-ad9a-b6fdabfc3e59",
   "metadata": {},
   "outputs": [
    {
     "name": "stdout",
     "output_type": "stream",
     "text": [
      "[1, 2, 3, 4, 5, 6]\n",
      "[-1, -2, -3, -4, -5]\n"
     ]
    }
   ],
   "source": [
    "# Sort a list of integers into positive and negative integers lists\n",
    "l = [1,2,3,4,5,6,-1,-2,-3,-4,-5,0]\n",
    "a1 =list(filter(lambda x: x>0,l))\n",
    "a2 =list(filter(lambda x: x<0,l))\n",
    "print(a1)\n",
    "print(a2)"
   ]
  },
  {
   "cell_type": "code",
   "execution_count": null,
   "id": "76952add-910b-45a4-9dd1-6a80ba8a2c37",
   "metadata": {},
   "outputs": [],
   "source": []
  }
 ],
 "metadata": {
  "kernelspec": {
   "display_name": "Python 3 (ipykernel)",
   "language": "python",
   "name": "python3"
  },
  "language_info": {
   "codemirror_mode": {
    "name": "ipython",
    "version": 3
   },
   "file_extension": ".py",
   "mimetype": "text/x-python",
   "name": "python",
   "nbconvert_exporter": "python",
   "pygments_lexer": "ipython3",
   "version": "3.10.8"
  }
 },
 "nbformat": 4,
 "nbformat_minor": 5
}

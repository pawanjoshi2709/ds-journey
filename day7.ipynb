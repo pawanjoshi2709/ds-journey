{
 "cells": [
  {
   "cell_type": "code",
   "execution_count": 1,
   "id": "95d40f2c-ffa5-4478-bfe0-25920a77e68c",
   "metadata": {},
   "outputs": [],
   "source": [
    "n = 3\n",
    "p = 2"
   ]
  },
  {
   "cell_type": "code",
   "execution_count": 2,
   "id": "cfa78019-362a-4a47-87a9-c4f6304f7698",
   "metadata": {},
   "outputs": [
    {
     "data": {
      "text/plain": [
       "9"
      ]
     },
     "execution_count": 2,
     "metadata": {},
     "output_type": "execute_result"
    }
   ],
   "source": [
    "def test(n,p):\n",
    "    return n**p\n",
    "test(3,2)"
   ]
  },
  {
   "cell_type": "code",
   "execution_count": 3,
   "id": "80e3fddb-aa78-4b1c-abbd-3eeb7b5ff2a6",
   "metadata": {},
   "outputs": [
    {
     "data": {
      "text/plain": [
       "59049"
      ]
     },
     "execution_count": 3,
     "metadata": {},
     "output_type": "execute_result"
    }
   ],
   "source": [
    "test(9,5)"
   ]
  },
  {
   "cell_type": "code",
   "execution_count": 4,
   "id": "898c833f-ece7-4c95-ab48-e67dbb4ee5f6",
   "metadata": {},
   "outputs": [],
   "source": [
    "a = lambda n,p : n**p"
   ]
  },
  {
   "cell_type": "code",
   "execution_count": 5,
   "id": "3d4753e3-af1b-4fc8-8b8a-d0197c8e4ac0",
   "metadata": {},
   "outputs": [
    {
     "data": {
      "text/plain": [
       "9"
      ]
     },
     "execution_count": 5,
     "metadata": {},
     "output_type": "execute_result"
    }
   ],
   "source": [
    "a(3,2)"
   ]
  },
  {
   "cell_type": "code",
   "execution_count": 6,
   "id": "45f2d87a-a83c-41f1-992c-18977f63dbc6",
   "metadata": {},
   "outputs": [],
   "source": [
    "add = lambda x,y : x+y"
   ]
  },
  {
   "cell_type": "code",
   "execution_count": 7,
   "id": "b677063e-f12f-4077-9b61-c054d06f03bf",
   "metadata": {},
   "outputs": [
    {
     "data": {
      "text/plain": [
       "268"
      ]
     },
     "execution_count": 7,
     "metadata": {},
     "output_type": "execute_result"
    }
   ],
   "source": [
    "add(234,34)"
   ]
  },
  {
   "cell_type": "code",
   "execution_count": 8,
   "id": "477cad10-d407-4488-ad66-24831a268d81",
   "metadata": {},
   "outputs": [],
   "source": [
    "# lambda is a shorted function"
   ]
  },
  {
   "cell_type": "code",
   "execution_count": 9,
   "id": "77bb0866-d20d-4796-9016-6a340c2717a9",
   "metadata": {},
   "outputs": [],
   "source": [
    "c_to_f = lambda c : (9/5)*c + 32"
   ]
  },
  {
   "cell_type": "code",
   "execution_count": 10,
   "id": "1657d43d-43b6-450c-bb06-0c108fdefb38",
   "metadata": {},
   "outputs": [
    {
     "data": {
      "text/plain": [
       "46.4"
      ]
     },
     "execution_count": 10,
     "metadata": {},
     "output_type": "execute_result"
    }
   ],
   "source": [
    "c_to_f(8)"
   ]
  },
  {
   "cell_type": "code",
   "execution_count": 11,
   "id": "d76ab26c-e410-4295-a11c-b1b45ca28c3b",
   "metadata": {},
   "outputs": [],
   "source": [
    "max_two = lambda x,y : x if x>y else y"
   ]
  },
  {
   "cell_type": "code",
   "execution_count": 12,
   "id": "269f55b4-8596-4c6a-a7c5-8f2b6dbedbce",
   "metadata": {},
   "outputs": [
    {
     "data": {
      "text/plain": [
       "59"
      ]
     },
     "execution_count": 12,
     "metadata": {},
     "output_type": "execute_result"
    }
   ],
   "source": [
    "max_two(4,59)"
   ]
  },
  {
   "cell_type": "code",
   "execution_count": 13,
   "id": "9bdb8fa8-cbe8-4757-a46e-3409d05bff02",
   "metadata": {},
   "outputs": [],
   "source": [
    "len_st = lambda s : len(s)"
   ]
  },
  {
   "cell_type": "code",
   "execution_count": 14,
   "id": "3f0c80c3-f8ac-4ef6-976a-b693145cd7f2",
   "metadata": {},
   "outputs": [],
   "source": [
    "a = \"pwskills\""
   ]
  },
  {
   "cell_type": "code",
   "execution_count": 15,
   "id": "fdf0be0f-2289-4b02-afc3-fbe0c0334e71",
   "metadata": {},
   "outputs": [
    {
     "data": {
      "text/plain": [
       "8"
      ]
     },
     "execution_count": 15,
     "metadata": {},
     "output_type": "execute_result"
    }
   ],
   "source": [
    "len_st(a)"
   ]
  },
  {
   "cell_type": "code",
   "execution_count": 16,
   "id": "c392dfba-fcf7-4bfc-aa41-d272dda67ab4",
   "metadata": {},
   "outputs": [],
   "source": [
    "l = [1,2,3,4,5]"
   ]
  },
  {
   "cell_type": "code",
   "execution_count": 18,
   "id": "23a860fa-ef86-468b-9e1c-94477bb8e10c",
   "metadata": {},
   "outputs": [],
   "source": [
    "def test(l):\n",
    "    l1=[]\n",
    "    for i in l:\n",
    "        l1.append(i**2)\n",
    "    return l1"
   ]
  },
  {
   "cell_type": "code",
   "execution_count": 19,
   "id": "69e78451-946c-4c45-a765-e38983bcdf4f",
   "metadata": {},
   "outputs": [
    {
     "data": {
      "text/plain": [
       "[1, 4, 9, 16, 25]"
      ]
     },
     "execution_count": 19,
     "metadata": {},
     "output_type": "execute_result"
    }
   ],
   "source": [
    "test(l)"
   ]
  },
  {
   "cell_type": "code",
   "execution_count": 20,
   "id": "ffcebba6-929b-4b50-9e8a-c76eb069b30e",
   "metadata": {},
   "outputs": [],
   "source": [
    "def sq(x):\n",
    "    return x**2"
   ]
  },
  {
   "cell_type": "code",
   "execution_count": 21,
   "id": "b8f9940f-f418-4990-ad41-2ba5ed70eb2a",
   "metadata": {},
   "outputs": [
    {
     "data": {
      "text/plain": [
       "[1, 4, 9, 16, 25]"
      ]
     },
     "execution_count": 21,
     "metadata": {},
     "output_type": "execute_result"
    }
   ],
   "source": [
    "list(map(sq,l))"
   ]
  },
  {
   "cell_type": "code",
   "execution_count": 62,
   "id": "b8f9dc4e-7a74-4efd-9a23-ef7b95f7e72d",
   "metadata": {},
   "outputs": [
    {
     "data": {
      "text/plain": [
       "[1, 4, 9, 16, 25]"
      ]
     },
     "execution_count": 62,
     "metadata": {},
     "output_type": "execute_result"
    }
   ],
   "source": [
    "list(map(lambda x :x**2,l))"
   ]
  },
  {
   "cell_type": "code",
   "execution_count": 61,
   "id": "035c4080-e5f7-4f37-976b-e4cf80cefe1b",
   "metadata": {},
   "outputs": [
    {
     "data": {
      "text/plain": [
       "[1, 2, 3, 4, 5]"
      ]
     },
     "execution_count": 61,
     "metadata": {},
     "output_type": "execute_result"
    }
   ],
   "source": [
    "list(filter(lambda x :x**2,l))"
   ]
  },
  {
   "cell_type": "code",
   "execution_count": 23,
   "id": "57ec2def-4525-4232-8d6d-fa6590a596a4",
   "metadata": {},
   "outputs": [
    {
     "data": {
      "text/plain": [
       "[11, 12, 13, 14, 15]"
      ]
     },
     "execution_count": 23,
     "metadata": {},
     "output_type": "execute_result"
    }
   ],
   "source": [
    "list(map(lambda x :x+10,l))"
   ]
  },
  {
   "cell_type": "code",
   "execution_count": 59,
   "id": "35f13b9b-860b-4ff6-99cf-9c8f4ea676ea",
   "metadata": {},
   "outputs": [],
   "source": [
    "l1 = [1,2,4,5]\n",
    "l2 = [7,8,9,9]"
   ]
  },
  {
   "cell_type": "code",
   "execution_count": 29,
   "id": "86516626-a08c-4cea-bca0-4edcd34a3b6a",
   "metadata": {},
   "outputs": [
    {
     "data": {
      "text/plain": [
       "[8, 10, 13, 14]"
      ]
     },
     "execution_count": 29,
     "metadata": {},
     "output_type": "execute_result"
    }
   ],
   "source": [
    "list(map(lambda x,y : x+y,l1,l2))"
   ]
  },
  {
   "cell_type": "code",
   "execution_count": 30,
   "id": "24802be5-c7ce-489e-8b1c-40dbbabc1d73",
   "metadata": {},
   "outputs": [],
   "source": [
    "from functools import reduce"
   ]
  },
  {
   "cell_type": "code",
   "execution_count": 31,
   "id": "6ef5193f-19e4-448b-a3fd-354a1fa64078",
   "metadata": {},
   "outputs": [],
   "source": [
    "l = [1,2,3,4,5]"
   ]
  },
  {
   "cell_type": "code",
   "execution_count": 32,
   "id": "12372179-7aa1-4f78-ace4-7cef05dadab1",
   "metadata": {},
   "outputs": [
    {
     "data": {
      "text/plain": [
       "15"
      ]
     },
     "execution_count": 32,
     "metadata": {},
     "output_type": "execute_result"
    }
   ],
   "source": [
    "reduce(lambda x,y : x+y,l)"
   ]
  },
  {
   "cell_type": "code",
   "execution_count": 36,
   "id": "f0ee33f9-fd0e-4077-b36e-77e3d43496ca",
   "metadata": {},
   "outputs": [
    {
     "ename": "TypeError",
     "evalue": "'int' object is not iterable",
     "output_type": "error",
     "traceback": [
      "\u001b[0;31m---------------------------------------------------------------------------\u001b[0m",
      "\u001b[0;31mTypeError\u001b[0m                                 Traceback (most recent call last)",
      "Cell \u001b[0;32mIn[36], line 1\u001b[0m\n\u001b[0;32m----> 1\u001b[0m \u001b[38;5;28;43mlist\u001b[39;49m\u001b[43m(\u001b[49m\u001b[43mreduce\u001b[49m\u001b[43m(\u001b[49m\u001b[38;5;28;43;01mlambda\u001b[39;49;00m\u001b[43m \u001b[49m\u001b[43mx\u001b[49m\u001b[43m,\u001b[49m\u001b[43my\u001b[49m\u001b[43m \u001b[49m\u001b[43m:\u001b[49m\u001b[43m \u001b[49m\u001b[43mx\u001b[49m\u001b[38;5;241;43m+\u001b[39;49m\u001b[43my\u001b[49m\u001b[43m,\u001b[49m\u001b[43ml\u001b[49m\u001b[43m)\u001b[49m\u001b[43m)\u001b[49m\n",
      "\u001b[0;31mTypeError\u001b[0m: 'int' object is not iterable"
     ]
    }
   ],
   "source": [
    "reduce(lambda x,y : x+y,l)"
   ]
  },
  {
   "cell_type": "code",
   "execution_count": 39,
   "id": "285e4359-7497-4444-98ec-c9a47de55e95",
   "metadata": {},
   "outputs": [],
   "source": [
    "def add (x,y):\n",
    "    return x+y"
   ]
  },
  {
   "cell_type": "code",
   "execution_count": 40,
   "id": "043ec0f8-8674-4eb6-ab79-df1d7d3b5a6c",
   "metadata": {},
   "outputs": [
    {
     "data": {
      "text/plain": [
       "15"
      ]
     },
     "execution_count": 40,
     "metadata": {},
     "output_type": "execute_result"
    }
   ],
   "source": [
    "reduce(add,l)"
   ]
  },
  {
   "cell_type": "code",
   "execution_count": 41,
   "id": "02177592-38b2-4ad8-b60b-3ef2bfb26ba7",
   "metadata": {},
   "outputs": [
    {
     "ename": "TypeError",
     "evalue": "<lambda>() missing 1 required positional argument: 'z'",
     "output_type": "error",
     "traceback": [
      "\u001b[0;31m---------------------------------------------------------------------------\u001b[0m",
      "\u001b[0;31mTypeError\u001b[0m                                 Traceback (most recent call last)",
      "Cell \u001b[0;32mIn[41], line 1\u001b[0m\n\u001b[0;32m----> 1\u001b[0m \u001b[43mreduce\u001b[49m\u001b[43m(\u001b[49m\u001b[38;5;28;43;01mlambda\u001b[39;49;00m\u001b[43m \u001b[49m\u001b[43mx\u001b[49m\u001b[43m,\u001b[49m\u001b[43my\u001b[49m\u001b[43m,\u001b[49m\u001b[43mz\u001b[49m\u001b[43m \u001b[49m\u001b[43m:\u001b[49m\u001b[43m \u001b[49m\u001b[43mx\u001b[49m\u001b[38;5;241;43m+\u001b[39;49m\u001b[43my\u001b[49m\u001b[38;5;241;43m+\u001b[39;49m\u001b[43mz\u001b[49m\u001b[43m,\u001b[49m\u001b[43ml\u001b[49m\u001b[43m)\u001b[49m\n",
      "\u001b[0;31mTypeError\u001b[0m: <lambda>() missing 1 required positional argument: 'z'"
     ]
    }
   ],
   "source": [
    "reduce(lambda x,y,z : x+y+z,l)"
   ]
  },
  {
   "cell_type": "code",
   "execution_count": 42,
   "id": "b10603b1-cc0f-46c6-bf53-f63529fda9de",
   "metadata": {},
   "outputs": [],
   "source": [
    "#reduce is made for two  arguments"
   ]
  },
  {
   "cell_type": "code",
   "execution_count": 43,
   "id": "873c7e4e-d9b9-4fb2-b738-61e071bdc400",
   "metadata": {},
   "outputs": [
    {
     "data": {
      "text/plain": [
       "1"
      ]
     },
     "execution_count": 43,
     "metadata": {},
     "output_type": "execute_result"
    }
   ],
   "source": [
    "reduce(lambda x,y : x+y,[1])"
   ]
  },
  {
   "cell_type": "code",
   "execution_count": 45,
   "id": "56fc58a4-3656-4ad0-8943-acc952826ccc",
   "metadata": {},
   "outputs": [
    {
     "data": {
      "text/plain": [
       "5"
      ]
     },
     "execution_count": 45,
     "metadata": {},
     "output_type": "execute_result"
    }
   ],
   "source": [
    "reduce(lambda x : x+1,[5])"
   ]
  },
  {
   "cell_type": "code",
   "execution_count": 46,
   "id": "a35e06ae-9941-4fb9-9c13-4e8cbb349e69",
   "metadata": {},
   "outputs": [
    {
     "data": {
      "text/plain": [
       "5"
      ]
     },
     "execution_count": 46,
     "metadata": {},
     "output_type": "execute_result"
    }
   ],
   "source": [
    "reduce(lambda x,y : x if x>y else y , l)"
   ]
  },
  {
   "cell_type": "code",
   "execution_count": 48,
   "id": "2503a451-74a0-406d-ba3d-231058fffa8a",
   "metadata": {},
   "outputs": [
    {
     "data": {
      "text/plain": [
       "[2, 4]"
      ]
     },
     "execution_count": 48,
     "metadata": {},
     "output_type": "execute_result"
    }
   ],
   "source": [
    "list(filter(lambda x : x%2==0,l))"
   ]
  },
  {
   "cell_type": "code",
   "execution_count": 49,
   "id": "a65c0bee-7416-479f-8783-f8f7ac91708d",
   "metadata": {},
   "outputs": [
    {
     "data": {
      "text/plain": [
       "[1, 3, 5]"
      ]
     },
     "execution_count": 49,
     "metadata": {},
     "output_type": "execute_result"
    }
   ],
   "source": [
    "list(filter(lambda x : x%2!=0,l))"
   ]
  },
  {
   "cell_type": "code",
   "execution_count": 50,
   "id": "12cd1a3b-80ae-4c6f-8236-2fbf448c8288",
   "metadata": {},
   "outputs": [],
   "source": [
    "l1 = [1,-8,-9,6,5,-5]"
   ]
  },
  {
   "cell_type": "code",
   "execution_count": 54,
   "id": "1e67f8e8-cdc5-4952-923a-8648164ef394",
   "metadata": {},
   "outputs": [
    {
     "data": {
      "text/plain": [
       "[1, 6, 5]"
      ]
     },
     "execution_count": 54,
     "metadata": {},
     "output_type": "execute_result"
    }
   ],
   "source": [
    "list(filter(lambda x : x > 0,l1))"
   ]
  },
  {
   "cell_type": "code",
   "execution_count": 56,
   "id": "e9932bb9-0cec-4167-beba-1293d3e63e0a",
   "metadata": {},
   "outputs": [
    {
     "data": {
      "text/plain": [
       "[-8, -9, -5]"
      ]
     },
     "execution_count": 56,
     "metadata": {},
     "output_type": "execute_result"
    }
   ],
   "source": [
    "list(filter(lambda x : x < 0,l1))"
   ]
  },
  {
   "cell_type": "code",
   "execution_count": 57,
   "id": "314e264d-383a-4c81-82cd-a070cd78f56c",
   "metadata": {},
   "outputs": [
    {
     "data": {
      "text/plain": [
       "[False, True, True, False, False, True]"
      ]
     },
     "execution_count": 57,
     "metadata": {},
     "output_type": "execute_result"
    }
   ],
   "source": [
    "list(map(lambda x : x < 0,l1))"
   ]
  },
  {
   "cell_type": "code",
   "execution_count": 63,
   "id": "cea4a972-65ca-4828-9f76-de6b45b5512e",
   "metadata": {},
   "outputs": [],
   "source": [
    "l2 = [\"sudh\",\"pwskills\",\"kumar\",\"banglore\",\"krish\"]"
   ]
  },
  {
   "cell_type": "code",
   "execution_count": 65,
   "id": "cfb9ff91-c1d8-42e2-86cd-f1f85cc4fd65",
   "metadata": {},
   "outputs": [
    {
     "data": {
      "text/plain": [
       "['sudh', 'kumar', 'krish']"
      ]
     },
     "execution_count": 65,
     "metadata": {},
     "output_type": "execute_result"
    }
   ],
   "source": [
    "list(filter(lambda x : len(x) <6 ,l2))"
   ]
  },
  {
   "cell_type": "code",
   "execution_count": 67,
   "id": "554bc467-53e1-43c2-869f-abf2b542996a",
   "metadata": {},
   "outputs": [
    {
     "name": "stdout",
     "output_type": "stream",
     "text": [
      "0 ~ o\n",
      "1 ~ l\n",
      "2 ~ e\n",
      "3 ~ e\n",
      "4 ~ h\n"
     ]
    }
   ],
   "source": [
    "l =  'heelo'\n",
    "for i in range(len(l)):\n",
    "    print(i,\"~\",l[len(l)-i-1])\n"
   ]
  },
  {
   "cell_type": "code",
   "execution_count": 68,
   "id": "52ccfb11-9d7f-4487-b800-84e3d0e333d4",
   "metadata": {},
   "outputs": [
    {
     "data": {
      "text/plain": [
       "'oleeh'"
      ]
     },
     "execution_count": 68,
     "metadata": {},
     "output_type": "execute_result"
    }
   ],
   "source": [
    "l[::-1]"
   ]
  },
  {
   "cell_type": "code",
   "execution_count": 69,
   "id": "99e9e38a-4374-4c9f-af33-b23cb36e953d",
   "metadata": {},
   "outputs": [
    {
     "name": "stdout",
     "output_type": "stream",
     "text": [
      "o\n",
      "l\n",
      "e\n",
      "e\n",
      "h\n"
     ]
    }
   ],
   "source": [
    "for i in l[::-1]:\n",
    "    print(i)"
   ]
  },
  {
   "cell_type": "markdown",
   "id": "4de4242f-abc4-4cab-96ac-6301d21ad430",
   "metadata": {},
   "source": [
    "#oops"
   ]
  },
  {
   "cell_type": "code",
   "execution_count": 2,
   "id": "c1074472-685e-4c17-b367-4759d8dcf218",
   "metadata": {},
   "outputs": [],
   "source": [
    "class test:\n",
    "    pass"
   ]
  },
  {
   "cell_type": "code",
   "execution_count": 3,
   "id": "75e685ba-147b-4a43-bbe1-31c9992b0f95",
   "metadata": {},
   "outputs": [],
   "source": [
    "a = test()"
   ]
  },
  {
   "cell_type": "code",
   "execution_count": 4,
   "id": "8f0eea8d-64fe-4831-89c9-8fe1cc23a0ce",
   "metadata": {},
   "outputs": [
    {
     "name": "stdout",
     "output_type": "stream",
     "text": [
      "<class '__main__.test'>\n"
     ]
    }
   ],
   "source": [
    "print(type(a))"
   ]
  },
  {
   "cell_type": "code",
   "execution_count": 9,
   "id": "d9a9afeb-5ad0-4663-891b-9c35569863b9",
   "metadata": {},
   "outputs": [],
   "source": [
    "class pwskills:\n",
    "    def welcome_msg(self):\n",
    "        print(\"wellcome\")"
   ]
  },
  {
   "cell_type": "code",
   "execution_count": 12,
   "id": "0f6de95f-d637-466c-9f0a-515b814e95c6",
   "metadata": {},
   "outputs": [],
   "source": [
    "rohan = pwskills()"
   ]
  },
  {
   "cell_type": "code",
   "execution_count": 13,
   "id": "54683181-ded0-4e1d-9fcf-620ded1b7745",
   "metadata": {},
   "outputs": [
    {
     "name": "stdout",
     "output_type": "stream",
     "text": [
      "wellcome\n"
     ]
    }
   ],
   "source": [
    "rohan.welcome_msg()"
   ]
  },
  {
   "cell_type": "code",
   "execution_count": 14,
   "id": "c257dc6c-00ff-46da-af52-256e56cd081c",
   "metadata": {},
   "outputs": [],
   "source": [
    "sohan = pwskills()"
   ]
  },
  {
   "cell_type": "code",
   "execution_count": 15,
   "id": "e8930c03-3837-46b8-9673-58d79cf5856b",
   "metadata": {},
   "outputs": [
    {
     "name": "stdout",
     "output_type": "stream",
     "text": [
      "wellcome\n"
     ]
    }
   ],
   "source": [
    "sohan.welcome_msg()"
   ]
  },
  {
   "cell_type": "code",
   "execution_count": 17,
   "id": "94cc52f2-af9c-4ac9-8712-69e299493a78",
   "metadata": {},
   "outputs": [],
   "source": [
    "a = 1\n",
    "b=2"
   ]
  },
  {
   "cell_type": "code",
   "execution_count": 19,
   "id": "8ad7dcab-67dd-4af9-9b81-5c5084715a3d",
   "metadata": {},
   "outputs": [],
   "source": [
    "class pwskills1:\n",
    "    def __init__(self,phone_no,email_id,student_id):\n",
    "        self.phone_no = phone_no\n",
    "        self.email_id =email_id\n",
    "        self.student_id = student_id\n",
    "    def return_student_details(self):\n",
    "        return self.phone_no,self.email_id,self.student_id\n",
    "    "
   ]
  },
  {
   "cell_type": "code",
   "execution_count": 22,
   "id": "b1577ac9-cccd-43f3-80c2-83cdd14c7828",
   "metadata": {},
   "outputs": [],
   "source": [
    "rohan = pwskills1(879678666,\"rohan@gmail.com\",101)"
   ]
  },
  {
   "cell_type": "code",
   "execution_count": 26,
   "id": "58d5564e-5c6e-46f8-9446-54874c152bcc",
   "metadata": {},
   "outputs": [
    {
     "data": {
      "text/plain": [
       "(879678666, 'rohan@gmail.com', 101)"
      ]
     },
     "execution_count": 26,
     "metadata": {},
     "output_type": "execute_result"
    }
   ],
   "source": [
    "rohan.return_student_details()"
   ]
  },
  {
   "cell_type": "code",
   "execution_count": 24,
   "id": "5b417a59-ec67-458c-b6b7-5df298e17707",
   "metadata": {},
   "outputs": [
    {
     "data": {
      "text/plain": [
       "101"
      ]
     },
     "execution_count": 24,
     "metadata": {},
     "output_type": "execute_result"
    }
   ],
   "source": [
    "rohan.student_id"
   ]
  },
  {
   "cell_type": "code",
   "execution_count": 27,
   "id": "273ef15a-46b1-4e83-b4af-473f2b8b7781",
   "metadata": {},
   "outputs": [],
   "source": [
    "shoan = pwskills1(98767898,\"sohan@gmail.com\",102)"
   ]
  },
  {
   "cell_type": "code",
   "execution_count": 28,
   "id": "3379ec1a-bf18-4fbe-bd72-4eeb29a6bdb6",
   "metadata": {},
   "outputs": [
    {
     "data": {
      "text/plain": [
       "(98767898, 'sohan@gmail.com', 102)"
      ]
     },
     "execution_count": 28,
     "metadata": {},
     "output_type": "execute_result"
    }
   ],
   "source": [
    "shoan.return_student_details()"
   ]
  },
  {
   "cell_type": "code",
   "execution_count": 30,
   "id": "6bd5a08d-9414-4f4f-aad4-5cab4e801e62",
   "metadata": {},
   "outputs": [],
   "source": [
    "class pwskills2:\n",
    "    def __init__(pawan,phone_no,email_id,student_id):\n",
    "        pawan.phone_no = phone_no\n",
    "        pawan.email_id =email_id\n",
    "        pawan.student_id = student_id\n",
    "    def return_student_details(pawan):\n",
    "        return pawan.phone_no,pawan.email_id,pawan.student_id\n",
    "    "
   ]
  },
  {
   "cell_type": "code",
   "execution_count": 31,
   "id": "62b66ad9-23f3-4af2-83f1-c709d1fe14be",
   "metadata": {},
   "outputs": [],
   "source": [
    "kamal = pwskills2(232312345,\"kamal@gmail.com\",103)"
   ]
  },
  {
   "cell_type": "code",
   "execution_count": 32,
   "id": "68fdbd3f-7d27-47ad-b0e3-40fd45f52e28",
   "metadata": {},
   "outputs": [
    {
     "data": {
      "text/plain": [
       "(232312345, 'kamal@gmail.com', 103)"
      ]
     },
     "execution_count": 32,
     "metadata": {},
     "output_type": "execute_result"
    }
   ],
   "source": [
    "kamal.return_student_details()"
   ]
  },
  {
   "cell_type": "code",
   "execution_count": 33,
   "id": "c9ded82f-cd69-4473-afb6-240140363106",
   "metadata": {},
   "outputs": [],
   "source": [
    "class pwskills3:\n",
    "    def __init__(self,phone_no,email_id,student_id):\n",
    "        self.phone_no1 = phone_no\n",
    "        self.email_id =email_id\n",
    "        self.student_id = student_id\n",
    "    def return_student_details(self):\n",
    "        return self.phone_no,self.email_id,self.student_id\n",
    "    "
   ]
  },
  {
   "cell_type": "code",
   "execution_count": 34,
   "id": "e085a2a7-3663-4287-b050-43b6c7d3f767",
   "metadata": {},
   "outputs": [],
   "source": [
    "leela = pwskills3(2323234,\"leela@gmail.com\",123)"
   ]
  },
  {
   "cell_type": "code",
   "execution_count": 35,
   "id": "946a34e8-e7fb-4afb-94f0-b767d3c5389a",
   "metadata": {},
   "outputs": [
    {
     "ename": "AttributeError",
     "evalue": "'pwskills3' object has no attribute 'phone_no'",
     "output_type": "error",
     "traceback": [
      "\u001b[0;31m---------------------------------------------------------------------------\u001b[0m",
      "\u001b[0;31mAttributeError\u001b[0m                            Traceback (most recent call last)",
      "Cell \u001b[0;32mIn[35], line 1\u001b[0m\n\u001b[0;32m----> 1\u001b[0m \u001b[43mleela\u001b[49m\u001b[38;5;241;43m.\u001b[39;49m\u001b[43mphone_no\u001b[49m\n",
      "\u001b[0;31mAttributeError\u001b[0m: 'pwskills3' object has no attribute 'phone_no'"
     ]
    }
   ],
   "source": [
    "leela.phone_no"
   ]
  },
  {
   "cell_type": "code",
   "execution_count": 36,
   "id": "29fbd2ba-f959-4187-a574-16979228d4ce",
   "metadata": {},
   "outputs": [
    {
     "data": {
      "text/plain": [
       "2323234"
      ]
     },
     "execution_count": 36,
     "metadata": {},
     "output_type": "execute_result"
    }
   ],
   "source": [
    "leela.phone_no1"
   ]
  },
  {
   "cell_type": "code",
   "execution_count": 37,
   "id": "585d6c38-051a-43c0-9bda-d9d35028a7e4",
   "metadata": {},
   "outputs": [
    {
     "ename": "AttributeError",
     "evalue": "'pwskills3' object has no attribute 'phone_no'",
     "output_type": "error",
     "traceback": [
      "\u001b[0;31m---------------------------------------------------------------------------\u001b[0m",
      "\u001b[0;31mAttributeError\u001b[0m                            Traceback (most recent call last)",
      "Cell \u001b[0;32mIn[37], line 1\u001b[0m\n\u001b[0;32m----> 1\u001b[0m \u001b[43mleela\u001b[49m\u001b[38;5;241;43m.\u001b[39;49m\u001b[43mreturn_student_details\u001b[49m\u001b[43m(\u001b[49m\u001b[43m)\u001b[49m\n",
      "Cell \u001b[0;32mIn[33], line 7\u001b[0m, in \u001b[0;36mpwskills3.return_student_details\u001b[0;34m(self)\u001b[0m\n\u001b[1;32m      6\u001b[0m \u001b[38;5;28;01mdef\u001b[39;00m \u001b[38;5;21mreturn_student_details\u001b[39m(\u001b[38;5;28mself\u001b[39m):\n\u001b[0;32m----> 7\u001b[0m     \u001b[38;5;28;01mreturn\u001b[39;00m \u001b[38;5;28;43mself\u001b[39;49m\u001b[38;5;241;43m.\u001b[39;49m\u001b[43mphone_no\u001b[49m,\u001b[38;5;28mself\u001b[39m\u001b[38;5;241m.\u001b[39memail_id,\u001b[38;5;28mself\u001b[39m\u001b[38;5;241m.\u001b[39mstudent_id\n",
      "\u001b[0;31mAttributeError\u001b[0m: 'pwskills3' object has no attribute 'phone_no'"
     ]
    }
   ],
   "source": [
    "leela.return_student_details()"
   ]
  },
  {
   "cell_type": "code",
   "execution_count": null,
   "id": "3d2cddc2-df77-44fe-afc6-6be708eef00c",
   "metadata": {},
   "outputs": [],
   "source": []
  }
 ],
 "metadata": {
  "kernelspec": {
   "display_name": "Python 3 (ipykernel)",
   "language": "python",
   "name": "python3"
  },
  "language_info": {
   "codemirror_mode": {
    "name": "ipython",
    "version": 3
   },
   "file_extension": ".py",
   "mimetype": "text/x-python",
   "name": "python",
   "nbconvert_exporter": "python",
   "pygments_lexer": "ipython3",
   "version": "3.10.8"
  }
 },
 "nbformat": 4,
 "nbformat_minor": 5
}

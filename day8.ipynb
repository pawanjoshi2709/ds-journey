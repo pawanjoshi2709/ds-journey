{
 "cells": [
  {
   "cell_type": "code",
   "execution_count": 1,
   "id": "95d21ac6-292f-4822-b6bf-baba9b669fc3",
   "metadata": {},
   "outputs": [],
   "source": [
    "def test(a,b):\n",
    "    return a+b\n"
   ]
  },
  {
   "cell_type": "code",
   "execution_count": 2,
   "id": "01d30086-170a-4b15-8530-cbad25eb752a",
   "metadata": {},
   "outputs": [
    {
     "data": {
      "text/plain": [
       "9"
      ]
     },
     "execution_count": 2,
     "metadata": {},
     "output_type": "execute_result"
    }
   ],
   "source": [
    "test(4,5)"
   ]
  },
  {
   "cell_type": "code",
   "execution_count": 4,
   "id": "767e79ee-7c80-40de-8b4e-7025f42c33a0",
   "metadata": {},
   "outputs": [
    {
     "data": {
      "text/plain": [
       "'pawanjoshi'"
      ]
     },
     "execution_count": 4,
     "metadata": {},
     "output_type": "execute_result"
    }
   ],
   "source": [
    "test(\"pawan\" , \"joshi\")"
   ]
  },
  {
   "cell_type": "code",
   "execution_count": 5,
   "id": "73a22455-69f0-47a4-b4a3-19bc76b673aa",
   "metadata": {},
   "outputs": [
    {
     "data": {
      "text/plain": [
       "[2, 3, 4, 5, 3, 4, 7, 8]"
      ]
     },
     "execution_count": 5,
     "metadata": {},
     "output_type": "execute_result"
    }
   ],
   "source": [
    "test([2,3,4,5],[3,4,7,8])"
   ]
  },
  {
   "cell_type": "code",
   "execution_count": 14,
   "id": "1743e72a-f643-4305-a9d5-5a6f12f3aa07",
   "metadata": {},
   "outputs": [],
   "source": [
    "class data_science:\n",
    "    def syallabus(self):\n",
    "        print(\"theis method for data science syllabus \")"
   ]
  },
  {
   "cell_type": "code",
   "execution_count": 21,
   "id": "21cb1d60-6908-42e3-96c9-1e88adb21c65",
   "metadata": {},
   "outputs": [],
   "source": [
    "class web_dev:\n",
    "    def syallabus(self):\n",
    "        print(\"this is my method for web dev\")"
   ]
  },
  {
   "cell_type": "code",
   "execution_count": 17,
   "id": "716cba43-40f5-421a-8f35-b3eb18863a43",
   "metadata": {},
   "outputs": [],
   "source": [
    "def class_parcer(class_obj):\n",
    "    for i in class_obj:\n",
    "        i.syallabus()"
   ]
  },
  {
   "cell_type": "code",
   "execution_count": 16,
   "id": "f7e5e907-a2df-404b-b816-6f663b9e0d9b",
   "metadata": {},
   "outputs": [],
   "source": [
    "obj_data_science = data_science()"
   ]
  },
  {
   "cell_type": "code",
   "execution_count": 22,
   "id": "c1d15d64-7fbf-47e1-ac57-0d9edf29a602",
   "metadata": {},
   "outputs": [],
   "source": [
    "obj_web_dev = web_dev()"
   ]
  },
  {
   "cell_type": "code",
   "execution_count": 23,
   "id": "911cd676-0a65-4740-bf25-593498361ce7",
   "metadata": {},
   "outputs": [],
   "source": [
    "class_obj = [obj_data_science, obj_web_dev]"
   ]
  },
  {
   "cell_type": "code",
   "execution_count": 24,
   "id": "a8ec68e0-945a-4cb3-b046-8ccfcda803c2",
   "metadata": {},
   "outputs": [
    {
     "name": "stdout",
     "output_type": "stream",
     "text": [
      "theis method for data science syllabus \n",
      "this is my method for web dev\n"
     ]
    }
   ],
   "source": [
    "class_parcer(class_obj)"
   ]
  },
  {
   "cell_type": "markdown",
   "id": "3b0876c2-b70c-4ab0-85d0-465f3e909b09",
   "metadata": {},
   "source": [
    "#encapsulation\n"
   ]
  },
  {
   "cell_type": "code",
   "execution_count": 25,
   "id": "05528532-841f-4efe-bc13-0f266c3181b7",
   "metadata": {},
   "outputs": [],
   "source": [
    "class test:\n",
    "    def __init__(self,a,b):\n",
    "        self.a = a\n",
    "        self.b = b"
   ]
  },
  {
   "cell_type": "code",
   "execution_count": 26,
   "id": "b302a936-024a-47dd-aa2a-e0dffbd172d6",
   "metadata": {},
   "outputs": [
    {
     "ename": "TypeError",
     "evalue": "test.__init__() missing 2 required positional arguments: 'a' and 'b'",
     "output_type": "error",
     "traceback": [
      "\u001b[0;31m---------------------------------------------------------------------------\u001b[0m",
      "\u001b[0;31mTypeError\u001b[0m                                 Traceback (most recent call last)",
      "Cell \u001b[0;32mIn[26], line 1\u001b[0m\n\u001b[0;32m----> 1\u001b[0m t \u001b[38;5;241m=\u001b[39m \u001b[43mtest\u001b[49m\u001b[43m(\u001b[49m\u001b[43m)\u001b[49m\n",
      "\u001b[0;31mTypeError\u001b[0m: test.__init__() missing 2 required positional arguments: 'a' and 'b'"
     ]
    }
   ],
   "source": [
    "t = test()"
   ]
  },
  {
   "cell_type": "code",
   "execution_count": 27,
   "id": "62e4182f-681c-4c39-bc12-0f88f47a9710",
   "metadata": {},
   "outputs": [],
   "source": [
    "t = test(45,24)"
   ]
  },
  {
   "cell_type": "code",
   "execution_count": 28,
   "id": "ee49fd31-1710-4f01-a770-2ed34d6de26e",
   "metadata": {},
   "outputs": [
    {
     "data": {
      "text/plain": [
       "45"
      ]
     },
     "execution_count": 28,
     "metadata": {},
     "output_type": "execute_result"
    }
   ],
   "source": [
    "t.a"
   ]
  },
  {
   "cell_type": "code",
   "execution_count": 29,
   "id": "b57651af-a5e1-42ed-b53f-765dde301d78",
   "metadata": {},
   "outputs": [],
   "source": [
    "t.a = 345"
   ]
  },
  {
   "cell_type": "code",
   "execution_count": 30,
   "id": "a0802643-6ad3-42ef-80fb-078be4fb8973",
   "metadata": {},
   "outputs": [
    {
     "data": {
      "text/plain": [
       "345"
      ]
     },
     "execution_count": 30,
     "metadata": {},
     "output_type": "execute_result"
    }
   ],
   "source": [
    "t.a\n"
   ]
  },
  {
   "cell_type": "code",
   "execution_count": 77,
   "id": "1b2f9107-18ff-4bf1-b2f1-1d0cbff11a4c",
   "metadata": {},
   "outputs": [
    {
     "data": {
      "text/plain": [
       "24"
      ]
     },
     "execution_count": 77,
     "metadata": {},
     "output_type": "execute_result"
    }
   ],
   "source": [
    "t.b "
   ]
  },
  {
   "cell_type": "code",
   "execution_count": 54,
   "id": "0fcd2451-62a1-430b-84cf-b17b709ba620",
   "metadata": {},
   "outputs": [],
   "source": [
    "class car:\n",
    "    def __init__(self,year , make,model,speed):\n",
    "        self.__year = year\n",
    "        self.__make = make \n",
    "        self.__model = model\n",
    "        self.__speed = 0\n",
    "    def set_speed(self,speed):\n",
    "        self.__speed = 0 if speed < 0 else speed\n",
    "    def get_speed(self):\n",
    "        return self.__speed"
   ]
  },
  {
   "cell_type": "code",
   "execution_count": 55,
   "id": "e39e4d25-981c-4316-b54e-f15d2b0c34c5",
   "metadata": {},
   "outputs": [],
   "source": [
    "obj_car = car(2021 , \"toyota\",\"innova\",12)"
   ]
  },
  {
   "cell_type": "code",
   "execution_count": 36,
   "id": "118451ed-dcb4-4b43-80e8-db1c4b7d6826",
   "metadata": {},
   "outputs": [
    {
     "data": {
      "text/plain": [
       "2021"
      ]
     },
     "execution_count": 36,
     "metadata": {},
     "output_type": "execute_result"
    }
   ],
   "source": [
    "obj_car._car__year"
   ]
  },
  {
   "cell_type": "code",
   "execution_count": 58,
   "id": "2799bdaa-69dc-4c32-b497-da27d2d4e889",
   "metadata": {},
   "outputs": [],
   "source": [
    "obj_car.set_speed(2345)"
   ]
  },
  {
   "cell_type": "code",
   "execution_count": 53,
   "id": "b901caed-dfce-443f-b83b-dee3d7c2f374",
   "metadata": {},
   "outputs": [
    {
     "data": {
      "text/plain": [
       "2345"
      ]
     },
     "execution_count": 53,
     "metadata": {},
     "output_type": "execute_result"
    }
   ],
   "source": [
    "obj_car._car__speed"
   ]
  },
  {
   "cell_type": "code",
   "execution_count": 60,
   "id": "059ef146-cf08-4cf6-997b-e83bc6340ce5",
   "metadata": {},
   "outputs": [
    {
     "data": {
      "text/plain": [
       "2345"
      ]
     },
     "execution_count": 60,
     "metadata": {},
     "output_type": "execute_result"
    }
   ],
   "source": [
    "obj_car.get_speed()"
   ]
  },
  {
   "cell_type": "code",
   "execution_count": 66,
   "id": "78d18e30-6a36-4c9b-82c9-f1546271d487",
   "metadata": {},
   "outputs": [],
   "source": [
    "class bank_account:\n",
    "    def __init__(self,balance):\n",
    "        self.__balance = balance\n",
    "    def deposite(self , amount):\n",
    "        self.__balance = self.__balance + amount\n",
    "    def withdraw(self , amount):\n",
    "        if self.__balance >= amount:\n",
    "            self.__balance = self.__balance - amount\n",
    "            return True\n",
    "        else:\n",
    "            return False\n",
    "    def get_balance(self):\n",
    "        return self.__balance"
   ]
  },
  {
   "cell_type": "code",
   "execution_count": 67,
   "id": "954b1fde-6422-42b9-9162-d9bd951f07b7",
   "metadata": {},
   "outputs": [],
   "source": [
    "obj_bank_account = bank_account(1000)"
   ]
  },
  {
   "cell_type": "code",
   "execution_count": 68,
   "id": "10733aed-6d8d-4dea-9cfd-feaf4b8c85eb",
   "metadata": {},
   "outputs": [
    {
     "data": {
      "text/plain": [
       "1000"
      ]
     },
     "execution_count": 68,
     "metadata": {},
     "output_type": "execute_result"
    }
   ],
   "source": [
    "obj_bank_account.get_balance()"
   ]
  },
  {
   "cell_type": "code",
   "execution_count": 69,
   "id": "151a7dce-4d92-4174-a4ef-19e9a54f1b4b",
   "metadata": {},
   "outputs": [],
   "source": [
    "obj_bank_account.deposite(1800)"
   ]
  },
  {
   "cell_type": "code",
   "execution_count": 70,
   "id": "3ea51942-4e08-4c8a-a7c1-ae535763449d",
   "metadata": {},
   "outputs": [
    {
     "data": {
      "text/plain": [
       "2800"
      ]
     },
     "execution_count": 70,
     "metadata": {},
     "output_type": "execute_result"
    }
   ],
   "source": [
    "obj_bank_account.get_balance()"
   ]
  },
  {
   "cell_type": "code",
   "execution_count": 72,
   "id": "4bc82abe-24ae-450a-be72-b5f2979b6f13",
   "metadata": {},
   "outputs": [
    {
     "data": {
      "text/plain": [
       "True"
      ]
     },
     "execution_count": 72,
     "metadata": {},
     "output_type": "execute_result"
    }
   ],
   "source": [
    "obj_bank_account.withdraw(1000)"
   ]
  },
  {
   "cell_type": "code",
   "execution_count": 75,
   "id": "046fb2dd-ecc9-4665-8eea-d71bb56014df",
   "metadata": {},
   "outputs": [
    {
     "data": {
      "text/plain": [
       "1800"
      ]
     },
     "execution_count": 75,
     "metadata": {},
     "output_type": "execute_result"
    }
   ],
   "source": [
    "obj_bank_account.get_balance()"
   ]
  },
  {
   "cell_type": "markdown",
   "id": "1fbb847c-dff3-4b18-800a-4290a9a2ebdf",
   "metadata": {},
   "source": [
    "# inheritance"
   ]
  },
  {
   "cell_type": "code",
   "execution_count": 1,
   "id": "b05c9b22-b476-4120-bfae-101b5adac36f",
   "metadata": {},
   "outputs": [],
   "source": [
    "class parent:\n",
    "    def test_parent(self):\n",
    "        print(\"this is my parent class\")"
   ]
  },
  {
   "cell_type": "code",
   "execution_count": 2,
   "id": "fdc84880-9a73-47ce-9d9b-33f5b574c3d9",
   "metadata": {},
   "outputs": [],
   "source": [
    "class child(parent):\n",
    "    pass"
   ]
  },
  {
   "cell_type": "code",
   "execution_count": 6,
   "id": "86127e7e-e3da-4c46-bde3-7b2e1113cdea",
   "metadata": {},
   "outputs": [],
   "source": [
    "child_obj = child()"
   ]
  },
  {
   "cell_type": "code",
   "execution_count": 7,
   "id": "d2a90e79-b1a9-449d-a7ac-68f286965711",
   "metadata": {},
   "outputs": [
    {
     "name": "stdout",
     "output_type": "stream",
     "text": [
      "this is my parent class\n"
     ]
    }
   ],
   "source": [
    "child_obj.test_parent()"
   ]
  },
  {
   "cell_type": "code",
   "execution_count": 26,
   "id": "ea43e628-f8bb-46c3-971e-ba9515331fa6",
   "metadata": {},
   "outputs": [],
   "source": [
    "class class1:\n",
    "    def test_class1(self):\n",
    "        print(\"this is my class1\")"
   ]
  },
  {
   "cell_type": "code",
   "execution_count": 31,
   "id": "e378c839-77aa-41e9-8835-a2201d5f7dc0",
   "metadata": {},
   "outputs": [],
   "source": [
    "class class2(class1):\n",
    "    def test_class2(self):\n",
    "        print(\"this is my class2\")"
   ]
  },
  {
   "cell_type": "code",
   "execution_count": 32,
   "id": "ee8c947f-5767-4216-92a6-de3d55f68fff",
   "metadata": {},
   "outputs": [],
   "source": [
    "class class3(class2):\n",
    "    def test_class3(self):\n",
    "        print(\"this is my class3\")"
   ]
  },
  {
   "cell_type": "code",
   "execution_count": 33,
   "id": "70fd175d-43de-44a7-bca5-783e84bacef5",
   "metadata": {},
   "outputs": [],
   "source": [
    "obj_class3 = class3()"
   ]
  },
  {
   "cell_type": "code",
   "execution_count": 34,
   "id": "66a22458-c24b-4015-bf7a-56096f159153",
   "metadata": {},
   "outputs": [
    {
     "name": "stdout",
     "output_type": "stream",
     "text": [
      "this is my class1\n"
     ]
    }
   ],
   "source": [
    "obj_class3.test_class1()"
   ]
  },
  {
   "cell_type": "code",
   "execution_count": 21,
   "id": "07f757ec-d3be-4872-85ca-7dd74106fb83",
   "metadata": {},
   "outputs": [],
   "source": [
    "class class1:\n",
    "    def test_class1(self):\n",
    "        print(\"this is my class1\")\n",
    "class class2():\n",
    "    def test_class2(self):\n",
    "        print(\"this is my class2\")\n",
    "class class3(class1,class2):\n",
    "    def test_class3(self):\n",
    "        print(\"this is my class3\")"
   ]
  },
  {
   "cell_type": "code",
   "execution_count": 22,
   "id": "9063e7a0-76f5-45de-b2a9-0e65a570481a",
   "metadata": {},
   "outputs": [],
   "source": [
    "obj_class31 = class3()"
   ]
  },
  {
   "cell_type": "code",
   "execution_count": 23,
   "id": "82533d19-b7e7-43a3-b3b0-725d71aed331",
   "metadata": {},
   "outputs": [
    {
     "name": "stdout",
     "output_type": "stream",
     "text": [
      "this is my class3\n"
     ]
    }
   ],
   "source": [
    "obj_class31.test_class3()"
   ]
  },
  {
   "cell_type": "markdown",
   "id": "fb7ecd2a-4ff3-4f73-8497-1e8432fee372",
   "metadata": {},
   "source": [
    "#decorators"
   ]
  },
  {
   "cell_type": "code",
   "execution_count": 72,
   "id": "b4fb003f-6333-4b7c-aa73-7b79f99a8bfe",
   "metadata": {},
   "outputs": [],
   "source": [
    "def deco(func):\n",
    "    def fun1(a):\n",
    "        print(\"this is the starting of function\")\n",
    "        func(a)\n",
    "        print(\"this is the ending of the function\")\n",
    "    return fun1"
   ]
  },
  {
   "cell_type": "code",
   "execution_count": 73,
   "id": "428a0574-f7b5-4695-9959-98a56026c4e9",
   "metadata": {},
   "outputs": [],
   "source": [
    "@deco\n",
    "def test1(a):\n",
    "    print(20+a)"
   ]
  },
  {
   "cell_type": "code",
   "execution_count": 74,
   "id": "7204c818-e79f-4cf2-ac01-4b4f93a83f08",
   "metadata": {},
   "outputs": [
    {
     "name": "stdout",
     "output_type": "stream",
     "text": [
      "this is the starting of function\n",
      "30\n",
      "this is the ending of the function\n"
     ]
    }
   ],
   "source": [
    "a = 10\n",
    "test1(a)"
   ]
  },
  {
   "cell_type": "code",
   "execution_count": 75,
   "id": "ee7cfec2-d1cf-418f-a6b2-99411ac69ed3",
   "metadata": {},
   "outputs": [],
   "source": [
    "import time\n",
    "def timer_test(func):\n",
    "    def fun1():\n",
    "        start = time.time()\n",
    "        func()\n",
    "        end = time.time()\n",
    "        print(end - start)\n",
    "    return fun1\n",
    "        "
   ]
  },
  {
   "cell_type": "code",
   "execution_count": 220,
   "id": "524e4273-53e5-4af1-a384-687672a3ad86",
   "metadata": {},
   "outputs": [],
   "source": [
    "@timer_test\n",
    "def test2():\n",
    "    for i in range(5,10000000):\n",
    "        print(i)\n",
    "        break"
   ]
  },
  {
   "cell_type": "code",
   "execution_count": 221,
   "id": "d91dea71-c598-4dc1-b1ad-252ba3bc6e18",
   "metadata": {},
   "outputs": [
    {
     "name": "stdout",
     "output_type": "stream",
     "text": [
      "5\n",
      "0.0003123283386230469\n"
     ]
    }
   ],
   "source": [
    "test2()"
   ]
  },
  {
   "cell_type": "code",
   "execution_count": 98,
   "id": "4d394d03-4a32-48fb-be73-8e447b7dab71",
   "metadata": {},
   "outputs": [],
   "source": [
    "class pwskills:\n",
    "    def __init__(self, name, email):\n",
    "        self.name = name\n",
    "        self.email = email\n",
    "    def student_details(self):\n",
    "        print(self.name,self.email)"
   ]
  },
  {
   "cell_type": "code",
   "execution_count": 99,
   "id": "5d2e5ada-b1e5-4b43-857e-c03ef4572aea",
   "metadata": {},
   "outputs": [],
   "source": [
    "pw = pwskills(\"pawan\",\"pawan@gmail.com\")"
   ]
  },
  {
   "cell_type": "code",
   "execution_count": 100,
   "id": "98ca0b36-fad2-47fe-bed1-84974c23343e",
   "metadata": {},
   "outputs": [
    {
     "data": {
      "text/plain": [
       "'pawan'"
      ]
     },
     "execution_count": 100,
     "metadata": {},
     "output_type": "execute_result"
    }
   ],
   "source": [
    "pw.name"
   ]
  },
  {
   "cell_type": "code",
   "execution_count": 102,
   "id": "a57711d7-4150-439a-9599-e92fd0512d19",
   "metadata": {},
   "outputs": [
    {
     "data": {
      "text/plain": [
       "'pawan@gmail.com'"
      ]
     },
     "execution_count": 102,
     "metadata": {},
     "output_type": "execute_result"
    }
   ],
   "source": [
    "pw.email"
   ]
  },
  {
   "cell_type": "code",
   "execution_count": 104,
   "id": "40918c74-9aa0-48b6-b14f-9f36de24d31f",
   "metadata": {},
   "outputs": [
    {
     "name": "stdout",
     "output_type": "stream",
     "text": [
      "pawan pawan@gmail.com\n"
     ]
    }
   ],
   "source": [
    "pw.student_details()"
   ]
  },
  {
   "cell_type": "code",
   "execution_count": 107,
   "id": "562e331a-0d4c-4ef7-8f0f-a0531b2c1b4f",
   "metadata": {},
   "outputs": [],
   "source": [
    "class pwskills1:\n",
    "    def __init__(self, name, email):\n",
    "        self.name = name\n",
    "        self.email = email\n",
    "    @classmethod\n",
    "    def details(cls , name1 , email1):\n",
    "        return cls(name1 , email1)\n",
    "    def student_details(self):\n",
    "        print(self.name,self.email)"
   ]
  },
  {
   "cell_type": "code",
   "execution_count": 108,
   "id": "35e3a5a7-9310-4835-adf1-fb78ce6fbad5",
   "metadata": {},
   "outputs": [],
   "source": [
    "pw1 = pwskills1.details(\"mohan\",\"mohan@gmail.com\")"
   ]
  },
  {
   "cell_type": "code",
   "execution_count": 113,
   "id": "7a1d8ad2-118c-4e3f-828f-a48776e7ae2a",
   "metadata": {},
   "outputs": [
    {
     "data": {
      "text/plain": [
       "'mohan'"
      ]
     },
     "execution_count": 113,
     "metadata": {},
     "output_type": "execute_result"
    }
   ],
   "source": [
    "pw1.name"
   ]
  },
  {
   "cell_type": "code",
   "execution_count": 115,
   "id": "da5a9275-51b4-4397-aa03-34bd5577a185",
   "metadata": {},
   "outputs": [
    {
     "name": "stdout",
     "output_type": "stream",
     "text": [
      "mohan mohan@gmail.com\n"
     ]
    }
   ],
   "source": [
    "pw1.student_details()"
   ]
  },
  {
   "cell_type": "code",
   "execution_count": 126,
   "id": "da9b80f0-7452-4a6f-822a-b8279898a145",
   "metadata": {},
   "outputs": [],
   "source": [
    "class pwskills2:\n",
    "    mobile_number = 9234654432\n",
    "    def __init__(self, name, email):\n",
    "        self.name = name\n",
    "        self.email = email\n",
    "    @classmethod\n",
    "    def change_number(cls,mobile):\n",
    "        pwskills2.mobile_number = mobile\n",
    "    @classmethod\n",
    "    def details(cls , name1 , email1):\n",
    "        return cls(name1 , email1)\n",
    "    def student_details(self):\n",
    "        print(self.name,self.email,pwskills2.mobile_number)"
   ]
  },
  {
   "cell_type": "code",
   "execution_count": 128,
   "id": "72a1ddd5-64ea-4e99-8fc8-6dcc06f9da0f",
   "metadata": {},
   "outputs": [
    {
     "data": {
      "text/plain": [
       "9234654432"
      ]
     },
     "execution_count": 128,
     "metadata": {},
     "output_type": "execute_result"
    }
   ],
   "source": [
    "pwskills2.mobile_number"
   ]
  },
  {
   "cell_type": "code",
   "execution_count": 129,
   "id": "eb469e12-fdbd-4e4b-a0f8-b798b85caeb8",
   "metadata": {},
   "outputs": [],
   "source": [
    "pwskills2.change_number(3456765433)"
   ]
  },
  {
   "cell_type": "code",
   "execution_count": 130,
   "id": "dcac11b9-100b-42ab-b93d-abc378d5a5d8",
   "metadata": {},
   "outputs": [
    {
     "data": {
      "text/plain": [
       "3456765433"
      ]
     },
     "execution_count": 130,
     "metadata": {},
     "output_type": "execute_result"
    }
   ],
   "source": [
    "pwskills2.mobile_number"
   ]
  },
  {
   "cell_type": "code",
   "execution_count": 122,
   "id": "b1ed5acc-42a1-4253-962b-fde9d2d317de",
   "metadata": {},
   "outputs": [],
   "source": [
    "pw2 = pwskills2.details(\"mohan\",\"mohan@gmail.com\")"
   ]
  },
  {
   "cell_type": "code",
   "execution_count": 123,
   "id": "3804757b-47f5-48c2-a0ca-dd547f3ad69d",
   "metadata": {},
   "outputs": [
    {
     "name": "stdout",
     "output_type": "stream",
     "text": [
      "mohan mohan@gmail.com 9234654432\n"
     ]
    }
   ],
   "source": [
    "pw2.student_details()"
   ]
  },
  {
   "cell_type": "code",
   "execution_count": 131,
   "id": "3cce0e08-7e9f-455d-bdc6-a9b15f8e8e23",
   "metadata": {},
   "outputs": [],
   "source": [
    "pw2_obj = pwskills2(\"rohan\",\"rohan@gamil.com\")"
   ]
  },
  {
   "cell_type": "code",
   "execution_count": 132,
   "id": "ff0dbf8f-c9cc-4baf-9a90-e4846b5ad0a6",
   "metadata": {},
   "outputs": [
    {
     "name": "stdout",
     "output_type": "stream",
     "text": [
      "rohan rohan@gamil.com 3456765433\n"
     ]
    }
   ],
   "source": [
    "pw2_obj.student_details()"
   ]
  },
  {
   "cell_type": "code",
   "execution_count": 163,
   "id": "7d29b46d-30b2-492f-ba20-115a95bbe18b",
   "metadata": {},
   "outputs": [],
   "source": [
    "class pwskills3:\n",
    "    mobile_number = 9234654432\n",
    "    def __init__(self, name, email):\n",
    "        self.name = name\n",
    "        self.email = email\n",
    "    @classmethod\n",
    "    def change_number(cls,mobile):\n",
    "        pwskills3.mobile_number = mobile\n",
    "    @classmethod\n",
    "    def details(cls , name1 , email1):\n",
    "        return cls(name1 , email1)\n",
    "    def student_details(self):\n",
    "        print(self.name,self.email,pwskills3.mobile_number)"
   ]
  },
  {
   "cell_type": "code",
   "execution_count": 160,
   "id": "a60beed6-7756-41ed-ab6b-8aba8696950b",
   "metadata": {},
   "outputs": [],
   "source": [
    "def course_details(cls,course_name):\n",
    "    print(\"course details \", course_name)"
   ]
  },
  {
   "cell_type": "code",
   "execution_count": 161,
   "id": "89c30263-4899-4a7a-b0f8-b629480cab5c",
   "metadata": {},
   "outputs": [],
   "source": [
    "pwskills3.course_details = classmethod(course_details)\n"
   ]
  },
  {
   "cell_type": "code",
   "execution_count": 162,
   "id": "ade831dd-3c68-4526-a6fe-9207723d3938",
   "metadata": {},
   "outputs": [
    {
     "name": "stdout",
     "output_type": "stream",
     "text": [
      "course details  data science master\n"
     ]
    }
   ],
   "source": [
    "pwskills3.course_details(\"data science master\")"
   ]
  },
  {
   "cell_type": "code",
   "execution_count": 144,
   "id": "349f8aaf-942d-4908-9575-a504dfdea5f5",
   "metadata": {},
   "outputs": [],
   "source": [
    "pw3 = pwskills3(\"mohan\",\"mohan@gmail.com\")"
   ]
  },
  {
   "cell_type": "code",
   "execution_count": 145,
   "id": "ed976a12-91d4-4806-839d-c9638df72476",
   "metadata": {},
   "outputs": [
    {
     "name": "stdout",
     "output_type": "stream",
     "text": [
      "mohan mohan@gmail.com 9234654432\n"
     ]
    }
   ],
   "source": [
    "pw3.student_details()"
   ]
  },
  {
   "cell_type": "code",
   "execution_count": 149,
   "id": "8d788e7e-a063-4ff2-8fe1-64361547713a",
   "metadata": {},
   "outputs": [
    {
     "name": "stdout",
     "output_type": "stream",
     "text": [
      "course details  web dev\n"
     ]
    }
   ],
   "source": [
    "pw3.course_details(\"web dev\")"
   ]
  },
  {
   "cell_type": "code",
   "execution_count": 150,
   "id": "43e6d6c6-0616-4919-b319-ad4b6cfc04ca",
   "metadata": {},
   "outputs": [],
   "source": [
    "class pwskills4:\n",
    "    mobile_number = 9234654432\n",
    "    def __init__(self, name, email):\n",
    "        self.name = name\n",
    "        self.email = email\n",
    "    @classmethod\n",
    "    def change_number(cls,mobile):\n",
    "        pwskills4.mobile_number = mobile\n",
    "    @classmethod\n",
    "    def details(cls , name1 , email1):\n",
    "        return cls(name1 , email1)\n",
    "    def student_details(self):\n",
    "        print(self.name,self.email,pwskills4.mobile_number)"
   ]
  },
  {
   "cell_type": "code",
   "execution_count": 151,
   "id": "3a937b47-54c7-4abd-a4bf-e5d1a086c2fe",
   "metadata": {},
   "outputs": [],
   "source": [
    "del pwskills4.change_number"
   ]
  },
  {
   "cell_type": "code",
   "execution_count": 154,
   "id": "70e01380-c5b3-4141-aad8-663f3a8d9a87",
   "metadata": {},
   "outputs": [],
   "source": [
    "delattr(pwskills4,\"details\")"
   ]
  },
  {
   "cell_type": "code",
   "execution_count": 155,
   "id": "bd3c8f18-c9e6-4082-8444-247c260288ef",
   "metadata": {},
   "outputs": [
    {
     "data": {
      "text/plain": [
       "9234654432"
      ]
     },
     "execution_count": 155,
     "metadata": {},
     "output_type": "execute_result"
    }
   ],
   "source": [
    "pwskills4.mobile_number"
   ]
  },
  {
   "cell_type": "code",
   "execution_count": 157,
   "id": "1a774384-c403-4d0a-b4a4-a042c451b541",
   "metadata": {},
   "outputs": [],
   "source": [
    "delattr(pwskills4 , \"mobile_number\")"
   ]
  },
  {
   "cell_type": "code",
   "execution_count": 159,
   "id": "4e23a1aa-16f0-4765-a3b3-16743c6045cf",
   "metadata": {},
   "outputs": [
    {
     "data": {
      "text/plain": [
       "[__main__.pwskills4, object]"
      ]
     },
     "execution_count": 159,
     "metadata": {},
     "output_type": "execute_result"
    }
   ],
   "source": [
    "pwskills4.mro()"
   ]
  },
  {
   "cell_type": "code",
   "execution_count": 164,
   "id": "7787c328-683b-4d43-a06d-73226d3050c0",
   "metadata": {},
   "outputs": [],
   "source": [
    "class pawan1:\n",
    "    def student_details(self , name , mail_id , number):\n",
    "        print(name , mail_id, number )"
   ]
  },
  {
   "cell_type": "code",
   "execution_count": 165,
   "id": "df770499-5b22-4a83-ad67-0e78b8d27a71",
   "metadata": {},
   "outputs": [],
   "source": [
    "pw = pawan1()"
   ]
  },
  {
   "cell_type": "code",
   "execution_count": 167,
   "id": "913899fd-1d98-4d40-ac1d-9345672b468c",
   "metadata": {},
   "outputs": [
    {
     "name": "stdout",
     "output_type": "stream",
     "text": [
      "pawan pawan@gmail.com 9123456\n"
     ]
    }
   ],
   "source": [
    "pw.student_details(\"pawan\" , \"pawan@gmail.com\",9123456)"
   ]
  },
  {
   "cell_type": "code",
   "execution_count": 168,
   "id": "77277b6d-a91f-4eb8-b5cc-013545467b85",
   "metadata": {},
   "outputs": [],
   "source": [
    "class pawan2:\n",
    "    def student_details(self , name , mail_id , number):\n",
    "        print(name , mail_id, number )\n",
    "    @staticmethod\n",
    "    def mentor_class(list_mentor):\n",
    "        print(list_mentor)"
   ]
  },
  {
   "cell_type": "code",
   "execution_count": 171,
   "id": "13952e0c-32a6-4890-86ae-144c3d5a2fd5",
   "metadata": {},
   "outputs": [
    {
     "name": "stdout",
     "output_type": "stream",
     "text": [
      "['pawan', 'pawan@gmail.com', 9123456]\n"
     ]
    }
   ],
   "source": [
    "pawan2.mentor_class([\"pawan\" , \"pawan@gmail.com\",9123456])"
   ]
  },
  {
   "cell_type": "code",
   "execution_count": 172,
   "id": "648eea0c-3ae0-4c7c-8c79-87c2c78a1b0c",
   "metadata": {},
   "outputs": [],
   "source": [
    "pw1 = pawan2()"
   ]
  },
  {
   "cell_type": "code",
   "execution_count": 177,
   "id": "df66c843-bdd4-4c32-8927-24638f0dd518",
   "metadata": {},
   "outputs": [
    {
     "name": "stdout",
     "output_type": "stream",
     "text": [
      "['rohan', 'sohan']\n"
     ]
    }
   ],
   "source": [
    "pw1.mentor_class([\"rohan\",\"sohan\"])"
   ]
  },
  {
   "cell_type": "code",
   "execution_count": 186,
   "id": "6e4c8c27-52cc-4e12-97ed-e75306916d23",
   "metadata": {},
   "outputs": [],
   "source": [
    "class pawan3:\n",
    "    def student_details(self , name , mail_id , number):\n",
    "        print(name , mail_id, number )\n",
    "    @staticmethod\n",
    "    def mentor_mailid(mail_id):\n",
    "        print(mail_id)\n",
    "    \n",
    "    @staticmethod\n",
    "    def mentor_class(list_mentor):\n",
    "        print(list_mentor)\n",
    "        pawan3.mentor_mailid([\"krish@gmail.com\",\"sudh@gmail.com\"])\n",
    "    @classmethod\n",
    "    def class_name(cls,class_name):\n",
    "        cls.mentor_class([\"sudh kumar\",\"krish\"])\n",
    "    def mentor(self , mentor_list):\n",
    "        print(mentor_list)\n",
    "        self.mentor_class([\"krish\",\"sudh\"])"
   ]
  },
  {
   "cell_type": "code",
   "execution_count": 187,
   "id": "e722362f-450a-4b45-ade9-b988ec1768f0",
   "metadata": {},
   "outputs": [],
   "source": [
    "pw3 = pawan3()"
   ]
  },
  {
   "cell_type": "code",
   "execution_count": 180,
   "id": "1afe64d6-e2af-4c59-8b44-4f8a0ff3f2ed",
   "metadata": {},
   "outputs": [
    {
     "name": "stdout",
     "output_type": "stream",
     "text": [
      "['krish', 'sudh']\n",
      "['krish@gmail.com', 'sudh@gmail.com']\n"
     ]
    }
   ],
   "source": [
    "pw3.mentor_class([\"krish\",\"sudh\"])"
   ]
  },
  {
   "cell_type": "code",
   "execution_count": 188,
   "id": "0f788e4a-b8a7-4505-8496-c1ec19b645dc",
   "metadata": {},
   "outputs": [
    {
     "name": "stdout",
     "output_type": "stream",
     "text": [
      "['sudh kumar', 'krish']\n",
      "['krish@gmail.com', 'sudh@gmail.com']\n"
     ]
    }
   ],
   "source": [
    "pw3.class_name(\"data science master\")"
   ]
  },
  {
   "cell_type": "code",
   "execution_count": 196,
   "id": "69f55bb2-1a51-412a-94ca-368fd9d25778",
   "metadata": {},
   "outputs": [
    {
     "name": "stdin",
     "output_type": "stream",
     "text": [
      "enter the total unit 234\n"
     ]
    },
    {
     "name": "stdout",
     "output_type": "stream",
     "text": [
      "the electricity bill is 1390.0\n"
     ]
    }
   ],
   "source": [
    "#elecytricity bill question\n",
    "n = int(input(\"enter the total unit\"))\n",
    "if n >= 0 and n<101:\n",
    "    print(\"the electricity bill is\", n*4.5)\n",
    "elif n > 100 and n<201:\n",
    "    print(\"the electricity bill is\",((n-100)*6)+ (100*4.5))\n",
    "elif n > 200 and n<301:\n",
    "    print(\"the electricity bill is\",((n-200)*10)+(100*6)+(100*4.5))\n",
    "elif n >300:\n",
    "    print(\"the electricity bill is\",((n-300)*20)+(100*10)+(100*6)+(100*4.5))\n",
    "else:\n",
    "    print(\"you enter the wrong unit\")"
   ]
  },
  {
   "cell_type": "markdown",
   "id": "caa79e70-df33-4d4d-a9be-4c73c8979b68",
   "metadata": {},
   "source": [
    "# dunder/magic method__jhjjk__()"
   ]
  },
  {
   "cell_type": "code",
   "execution_count": 197,
   "id": "fa5cf43e-1b06-4c4f-b9be-703e4ffb5dba",
   "metadata": {},
   "outputs": [],
   "source": [
    "class hero1:\n",
    "    def __init__(self):\n",
    "        print(\"this is my init\")"
   ]
  },
  {
   "cell_type": "code",
   "execution_count": 198,
   "id": "1dae4d09-1020-48cf-a93c-0deefa47ec26",
   "metadata": {},
   "outputs": [
    {
     "name": "stdout",
     "output_type": "stream",
     "text": [
      "this is my init\n"
     ]
    }
   ],
   "source": [
    "pw = hero1()"
   ]
  },
  {
   "cell_type": "code",
   "execution_count": 201,
   "id": "8edd3eb0-39b3-4f43-9411-29f6ba2ba4a7",
   "metadata": {},
   "outputs": [],
   "source": [
    "class hero2:\n",
    "    def __new__(cls):\n",
    "        print(\"this is my new\")\n",
    "    def __init__(self):\n",
    "        print(\"this is my init\")"
   ]
  },
  {
   "cell_type": "code",
   "execution_count": 202,
   "id": "bf0df80e-702c-4a3c-bedf-40a4369c2c81",
   "metadata": {},
   "outputs": [
    {
     "name": "stdout",
     "output_type": "stream",
     "text": [
      "this is my new\n"
     ]
    }
   ],
   "source": [
    "pw2 = hero2()"
   ]
  },
  {
   "cell_type": "code",
   "execution_count": 209,
   "id": "e4d504ae-d826-4bf1-a629-bb026362ed01",
   "metadata": {},
   "outputs": [],
   "source": [
    "class hero3:\n",
    "   \n",
    "    def __init__(self):\n",
    "        self.mobile_no = 4560987654\n",
    "    def __str__(self):\n",
    "        return \"this is a magic method which will print something for object\""
   ]
  },
  {
   "cell_type": "code",
   "execution_count": 210,
   "id": "42f225df-4368-406a-8190-56ccc14bacea",
   "metadata": {},
   "outputs": [],
   "source": [
    "pw3 = hero3()"
   ]
  },
  {
   "cell_type": "code",
   "execution_count": 211,
   "id": "b4342a93-c1a5-41ae-a796-8ec5ba8f141b",
   "metadata": {},
   "outputs": [
    {
     "data": {
      "text/plain": [
       "<__main__.hero3 at 0x7f00f626e2f0>"
      ]
     },
     "execution_count": 211,
     "metadata": {},
     "output_type": "execute_result"
    }
   ],
   "source": [
    "pw3"
   ]
  },
  {
   "cell_type": "code",
   "execution_count": 212,
   "id": "9f7e9a53-b12f-4c02-9b23-5eb78320df5f",
   "metadata": {},
   "outputs": [
    {
     "name": "stdout",
     "output_type": "stream",
     "text": [
      "this is a magic method which will print something for object\n"
     ]
    }
   ],
   "source": [
    "print(pw3)"
   ]
  },
  {
   "cell_type": "code",
   "execution_count": 213,
   "id": "759bab2f-76ae-4945-aa2f-c542ac5a534b",
   "metadata": {},
   "outputs": [
    {
     "data": {
      "text/plain": [
       "['__class__',\n",
       " '__class_getitem__',\n",
       " '__contains__',\n",
       " '__delattr__',\n",
       " '__delitem__',\n",
       " '__dir__',\n",
       " '__doc__',\n",
       " '__eq__',\n",
       " '__format__',\n",
       " '__ge__',\n",
       " '__getattribute__',\n",
       " '__getitem__',\n",
       " '__gt__',\n",
       " '__hash__',\n",
       " '__init__',\n",
       " '__init_subclass__',\n",
       " '__ior__',\n",
       " '__iter__',\n",
       " '__le__',\n",
       " '__len__',\n",
       " '__lt__',\n",
       " '__ne__',\n",
       " '__new__',\n",
       " '__or__',\n",
       " '__reduce__',\n",
       " '__reduce_ex__',\n",
       " '__repr__',\n",
       " '__reversed__',\n",
       " '__ror__',\n",
       " '__setattr__',\n",
       " '__setitem__',\n",
       " '__sizeof__',\n",
       " '__str__',\n",
       " '__subclasshook__',\n",
       " 'clear',\n",
       " 'copy',\n",
       " 'fromkeys',\n",
       " 'get',\n",
       " 'items',\n",
       " 'keys',\n",
       " 'pop',\n",
       " 'popitem',\n",
       " 'setdefault',\n",
       " 'update',\n",
       " 'values']"
      ]
     },
     "execution_count": 213,
     "metadata": {},
     "output_type": "execute_result"
    }
   ],
   "source": [
    "dir(dict)"
   ]
  },
  {
   "cell_type": "markdown",
   "id": "6cf525d3-90aa-41c8-b4e2-34eeb278e19f",
   "metadata": {},
   "source": [
    "# geeter ,seeter and deletes property of decorators"
   ]
  },
  {
   "cell_type": "code",
   "execution_count": 18,
   "id": "19bce201-5b17-4a7b-b68f-bdde0c972bde",
   "metadata": {},
   "outputs": [],
   "source": [
    "class pwskills11:\n",
    "    def __init__(self, course_price , course_name):\n",
    "        self.__course_price = course_price\n",
    "        self.course_name = course_name\n",
    "    @property\n",
    "    def course_price_access(self):\n",
    "        return self.__course_price\n",
    "    @course_price_access.setter\n",
    "    def course_price_set(self,price):\n",
    "        if price<=3500:\n",
    "            pass\n",
    "        else:\n",
    "            self.__course_price = price\n",
    "    @course_price_access.deleter\n",
    "    def course_price_del(self):\n",
    "        del self.__course_price"
   ]
  },
  {
   "cell_type": "code",
   "execution_count": 19,
   "id": "a864fb98-1ab8-4c86-ad4d-ca8c00e3c759",
   "metadata": {},
   "outputs": [],
   "source": [
    "pw = pwskills11(4000,\"data science master\")\n"
   ]
  },
  {
   "cell_type": "code",
   "execution_count": 17,
   "id": "66a8e69e-b628-4c3b-8bce-7f44f5f634e9",
   "metadata": {},
   "outputs": [
    {
     "data": {
      "text/plain": [
       "4000"
      ]
     },
     "execution_count": 17,
     "metadata": {},
     "output_type": "execute_result"
    }
   ],
   "source": [
    "pw.course_price_access"
   ]
  },
  {
   "cell_type": "code",
   "execution_count": 10,
   "id": "1f55d4c0-10bb-48ca-aa3e-84181b3cc6cb",
   "metadata": {},
   "outputs": [],
   "source": [
    "pw.course_price_set = 2100"
   ]
  },
  {
   "cell_type": "code",
   "execution_count": 11,
   "id": "bde33e94-60c0-4453-a2f1-aab43221454f",
   "metadata": {},
   "outputs": [
    {
     "data": {
      "text/plain": [
       "2300"
      ]
     },
     "execution_count": 11,
     "metadata": {},
     "output_type": "execute_result"
    }
   ],
   "source": [
    "pw.course_price_access"
   ]
  },
  {
   "cell_type": "code",
   "execution_count": 12,
   "id": "1972b978-2765-4812-9137-6862622f02d3",
   "metadata": {},
   "outputs": [],
   "source": [
    "pw.course_price_set = 4000"
   ]
  },
  {
   "cell_type": "code",
   "execution_count": 13,
   "id": "2e0b0289-8c60-4d51-9ef9-d56051ee7e70",
   "metadata": {},
   "outputs": [
    {
     "data": {
      "text/plain": [
       "4000"
      ]
     },
     "execution_count": 13,
     "metadata": {},
     "output_type": "execute_result"
    }
   ],
   "source": [
    "pw.course_price_access"
   ]
  },
  {
   "cell_type": "code",
   "execution_count": 20,
   "id": "bde7a5d9-177a-4678-b4f8-29210bf3ec70",
   "metadata": {},
   "outputs": [
    {
     "data": {
      "text/plain": [
       "4000"
      ]
     },
     "execution_count": 20,
     "metadata": {},
     "output_type": "execute_result"
    }
   ],
   "source": [
    "pw.course_price_del"
   ]
  },
  {
   "cell_type": "code",
   "execution_count": 23,
   "id": "90c98e4b-0ab0-4723-9501-649e42510307",
   "metadata": {},
   "outputs": [],
   "source": [
    "del pw.course_price_del"
   ]
  },
  {
   "cell_type": "code",
   "execution_count": 25,
   "id": "68646e1b-55a2-4658-be73-d2fd6e903c95",
   "metadata": {},
   "outputs": [
    {
     "ename": "AttributeError",
     "evalue": "'pwskills11' object has no attribute '_pwskills11__course_price'",
     "output_type": "error",
     "traceback": [
      "\u001b[0;31m---------------------------------------------------------------------------\u001b[0m",
      "\u001b[0;31mAttributeError\u001b[0m                            Traceback (most recent call last)",
      "Cell \u001b[0;32mIn[25], line 1\u001b[0m\n\u001b[0;32m----> 1\u001b[0m \u001b[43mpw\u001b[49m\u001b[38;5;241;43m.\u001b[39;49m\u001b[43mcourse_price_set\u001b[49m(\u001b[38;5;241m4000\u001b[39m)\n",
      "Cell \u001b[0;32mIn[18], line 7\u001b[0m, in \u001b[0;36mpwskills11.course_price_access\u001b[0;34m(self)\u001b[0m\n\u001b[1;32m      5\u001b[0m \u001b[38;5;129m@property\u001b[39m\n\u001b[1;32m      6\u001b[0m \u001b[38;5;28;01mdef\u001b[39;00m \u001b[38;5;21mcourse_price_access\u001b[39m(\u001b[38;5;28mself\u001b[39m):\n\u001b[0;32m----> 7\u001b[0m     \u001b[38;5;28;01mreturn\u001b[39;00m \u001b[38;5;28;43mself\u001b[39;49m\u001b[38;5;241;43m.\u001b[39;49m\u001b[43m__course_price\u001b[49m\n",
      "\u001b[0;31mAttributeError\u001b[0m: 'pwskills11' object has no attribute '_pwskills11__course_price'"
     ]
    }
   ],
   "source": [
    "pw.course_price_set(4000)"
   ]
  },
  {
   "cell_type": "code",
   "execution_count": null,
   "id": "a743d7aa-0c07-4fe0-aceb-ef29688d08d3",
   "metadata": {},
   "outputs": [],
   "source": []
  }
 ],
 "metadata": {
  "kernelspec": {
   "display_name": "Python 3 (ipykernel)",
   "language": "python",
   "name": "python3"
  },
  "language_info": {
   "codemirror_mode": {
    "name": "ipython",
    "version": 3
   },
   "file_extension": ".py",
   "mimetype": "text/x-python",
   "name": "python",
   "nbconvert_exporter": "python",
   "pygments_lexer": "ipython3",
   "version": "3.10.8"
  }
 },
 "nbformat": 4,
 "nbformat_minor": 5
}

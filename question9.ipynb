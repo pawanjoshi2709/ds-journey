{
 "cells": [
  {
   "cell_type": "code",
   "execution_count": 5,
   "id": "28e24977-9dbd-46eb-902a-19b58a249cec",
   "metadata": {},
   "outputs": [
    {
     "data": {
      "text/plain": [
       "300"
      ]
     },
     "execution_count": 5,
     "metadata": {},
     "output_type": "execute_result"
    }
   ],
   "source": [
    "#1 Create a vehicle class with an init method having instance variables as name_of_vehicle, max_speed and average_of_vehicle.\n",
    "class vehicle:\n",
    "    def __init__(self,name_of_vechicle,max_speed,average_of_vechicle):\n",
    "        self.name_of_vechicle = name_of_vechicle\n",
    "        self.max_speed = max_speed\n",
    "        self.average_of_vechicle = average_of_vechicle\n",
    "car = vehicle(\"lambo\",300,10)\n",
    "car.max_speed"
   ]
  },
  {
   "cell_type": "code",
   "execution_count": 16,
   "id": "3b5d6a94-b5e4-4a19-b812-5062af5d8a01",
   "metadata": {},
   "outputs": [
    {
     "data": {
      "text/plain": [
       "('lambo', 2)"
      ]
     },
     "execution_count": 16,
     "metadata": {},
     "output_type": "execute_result"
    }
   ],
   "source": [
    "#2 Create a child class car from the vehicle class created in Que 1, which will inherit the vehicle class.Create a method named seating_capacity\n",
    "#which takes capacity as an argument and returns the name of the vehicle and its seating capacity.\n",
    "class vehicle:\n",
    "    def __init__(self,name_of_vechicle,max_speed,average_of_vechicle):\n",
    "        self.name_of_vechicle = name_of_vechicle\n",
    "        self.max_speed = max_speed\n",
    "        self.average_of_vechicle = average_of_vechicle\n",
    "class car(vehicle):\n",
    "    def seating_capacity(self,capacity):\n",
    "        return self.name_of_vechicle , capacity\n",
    "manish = car(\"lambo\",300,10)\n",
    "manish.seating_capacity(2)"
   ]
  },
  {
   "cell_type": "code",
   "execution_count": 22,
   "id": "797d63f6-1655-4ff1-be1b-b85fe491a6c9",
   "metadata": {},
   "outputs": [
    {
     "name": "stdout",
     "output_type": "stream",
     "text": [
      "father work on google\n"
     ]
    }
   ],
   "source": [
    "#3 What is multiple inheritance? Write a python code to demonstrate multiple inheritance.\n",
    "#When a class is derived from more than one base class it is called multiple Inheritance.\n",
    "class father:\n",
    "    def father_work(self):\n",
    "        print(\"father work on google\")\n",
    "class mother:\n",
    "    def mother_work(self):\n",
    "        print(\"mother work on amazon\")\n",
    "class child(mother,father):\n",
    "    def work_child(self):\n",
    "        print (\"child work on facebook\")\n",
    "mohan = child()\n",
    "mohan.father_work()\n"
   ]
  },
  {
   "cell_type": "code",
   "execution_count": 31,
   "id": "586907ba-ed81-4b1d-a1ea-2de94e0c92fa",
   "metadata": {},
   "outputs": [
    {
     "name": "stdout",
     "output_type": "stream",
     "text": [
      "21\n",
      "21\n"
     ]
    }
   ],
   "source": [
    "#Q4. What are getter and setter in python? Create a class and create a getter and a setter method in this class.\n",
    "#To avoid direct access of a class field i.e. private variables cannot be accessed directly or modified by external user.\n",
    "#We use getters & setters to add validation logic around getting and setting a value\n",
    "class meek:\n",
    "    def __init__(self, age = 0):\n",
    "         self.__age = age\n",
    "    def get_age(self):\n",
    "        return self.__age\n",
    "    def set_age(self, x):\n",
    "        self.__age = x \n",
    "raj = meek()\n",
    "raj.set_age(21)\n",
    "print(raj.get_age()) \n",
    "print(raj._meek__age)"
   ]
  },
  {
   "cell_type": "code",
   "execution_count": 11,
   "id": "9d727288-812e-4516-bdc6-155f87061df5",
   "metadata": {},
   "outputs": [
    {
     "name": "stdout",
     "output_type": "stream",
     "text": [
      "Inside Child\n",
      "Inside Parent\n"
     ]
    }
   ],
   "source": [
    "#Q5.What is method overriding in python? Write a python code to demonstrate method overriding\n",
    "#Method overriding is an ability of any object-oriented programming language that allows a subclass or child class to provide a \n",
    "#specific implementation of a method that is already provided by one of its super-classes or parent classes\n",
    "class Parent():\n",
    "    def __init__(self):\n",
    "        self.value = \"Inside Parent\"\n",
    "    def show(self):\n",
    "        print(self.value)\n",
    "class Child(Parent):\n",
    "    def __init__(self):\n",
    "        self.values = \"Inside Child\"\n",
    "        super().__init__()\n",
    "    def show(self):\n",
    "        print(self.values)\n",
    "        super().show()\n",
    "\n",
    "obj2 = Child() \n",
    "obj2.show()"
   ]
  },
  {
   "cell_type": "code",
   "execution_count": null,
   "id": "05e405f0-64ae-4762-97c2-57641150dc88",
   "metadata": {},
   "outputs": [],
   "source": []
  },
  {
   "cell_type": "code",
   "execution_count": null,
   "id": "336bb970-c57f-41ed-a4bb-8e0a2d61bb88",
   "metadata": {},
   "outputs": [],
   "source": []
  }
 ],
 "metadata": {
  "kernelspec": {
   "display_name": "Python 3 (ipykernel)",
   "language": "python",
   "name": "python3"
  },
  "language_info": {
   "codemirror_mode": {
    "name": "ipython",
    "version": 3
   },
   "file_extension": ".py",
   "mimetype": "text/x-python",
   "name": "python",
   "nbconvert_exporter": "python",
   "pygments_lexer": "ipython3",
   "version": "3.10.8"
  }
 },
 "nbformat": 4,
 "nbformat_minor": 5
}
